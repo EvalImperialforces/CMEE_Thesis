{
 "cells": [
  {
   "cell_type": "markdown",
   "metadata": {},
   "source": [
    "## Simulation Tests\n",
    "\n",
    "Fixed conditions comprise of sampling time (1600 timesteps to reflect 20 minute flight in seconds), survey area (7500m x 7500m) and sensor detection zone (based on camera model). Changing variables per flight will reflect survey effort and animal availability:\n",
    "\n",
    "1.Survey Effort\n",
    "\n",
    "* UAV path (Lawn-mower/ Figure 8)\n",
    "* FOV (BIOT/ Maldives)\n",
    "* UAV speed (lowest speed-average/ average-max speed)\n",
    "\n",
    "2.Animal availability\n",
    "\n",
    "* Animal movement model (Straight Line/ Stop-Start/ Random Walk)\n",
    "* Animal speed (1-average/ average to max?)\n",
    "* Availability bias (None/Sharks/Rays/Birds)\n"
   ]
  },
  {
   "cell_type": "markdown",
   "metadata": {},
   "source": [
    "### Parameter Functions\n",
    "These functions include:\n",
    "* Selecting detection zone\n",
    "* Start coord of UAV depending on camera type\n",
    "* Establishing seperate speed profiles\n",
    "* Sample points - number of coordinates and x, y values between 2 points in flight path"
   ]
  },
  {
   "cell_type": "code",
   "execution_count": 1,
   "metadata": {},
   "outputs": [],
   "source": [
    "def detection_zone(camera):\n",
    "    # FOV calculated per camera model in Strip_Sampling_Density.\n",
    "    \n",
    "    camdict = {\"garmin\": [83,113], \"sony\": [113, 75]}\n",
    "    try:\n",
    "        return camdict[camera.lower()]\n",
    "    except KeyError:\n",
    "        raise KeyError ('Invalid camera model used, should be :{}'.format([x for x in camdict.keys()]))"
   ]
  },
  {
   "cell_type": "code",
   "execution_count": 2,
   "metadata": {},
   "outputs": [
    {
     "data": {
      "text/plain": [
       "[83, 113]"
      ]
     },
     "execution_count": 2,
     "metadata": {},
     "output_type": "execute_result"
    }
   ],
   "source": [
    "detection_zone('GARMIN')"
   ]
  },
  {
   "cell_type": "code",
   "execution_count": 3,
   "metadata": {},
   "outputs": [
    {
     "data": {
      "text/plain": [
       "{'coord_1': [56.5, 37.5],\n",
       " 'coord_2': [7443.5, 37.5],\n",
       " 'coord_3': [7443.5, 7462.5],\n",
       " 'coord_4': [56.5, 7462.5]}"
      ]
     },
     "execution_count": 3,
     "metadata": {},
     "output_type": "execute_result"
    }
   ],
   "source": [
    "def boundary_coords_uav(camera):\n",
    "    # x and y coordinates \n",
    "    \n",
    "    area = detection_zone(camera)\n",
    "    half_area = [x/2  for x in area]\n",
    "    boundary = {'coord_1' : [(0 + half_area[0]), (0 + half_area[1])],\n",
    "                'coord_2' : [(7500 - half_area[0]), (0 + half_area[1])],\n",
    "                'coord_3' : [(7500 - half_area[0]), (7500 - half_area[1])],\n",
    "                'coord_4' : [(0 + half_area[0]), (7500 - half_area[1])]}\n",
    "    \n",
    "    return boundary\n",
    "\n",
    "boundary_coords_uav('sony')"
   ]
  },
  {
   "cell_type": "code",
   "execution_count": 10,
   "metadata": {},
   "outputs": [],
   "source": [
    "from scipy.stats import truncnorm\n",
    "\n",
    "def get_truncated_normal(mean=0, sd=1, low=0, upp=10):\n",
    "    # More intuitive method to use truncnorm for speed_profile distribution\n",
    "\n",
    "    return truncnorm(\n",
    "        (low - mean) / sd, (upp - mean) / sd, loc=mean, scale=sd)\n",
    "\n",
    "\n",
    "\n",
    "def speed_profile (level, mean = 18, sd = 1, low = 4, upp = 33):\n",
    "    # Speed profile for random sample distribution\n",
    "    # Average speed: 18 m/s \n",
    "    # Level 1 = low, Level 2 = high\n",
    "    \n",
    "    speed_dist = get_truncated_normal(mean, sd, low, upp)\n",
    "    value = speed_dist.rvs(size=1) # Select 1 random number from this distribution\n",
    "    if level == 1:\n",
    "        while value > mean:\n",
    "            value = speed_dist.rvs(size=1)\n",
    "    else:\n",
    "        while value < mean:\n",
    "            value = speed_dist.rvs(size=1)\n",
    "    return value\n"
   ]
  },
  {
   "cell_type": "code",
   "execution_count": 18,
   "metadata": {},
   "outputs": [
    {
     "ename": "TypeError",
     "evalue": "rvs() got an unexpected keyword argument 'loc'",
     "output_type": "error",
     "traceback": [
      "\u001b[0;31m---------------------------------------------------------------------------\u001b[0m",
      "\u001b[0;31mTypeError\u001b[0m                                 Traceback (most recent call last)",
      "\u001b[0;32m<ipython-input-18-405226d83d00>\u001b[0m in \u001b[0;36m<module>\u001b[0;34m()\u001b[0m\n\u001b[1;32m      2\u001b[0m \u001b[0;34m\u001b[0m\u001b[0m\n\u001b[1;32m      3\u001b[0m \u001b[0mspeed_dist\u001b[0m \u001b[0;34m=\u001b[0m \u001b[0mget_truncated_normal\u001b[0m\u001b[0;34m(\u001b[0m\u001b[0mmean\u001b[0m\u001b[0;34m=\u001b[0m\u001b[0;36m18\u001b[0m\u001b[0;34m,\u001b[0m \u001b[0msd\u001b[0m\u001b[0;34m=\u001b[0m\u001b[0;36m1\u001b[0m\u001b[0;34m,\u001b[0m \u001b[0mlow\u001b[0m\u001b[0;34m=\u001b[0m\u001b[0;36m4\u001b[0m\u001b[0;34m,\u001b[0m \u001b[0mupp\u001b[0m\u001b[0;34m=\u001b[0m\u001b[0;36m32\u001b[0m\u001b[0;34m)\u001b[0m\u001b[0;34m\u001b[0m\u001b[0;34m\u001b[0m\u001b[0m\n\u001b[0;32m----> 4\u001b[0;31m \u001b[0mvalue\u001b[0m \u001b[0;34m=\u001b[0m \u001b[0mspeed_dist\u001b[0m\u001b[0;34m.\u001b[0m\u001b[0mrvs\u001b[0m\u001b[0;34m(\u001b[0m\u001b[0mloc\u001b[0m\u001b[0;34m=\u001b[0m\u001b[0;36m0\u001b[0m\u001b[0;34m,\u001b[0m \u001b[0mscale\u001b[0m\u001b[0;34m=\u001b[0m\u001b[0;36m1\u001b[0m\u001b[0;34m,\u001b[0m \u001b[0msize\u001b[0m\u001b[0;34m=\u001b[0m\u001b[0;36m1\u001b[0m\u001b[0;34m,\u001b[0m \u001b[0mrandom_state\u001b[0m\u001b[0;34m=\u001b[0m\u001b[0;32mNone\u001b[0m\u001b[0;34m)\u001b[0m\u001b[0;34m\u001b[0m\u001b[0;34m\u001b[0m\u001b[0m\n\u001b[0m\u001b[1;32m      5\u001b[0m \u001b[0mvalue\u001b[0m\u001b[0;34m\u001b[0m\u001b[0;34m\u001b[0m\u001b[0m\n",
      "\u001b[0;31mTypeError\u001b[0m: rvs() got an unexpected keyword argument 'loc'"
     ]
    }
   ],
   "source": [
    "#speed_profile(2)\n",
    "\n",
    "speed_dist = get_truncated_normal(mean=18, sd=1, low=4, upp=32)\n",
    "value = speed_dist.rvs(loc=0, scale=1, size=1, random_state=None)\n",
    "value\n"
   ]
  },
  {
   "cell_type": "code",
   "execution_count": 27,
   "metadata": {},
   "outputs": [],
   "source": [
    "import math\n",
    "\n",
    "def find_sample_points(start_coord, end_coord, angle, speed_level):\n",
    "\n",
    "    # Retrieves coordinates for x number of timesteps between 2 points\n",
    "\n",
    "    horiz_dist = abs(end_coord[0] - start_coord[0]) # x coordinates\n",
    "    vert_dist = abs(end_coord[1] - start_coord[1]) # y coordinates\n",
    "    length = math.sqrt((horiz_dist**2) + (vert_dist**2)) # length in metres between both points\n",
    "    angle_radians = math.radians(angle)\n",
    "\n",
    "    \n",
    "    total_length_covered = 0\n",
    "    x_list = [start_coord[0]] # list of x values at every step\n",
    "    y_list = [start_coord[1]] # list of y values at every step\n",
    "    iteration = 0 # used to cumulatively add the last x, y values to recent\n",
    "\n",
    "    while True:\n",
    "        s = speed_profile(speed_level) # get our speed for this step\n",
    "        total_length_covered += s # cumulatively add to total length covered\n",
    "        if total_length_covered > length:\n",
    "            break\n",
    "\n",
    "        delta_x = x_list[iteration] + (math.cos(angle_radians)* s) # From start x coordinate, add the length with direction calculated through cosine \n",
    "        delta_y = y_list[iteration] + (math.sin(angle_radians)* s) # From start y coordinate, add the length with direction calculated through sine\n",
    "        x_list.append(delta_x) \n",
    "        y_list.append(delta_y)\n",
    "\n",
    "        iteration += 1\n",
    "\n",
    "\n",
    "    sample_coords = list(zip(x_list, y_list))     # zip up to create list of tuples, each being a set of coordinates where a sample has been taken\n",
    "    \n",
    "    Actual_length = total_length_covered - s\n",
    "    \n",
    "    \n",
    "    return sample_coords "
   ]
  },
  {
   "cell_type": "code",
   "execution_count": 28,
   "metadata": {},
   "outputs": [
    {
     "data": {
      "text/plain": [
       "[(0, 0),\n",
       " (array([ 16.54607995]), array([ -4.05262077e-15])),\n",
       " (array([ 34.19672576]), array([ -8.37578215e-15])),\n",
       " (array([ 51.27174597]), array([ -1.25579559e-14])),\n",
       " (array([ 68.63630034]), array([ -1.68110451e-14])),\n",
       " (array([ 86.13936175]), array([ -2.10980587e-14]))]"
      ]
     },
     "execution_count": 28,
     "metadata": {},
     "output_type": "execute_result"
    }
   ],
   "source": [
    "test = find_sample_points([0,0], [100,0], 360, 1)\n",
    "test"
   ]
  },
  {
   "cell_type": "code",
   "execution_count": 12,
   "metadata": {},
   "outputs": [
    {
     "data": {
      "text/plain": [
       "86.7813"
      ]
     },
     "execution_count": 12,
     "metadata": {},
     "output_type": "execute_result"
    }
   ],
   "source": []
  }
 ],
 "metadata": {
  "kernelspec": {
   "display_name": "Python 3",
   "language": "python",
   "name": "python3"
  },
  "language_info": {
   "codemirror_mode": {
    "name": "ipython",
    "version": 3
   },
   "file_extension": ".py",
   "mimetype": "text/x-python",
   "name": "python",
   "nbconvert_exporter": "python",
   "pygments_lexer": "ipython3",
   "version": "3.6.7"
  }
 },
 "nbformat": 4,
 "nbformat_minor": 2
}
