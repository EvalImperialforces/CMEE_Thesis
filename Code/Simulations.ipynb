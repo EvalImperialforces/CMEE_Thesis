{
 "cells": [
  {
   "cell_type": "markdown",
   "metadata": {},
   "source": [
    "## Simulation Tests\n",
    "\n",
    "Fixed conditions comprise of sampling time (1600 timesteps to reflect 20 minute flight in seconds), survey area (7500m x 7500m) and sensor detection zone (based on camera model). Changing variables per flight will reflect survey effort and animal availability:\n",
    "\n",
    "1.Survey Effort\n",
    "\n",
    "* UAV path (Lawn-mower/ Figure 8)\n",
    "* FOV (BIOT/ Maldives)\n",
    "* UAV speed (lowest speed-average/ average-max speed)\n",
    "\n",
    "2.Animal availability\n",
    "\n",
    "* Animal movement model (Straight Line/ Stop-Start/ Random Walk)\n",
    "* Animal speed (different per taxa)\n",
    "* Availability bias (None/Sharks/Rays/Birds)\n"
   ]
  },
  {
   "cell_type": "markdown",
   "metadata": {},
   "source": [
    "### Speed  Functions\n",
    "\n",
    "* Establishing seperate speed profiles"
   ]
  },
  {
   "cell_type": "code",
   "execution_count": 6,
   "metadata": {},
   "outputs": [
    {
     "data": {
      "text/plain": [
       "18.01957893206686"
      ]
     },
     "execution_count": 6,
     "metadata": {},
     "output_type": "execute_result"
    }
   ],
   "source": [
    "from scipy.stats import truncnorm\n",
    "import scipy.stats as stats\n",
    "import matplotlib.pyplot as plt\n",
    "\n",
    "def get_truncated_normal(mean=0, sd=1, low=0, upp=10):\n",
    "    # More intuitive method to use truncnorm for speed_profile distribution\n",
    "\n",
    "    return truncnorm(\n",
    "        (low - mean) / sd, (upp - mean) / sd, loc=mean, scale=sd)\n",
    "\n",
    "\n",
    "\n",
    "def speed_profile (level = 0, mean = 18, sd = 1, low = 4, upp = 33):\n",
    "    # Speed profile for random sample distribution\n",
    "    # Average speed: 18 m/s \n",
    "    # Level 1 = low, Level 2 = high\n",
    "    \n",
    "    speed_dist = get_truncated_normal(mean, sd, low, upp)\n",
    "    value = speed_dist.rvs(size=1) # Select 1 random number from this distribution\n",
    "    \n",
    "    if level == 1:\n",
    "        while value > mean:\n",
    "            value = speed_dist.rvs(size=1)\n",
    "\n",
    "\n",
    "    elif level == 2:\n",
    "        while value < mean:\n",
    "            value = speed_dist.rvs(size=1)\n",
    "\n",
    "    else:\n",
    "        value = ('You have not selected correct uav level, must be 1 or 2', 0)\n",
    "    \n",
    "    return value[0]\n",
    "        \n",
    "\n",
    "# Show graphics\n",
    "#lower, upper = 4, 33\n",
    "#mu, sigma = 18, 2\n",
    "#X = stats.truncnorm(\n",
    "#    (lower - mu) / sigma, (upper - mu) / sigma, loc=mu, scale=sigma)\n",
    "#N = stats.norm(loc=mu, scale=sigma)\n",
    "\n",
    "#fig, ax = plt.subplots(2, sharex=True)\n",
    "#ax[0].hist(X.rvs(10000), normed=True) # truncated normal dist\n",
    "#ax[1].hist(N.rvs(10000), normed=True) # normal dist\n",
    "#plt.show()\n",
    "\n",
    "speed_profile(2)"
   ]
  },
  {
   "cell_type": "markdown",
   "metadata": {},
   "source": [
    "\n",
    "### Speed profiles of animal\n",
    "\n",
    "#### Elasmos & Mammals\n",
    "1.  Grey reef shark (Ryan, 15)\n",
    "Cruise speed - 0.64m/s | max cruise speed - 1.23 | sd - 1.23-0.35/4\n",
    "\n",
    "2. Nurse shark (Whitney, 16)\n",
    "Cruise speed is 0.33Bl/s - 0.37m/s (Mean of the mean swimming speeds in 21 - 30 degree water) ((((91+132)/2)/100)*0.33) | max - ((132/100)*0.42) (Mximum speed range with maximum body size). | sd -  (0.59 - ((91/100)*0.23))/ 4 \n",
    "\n",
    "3. Whale shark (Jacoby,18)\n",
    "Cruise speed is 0.6m/s | max - 1.06 | 1.06-0.09/4 \n",
    "\n",
    "4. Mantaray (using for eagleray) (Fish, 18)  \n",
    "Cruise speed is 1.42 m/s | max - 2.51 | 2.51-0.46/4\n",
    "\n",
    "5. Manatee speed (Kojeszewski, 07)\n",
    "Cruise speed is 0.7m/s | max - 1.14 | 1.14-0.06/4\n",
    "\n",
    "#### Birds\n",
    "1. Red-footed boobies (Weimerskirch, 05)\n",
    "Median speed of 38km/h - 10.5m/s | max - 22m/s | 22-2.7/4\n",
    "\n",
    "2. Frigatebird (Weimerskirch,03)\n",
    "Average speed is 16.4km/h - 4.5 m/s | max - 5.1m/s | 5.1-2.7/4\n",
    "\n",
    "3. Common tern average (Hedenstrom,16)\n",
    "Average is 8.5 m/s | max - 10m/s | 10-7/4\n",
    "\n",
    "#### Calculating standard deviation\n",
    "\n",
    "Rough estimate of standard deviation derived from the range rule for standard deviation;\n",
    "\n",
    "$$\\frac {Maximum - Minimum}{4} $$\n",
    "\n",
    "Why 4? 95% of the data will fall within 2 standard deveiations either side of the mean and so nearly all of our normal distribution will stretch over 4 standard deviations (Wan, 14).\n"
   ]
  },
  {
   "cell_type": "code",
   "execution_count": 7,
   "metadata": {},
   "outputs": [],
   "source": [
    "from matplotlib import pyplot as plt\n",
    "import statistics\n",
    "import math\n",
    "\n",
    "\n",
    "def animal_speed (animal):\n",
    "    # Speed distribution is based on crude figures for each animal taxa\n",
    "    \n",
    "    speed_dict = {\"reef\": [0.35, 0.64, 1.23, 0.22], \"nurse\": [0.21, 0.37, 0.59, 0.1], \"whale_shark\" : [0.09, 0.6, 1.06, 0.24], \"ray\": [0.046, 1.42, 2.51, 0.5], \n",
    "                  \"manatee\": [0.06, 0.7, 1.14, 0.27], \"booby\": [2.7, 10.5, 22, 4.82], \"frigate\": [2.7, 4.5, 5.1, 0.6], \"tern\": [7, 8.5, 10, 0.75]}\n",
    "    \n",
    "    try:\n",
    "        x =  speed_dict[animal.lower()]\n",
    "        mean = x[1]\n",
    "        upp = x[2]\n",
    "        sd = x[3]\n",
    "        low = x[0]\n",
    "        speed_dist = get_truncated_normal(mean, sd, low, upp)\n",
    "        value = speed_dist.rvs(size=1)\n",
    "        return value[0]\n",
    "    \n",
    "    except KeyError:\n",
    "        raise KeyError ('Invalid animal species, please try again')\n",
    "                        \n",
    "    #fig, ax = plt.subplots(1, sharex=True)\n",
    "    #ax.hist(speed_dist.rvs(1000), normed=True)\n",
    "    #ax.set_title(animal)\n",
    "    #plt.show()\n",
    "    \n",
    "\n"
   ]
  },
  {
   "cell_type": "code",
   "execution_count": 8,
   "metadata": {},
   "outputs": [
    {
     "data": {
      "text/plain": [
       "15.308330118691469"
      ]
     },
     "execution_count": 8,
     "metadata": {},
     "output_type": "execute_result"
    }
   ],
   "source": [
    "animal_speed('booby')"
   ]
  },
  {
   "cell_type": "markdown",
   "metadata": {},
   "source": [
    "### UAV and Animal movement functions\n",
    "\n",
    "1. **find_sample_points** to retrieve coordinates between two points - suitable for set UAV path and Animal straight/stop-start path. Speed level chosen according to individual and sampled randomly while angle remains consistent with direction of movement. No timsteps specified as speed of drone will dictate the number of steps between two points, i.e if the individual moves faster, it will complete the path in a shorter amount of time. Boundary points for the UAV will come into play in the path function.\n",
    "\n",
    "2. **random_walk** runs for a specified number of timesteps for different animals (with varying speed profiles) within a specified interval of angle ranges. To prevent the individual from moving outside of the boundary, the x, y and then both x and y coordinates are inversed, changing the direction of the individual."
   ]
  },
  {
   "cell_type": "code",
   "execution_count": 9,
   "metadata": {},
   "outputs": [],
   "source": [
    "import math\n",
    "import numpy as np\n",
    "\n",
    "\n",
    "def round_up(n, decimals=2):\n",
    "    multiplier = 10 ** decimals\n",
    "    return math.ceil(n * multiplier) / multiplier\n",
    "\n",
    "def get_speed(individual, level = 0):\n",
    "    \n",
    "    # Speed retrieved depending on which object we are simulating\n",
    "    # individual = string of uav or animal\n",
    "\n",
    "    if individual == 'uav':\n",
    "        s = speed_profile(level)\n",
    "    else:\n",
    "        s = animal_speed(individual)\n",
    "        \n",
    "    return s\n",
    "\n",
    "\n",
    "def find_sample_points(start_coord, end_coord, angle, individual, speed_level = 0, probability = 0):\n",
    "\n",
    "    # Retrieves coordinates for x number of timesteps between 2 points\n",
    "    \n",
    "    # start_coord = start point of animal or drone\n",
    "    # end_coord = end point of animal or drone\n",
    "    # angle = angle of travel in degrees\n",
    "    # individual = animal or drone?\n",
    "    # speed_level = low(1) or high(2)\n",
    "    # probability = probability of animal remaininh stationary in that timestep(default = 0)\n",
    "    \n",
    "    \n",
    "    horiz_dist = abs(end_coord[0] - start_coord[0]) # x coordinates\n",
    "    vert_dist = abs(end_coord[1] - start_coord[1]) # y coordinates\n",
    "    length = math.sqrt((horiz_dist**2) + (vert_dist**2)) # length in metres between both points\n",
    "    angle_radians = math.radians(angle)\n",
    "\n",
    "    \n",
    "    total_length_covered = 0\n",
    "    x_list = [start_coord[0]] # list of x values at every step\n",
    "    y_list = [start_coord[1]] # list of y values at every step\n",
    "    iteration = 0 # used to cumulatively add the last x, y values to recent\n",
    "\n",
    "    while True:\n",
    "        s = get_speed(individual, speed_level) # get our speed for this step\n",
    "        total_length_covered += s # cumulatively add to total length covered\n",
    "        #print(total_length_covered)\n",
    "        if total_length_covered > length:\n",
    "            break\n",
    "        \n",
    "        point_probability = np.random.choice(100,1) # assign probability to coordinate\n",
    "        #print(point_probability)\n",
    "        if point_probability > probability:\n",
    "            delta_x = x_list[iteration] + (math.cos(angle_radians)* s) # From start x coordinate, add the length with direction calculated through cosine \n",
    "            delta_y = y_list[iteration] + (math.sin(angle_radians)* s) # From start y coordinate, add the length with direction calculated through sine\n",
    "          \n",
    "            x = round_up(delta_x)\n",
    "            y = round_up(delta_y)\n",
    "            \n",
    "            x_list.append(x) \n",
    "            y_list.append(y)\n",
    "        \n",
    "        else:\n",
    "            total_length_covered = total_length_covered - s # Take last distance as we have not travelled here\n",
    "            x_list.append(x_list[iteration]) \n",
    "            y_list.append(y_list[iteration])\n",
    "\n",
    "        iteration += 1\n",
    "\n",
    "\n",
    "    sample_coords = list(zip(x_list, y_list))     # zip up to create list of tuples, each being a set of coordinates where a sample has been taken\n",
    "    \n",
    "    Actual_length = total_length_covered - s\n",
    "    \n",
    "    \n",
    "    return sample_coords \n",
    "\n"
   ]
  },
  {
   "cell_type": "code",
   "execution_count": 10,
   "metadata": {
    "scrolled": true
   },
   "outputs": [],
   "source": [
    "#test = find_sample_points([100,0], [0,0], 180, 'uav',1)\n",
    "#test"
   ]
  },
  {
   "cell_type": "code",
   "execution_count": 19,
   "metadata": {},
   "outputs": [],
   "source": [
    "def angle_dist(angle, size = 1):\n",
    "    \n",
    "    # Sampling from a uniform distribution between a chosen angle range\n",
    "    \n",
    "    low = -(angle)\n",
    "    high = angle\n",
    "    t = np.random.uniform(low = low, high = high, size = size)\n",
    "    \n",
    "    #plt.hist(t, bins=25, color='#75BEBB')\n",
    "    #plt.xlabel('Angle (degrees)')\n",
    "    #plt.ylabel('Frequency')\n",
    "    #plt.xlim([low - 10, high +10])\n",
    "    #plt.ylim([0, 75])\n",
    "    #plt.show()\n",
    "    \n",
    "    return t\n",
    "\n",
    "\n",
    "def random_walk (animal, start_coord, angle, timestep = 1600):\n",
    "    \n",
    "    # Correlated random walk for a specified animal with a start coordinate, speed profile to sample from and angle to bound uniform dist\n",
    "    # x, y and then both x and y coordinates are inversed to ensure point remains within the boundary\n",
    "    \n",
    "    x_list = [start_coord[0]] # list of x values at every step\n",
    "    y_list = [start_coord[1]] # list of y values at every step\n",
    "    iteration = 0 # used to cumulatively add the last x, y values to recent\n",
    "    \n",
    "    \n",
    "    for i in range(timestep):\n",
    "\n",
    "            # Select angle and convert to radians\n",
    "            angle_value = angle_dist(angle)\n",
    "            angle_radians = math.radians(angle_value)\n",
    "        \n",
    "            # Select speed\n",
    "            s = animal_speed(animal)\n",
    "        \n",
    "        \n",
    "            delta_x = x_list[iteration] + (math.cos(angle_radians)* s) # From start x coordinate, add the length with direction calculated through cosine \n",
    "            delta_y = y_list[iteration] + (math.sin(angle_radians)* s) # From start y coordinate, add the length with direction calculated through sine\n",
    "       \n",
    "            coords = [delta_x, delta_y]\n",
    "            \n",
    "            test = all(i > 0 and i < 7500 for i in coords) # If out of bounds = False \n",
    "                \n",
    "            if test == True: \n",
    "                #print('Correct first go:', coords)\n",
    "                x = round_up(delta_x)\n",
    "                y = round_up(delta_y)\n",
    "            \n",
    "                x_list.append(x) \n",
    "                y_list.append(y)\n",
    "                \n",
    "                iteration += 1\n",
    "                \n",
    "            else: \n",
    "                # If out of bounds reverse the x, then the y and then both x and y until you are back within the bounds\n",
    "                #print('Coords before change:', coords)\n",
    "                counter = 0\n",
    "                while test == False:\n",
    "                    counter = counter + 1\n",
    "                    if counter == 1:\n",
    "                        new_x = x_list[iteration] - (math.cos(angle_radians)* s)\n",
    "                        coords = [new_x, delta_y]\n",
    "                        #print('Coords first change:', coords)\n",
    "                        test = all(i > 0 and i < 7500 for i in coords)\n",
    "                    if counter == 2:\n",
    "                        new_y = y_list[iteration] - (math.sin(angle_radians)* s)\n",
    "                        coords = [delta_x, new_y]\n",
    "                        #print('Coords second change:', coords)\n",
    "                        test = all(i > 0 and i < 7500 for i in coords)\n",
    "                    if counter == 3:\n",
    "                        coords = [new_x, new_y]\n",
    "                        #print('Coords third change:', coords)\n",
    "                        test = all(i > 0 and i < 7500 for i in coords)\n",
    "                        \n",
    "                    \n",
    "                    #print('coords passed and being appended:', coords)\n",
    "                    x = round_up(coords[0])\n",
    "                    y = round_up(coords[1])\n",
    "            \n",
    "                    x_list.append(x) \n",
    "                    y_list.append(y)\n",
    "                \n",
    "                    iteration += 1\n",
    "                \n",
    "                \n",
    "     \n",
    "    sample_coords = list(zip(x_list, y_list)) # zip up to create list of tuples, each being a set of coordinates where a sample has been taken\n",
    "    \n",
    "    return sample_coords \n"
   ]
  },
  {
   "cell_type": "code",
   "execution_count": 21,
   "metadata": {},
   "outputs": [],
   "source": [
    "#random_walk('reef', [1,1], 45, 1000),\n",
    "\n",
    "# Testing angle_dist fuction\n",
    "# t = angle_dist(30, 1000)\n",
    "# t[0]"
   ]
  },
  {
   "cell_type": "markdown",
   "metadata": {},
   "source": [
    "### UAV explicit paths"
   ]
  },
  {
   "cell_type": "code",
   "execution_count": 22,
   "metadata": {},
   "outputs": [],
   "source": [
    "def detection_zone(camera):\n",
    "    # FOV calculated per camera model in Strip_Sampling_Density.\n",
    "    \n",
    "    camdict = {\"garmin\": [83,113], \"sony\": [113, 75]}\n",
    "    try:\n",
    "        return camdict[camera.lower()]\n",
    "    except KeyError:\n",
    "        raise KeyError ('Invalid camera model used, should be :{}'.format([x for x in camdict.keys()]))"
   ]
  },
  {
   "cell_type": "code",
   "execution_count": 23,
   "metadata": {},
   "outputs": [
    {
     "data": {
      "text/plain": [
       "[83, 113]"
      ]
     },
     "execution_count": 23,
     "metadata": {},
     "output_type": "execute_result"
    }
   ],
   "source": [
    "detection_zone('GARMIN')"
   ]
  },
  {
   "cell_type": "code",
   "execution_count": 28,
   "metadata": {},
   "outputs": [
    {
     "data": {
      "text/plain": [
       "[41.5, 56.5]"
      ]
     },
     "execution_count": 28,
     "metadata": {},
     "output_type": "execute_result"
    }
   ],
   "source": [
    "def boundary_coords_uav(camera):\n",
    "    \n",
    "    # x and y coordinates \n",
    "    # coord 1 = bottom righthand side (0,0)\n",
    "    # coord 2 = bottom lefthand side (7500,0)\n",
    "    # coord 3 = top lefthand side (7500, 7500)\n",
    "    # coord 4 = top righthand side (0, 7500)\n",
    "    \n",
    "    area = detection_zone(camera)\n",
    "    half_area = [x/2  for x in area]\n",
    "    boundary = {'coord_1' : [(0 + half_area[0]), (0 + half_area[1])],\n",
    "                'coord_2' : [(7500 - half_area[0]), (0 + half_area[1])],\n",
    "                'coord_3' : [(7500 - half_area[0]), (7500 - half_area[1])],\n",
    "                'coord_4' : [(0 + half_area[0]), (7500 - half_area[1])]}\n",
    "    \n",
    "    return boundary\n",
    "\n",
    "t = boundary_coords_uav('garmin')\n",
    "t['coord_1']"
   ]
  },
  {
   "cell_type": "code",
   "execution_count": null,
   "metadata": {},
   "outputs": [],
   "source": [
    "def figure_8 (camera):\n",
    "    \n",
    "    # Figure 8 path simulation which will depend on boundary coords from camera model \n",
    "    # Returns vector of coords from simulated flight\n",
    "    \n",
    "    # camera is string variable - garmin or sony\n",
    "    \n",
    "    bc = boundary_coords_uav(camera)\n",
    "    \n",
    "    leg_1 = find_sample_points(bc['coord_1', 'coord_2', 360, individual, speed_level = 0, probability = 0)\n",
    "    \n",
    "    \n",
    "    \n",
    "    \n",
    "\n",
    "def lawnmower (camera):\n",
    "    \n",
    "    # Figure 8 path simulation which will depend on boundary coords from camera model \n",
    "    # Returns vector of coords from simulated flight"
   ]
  },
  {
   "cell_type": "markdown",
   "metadata": {},
   "source": [
    "### Animal paths"
   ]
  },
  {
   "cell_type": "code",
   "execution_count": null,
   "metadata": {},
   "outputs": [],
   "source": []
  },
  {
   "cell_type": "markdown",
   "metadata": {},
   "source": [
    "## Simulation Runs\n",
    "\n",
    "* Run UAV and animal path combinations - categorize your runs here for later comparison\n",
    "* Detection function to mark a hit and at what timestep\n",
    "* Output table "
   ]
  }
 ],
 "metadata": {
  "kernelspec": {
   "display_name": "Python 3",
   "language": "python",
   "name": "python3"
  },
  "language_info": {
   "codemirror_mode": {
    "name": "ipython",
    "version": 3
   },
   "file_extension": ".py",
   "mimetype": "text/x-python",
   "name": "python",
   "nbconvert_exporter": "python",
   "pygments_lexer": "ipython3",
   "version": "3.6.8"
  }
 },
 "nbformat": 4,
 "nbformat_minor": 2
}
