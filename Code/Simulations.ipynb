{
 "cells": [
  {
   "cell_type": "markdown",
   "metadata": {},
   "source": [
    "## Simulation Tests\n",
    "\n",
    "Fixed conditions comprise of sampling time (1600 timesteps to reflect 20 minute flight in seconds), survey area (7500m x 7500m) and sensor detection zone (based on camera model). Changing variables per flight will reflect survey effort and animal availability:\n",
    "\n",
    "1.Survey Effort\n",
    "\n",
    "* UAV path (Lawn-mower/ Figure 8)\n",
    "* FOV (BIOT/ Maldives)\n",
    "* UAV speed (lowest speed-average/ average-max speed)\n",
    "\n",
    "2.Animal availability\n",
    "\n",
    "* Animal movement model (Straight Line/ Stop-Start/ Random Walk)\n",
    "* Animal speed (different per taxa)\n",
    "* Availability bias (None/Sharks/Rays/Birds)\n"
   ]
  },
  {
   "cell_type": "markdown",
   "metadata": {},
   "source": [
    "### Parameter Functions\n",
    "These functions include:\n",
    "* Selecting detection zone\n",
    "* Start coord of UAV depending on camera type\n",
    "* Establishing seperate speed profiles\n",
    "* Sample points - number of coordinates and x, y values between 2 points in flight path"
   ]
  },
  {
   "cell_type": "code",
   "execution_count": 1,
   "metadata": {},
   "outputs": [],
   "source": [
    "def detection_zone(camera):\n",
    "    # FOV calculated per camera model in Strip_Sampling_Density.\n",
    "    \n",
    "    camdict = {\"garmin\": [83,113], \"sony\": [113, 75]}\n",
    "    try:\n",
    "        return camdict[camera.lower()]\n",
    "    except KeyError:\n",
    "        raise KeyError ('Invalid camera model used, should be :{}'.format([x for x in camdict.keys()]))"
   ]
  },
  {
   "cell_type": "code",
   "execution_count": 2,
   "metadata": {},
   "outputs": [
    {
     "data": {
      "text/plain": [
       "[83, 113]"
      ]
     },
     "execution_count": 2,
     "metadata": {},
     "output_type": "execute_result"
    }
   ],
   "source": [
    "detection_zone('GARMIN')"
   ]
  },
  {
   "cell_type": "code",
   "execution_count": 3,
   "metadata": {},
   "outputs": [
    {
     "data": {
      "text/plain": [
       "{'coord_1': [56.5, 37.5],\n",
       " 'coord_2': [7443.5, 37.5],\n",
       " 'coord_3': [7443.5, 7462.5],\n",
       " 'coord_4': [56.5, 7462.5]}"
      ]
     },
     "execution_count": 3,
     "metadata": {},
     "output_type": "execute_result"
    }
   ],
   "source": [
    "def boundary_coords_uav(camera):\n",
    "    \n",
    "    # x and y coordinates \n",
    "    \n",
    "    area = detection_zone(camera)\n",
    "    half_area = [x/2  for x in area]\n",
    "    boundary = {'coord_1' : [(0 + half_area[0]), (0 + half_area[1])],\n",
    "                'coord_2' : [(7500 - half_area[0]), (0 + half_area[1])],\n",
    "                'coord_3' : [(7500 - half_area[0]), (7500 - half_area[1])],\n",
    "                'coord_4' : [(0 + half_area[0]), (7500 - half_area[1])]}\n",
    "    \n",
    "    return boundary\n",
    "\n",
    "boundary_coords_uav('sony')"
   ]
  },
  {
   "cell_type": "code",
   "execution_count": 66,
   "metadata": {},
   "outputs": [
    {
     "data": {
      "image/png": "[encoded data removed]",
      "text/plain": [
       "<matplotlib.figure.Figure at 0x7f5ff74945c0>"
      ]
     },
     "metadata": {
      "needs_background": "light"
     },
     "output_type": "display_data"
    }
   ],
   "source": [
    "from scipy.stats import truncnorm\n",
    "import scipy.stats as stats\n",
    "import matplotlib.pyplot as plt\n",
    "\n",
    "def get_truncated_normal(mean=0, sd=1, low=0, upp=10):\n",
    "    # More intuitive method to use truncnorm for speed_profile distribution\n",
    "\n",
    "    return truncnorm(\n",
    "        (low - mean) / sd, (upp - mean) / sd, loc=mean, scale=sd)\n",
    "\n",
    "\n",
    "\n",
    "def speed_profile (level, mean = 18, sd = 1, low = 4, upp = 33):\n",
    "    # Speed profile for random sample distribution\n",
    "    # Average speed: 18 m/s \n",
    "    # Level 1 = low, Level 2 = high\n",
    "    \n",
    "    speed_dist = get_truncated_normal(mean, sd, low, upp)\n",
    "    value = speed_dist.rvs(size=1) # Select 1 random number from this distribution\n",
    "    if level == 1:\n",
    "        while value > mean:\n",
    "            value = speed_dist.rvs(size=1)\n",
    "    else:\n",
    "        while value < mean:\n",
    "            value = speed_dist.rvs(size=1)\n",
    "            \n",
    "    return value[0]\n",
    "\n",
    "# Show graphics\n",
    "#lower, upper = 4, 33\n",
    "#mu, sigma = 18, 2\n",
    "#X = stats.truncnorm(\n",
    "#    (lower - mu) / sigma, (upper - mu) / sigma, loc=mu, scale=sigma)\n",
    "#N = stats.norm(loc=mu, scale=sigma)\n",
    "\n",
    "#fig, ax = plt.subplots(2, sharex=True)\n",
    "#ax[0].hist(X.rvs(10000), normed=True) # truncated normal dist\n",
    "#ax[1].hist(N.rvs(10000), normed=True) # normal dist\n",
    "#plt.show()"
   ]
  },
  {
   "cell_type": "markdown",
   "metadata": {},
   "source": [
    "\n",
    "### Speed profiles of animal\n",
    "\n",
    "#### Elasmos\n",
    "* Grey reef shark cruise speed - 0.64m/s | max cruise speed - 1.23(Ryan, 15)\n",
    "* Nurse shark cruise speed is 0.3Bl/s - 0.33m/s ((((91+132)/2)/100)*0.3) | max - ((132/100)*0.74) (Whitney, 16)\n",
    "* Average whale shark is 0.6m/s | max - 1.06 (Jacoby,18)\n",
    "* Average ray speed is 1.42 m/s | max - 2.51 (Fish, 18) - could find manta but not eagle\n",
    "* Average manatee speed is 0.7m/s | max - 1.14(Kojeszewski, 07)\n",
    "\n",
    "#### Birds\n",
    "* Red-footed boobies travel at median speed of 38km/h - 10.5m/s | max - 22m/s (Weimerskirch, 05)\n",
    "* Frigatebird average is 16.4km/h - 4.5 m/s | 5.1 (Weimerskirch,03)\n",
    "* Common tern average is 30km/h - 8.3 m/s (Nisbet, I C T. The Birds of North America Online (2002: series Alan Poole) (ed.). \"Common Tern (Sterna hirundo)\". Cornell Lab of Ornithology. Retrieved 25 January 2012. Subscription needed for full text.)\n",
    "\n"
   ]
  },
  {
   "cell_type": "code",
   "execution_count": 109,
   "metadata": {},
   "outputs": [
    {
     "data": {
      "image/png": "[encoded data removed]",
      "text/plain": [
       "<matplotlib.figure.Figure at 0x7f5ff7491518>"
      ]
     },
     "metadata": {
      "needs_background": "light"
     },
     "output_type": "display_data"
    }
   ],
   "source": [
    "from matplotlib import pyplot as plt\n",
    "import statistics\n",
    "import math\n",
    "\n",
    "\n",
    "def animal_speed (animal):\n",
    "    # Speed distribution is based on crude figures for each animal taxa\n",
    "    \n",
    "    speed_dict = {\"reef\": [0.64, 1.23], \"nurse\": [0.33, 0.98], \"whale_shark\" : [0.6, 1.06], \"ray\": [1.42, 2.51], \n",
    "                  \"manatee\": [0.7, 1.14], \"booby\": [10.5, 22], \"frigate\": [4.5, 5.1], \"tern\": [8.3, 11.94]}\n",
    "    \n",
    "    mean = speed_dict[animal.lower(0)]\n",
    "    # sd = 1\n",
    "    #speed_dist = get_truncated_normal(mean, sd, low, upp)\n",
    "    #value = speed_dist.rvs(size=1)\n",
    "    return mean\n",
    "\n",
    "\n",
    "# Show graphics\n",
    "lower, upper = 0.1, 10.5\n",
    "mu, sigma = 18, 2\n",
    "X = stats.truncnorm(\n",
    "    (lower - mu) / sigma, (upper - mu) / sigma, loc=mu, scale=sigma)\n",
    "N = stats.norm(loc=mu, scale=sigma)\n",
    "\n",
    "fig, ax = plt.subplots(2, sharex=True)\n",
    "ax[0].hist(X.rvs(10000), normed=True) # truncated normal dist\n",
    "ax[1].hist(N.rvs(10000), normed=True) # normal dist\n",
    "plt.show()"
   ]
  },
  {
   "cell_type": "code",
   "execution_count": 110,
   "metadata": {},
   "outputs": [
    {
     "ename": "NameError",
     "evalue": "name 'reef' is not defined",
     "output_type": "error",
     "traceback": [
      "\u001b[0;31m---------------------------------------------------------------------------\u001b[0m",
      "\u001b[0;31mNameError\u001b[0m                                 Traceback (most recent call last)",
      "\u001b[0;32m<ipython-input-110-bc77abe6c816>\u001b[0m in \u001b[0;36m<module>\u001b[0;34m()\u001b[0m\n\u001b[0;32m----> 1\u001b[0;31m \u001b[0manimal_speed\u001b[0m\u001b[0;34m(\u001b[0m\u001b[0mreef\u001b[0m\u001b[0;34m)\u001b[0m\u001b[0;34m\u001b[0m\u001b[0;34m\u001b[0m\u001b[0m\n\u001b[0m",
      "\u001b[0;31mNameError\u001b[0m: name 'reef' is not defined"
     ]
    }
   ],
   "source": [
    "animal_speed(reef)"
   ]
  },
  {
   "cell_type": "code",
   "execution_count": 92,
   "metadata": {},
   "outputs": [],
   "source": [
    "import math\n",
    "from decimal import *\n",
    "import numpy as np\n",
    "\n",
    "def convert_ints(x):\n",
    "    if x < 0.001:\n",
    "        return 0\n",
    "\n",
    "\n",
    "\n",
    "def find_sample_points(start_coord, end_coord, angle, speed_level, probability = 0):\n",
    "\n",
    "    # Retrieves coordinates for x number of timesteps between 2 points\n",
    "    \n",
    "    # start_coord = start point of animal or drone\n",
    "    # end_coord = end point of animal or drone\n",
    "    # angle = angle of travel in degrees\n",
    "    # speed_level = low(1) or high(2)\n",
    "    # probability = probability of animal remaininh stationary in that timestep(default = 0)\n",
    "\n",
    "    horiz_dist = abs(end_coord[0] - start_coord[0]) # x coordinates\n",
    "    vert_dist = abs(end_coord[1] - start_coord[1]) # y coordinates\n",
    "    length = math.sqrt((horiz_dist**2) + (vert_dist**2)) # length in metres between both points\n",
    "    angle_radians = math.radians(angle)\n",
    "\n",
    "    \n",
    "    total_length_covered = 0\n",
    "    x_list = [start_coord[0]] # list of x values at every step\n",
    "    y_list = [start_coord[1]] # list of y values at every step\n",
    "    iteration = 0 # used to cumulatively add the last x, y values to recent\n",
    "\n",
    "    while True:\n",
    "        s = speed_profile(speed_level) # get our speed for this step\n",
    "        total_length_covered += s # cumulatively add to total length covered\n",
    "        if total_length_covered > length:\n",
    "            break\n",
    "        \n",
    "        point_probability = np.random.choice(100,1) # assign probability to coordinate\n",
    "        #print(point_probability)\n",
    "        if point_probability > probability:\n",
    "            delta_x = x_list[iteration] + (math.cos(angle_radians)* s) # From start x coordinate, add the length with direction calculated through cosine \n",
    "            delta_y = y_list[iteration] + (math.sin(angle_radians)* s) # From start y coordinate, add the length with direction calculated through sine\n",
    "       \n",
    "        \n",
    "            #x = delta_x.astype(np.int64) # From float to int for rounding purposes\n",
    "            #y = delta_y.astype(np.int64) # From float to int for rounding purposes\n",
    "            \n",
    "            getcontext().prec = 20\n",
    "            print(Decimal(delta_x))\n",
    "            print(Decimal(delta_y))\n",
    "            \n",
    "            \n",
    "            x_list.append(delta_x) \n",
    "            y_list.append(delta_y)\n",
    "        \n",
    "        else:\n",
    "            total_length_covered = total_length_covered - s # Take last distance as we have not travelled here\n",
    "            x_list.append(x_list[iteration]) \n",
    "            y_list.append(y_list[iteration])\n",
    "\n",
    "        iteration += 1\n",
    "\n",
    "\n",
    "    sample_coords = list(zip(x_list, y_list))     # zip up to create list of tuples, each being a set of coordinates where a sample has been taken\n",
    "    \n",
    "    Actual_length = total_length_covered - s\n",
    "    \n",
    "    \n",
    "    return sample_coords "
   ]
  },
  {
   "cell_type": "code",
   "execution_count": 93,
   "metadata": {},
   "outputs": [
    {
     "name": "stdout",
     "output_type": "stream",
     "text": [
      "17.5521145943604324202169664204120635986328125\n",
      "-4.2990281912502091419303633381443930638267001374808184976927805109880864620208740234375E-15\n",
      "33.868841631008763215504586696624755859375\n",
      "-8.295473698848700898007793494586810072511143775153552581969051971100270748138427734375E-15\n",
      "51.5084239505739134301620651967823505401611328125\n",
      "-1.2615925304039041135256084147939317696834600306121654256230613100342452526092529296875E-14\n",
      "68.7684553000182177129318006336688995361328125\n",
      "-1.6843413733095032467569825055223060788285767419569793901246157474815845489501953125E-14\n",
      "86.4784144043134119783644564449787139892578125\n",
      "-2.118110267911615835822986426572501730930769663074908493172188173048198223114013671875E-14\n"
     ]
    },
    {
     "data": {
      "text/plain": [
       "[(0, 0),\n",
       " (17.552114594360432, -4.2990281912502091e-15),\n",
       " (33.868841631008763, -8.2954736988487009e-15),\n",
       " (51.508423950573913, -1.2615925304039041e-14),\n",
       " (68.768455300018218, -1.6843413733095032e-14),\n",
       " (86.478414404313412, -2.1181102679116158e-14)]"
      ]
     },
     "execution_count": 93,
     "metadata": {},
     "output_type": "execute_result"
    }
   ],
   "source": [
    "test = find_sample_points([0,0], [100,0], 360, 1)\n",
    "test"
   ]
  },
  {
   "cell_type": "code",
   "execution_count": 50,
   "metadata": {},
   "outputs": [
    {
     "name": "stdout",
     "output_type": "stream",
     "text": [
      "[1, 2]\n"
     ]
    }
   ],
   "source": [
    "def random_walk (start_coord, probability):\n",
    "    "
   ]
  },
  {
   "cell_type": "markdown",
   "metadata": {},
   "source": [
    "### UAV and Animal path functions"
   ]
  },
  {
   "cell_type": "code",
   "execution_count": null,
   "metadata": {},
   "outputs": [],
   "source": []
  }
 ],
 "metadata": {
  "kernelspec": {
   "display_name": "Python 3",
   "language": "python",
   "name": "python3"
  },
  "language_info": {
   "codemirror_mode": {
    "name": "ipython",
    "version": 3
   },
   "file_extension": ".py",
   "mimetype": "text/x-python",
   "name": "python",
   "nbconvert_exporter": "python",
   "pygments_lexer": "ipython3",
   "version": "3.6.7"
  }
 },
 "nbformat": 4,
 "nbformat_minor": 2
}
