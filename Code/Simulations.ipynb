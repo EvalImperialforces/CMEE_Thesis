{
 "cells": [
  {
   "cell_type": "markdown",
   "metadata": {},
   "source": [
    "## Simulation Tests\n",
    "\n",
    "Fixed conditions comprise of sampling time (1600 timesteps to reflect 20 minute flight in seconds), survey area (7500m x 7500m) and sensor detection zone (based on camera model). Changing variables per flight will reflect survey effort and animal availability:\n",
    "\n",
    "1.Survey Effort\n",
    "\n",
    "* UAV path (Lawn-mower/ Figure 8)\n",
    "* FOV (BIOT/ Maldives)\n",
    "* UAV speed (lowest speed-average/ average-max speed)\n",
    "\n",
    "2.Animal availability\n",
    "\n",
    "* Animal movement model (Straight Line/ Stop-Start/ Random Walk)\n",
    "* Animal speed (1-average/ average to max?)\n",
    "* Availability bias (None/Sharks/Rays/Birds)\n"
   ]
  },
  {
   "cell_type": "markdown",
   "metadata": {},
   "source": [
    "### Parameter Functions\n",
    "These functions include:\n",
    "* Selecting detection zone\n",
    "* Start coord of UAV depending on camera type\n",
    "* Establishing seperate speed profiles\n",
    "* Sample points - number of coordinates and x, y values between 2 points in flight path"
   ]
  },
  {
   "cell_type": "code",
   "execution_count": 6,
   "metadata": {},
   "outputs": [],
   "source": [
    "def detection_zone(camera):\n",
    "    # FOV calculated per camera model in Strip_Sampling_Density.\n",
    "    \n",
    "    camdict = {\"garmin\": [83,113], \"sony\": [113, 75]}\n",
    "    try:\n",
    "        return camdict[camera.lower()]\n",
    "    except KeyError:\n",
    "        raise KeyError ('Invalid camera model used, should be :{}'.format([x for x in camdict.keys()]))"
   ]
  },
  {
   "cell_type": "code",
   "execution_count": 30,
   "metadata": {},
   "outputs": [
    {
     "data": {
      "text/plain": [
       "[41.5, 56.5]"
      ]
     },
     "execution_count": 30,
     "metadata": {},
     "output_type": "execute_result"
    }
   ],
   "source": [
    "detection_zone('GARMIN')"
   ]
  },
  {
   "cell_type": "code",
   "execution_count": 32,
   "metadata": {},
   "outputs": [
    {
     "data": {
      "text/plain": [
       "{'coord_1': [56.5, 37.5],\n",
       " 'coord_2': [7443.5, 37.5],\n",
       " 'coord_3': [7443.5, 7462.5],\n",
       " 'coord_4': [56.5, 7462.5]}"
      ]
     },
     "execution_count": 32,
     "metadata": {},
     "output_type": "execute_result"
    }
   ],
   "source": [
    "def boundary_coords_uav(camera):\n",
    "    # x and y coordinates \n",
    "    \n",
    "    area = detection_zone(camera)\n",
    "    half_area = [x/2  for x in area]\n",
    "    boundary = {'coord_1' : [(0 + half_area[0]), (0 + half_area[1])],\n",
    "                'coord_2' : [(7500 - half_area[0]), (0 + half_area[1])],\n",
    "                'coord_3' : [(7500 - half_area[0]), (7500 - half_area[1])],\n",
    "                'coord_4' : [(0 + half_area[0]), (7500 - half_area[1])]}\n",
    "    \n",
    "    return boundary\n",
    "\n",
    "boundary_coords_uav('sony')"
   ]
  },
  {
   "cell_type": "code",
   "execution_count": 23,
   "metadata": {},
   "outputs": [],
   "source": [
    "from scipy.stats import truncnorm\n",
    "\n",
    "def get_truncated_normal(mean=0, sd=1, low=0, upp=10):\n",
    "    # More intuitive method to use truncnorm for speed_profile distribution\n",
    "\n",
    "    return truncnorm(\n",
    "        (low - mean) / sd, (upp - mean) / sd, loc=mean, scale=sd)\n",
    "\n",
    "\n",
    "\n",
    "def speed_profile (level, mean = 18, sd = 1, low = 4, upp = 33):\n",
    "    # Speed profile for random sample distribution\n",
    "    # Average speed: 18 m/s \n",
    "    # Level 1 = low, Level 2 = high\n",
    "    \n",
    "    speed_dist = get_truncated_normal(mean, sd, low, upp)\n",
    "    value = speed_dist.rvs(1) # Select 1 random number from this distribution\n",
    "    if level == 1:\n",
    "        while value > mean:\n",
    "            value = speed_dist.rvs(1)\n",
    "    else:\n",
    "        while value < mean:\n",
    "            value = speed_dist.rvs(1)\n",
    "    return value\n"
   ]
  },
  {
   "cell_type": "code",
   "execution_count": 25,
   "metadata": {},
   "outputs": [
    {
     "data": {
      "text/plain": [
       "array([ 20.42296313])"
      ]
     },
     "execution_count": 25,
     "metadata": {},
     "output_type": "execute_result"
    }
   ],
   "source": [
    "speed_profile(2)"
   ]
  },
  {
   "cell_type": "code",
   "execution_count": 84,
   "metadata": {},
   "outputs": [],
   "source": [
    "import math\n",
    "\n",
    "def find_sample_points(start_coord, end_coord, angle, speed_level):\n",
    "\n",
    "    # Retrieves coordinates for x number of timesteps between 2 points\n",
    "\n",
    "    horiz_dist = abs(end_coord[0] - start_coord[0]) # x coordinates\n",
    "    vert_dist = abs(end_coord[1] - start_coord[1]) # y coordinates\n",
    "    length = math.sqrt((horiz_dist**2) + (vert_dist**2)) # length in metres between both points\n",
    "    angle_radians = math.radians(angle)\n",
    "\n",
    "    total_x = 0 # Sum of all x values (should be below x value of end_coord)\n",
    "    total_y = 0 # Sum of all y values (should be below x value of end_coord)\n",
    "    total_length_covered = 0\n",
    "    x_list = [start_coord[0]] # list of x values at every step\n",
    "    y_list = [start_coord[1]] # list of y values at every step\n",
    "    iteration = 0 # used to cumulatively add the last x, y values to recent\n",
    "\n",
    "    while True:\n",
    "        s = speed_profile(speed_level) # get our speed for this step\n",
    "        print('speed is:', s)\n",
    "        total_length_covered += s # cumulatively add to total length covered\n",
    "        if total_length_covered > length:\n",
    "            break\n",
    "\n",
    "        delta_x = x_list[iteration] + (math.cos(angle_radians)* s) # From start x coordinate, add the length with direction calculated through cosine \n",
    "        delta_y = y_list[iteration] + (math.sin(angle_radians)* s) # From start y coordinate, add the length with direction calculated through sine\n",
    "        print('x_list so far is:', x_list)\n",
    "        print('value being added from x_list is:', x_list[iteration])\n",
    "        print('delta_x is:', delta_x)\n",
    "        #total_x += delta_x # add the new x value cumulatively\n",
    "        #print('total_x is:', total_x)\n",
    "        total_y += delta_y # add the new y value cumulatively\n",
    "        x_list.append(x_list[iteration] + delta_x) # adding the new coordinates cumulatively???\n",
    "        y_list.append(y_list[iteration] + delta_y)\n",
    "\n",
    "        iteration += 1\n",
    "\n",
    "\n",
    "    sample_coords = zip(x_list, y_list)     # zip up to create list of tuples, each being a set of coordinates where a sample has been taken\n",
    "    \n",
    "    #print(iteration)\n",
    "    #print(total_x)\n",
    "    #print(total_y)\n",
    "    #print(total_length_covered)\n",
    "    #print(sample_coords)\n",
    "    \n",
    "    \n",
    "    return True"
   ]
  },
  {
   "cell_type": "code",
   "execution_count": 85,
   "metadata": {},
   "outputs": [
    {
     "name": "stdout",
     "output_type": "stream",
     "text": [
      "speed is: [ 15.94586697]\n",
      "x_list so far is: [0]\n",
      "value being added from x_list is: 0\n",
      "delta_x is: [ 15.94586697]\n",
      "speed is: [ 17.4443456]\n",
      "x_list so far is: [0, array([ 15.94586697])]\n",
      "value being added from x_list is: [ 15.94586697]\n",
      "delta_x is: [ 33.39021257]\n",
      "speed is: [ 16.0588935]\n",
      "x_list so far is: [0, array([ 15.94586697]), array([ 49.33607955])]\n",
      "value being added from x_list is: [ 49.33607955]\n",
      "delta_x is: [ 65.39497305]\n",
      "speed is: [ 15.23934959]\n",
      "x_list so far is: [0, array([ 15.94586697]), array([ 49.33607955]), array([ 114.7310526])]\n",
      "value being added from x_list is: [ 114.7310526]\n",
      "delta_x is: [ 129.97040219]\n",
      "speed is: [ 17.96244666]\n",
      "x_list so far is: [0, array([ 15.94586697]), array([ 49.33607955]), array([ 114.7310526]), array([ 244.70145478])]\n",
      "value being added from x_list is: [ 244.70145478]\n",
      "delta_x is: [ 262.66390144]\n",
      "speed is: [ 16.10579935]\n",
      "x_list so far is: [0, array([ 15.94586697]), array([ 49.33607955]), array([ 114.7310526]), array([ 244.70145478]), array([ 507.36535623])]\n",
      "value being added from x_list is: [ 507.36535623]\n",
      "delta_x is: [ 523.47115557]\n",
      "speed is: [ 17.01007103]\n"
     ]
    },
    {
     "data": {
      "text/plain": [
       "True"
      ]
     },
     "execution_count": 85,
     "metadata": {},
     "output_type": "execute_result"
    }
   ],
   "source": [
    "find_sample_points([0,0], [100,0], 360, 1)\n",
    "\n",
    "#angle_radians = math.radians(360)\n",
    "#delta_y = 0 + (math.sin(angle_radians)* 200)\n",
    "#delta_y"
   ]
  },
  {
   "cell_type": "code",
   "execution_count": null,
   "metadata": {},
   "outputs": [],
   "source": []
  }
 ],
 "metadata": {
  "kernelspec": {
   "display_name": "Python 3",
   "language": "python",
   "name": "python3"
  },
  "language_info": {
   "codemirror_mode": {
    "name": "ipython",
    "version": 3
   },
   "file_extension": ".py",
   "mimetype": "text/x-python",
   "name": "python",
   "nbconvert_exporter": "python",
   "pygments_lexer": "ipython3",
   "version": "3.6.7"
  }
 },
 "nbformat": 4,
 "nbformat_minor": 2
}
