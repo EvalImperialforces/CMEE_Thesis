{
 "cells": [
  {
   "cell_type": "markdown",
   "metadata": {},
   "source": [
    "## Real Data Analysis\n",
    "\n",
    "1. Priority is on density estimates so analyze how the model performs on the overall flights (mean density, sd density - summary statistic, boxplot). Look how density estimates (point estimates) change with **area**, number of encounters, between **locations**, **speed**, **animals** perhaps. I can perhaps do an sd for locations. \n",
    "\n",
    "2. Summary stats relating to what was seen/flight logistics. A log would be good and it sets parameters for the simulated model but remember - It's about the model!"
   ]
  },
  {
   "cell_type": "markdown",
   "metadata": {},
   "source": [
    "### Import Data\n",
    "\n",
    "* Start total count and species count tables\n",
    "* Frequency plots"
   ]
  },
  {
   "cell_type": "code",
   "execution_count": 1,
   "metadata": {},
   "outputs": [
    {
     "name": "stderr",
     "output_type": "stream",
     "text": [
      "gdata: read.xls support for 'XLS' (Excel 97-2004) files ENABLED.\n",
      "\n",
      "gdata: read.xls support for 'XLSX' (Excel 2007+) files ENABLED.\n",
      "\n",
      "Attaching package: ‘gdata’\n",
      "\n",
      "The following objects are masked from ‘package:dplyr’:\n",
      "\n",
      "    combine, first, last\n",
      "\n",
      "The following object is masked from ‘package:stats’:\n",
      "\n",
      "    nobs\n",
      "\n",
      "The following object is masked from ‘package:utils’:\n",
      "\n",
      "    object.size\n",
      "\n",
      "The following object is masked from ‘package:base’:\n",
      "\n",
      "    startsWith\n",
      "\n"
     ]
    }
   ],
   "source": [
    "rm(list=ls())\n",
    "\n",
    "suppressMessages(library(dplyr))\n",
    "library(tidyr)\n",
    "library(geosphere)\n",
    "suppressMessages(library(reshape2))\n",
    "library(ggplot2)\n",
    "library(ggthemes)\n",
    "library(xtable)\n",
    "\n",
    "\n",
    "# Import cleaned datasets from the Data_Wrangling\n",
    "source('Data_Wrangling.R')\n",
    "\n",
    "# Import original files for duration \n",
    "original_biot <- read.csv(\"../Data/Metadata/BIOT/BIOT_2018.csv\", header = T)\n",
    "original_biot <- subset(original_biot, original_biot$Flight.or.Grounded == 'Flight') # All images in flight\n",
    "# Subset by particular flights\n",
    "flights_chosen <- c(1,3,7,8,10,11,12)\n",
    "original_biot <- original_biot[original_biot$Flight %in% flights_chosen,]\n",
    "original_belize <- belize\n",
    "#original_belize"
   ]
  },
  {
   "cell_type": "code",
   "execution_count": 2,
   "metadata": {},
   "outputs": [],
   "source": [
    "# Total counts\n",
    "\n",
    "biot_sum <- biot_lite %>%\n",
    "  group_by(Flight) %>% \n",
    "  tally(c(Reefshark, Nurseshark, Whaleshark, Eagleray, Mantaray, Whitetern, \n",
    "          Sootytern, Tern_other, Redfootedboobie, Frigatebird, Brownnoddy_any, \n",
    "          Bird, FruitBat, Human))\n",
    "\n",
    "belize_sum <- belize_lite %>%\n",
    "  group_by(Flight) %>% \n",
    "  tally(c(eagle.ray,turtle,manatee,shark,ray))\n",
    "\n",
    "\n",
    "total_count <- rbind(biot_sum, belize_sum)\n",
    "# Rename Belize flights\n",
    "total_count[8,1] <- 13\n",
    "total_count[9,1] <- 14\n",
    "total_count[10,1] <- 15\n",
    "total_count[11,1] <- 16\n",
    "total_count[12,1] <- 17\n",
    "total_count[13,1] <- 18\n",
    "\n",
    "#total_count\n",
    "\n",
    "\n",
    "\n",
    "biot_sum2 <- biot_lite2 %>%\n",
    "  group_by(Flight) %>% \n",
    "  tally(c(Reefshark, Nurseshark, Whaleshark, Eagleray, Mantaray, Whitetern, \n",
    "          Sootytern, Tern_other, Redfootedboobie, Frigatebird, Brownnoddy_any, \n",
    "          Bird, FruitBat, Human))\n",
    "\n",
    "belize_sum2 <- belize_lite2 %>%\n",
    "  group_by(Flight) %>% \n",
    "  tally(c(eagle.ray,turtle,manatee,shark,ray))\n",
    "\n",
    "\n",
    "total_count2 <- rbind(biot_sum2, belize_sum2)\n",
    "# Rename Belize flights\n",
    "total_count2[8,1] <- 13\n",
    "total_count2[9,1] <- 14\n",
    "total_count2[10,1] <- 15\n",
    "total_count2[11,1] <- 16\n",
    "total_count2[12,1] <- 17\n",
    "total_count2[13,1] <- 18\n"
   ]
  },
  {
   "cell_type": "code",
   "execution_count": 3,
   "metadata": {},
   "outputs": [
    {
     "data": {
      "text/html": [
       "<table>\n",
       "<caption>A tibble: 7 × 13</caption>\n",
       "<thead>\n",
       "\t<tr><th scope=col>Flight</th><th scope=col>Reef_shark</th><th scope=col>Nurse_shark</th><th scope=col>Whale_shark</th><th scope=col>Eagleray</th><th scope=col>Mantaray</th><th scope=col>White_tern</th><th scope=col>Sooty_tern</th><th scope=col>Tern_other</th><th scope=col>Redfooted_boobie</th><th scope=col>Frigate_bird</th><th scope=col>Brown_noddy_any</th><th scope=col>Bird</th></tr>\n",
       "\t<tr><th scope=col>&lt;int&gt;</th><th scope=col>&lt;int&gt;</th><th scope=col>&lt;int&gt;</th><th scope=col>&lt;int&gt;</th><th scope=col>&lt;int&gt;</th><th scope=col>&lt;int&gt;</th><th scope=col>&lt;int&gt;</th><th scope=col>&lt;int&gt;</th><th scope=col>&lt;int&gt;</th><th scope=col>&lt;int&gt;</th><th scope=col>&lt;int&gt;</th><th scope=col>&lt;int&gt;</th><th scope=col>&lt;int&gt;</th></tr>\n",
       "</thead>\n",
       "<tbody>\n",
       "\t<tr><td> 1</td><td>2</td><td>0</td><td>0</td><td>0</td><td>0</td><td>0</td><td>   0</td><td>  0</td><td>  2</td><td> 0</td><td>  0</td><td> 0</td></tr>\n",
       "\t<tr><td> 3</td><td>1</td><td>0</td><td>0</td><td>0</td><td>0</td><td>0</td><td>   0</td><td>  2</td><td>  0</td><td> 0</td><td>  0</td><td> 0</td></tr>\n",
       "\t<tr><td> 7</td><td>0</td><td>1</td><td>0</td><td>0</td><td>0</td><td>1</td><td>   0</td><td>  0</td><td>  0</td><td> 0</td><td>  0</td><td> 0</td></tr>\n",
       "\t<tr><td> 8</td><td>0</td><td>6</td><td>0</td><td>1</td><td>0</td><td>0</td><td>4550</td><td>348</td><td>525</td><td>25</td><td>144</td><td>28</td></tr>\n",
       "\t<tr><td>10</td><td>0</td><td>0</td><td>1</td><td>0</td><td>1</td><td>0</td><td>   0</td><td>  0</td><td>  0</td><td> 0</td><td>  0</td><td> 0</td></tr>\n",
       "\t<tr><td>11</td><td>0</td><td>0</td><td>0</td><td>1</td><td>0</td><td>0</td><td>   0</td><td>  0</td><td>  0</td><td> 0</td><td>  0</td><td> 0</td></tr>\n",
       "\t<tr><td>12</td><td>1</td><td>0</td><td>0</td><td>0</td><td>0</td><td>0</td><td>   0</td><td>  0</td><td>  0</td><td> 0</td><td>  0</td><td> 0</td></tr>\n",
       "</tbody>\n",
       "</table>\n"
      ],
      "text/latex": [
       "A tibble: 7 × 13\n",
       "\\begin{tabular}{r|lllllllllllll}\n",
       " Flight & Reef\\_shark & Nurse\\_shark & Whale\\_shark & Eagleray & Mantaray & White\\_tern & Sooty\\_tern & Tern\\_other & Redfooted\\_boobie & Frigate\\_bird & Brown\\_noddy\\_any & Bird\\\\\n",
       " <int> & <int> & <int> & <int> & <int> & <int> & <int> & <int> & <int> & <int> & <int> & <int> & <int>\\\\\n",
       "\\hline\n",
       "\t  1 & 2 & 0 & 0 & 0 & 0 & 0 &    0 &   0 &   2 &  0 &   0 &  0\\\\\n",
       "\t  3 & 1 & 0 & 0 & 0 & 0 & 0 &    0 &   2 &   0 &  0 &   0 &  0\\\\\n",
       "\t  7 & 0 & 1 & 0 & 0 & 0 & 1 &    0 &   0 &   0 &  0 &   0 &  0\\\\\n",
       "\t  8 & 0 & 6 & 0 & 1 & 0 & 0 & 4550 & 348 & 525 & 25 & 144 & 28\\\\\n",
       "\t 10 & 0 & 0 & 1 & 0 & 1 & 0 &    0 &   0 &   0 &  0 &   0 &  0\\\\\n",
       "\t 11 & 0 & 0 & 0 & 1 & 0 & 0 &    0 &   0 &   0 &  0 &   0 &  0\\\\\n",
       "\t 12 & 1 & 0 & 0 & 0 & 0 & 0 &    0 &   0 &   0 &  0 &   0 &  0\\\\\n",
       "\\end{tabular}\n"
      ],
      "text/markdown": [
       "\n",
       "A tibble: 7 × 13\n",
       "\n",
       "| Flight &lt;int&gt; | Reef_shark &lt;int&gt; | Nurse_shark &lt;int&gt; | Whale_shark &lt;int&gt; | Eagleray &lt;int&gt; | Mantaray &lt;int&gt; | White_tern &lt;int&gt; | Sooty_tern &lt;int&gt; | Tern_other &lt;int&gt; | Redfooted_boobie &lt;int&gt; | Frigate_bird &lt;int&gt; | Brown_noddy_any &lt;int&gt; | Bird &lt;int&gt; |\n",
       "|---|---|---|---|---|---|---|---|---|---|---|---|---|\n",
       "|  1 | 2 | 0 | 0 | 0 | 0 | 0 |    0 |   0 |   2 |  0 |   0 |  0 |\n",
       "|  3 | 1 | 0 | 0 | 0 | 0 | 0 |    0 |   2 |   0 |  0 |   0 |  0 |\n",
       "|  7 | 0 | 1 | 0 | 0 | 0 | 1 |    0 |   0 |   0 |  0 |   0 |  0 |\n",
       "|  8 | 0 | 6 | 0 | 1 | 0 | 0 | 4550 | 348 | 525 | 25 | 144 | 28 |\n",
       "| 10 | 0 | 0 | 1 | 0 | 1 | 0 |    0 |   0 |   0 |  0 |   0 |  0 |\n",
       "| 11 | 0 | 0 | 0 | 1 | 0 | 0 |    0 |   0 |   0 |  0 |   0 |  0 |\n",
       "| 12 | 1 | 0 | 0 | 0 | 0 | 0 |    0 |   0 |   0 |  0 |   0 |  0 |\n",
       "\n"
      ],
      "text/plain": [
       "  Flight Reef_shark Nurse_shark Whale_shark Eagleray Mantaray White_tern\n",
       "1  1     2          0           0           0        0        0         \n",
       "2  3     1          0           0           0        0        0         \n",
       "3  7     0          1           0           0        0        1         \n",
       "4  8     0          6           0           1        0        0         \n",
       "5 10     0          0           1           0        1        0         \n",
       "6 11     0          0           0           1        0        0         \n",
       "7 12     1          0           0           0        0        0         \n",
       "  Sooty_tern Tern_other Redfooted_boobie Frigate_bird Brown_noddy_any Bird\n",
       "1    0         0          2               0             0              0  \n",
       "2    0         2          0               0             0              0  \n",
       "3    0         0          0               0             0              0  \n",
       "4 4550       348        525              25           144             28  \n",
       "5    0         0          0               0             0              0  \n",
       "6    0         0          0               0             0              0  \n",
       "7    0         0          0               0             0              0  "
      ]
     },
     "metadata": {},
     "output_type": "display_data"
    },
    {
     "data": {
      "text/html": [
       "<table>\n",
       "<caption>A tibble: 6 × 6</caption>\n",
       "<thead>\n",
       "\t<tr><th scope=col>Flight</th><th scope=col>Eagle_ray</th><th scope=col>Turtle</th><th scope=col>Manatee</th><th scope=col>Shark</th><th scope=col>Ray</th></tr>\n",
       "\t<tr><th scope=col>&lt;dbl&gt;</th><th scope=col>&lt;int&gt;</th><th scope=col>&lt;int&gt;</th><th scope=col>&lt;int&gt;</th><th scope=col>&lt;int&gt;</th><th scope=col>&lt;dbl&gt;</th></tr>\n",
       "</thead>\n",
       "<tbody>\n",
       "\t<tr><td>1</td><td>3</td><td>2</td><td>0</td><td>0</td><td>0</td></tr>\n",
       "\t<tr><td>2</td><td>0</td><td>0</td><td>0</td><td>0</td><td>2</td></tr>\n",
       "\t<tr><td>3</td><td>0</td><td>0</td><td>2</td><td>0</td><td>0</td></tr>\n",
       "\t<tr><td>4</td><td>2</td><td>0</td><td>0</td><td>0</td><td>0</td></tr>\n",
       "\t<tr><td>5</td><td>0</td><td>0</td><td>2</td><td>0</td><td>0</td></tr>\n",
       "\t<tr><td>6</td><td>2</td><td>0</td><td>0</td><td>0</td><td>0</td></tr>\n",
       "</tbody>\n",
       "</table>\n"
      ],
      "text/latex": [
       "A tibble: 6 × 6\n",
       "\\begin{tabular}{r|llllll}\n",
       " Flight & Eagle\\_ray & Turtle & Manatee & Shark & Ray\\\\\n",
       " <dbl> & <int> & <int> & <int> & <int> & <dbl>\\\\\n",
       "\\hline\n",
       "\t 1 & 3 & 2 & 0 & 0 & 0\\\\\n",
       "\t 2 & 0 & 0 & 0 & 0 & 2\\\\\n",
       "\t 3 & 0 & 0 & 2 & 0 & 0\\\\\n",
       "\t 4 & 2 & 0 & 0 & 0 & 0\\\\\n",
       "\t 5 & 0 & 0 & 2 & 0 & 0\\\\\n",
       "\t 6 & 2 & 0 & 0 & 0 & 0\\\\\n",
       "\\end{tabular}\n"
      ],
      "text/markdown": [
       "\n",
       "A tibble: 6 × 6\n",
       "\n",
       "| Flight &lt;dbl&gt; | Eagle_ray &lt;int&gt; | Turtle &lt;int&gt; | Manatee &lt;int&gt; | Shark &lt;int&gt; | Ray &lt;dbl&gt; |\n",
       "|---|---|---|---|---|---|\n",
       "| 1 | 3 | 2 | 0 | 0 | 0 |\n",
       "| 2 | 0 | 0 | 0 | 0 | 2 |\n",
       "| 3 | 0 | 0 | 2 | 0 | 0 |\n",
       "| 4 | 2 | 0 | 0 | 0 | 0 |\n",
       "| 5 | 0 | 0 | 2 | 0 | 0 |\n",
       "| 6 | 2 | 0 | 0 | 0 | 0 |\n",
       "\n"
      ],
      "text/plain": [
       "  Flight Eagle_ray Turtle Manatee Shark Ray\n",
       "1 1      3         2      0       0     0  \n",
       "2 2      0         0      0       0     2  \n",
       "3 3      0         0      2       0     0  \n",
       "4 4      2         0      0       0     0  \n",
       "5 5      0         0      2       0     0  \n",
       "6 6      2         0      0       0     0  "
      ]
     },
     "metadata": {},
     "output_type": "display_data"
    }
   ],
   "source": [
    "# Different counts among species\n",
    "\n",
    "Species_count_biot <- biot_lite %>%\n",
    "  group_by(Flight) %>% \n",
    "  summarise(Reef_shark = sum(Reefshark),\n",
    "            Nurse_shark = sum(Nurseshark),\n",
    "            Whale_shark = sum(Whaleshark),\n",
    "            Eagleray = sum(Eagleray),\n",
    "            Mantaray = sum(Mantaray),\n",
    "            White_tern = sum(Whitetern),\n",
    "            Sooty_tern = sum(Sootytern),\n",
    "            Tern_other = sum(Tern_other),\n",
    "            Redfooted_boobie = sum(Redfootedboobie),\n",
    "            Frigate_bird = sum(Frigatebird),\n",
    "            Brown_noddy_any = sum(Brownnoddy_any),\n",
    "            Bird = sum(Bird))\n",
    "\n",
    "Species_count_belize <- belize_lite %>%\n",
    "  group_by(Flight) %>% \n",
    "  summarise(Eagle_ray = sum(eagle.ray),\n",
    "            Turtle = sum(turtle), \n",
    "            Manatee = sum(manatee),\n",
    "            Shark = sum(shark),\n",
    "            Ray  = sum (ray))\n",
    "\n",
    "Species_count_biot\n",
    "Species_count_belize\n",
    "\n",
    "# Do flight 8 on its own or categorize species (megafauna, birds)\n",
    "# Sharks and rays can be comparable across flights in Belize and BIOT. Birds are different"
   ]
  },
  {
   "cell_type": "code",
   "execution_count": 4,
   "metadata": {
    "scrolled": true
   },
   "outputs": [
    {
     "data": {
      "image/png": "[encoded data removed]",
      "text/plain": [
       "plot without title"
      ]
     },
     "metadata": {},
     "output_type": "display_data"
    },
    {
     "data": {
      "image/png": "[encoded data removed]",
      "text/plain": [
       "plot without title"
      ]
     },
     "metadata": {},
     "output_type": "display_data"
    }
   ],
   "source": [
    "##################### Species Count Barplot ##########################\n",
    "\n",
    "# Convert all captures to presence/ absent data as the number of individuals does not matter\n",
    "biot_pa <- biot_lite\n",
    "\n",
    "columns_to_change <- biot_lite[,c(\"Reefshark\", \"Nurseshark\", \"Whaleshark\", \"Eagleray\", \"Mantaray\", \n",
    "                                  \"Whitetern\", \"Sootytern\", \"Tern_other\", \"Redfootedboobie\", \"Frigatebird\", \n",
    "                                  \"Brownnoddy_any\", \"Bird\")]\n",
    "cols <- columns_to_change %>% mutate_if(is.numeric, ~1 * (. > 0))\n",
    "biot_pa[,c(\"Reefshark\", \"Nurseshark\", \"Whaleshark\", \"Eagleray\", \"Mantaray\", \n",
    "                                  \"Whitetern\", \"Sootytern\", \"Tern_other\", \"Redfootedboobie\", \"Frigatebird\", \n",
    "                                  \"Brownnoddy_any\", \"Bird\")] <- cols\n",
    "#biot_pa <- biot_pa[,-grep(\"Total\", colnames(biot_pa))] # Remove total columns\n",
    "\n",
    "\n",
    "belize_pa <- belize_lite\n",
    "\n",
    "bel_cols <- belize_lite[,c(\"eagle.ray\", \"turtle\", \"manatee\", \"shark\", \"ray\")]\n",
    "b_cols <- bel_cols %>% mutate_if(is.numeric, ~1 * (. > 0))\n",
    "belize_pa[,c(\"eagle.ray\", \"turtle\", \"manatee\", \"shark\", \"ray\")] <-bel_cols\n",
    "\n",
    "\n",
    "\n",
    "Species_count1 <- biot_pa %>%\n",
    "  group_by(Flight) %>% \n",
    "  summarise(Reef_shark = sum(Reefshark),\n",
    "            Nurse_shark = sum(Nurseshark),\n",
    "            Whale_shark = sum(Whaleshark),\n",
    "            Eagleray = sum(Eagleray),\n",
    "            Mantaray = sum(Mantaray),\n",
    "            White_tern = sum(Whitetern),\n",
    "            Sooty_tern = sum(Sootytern),\n",
    "            Tern_other = sum(Tern_other),\n",
    "            Redfooted_boobie = sum(Redfootedboobie),\n",
    "            Frigate_bird = sum(Frigatebird),\n",
    "            Brown_noddy_any = sum(Brownnoddy_any),\n",
    "            Bird = sum(Bird))\n",
    "\n",
    "\n",
    "Species_count2 <- belize_pa %>%\n",
    "  group_by(Flight) %>% \n",
    "  summarise(Eagle_ray = sum(eagle.ray),\n",
    "            Turtle = sum(turtle), \n",
    "            Manatee = sum(manatee),\n",
    "            Shark = sum(shark),\n",
    "            Ray  = sum (ray))\n",
    "\n",
    "\n",
    "# Transpose dataframe for graphing\n",
    "sp.bar <- data.frame(t(Species_count1[-1])) # Transpose\n",
    "colnames(sp.bar) <- unlist(Species_count1[,1]) # Column names = flight.no\n",
    "sp.bar$Total <- apply(sp.bar, 1, function(x) sum(x)) # Total \n",
    "sp.bar$Prop <- lapply(sp.bar$Total, function(x) x/sum(sp.bar$Total))\n",
    "\n",
    "                      \n",
    "# Transpose dataframe for graphing\n",
    "sp.bar_bel <- data.frame(t(Species_count2[-1])) # Transpose\n",
    "colnames(sp.bar_bel) <- unlist(Species_count2[,1]) # Column names = flight.no\n",
    "sp.bar_bel$Total <- apply(sp.bar_bel, 1, function(x) sum(x)) # Total \n",
    "sp.bar_bel$Prop <- lapply(sp.bar_bel$Total, function(x) x/sum(sp.bar_bel$Total))\n",
    "                          \n",
    "#pdf(file = paste(\"../Results/Frequency.pdf\", sep = \"\"))\n",
    "#print(ggplot(data = sp.bar, aes(x = rownames(sp.bar), y = Prop)) +\n",
    "  #geom_bar(stat = \"identity\", fill = \"dodgerblue3\") +\n",
    "  #xlab(\"Species\") +\n",
    "  #ylab(\"Proportion\") +\n",
    "  #scale_x_discrete(limits = rownames(sp.bar)) +\n",
    "  #theme_clean() +\n",
    "  #theme(axis.text.x = element_text(angle = 50), axis.ticks.length = unit(.5, \"cm\"))) \n",
    "\n",
    "#dev.off()\n",
    "\n",
    "\n",
    "bar.plot_biot <- ggplot(data = sp.bar, aes(x = rownames(sp.bar), y = Prop)) +\n",
    "  geom_bar(stat = \"identity\", fill = \"dodgerblue3\") +\n",
    "  xlab(\"Species\") +\n",
    "  ylab(\"Proportion\") +\n",
    "  scale_x_discrete(limits = rownames(sp.bar)) +\n",
    "  theme_clean() +\n",
    "  theme(axis.text.x = element_text(angle = 45), axis.ticks.length = unit(.5, \"cm\")) +\n",
    "  scale_fill_brewer(palette = \"Dark2\")\n",
    "                          \n",
    "\n",
    "bar.plot_bel <- ggplot(data = sp.bar_bel, aes(x = rownames(sp.bar_bel), y = Prop)) +\n",
    "  geom_bar(stat = \"identity\", fill = \"dodgerblue3\", width = 0.6) +\n",
    "  xlab(\"Species\") +\n",
    "  ylab(\"Proportion\") +\n",
    "  scale_x_discrete(limits = rownames(sp.bar_bel)) +\n",
    "  theme_clean() +\n",
    "  theme(axis.text.x = element_text(angle = 45), axis.ticks.length = unit(.5, \"cm\")) \n",
    "  #scale_fill_brewer(palette = \"Dark1\")\n",
    "\n",
    "bar.plot_biot\n",
    "bar.plot_bel\n",
    "#rownames(sp.bar_bel)\n",
    "#sp.bar_bel\n",
    "#sp.bar"
   ]
  },
  {
   "cell_type": "code",
   "execution_count": 5,
   "metadata": {},
   "outputs": [
    {
     "data": {
      "text/html": [
       "<strong>png:</strong> 2"
      ],
      "text/latex": [
       "\\textbf{png:} 2"
      ],
      "text/markdown": [
       "**png:** 2"
      ],
      "text/plain": [
       "png \n",
       "  2 "
      ]
     },
     "metadata": {},
     "output_type": "display_data"
    },
    {
     "data": {
      "text/html": [
       "<strong>png:</strong> 2"
      ],
      "text/latex": [
       "\\textbf{png:} 2"
      ],
      "text/markdown": [
       "**png:** 2"
      ],
      "text/plain": [
       "png \n",
       "  2 "
      ]
     },
     "metadata": {},
     "output_type": "display_data"
    }
   ],
   "source": [
    "pdf(file = paste(\"../Results/BIOT_freq.pdf\"))\n",
    "print(bar.plot_biot)\n",
    "dev.off()\n",
    "\n",
    "pdf(file = paste(\"../Results/bel_freq.pdf\"))\n",
    "print(bar.plot_bel)\n",
    "dev.off()"
   ]
  },
  {
   "cell_type": "markdown",
   "metadata": {},
   "source": [
    "#### Original Duration per flight "
   ]
  },
  {
   "cell_type": "code",
   "execution_count": 6,
   "metadata": {},
   "outputs": [],
   "source": [
    "################## Calculate Elapsed Time in Seconds #####################\n",
    "\n",
    "\n",
    "# Original metadata file duration\n",
    "# Can I use the full flight biot time on the biot_lite dataset? I would say yes because the overlap is only to fix encounter rate and calculate area\n",
    "# Full flight duration used to calculate accurate speed\n",
    "\n",
    "\n",
    "Duration_per_flight <- function(df){\n",
    "    time <- df %>% \n",
    "        group_by(Flight) %>%\n",
    "            summarise(Duration = length(Flight))\n",
    "    \n",
    "    return(time[,2])\n",
    "}\n",
    "\n",
    "\n",
    "Images_biot <- Duration_per_flight(original_biot)\n",
    "# Belize duration from LOG_BELIZE_FLIGHTS.xlsx acording to observer (first 10 flights)\n",
    "Duration <- rbind(Images_biot, (18*60), (20*60), (15*60), (12*60), (15*60), (25*60))\n",
    "\n",
    "total_count <- cbind(total_count, Duration)\n",
    "total_count2 <- cbind(total_count2, Duration)\n",
    "\n",
    "Duration_minutes <- lapply(Duration, function(x) {x/60})\n",
    "total_count <- cbind(total_count, Duration_minutes$Duration)\n",
    "total_count2 <- cbind(total_count2, Duration_minutes$Duration)\n",
    "\n",
    "#total_count\n",
    "#total_count2"
   ]
  },
  {
   "cell_type": "markdown",
   "metadata": {},
   "source": [
    "### Calculate Distance "
   ]
  },
  {
   "cell_type": "code",
   "execution_count": 7,
   "metadata": {},
   "outputs": [
    {
     "data": {
      "text/html": [
       "<table>\n",
       "<caption>A data.frame: 13 × 8</caption>\n",
       "<thead>\n",
       "\t<tr><th scope=col>Flight</th><th scope=col>Captures</th><th scope=col>Duration_(seconds)</th><th scope=col>Duration_(minutes)</th><th scope=col>Distance_(metres)</th><th scope=col>Distance_(km)</th><th scope=col>Average_Speed_(m/s)</th><th scope=col>Average_Speed_(km/h)</th></tr>\n",
       "\t<tr><th scope=col>&lt;dbl&gt;</th><th scope=col>&lt;dbl&gt;</th><th scope=col>&lt;dbl&gt;</th><th scope=col>&lt;dbl&gt;</th><th scope=col>&lt;dbl&gt;</th><th scope=col>&lt;dbl&gt;</th><th scope=col>&lt;dbl&gt;</th><th scope=col>&lt;dbl&gt;</th></tr>\n",
       "</thead>\n",
       "<tbody>\n",
       "\t<tr><td> 1</td><td>   4</td><td> 429</td><td> 7.150000</td><td> 1718.5112</td><td> 1.7185112</td><td> 4.0058535</td><td> 14.421073</td></tr>\n",
       "\t<tr><td> 3</td><td>   3</td><td> 735</td><td>12.250000</td><td> 8892.4914</td><td> 8.8924914</td><td>12.0986277</td><td> 43.555060</td></tr>\n",
       "\t<tr><td> 7</td><td>   2</td><td>1185</td><td>19.750000</td><td>10700.0000</td><td>10.7000000</td><td> 9.0295359</td><td> 32.506329</td></tr>\n",
       "\t<tr><td> 8</td><td>5627</td><td>1126</td><td>18.766667</td><td>13100.0000</td><td>13.1000000</td><td>11.6341030</td><td> 41.882771</td></tr>\n",
       "\t<tr><td>10</td><td>   2</td><td> 314</td><td> 5.233333</td><td>  130.5973</td><td> 0.1305973</td><td> 0.4159151</td><td>  1.497294</td></tr>\n",
       "\t<tr><td>11</td><td>   2</td><td>1042</td><td>17.366667</td><td>33500.0000</td><td>33.5000000</td><td>32.1497121</td><td>115.738964</td></tr>\n",
       "\t<tr><td>12</td><td>  13</td><td>1224</td><td>20.400000</td><td>33500.0000</td><td>33.5000000</td><td>27.3692810</td><td> 98.529412</td></tr>\n",
       "\t<tr><td>13</td><td>   5</td><td>1080</td><td>18.000000</td><td>17112.5876</td><td>17.1125876</td><td>15.8449885</td><td> 57.041959</td></tr>\n",
       "\t<tr><td>14</td><td>   2</td><td>1200</td><td>20.000000</td><td>12372.2725</td><td>12.3722725</td><td>10.3102271</td><td> 37.116817</td></tr>\n",
       "\t<tr><td>15</td><td>   2</td><td> 900</td><td>15.000000</td><td>14315.5064</td><td>14.3155064</td><td>15.9061182</td><td> 57.262026</td></tr>\n",
       "\t<tr><td>16</td><td>   2</td><td> 720</td><td>12.000000</td><td>10463.8109</td><td>10.4638109</td><td>14.5330707</td><td> 52.319055</td></tr>\n",
       "\t<tr><td>17</td><td>   2</td><td> 900</td><td>15.000000</td><td>12899.6143</td><td>12.8996143</td><td>14.3329048</td><td> 51.598457</td></tr>\n",
       "\t<tr><td>18</td><td>   2</td><td>1500</td><td>25.000000</td><td>10568.1379</td><td>10.5681379</td><td> 7.0454253</td><td> 25.363531</td></tr>\n",
       "</tbody>\n",
       "</table>\n"
      ],
      "text/latex": [
       "A data.frame: 13 × 8\n",
       "\\begin{tabular}{r|llllllll}\n",
       " Flight & Captures & Duration\\_(seconds) & Duration\\_(minutes) & Distance\\_(metres) & Distance\\_(km) & Average\\_Speed\\_(m/s) & Average\\_Speed\\_(km/h)\\\\\n",
       " <dbl> & <dbl> & <dbl> & <dbl> & <dbl> & <dbl> & <dbl> & <dbl>\\\\\n",
       "\\hline\n",
       "\t  1 &    4 &  429 &  7.150000 &  1718.5112 &  1.7185112 &  4.0058535 &  14.421073\\\\\n",
       "\t  3 &    3 &  735 & 12.250000 &  8892.4914 &  8.8924914 & 12.0986277 &  43.555060\\\\\n",
       "\t  7 &    2 & 1185 & 19.750000 & 10700.0000 & 10.7000000 &  9.0295359 &  32.506329\\\\\n",
       "\t  8 & 5627 & 1126 & 18.766667 & 13100.0000 & 13.1000000 & 11.6341030 &  41.882771\\\\\n",
       "\t 10 &    2 &  314 &  5.233333 &   130.5973 &  0.1305973 &  0.4159151 &   1.497294\\\\\n",
       "\t 11 &    2 & 1042 & 17.366667 & 33500.0000 & 33.5000000 & 32.1497121 & 115.738964\\\\\n",
       "\t 12 &   13 & 1224 & 20.400000 & 33500.0000 & 33.5000000 & 27.3692810 &  98.529412\\\\\n",
       "\t 13 &    5 & 1080 & 18.000000 & 17112.5876 & 17.1125876 & 15.8449885 &  57.041959\\\\\n",
       "\t 14 &    2 & 1200 & 20.000000 & 12372.2725 & 12.3722725 & 10.3102271 &  37.116817\\\\\n",
       "\t 15 &    2 &  900 & 15.000000 & 14315.5064 & 14.3155064 & 15.9061182 &  57.262026\\\\\n",
       "\t 16 &    2 &  720 & 12.000000 & 10463.8109 & 10.4638109 & 14.5330707 &  52.319055\\\\\n",
       "\t 17 &    2 &  900 & 15.000000 & 12899.6143 & 12.8996143 & 14.3329048 &  51.598457\\\\\n",
       "\t 18 &    2 & 1500 & 25.000000 & 10568.1379 & 10.5681379 &  7.0454253 &  25.363531\\\\\n",
       "\\end{tabular}\n"
      ],
      "text/markdown": [
       "\n",
       "A data.frame: 13 × 8\n",
       "\n",
       "| Flight &lt;dbl&gt; | Captures &lt;dbl&gt; | Duration_(seconds) &lt;dbl&gt; | Duration_(minutes) &lt;dbl&gt; | Distance_(metres) &lt;dbl&gt; | Distance_(km) &lt;dbl&gt; | Average_Speed_(m/s) &lt;dbl&gt; | Average_Speed_(km/h) &lt;dbl&gt; |\n",
       "|---|---|---|---|---|---|---|---|\n",
       "|  1 |    4 |  429 |  7.150000 |  1718.5112 |  1.7185112 |  4.0058535 |  14.421073 |\n",
       "|  3 |    3 |  735 | 12.250000 |  8892.4914 |  8.8924914 | 12.0986277 |  43.555060 |\n",
       "|  7 |    2 | 1185 | 19.750000 | 10700.0000 | 10.7000000 |  9.0295359 |  32.506329 |\n",
       "|  8 | 5627 | 1126 | 18.766667 | 13100.0000 | 13.1000000 | 11.6341030 |  41.882771 |\n",
       "| 10 |    2 |  314 |  5.233333 |   130.5973 |  0.1305973 |  0.4159151 |   1.497294 |\n",
       "| 11 |    2 | 1042 | 17.366667 | 33500.0000 | 33.5000000 | 32.1497121 | 115.738964 |\n",
       "| 12 |   13 | 1224 | 20.400000 | 33500.0000 | 33.5000000 | 27.3692810 |  98.529412 |\n",
       "| 13 |    5 | 1080 | 18.000000 | 17112.5876 | 17.1125876 | 15.8449885 |  57.041959 |\n",
       "| 14 |    2 | 1200 | 20.000000 | 12372.2725 | 12.3722725 | 10.3102271 |  37.116817 |\n",
       "| 15 |    2 |  900 | 15.000000 | 14315.5064 | 14.3155064 | 15.9061182 |  57.262026 |\n",
       "| 16 |    2 |  720 | 12.000000 | 10463.8109 | 10.4638109 | 14.5330707 |  52.319055 |\n",
       "| 17 |    2 |  900 | 15.000000 | 12899.6143 | 12.8996143 | 14.3329048 |  51.598457 |\n",
       "| 18 |    2 | 1500 | 25.000000 | 10568.1379 | 10.5681379 |  7.0454253 |  25.363531 |\n",
       "\n"
      ],
      "text/plain": [
       "   Flight Captures Duration_(seconds) Duration_(minutes) Distance_(metres)\n",
       "1   1        4      429                7.150000           1718.5112       \n",
       "2   3        3      735               12.250000           8892.4914       \n",
       "3   7        2     1185               19.750000          10700.0000       \n",
       "4   8     5627     1126               18.766667          13100.0000       \n",
       "5  10        2      314                5.233333            130.5973       \n",
       "6  11        2     1042               17.366667          33500.0000       \n",
       "7  12       13     1224               20.400000          33500.0000       \n",
       "8  13        5     1080               18.000000          17112.5876       \n",
       "9  14        2     1200               20.000000          12372.2725       \n",
       "10 15        2      900               15.000000          14315.5064       \n",
       "11 16        2      720               12.000000          10463.8109       \n",
       "12 17        2      900               15.000000          12899.6143       \n",
       "13 18        2     1500               25.000000          10568.1379       \n",
       "   Distance_(km) Average_Speed_(m/s) Average_Speed_(km/h)\n",
       "1   1.7185112     4.0058535           14.421073          \n",
       "2   8.8924914    12.0986277           43.555060          \n",
       "3  10.7000000     9.0295359           32.506329          \n",
       "4  13.1000000    11.6341030           41.882771          \n",
       "5   0.1305973     0.4159151            1.497294          \n",
       "6  33.5000000    32.1497121          115.738964          \n",
       "7  33.5000000    27.3692810           98.529412          \n",
       "8  17.1125876    15.8449885           57.041959          \n",
       "9  12.3722725    10.3102271           37.116817          \n",
       "10 14.3155064    15.9061182           57.262026          \n",
       "11 10.4638109    14.5330707           52.319055          \n",
       "12 12.8996143    14.3329048           51.598457          \n",
       "13 10.5681379     7.0454253           25.363531          "
      ]
     },
     "metadata": {},
     "output_type": "display_data"
    }
   ],
   "source": [
    "################## Calculate Distance in Metres #########################\n",
    "\n",
    "\n",
    "# Geodesic distance between two points specified by radian latitude/longitude\n",
    "# VincentyEllipsoid formula specified as most accurate\n",
    "# Was stuck between calculating distance with full biot or biot_lite \n",
    "# Would use biot to account for full distance (specifically at end of flight) but as t is being factored into area later...\n",
    "\n",
    "\n",
    "\n",
    "Calculate_dist_per_flight <- function(flight_no, d){\n",
    "  # Distance calculated in metres\n",
    "  df <- subset(d, d$Flight == flight_no, select = c(Lat, Long))\n",
    "  pts <- df[c(\"Long\", \"Lat\")] # Dataframes lagged by one point so as to calculate distance\n",
    "  segDists <- distVincentyEllipsoid(p1 = pts[-nrow(df),], \n",
    "                                    p2 = pts[-1,])\n",
    "  return(sum(segDists))\n",
    "}\n",
    "\n",
    "\n",
    "Calculate_distance <- function(df){\n",
    "  Distance <- c()\n",
    "  Flight_no <- c()\n",
    "  Flights <- unique(df$Flight)\n",
    "  for(i in Flights){\n",
    "    Flight_no <- c(Flight_no, i)\n",
    "    dist <- Calculate_dist_per_flight(i, df)\n",
    "    Distance <- c(Distance, dist)\n",
    "  }\n",
    "  x <- cbind.data.frame(Flight_no, Distance)\n",
    "  return(x)\n",
    "}\n",
    "\n",
    "\n",
    "# Add vector to df\n",
    "Distance_BIOT <- Calculate_distance(original_biot)\n",
    "Distance_belize <- Calculate_distance(original_belize)\n",
    "Distance <- rbind(Distance_BIOT, Distance_belize)\n",
    "\n",
    "f7 <- 10.7*1000\n",
    "f8 <- 13.1*1000\n",
    "#f10 <- 5.74*1000\n",
    "f11 <- 33.5*1000\n",
    "f12 <- 33.5*1000\n",
    "\n",
    "# Use recorded distances on log instead of calculated - slightly off but who knows.\n",
    "#f13 <- 10.89*1000\n",
    "\n",
    "Distance[3,2] <- f7\n",
    "Distance[4,2] <- f8\n",
    "#Distance[5,2] <- f10\n",
    "Distance[6,2] <- f11\n",
    "Distance[7,2] <- f12\n",
    "\n",
    "total_count <- cbind(total_count, Distance$Distance)\n",
    "total_count <- cbind(total_count, Distance$Distance/1000)\n",
    "\n",
    "total_count2 <- cbind(total_count2, Distance$Distance)\n",
    "total_count2 <- cbind(total_count2, Distance$Distance/1000)\n",
    "\n",
    "names(total_count)[2] <- \"Captures\"\n",
    "names(total_count)[3] <- \"Duration_(seconds)\"\n",
    "names(total_count)[4] <- \"Duration_(minutes)\"\n",
    "names(total_count)[5] <- \"Distance_(metres)\"\n",
    "names(total_count)[6] <- \"Distance_(km)\"\n",
    "\n",
    "names(total_count2)[2] <- \"Captures\"\n",
    "names(total_count2)[3] <- \"Duration_(seconds)\"\n",
    "names(total_count2)[4] <- \"Duration_(minutes)\"\n",
    "names(total_count2)[5] <- \"Distance_(metres)\"\n",
    "names(total_count2)[6] <- \"Distance_(km)\"\n",
    "\n",
    "# Speed was calculated as distance over time, distance calculated mostly\n",
    "# using formula (bar: 7,8,11,12). Time calculated from number of images\n",
    "# except for Belize.\n",
    "total_count <- total_count %>% mutate(Speed <- (total_count [,5]/ total_count [,3]))\n",
    "total_count <- total_count %>% mutate(Speed <- (total_count [,5]/ total_count [,3]) * 3.6)\n",
    "\n",
    "names(total_count)[7] <- \"Average_Speed_(m/s)\"\n",
    "names(total_count)[8] <- \"Average_Speed_(km/h)\"\n",
    "\n",
    "total_count\n",
    "\n",
    "total_count2 <- total_count2 %>% mutate(Speed <- (total_count2 [,5]/ total_count2 [,3]))\n",
    "total_count2 <- total_count2 %>% mutate(Speed <- (total_count2 [,5]/ total_count2 [,3]) * 3.6)\n",
    "\n",
    "names(total_count2)[7] <- \"Average_Speed_(m/s)\"\n",
    "names(total_count2)[8] <- \"Average_Speed_(km/h)\"\n",
    "\n",
    "#total_count2"
   ]
  },
  {
   "cell_type": "markdown",
   "metadata": {},
   "source": [
    "## Area calculations and Total table"
   ]
  },
  {
   "cell_type": "code",
   "execution_count": 8,
   "metadata": {},
   "outputs": [
    {
     "data": {
      "text/html": [
       "21499.3240824974"
      ],
      "text/latex": [
       "21499.3240824974"
      ],
      "text/markdown": [
       "21499.3240824974"
      ],
      "text/plain": [
       "[1] 21499.32"
      ]
     },
     "metadata": {},
     "output_type": "display_data"
    },
    {
     "data": {
      "text/html": [
       "83.3333333333333"
      ],
      "text/latex": [
       "83.3333333333333"
      ],
      "text/markdown": [
       "83.3333333333333"
      ],
      "text/plain": [
       "[1] 83.33333"
      ]
     },
     "metadata": {},
     "output_type": "display_data"
    },
    {
     "data": {
      "text/html": [
       "113.828125"
      ],
      "text/latex": [
       "113.828125"
      ],
      "text/markdown": [
       "113.828125"
      ],
      "text/plain": [
       "[1] 113.8281"
      ]
     },
     "metadata": {},
     "output_type": "display_data"
    },
    {
     "data": {
      "text/html": [
       "36855.984141424"
      ],
      "text/latex": [
       "36855.984141424"
      ],
      "text/markdown": [
       "36855.984141424"
      ],
      "text/plain": [
       "[1] 36855.98"
      ]
     },
     "metadata": {},
     "output_type": "display_data"
    }
   ],
   "source": [
    "#################################### FOV ###############################################\n",
    "\n",
    "\n",
    "# Sensor dimensions for 1/2.3\" as specified in VIRB spec(wikipedia page: https://en.wikipedia.org/wiki/Image_sensor_format)\n",
    "# Width = 6.17 mm\n",
    "# Height = 4.55 mm\n",
    "# Flight altidude calculated in BIOT_Explore according to 6 decent TLOGS : 49.84m = 50m\n",
    "# Belize Alt - must remove incorrect altitudes\n",
    "#original_belize <- subset(original_belize, original_belize$Altitude < 200)\n",
    "\n",
    "\n",
    "# Garmin (BIOT)\n",
    "g_sensor.h <- 4.55\n",
    "g_sensor.v <- 6.17\n",
    "g_f <- 2.73\n",
    "g_alt <- 50\n",
    "\n",
    "# Sony DSLR ILCE-5100 (Maldives)\n",
    "s_sensor.h <- 23.5\n",
    "s_sensor.v <- 15.6\n",
    "s_f <- 16\n",
    "s_alt <- 77.5\n",
    "\n",
    "# Sony RX0 Nadir (Belize)\n",
    "n_sensor.h <- 13.2\n",
    "n_sensor.v <- 18.88\n",
    "n_f <- 7.7\n",
    "n_alt <- mean(original_belize$Altitude)\n",
    "n_alt\n",
    "\n",
    "g_coverage.h <- (g_sensor.h/g_f)*g_alt\n",
    "g_coverage.v <- (g_sensor.v/g_f)*g_alt\n",
    "\n",
    "s_coverage.h <- (s_sensor.h/s_f)*s_alt\n",
    "s_coverage.v <- (s_sensor.v/s_f)*s_alt\n",
    "\n",
    "n_coverage.h <- (n_sensor.h/n_f)*n_alt\n",
    "n_coverage.v <- (n_sensor.v/n_f)*n_alt\n",
    "\n",
    "garmin_m2 <- g_coverage.h * g_coverage.v\n",
    "sony_m2 <- s_coverage.h * s_coverage.v\n",
    "nadir_m2 <- n_coverage.h * n_coverage.v\n",
    "\n",
    "cols <- c('Camera Model', 'Sensor Height (mm)', 'Sensor Width (mm)', 'Focal Length (mm)', 'Mean Flight Altitude (m)', 'Field of View (m2)')\n",
    "row1 <- c('Garmin VIRB Ultra 3.0', 4.55, 6.17, 2.73, 50, round(garmin_m2,2))\n",
    "row2 <- c('Sony DSLR ILCE-5100', 23.5, 15.6, 16, 77.5, round(sony_m2, 2))\n",
    "row3 <- c('Sony RX0 Nadir', 13.2, 18.88, 7.7, 90, round(nadir_m2, 2))\n",
    "\n",
    "fov_table <- rbind(cols, row1, row2, row3)\n",
    "fov_table <- cbind(c(\"Location\", \"BIOT\", \"Belize\", \"Maldives\"), fov_table)\n",
    "#fov_table\n",
    "\n",
    "#fov_table <- xtable(fov_table, type =\"latex\")\n",
    "#align(table3) <- \"lc|ccccc\"\n",
    "#print(fov_table, floating = F, caption.placement = \"top\", file = \"../Writeup/FOV_table.tex\",\n",
    "#             include.rownames = F, scalebox = '0.6', sanitize.text.function = function(x){x}, width = 6)\n",
    "g_coverage.h\n",
    "s_coverage.h\n",
    "n_coverage.h"
   ]
  },
  {
   "cell_type": "code",
   "execution_count": 9,
   "metadata": {},
   "outputs": [
    {
     "data": {
      "text/html": [
       "<strong>null device:</strong> 1"
      ],
      "text/latex": [
       "\\textbf{null device:} 1"
      ],
      "text/markdown": [
       "**null device:** 1"
      ],
      "text/plain": [
       "null device \n",
       "          1 "
      ]
     },
     "metadata": {},
     "output_type": "display_data"
    }
   ],
   "source": [
    "fov_table <- xtable(fov_table)\n",
    "print.xtable(fov_table, type = \"latex\", floating = F, caption.placement = \"top\", file = \"../Results/fov_table.tex\",\n",
    "             include.rownames = F)\n",
    "dev.off()"
   ]
  },
  {
   "cell_type": "code",
   "execution_count": 10,
   "metadata": {},
   "outputs": [],
   "source": [
    "###################################### Calculate Area ############################################\n",
    "\n",
    "# Two different methodologies here - practically analogous but not producing the same figures??\n",
    "# gREM method changed to account for a moving sensor\n",
    "# Strip sampling method which is more realisitc\n",
    "\n",
    "# Duration of pseudo-flight, i.e number of images for calcArea\n",
    "pseudo_BIOT <-  Duration_per_flight(biot_lite)\n",
    "pseudo_belize <-  Duration_per_flight(belize_lite)\n",
    "pseudo_duration <- rbind(pseudo_BIOT, pseudo_belize)\n",
    "#pseudo_duration\n",
    "\n",
    "pseudo_garmin <- pseudo_duration[1:5,]\n",
    "pseudo_sony <- pseudo_duration[6:7,]\n",
    "pseudo_nadir <- pseudo_duration[8:13,]\n",
    "\n",
    "pseudo_BIOT2 <-  Duration_per_flight(biot_lite2)\n",
    "pseudo_belize2 <-  Duration_per_flight(belize_lite2)\n",
    "pseudo_duration2 <- rbind(pseudo_BIOT2, pseudo_belize2)\n",
    "#pseudo_duration2\n",
    "\n",
    "pseudo_garmin2 <- pseudo_duration2[1:5,]\n",
    "pseudo_sony2 <- pseudo_duration2[6:7,]\n",
    "pseudo_nadir2 <- pseudo_duration2[8:13,]\n",
    "\n",
    "\n",
    "calcArea <- function(FOV, no_images){\n",
    "  #Calculate area per survey in metres squared\n",
    "  #Average covered by camera which is influenced by altitude and position (tilt, roll, pitch)\n",
    "\n",
    "  #FOV: calculated for each camera model (2rv)\n",
    "  return (A <- (FOV * no_images))\n",
    "}\n",
    "\n",
    "\n",
    "Flight_Area_m2 <- function(no.images, fov){\n",
    "  return(Area <- sapply(no.images, function(x) calcArea(fov, x)))\n",
    "}\n",
    "\n",
    "\n",
    "# Get total area m2\n",
    "Area_BIOT <- Flight_Area_m2(pseudo_garmin, garmin_m2)\n",
    "Area_MAL <- Flight_Area_m2(pseudo_sony, sony_m2)\n",
    "Area_Bel <- Flight_Area_m2(pseudo_nadir, nadir_m2)\n",
    "\n",
    "Area_BIOT2 <- Flight_Area_m2(pseudo_garmin2, garmin_m2)\n",
    "Area_MAL2 <- Flight_Area_m2(pseudo_sony2, sony_m2)\n",
    "Area_Bel2 <- Flight_Area_m2(pseudo_nadir2, nadir_m2)\n",
    "                        \n",
    "gREM_Area <- c(Area_BIOT, Area_MAL, Area_Bel)\n",
    "gREM_km <- sapply(gREM_Area, function(x) x/1000)\n",
    "#total_count <- cbind(total_count, gREM_km)\n",
    "\n",
    "gREM_Area2 <- c(Area_BIOT2, Area_MAL2, Area_Bel2)\n",
    "gREM_km2 <- sapply(gREM_Area2, function(x) x/1000)\n",
    "                  \n",
    "# Strip sampling area\n",
    "Strip_Area_m2 <- function(df, fov_width){\n",
    "  Area_m2 <- sapply(df$`Distance_(metres)`, function (x) x * fov_width)\n",
    "  return(Area_m2)\n",
    "}\n",
    "\n",
    "# Must take distance from total_count table\n",
    "garmin_dists <- total_count[1:5,] \n",
    "sony_dists <- total_count[6:7,] \n",
    "nadir_dists <- total_count[8:13,]  \n",
    "\n",
    "\n",
    "strip_garmin <- Strip_Area_m2(garmin_dists, g_coverage.h)\n",
    "strip_sony <- Strip_Area_m2(sony_dists, s_coverage.h)\n",
    "strip_nadir <- Strip_Area_m2(nadir_dists, n_coverage.h)\n",
    "strip_area <- c(strip_garmin, strip_sony, strip_nadir)\n",
    "Strip_km <- sapply(strip_area, function(x) x/1000)\n",
    "\n",
    "                   \n",
    "Area_compare <- cbind(gREM_km, Strip_km)\n",
    "#Area_compare\n",
    "\n",
    "Area_compare2 <- cbind(gREM_km2, Strip_km)\n",
    "#Area_compare2\n",
    "                   \n",
    "total_count[,9] <-  gREM_km\n",
    "total_count[,10] <- Strip_km\n",
    "names(total_count)[9] <- \"gREM_Area(km2)\"\n",
    "names(total_count)[10] <- \"Strip_Area(km2)\"\n",
    "\n",
    "total_count2[,9] <-  gREM_km2\n",
    "total_count2[,10] <- Strip_km\n",
    "names(total_count2)[9] <- \"gREM_Area(km2)\"\n",
    "names(total_count2)[10] <- \"Strip_Area(km2)\"\n",
    "                   \n",
    "#total_count\n",
    "#total_count2\n",
    "                   \n",
    "sub1 <- total_count %>%\n",
    "                   select(c(\"Flight\", \"Captures\", \"Duration_(seconds)\", \"Distance_(km)\", \"gREM_Area(km2)\", \"Strip_Area(km2)\"))\n",
    "sub2 <- total_count2 %>%\n",
    "                   select(c(\"Flight\", \"Captures\", \"Duration_(seconds)\", \"Distance_(km)\", \"gREM_Area(km2)\", \"Strip_Area(km2)\"))\n",
    "\n",
    "#sub1\n",
    "#sub2\n",
    "\n",
    "#write.table(sub1, file = \"../Results/Overlap1.txt\", sep = \",\", quote = FALSE, row.names = F)\n",
    "#write.table(sub2, file = \"../Results/Overlap2.txt\", sep = \",\", quote = FALSE, row.names = F)\n"
   ]
  },
  {
   "cell_type": "code",
   "execution_count": 11,
   "metadata": {},
   "outputs": [
    {
     "data": {
      "text/html": [
       "<table>\n",
       "<caption>A data.frame: 13 × 10</caption>\n",
       "<thead>\n",
       "\t<tr><th scope=col>Flight</th><th scope=col>Captures</th><th scope=col>Duration_(seconds)</th><th scope=col>Duration_(minutes)</th><th scope=col>Distance_(metres)</th><th scope=col>Distance_(km)</th><th scope=col>Average_Speed_(m/s)</th><th scope=col>Average_Speed_(km/h)</th><th scope=col>gREM_Area(km2)</th><th scope=col>Strip_Area(km2)</th></tr>\n",
       "\t<tr><th scope=col>&lt;dbl&gt;</th><th scope=col>&lt;dbl&gt;</th><th scope=col>&lt;dbl&gt;</th><th scope=col>&lt;dbl&gt;</th><th scope=col>&lt;dbl&gt;</th><th scope=col>&lt;dbl&gt;</th><th scope=col>&lt;dbl&gt;</th><th scope=col>&lt;dbl&gt;</th><th scope=col>&lt;dbl&gt;</th><th scope=col>&lt;dbl&gt;</th></tr>\n",
       "</thead>\n",
       "<tbody>\n",
       "\t<tr><td> 1</td><td>   4</td><td> 429</td><td> 7.150000</td><td> 1718.5112</td><td> 1.7185112</td><td> 4.0058535</td><td> 14.421073</td><td>8.098596e+02</td><td>   143.20926</td></tr>\n",
       "\t<tr><td> 3</td><td>   3</td><td> 735</td><td>12.250000</td><td> 8892.4914</td><td> 8.8924914</td><td>12.0986277</td><td> 43.555060</td><td>2.307158e+03</td><td>   741.04095</td></tr>\n",
       "\t<tr><td> 7</td><td>   2</td><td>1185</td><td>19.750000</td><td>10700.0000</td><td>10.7000000</td><td> 9.0295359</td><td> 32.506329</td><td>5.584264e+03</td><td>   891.66667</td></tr>\n",
       "\t<tr><td> 8</td><td>5627</td><td>1126</td><td>18.766667</td><td>13100.0000</td><td>13.1000000</td><td>11.6341030</td><td> 41.882771</td><td>1.327793e+03</td><td>  1091.66667</td></tr>\n",
       "\t<tr><td>10</td><td>   2</td><td> 314</td><td> 5.233333</td><td>  130.5973</td><td> 0.1305973</td><td> 0.4159151</td><td>  1.497294</td><td>3.390110e+02</td><td>    10.88311</td></tr>\n",
       "\t<tr><td>11</td><td>   2</td><td>1042</td><td>17.366667</td><td>33500.0000</td><td>33.5000000</td><td>32.1497121</td><td>115.738964</td><td>2.993196e+03</td><td>  3813.24219</td></tr>\n",
       "\t<tr><td>12</td><td>  13</td><td>1224</td><td>20.400000</td><td>33500.0000</td><td>33.5000000</td><td>27.3692810</td><td> 98.529412</td><td>2.631948e+03</td><td>  3813.24219</td></tr>\n",
       "\t<tr><td>13</td><td>   5</td><td>1080</td><td>18.000000</td><td>17112.5876</td><td>17.1125876</td><td>15.8449885</td><td> 57.041959</td><td>7.732629e+08</td><td>630701.25835</td></tr>\n",
       "\t<tr><td>14</td><td>   2</td><td>1200</td><td>20.000000</td><td>12372.2725</td><td>12.3722725</td><td>10.3102271</td><td> 37.116817</td><td>2.525733e+08</td><td>455992.27805</td></tr>\n",
       "\t<tr><td>15</td><td>   2</td><td> 900</td><td>15.000000</td><td>14315.5064</td><td>14.3155064</td><td>15.9061182</td><td> 57.262026</td><td>4.216031e+08</td><td>527612.07721</td></tr>\n",
       "\t<tr><td>16</td><td>   2</td><td> 720</td><td>12.000000</td><td>10463.8109</td><td>10.4638109</td><td>14.5330707</td><td> 52.319055</td><td>1.272581e+09</td><td>385654.04887</td></tr>\n",
       "\t<tr><td>17</td><td>   2</td><td> 900</td><td>15.000000</td><td>12899.6143</td><td>12.8996143</td><td>14.3329048</td><td> 51.598457</td><td>2.875450e+08</td><td>475427.98183</td></tr>\n",
       "\t<tr><td>18</td><td>   2</td><td>1500</td><td>25.000000</td><td>10568.1379</td><td>10.5681379</td><td> 7.0454253</td><td> 25.363531</td><td>1.437725e+08</td><td>389499.12461</td></tr>\n",
       "</tbody>\n",
       "</table>\n"
      ],
      "text/latex": [
       "A data.frame: 13 × 10\n",
       "\\begin{tabular}{r|llllllllll}\n",
       " Flight & Captures & Duration\\_(seconds) & Duration\\_(minutes) & Distance\\_(metres) & Distance\\_(km) & Average\\_Speed\\_(m/s) & Average\\_Speed\\_(km/h) & gREM\\_Area(km2) & Strip\\_Area(km2)\\\\\n",
       " <dbl> & <dbl> & <dbl> & <dbl> & <dbl> & <dbl> & <dbl> & <dbl> & <dbl> & <dbl>\\\\\n",
       "\\hline\n",
       "\t  1 &    4 &  429 &  7.150000 &  1718.5112 &  1.7185112 &  4.0058535 &  14.421073 & 8.098596e+02 &    143.20926\\\\\n",
       "\t  3 &    3 &  735 & 12.250000 &  8892.4914 &  8.8924914 & 12.0986277 &  43.555060 & 2.307158e+03 &    741.04095\\\\\n",
       "\t  7 &    2 & 1185 & 19.750000 & 10700.0000 & 10.7000000 &  9.0295359 &  32.506329 & 5.584264e+03 &    891.66667\\\\\n",
       "\t  8 & 5627 & 1126 & 18.766667 & 13100.0000 & 13.1000000 & 11.6341030 &  41.882771 & 1.327793e+03 &   1091.66667\\\\\n",
       "\t 10 &    2 &  314 &  5.233333 &   130.5973 &  0.1305973 &  0.4159151 &   1.497294 & 3.390110e+02 &     10.88311\\\\\n",
       "\t 11 &    2 & 1042 & 17.366667 & 33500.0000 & 33.5000000 & 32.1497121 & 115.738964 & 2.993196e+03 &   3813.24219\\\\\n",
       "\t 12 &   13 & 1224 & 20.400000 & 33500.0000 & 33.5000000 & 27.3692810 &  98.529412 & 2.631948e+03 &   3813.24219\\\\\n",
       "\t 13 &    5 & 1080 & 18.000000 & 17112.5876 & 17.1125876 & 15.8449885 &  57.041959 & 7.732629e+08 & 630701.25835\\\\\n",
       "\t 14 &    2 & 1200 & 20.000000 & 12372.2725 & 12.3722725 & 10.3102271 &  37.116817 & 2.525733e+08 & 455992.27805\\\\\n",
       "\t 15 &    2 &  900 & 15.000000 & 14315.5064 & 14.3155064 & 15.9061182 &  57.262026 & 4.216031e+08 & 527612.07721\\\\\n",
       "\t 16 &    2 &  720 & 12.000000 & 10463.8109 & 10.4638109 & 14.5330707 &  52.319055 & 1.272581e+09 & 385654.04887\\\\\n",
       "\t 17 &    2 &  900 & 15.000000 & 12899.6143 & 12.8996143 & 14.3329048 &  51.598457 & 2.875450e+08 & 475427.98183\\\\\n",
       "\t 18 &    2 & 1500 & 25.000000 & 10568.1379 & 10.5681379 &  7.0454253 &  25.363531 & 1.437725e+08 & 389499.12461\\\\\n",
       "\\end{tabular}\n"
      ],
      "text/markdown": [
       "\n",
       "A data.frame: 13 × 10\n",
       "\n",
       "| Flight &lt;dbl&gt; | Captures &lt;dbl&gt; | Duration_(seconds) &lt;dbl&gt; | Duration_(minutes) &lt;dbl&gt; | Distance_(metres) &lt;dbl&gt; | Distance_(km) &lt;dbl&gt; | Average_Speed_(m/s) &lt;dbl&gt; | Average_Speed_(km/h) &lt;dbl&gt; | gREM_Area(km2) &lt;dbl&gt; | Strip_Area(km2) &lt;dbl&gt; |\n",
       "|---|---|---|---|---|---|---|---|---|---|\n",
       "|  1 |    4 |  429 |  7.150000 |  1718.5112 |  1.7185112 |  4.0058535 |  14.421073 | 8.098596e+02 |    143.20926 |\n",
       "|  3 |    3 |  735 | 12.250000 |  8892.4914 |  8.8924914 | 12.0986277 |  43.555060 | 2.307158e+03 |    741.04095 |\n",
       "|  7 |    2 | 1185 | 19.750000 | 10700.0000 | 10.7000000 |  9.0295359 |  32.506329 | 5.584264e+03 |    891.66667 |\n",
       "|  8 | 5627 | 1126 | 18.766667 | 13100.0000 | 13.1000000 | 11.6341030 |  41.882771 | 1.327793e+03 |   1091.66667 |\n",
       "| 10 |    2 |  314 |  5.233333 |   130.5973 |  0.1305973 |  0.4159151 |   1.497294 | 3.390110e+02 |     10.88311 |\n",
       "| 11 |    2 | 1042 | 17.366667 | 33500.0000 | 33.5000000 | 32.1497121 | 115.738964 | 2.993196e+03 |   3813.24219 |\n",
       "| 12 |   13 | 1224 | 20.400000 | 33500.0000 | 33.5000000 | 27.3692810 |  98.529412 | 2.631948e+03 |   3813.24219 |\n",
       "| 13 |    5 | 1080 | 18.000000 | 17112.5876 | 17.1125876 | 15.8449885 |  57.041959 | 7.732629e+08 | 630701.25835 |\n",
       "| 14 |    2 | 1200 | 20.000000 | 12372.2725 | 12.3722725 | 10.3102271 |  37.116817 | 2.525733e+08 | 455992.27805 |\n",
       "| 15 |    2 |  900 | 15.000000 | 14315.5064 | 14.3155064 | 15.9061182 |  57.262026 | 4.216031e+08 | 527612.07721 |\n",
       "| 16 |    2 |  720 | 12.000000 | 10463.8109 | 10.4638109 | 14.5330707 |  52.319055 | 1.272581e+09 | 385654.04887 |\n",
       "| 17 |    2 |  900 | 15.000000 | 12899.6143 | 12.8996143 | 14.3329048 |  51.598457 | 2.875450e+08 | 475427.98183 |\n",
       "| 18 |    2 | 1500 | 25.000000 | 10568.1379 | 10.5681379 |  7.0454253 |  25.363531 | 1.437725e+08 | 389499.12461 |\n",
       "\n"
      ],
      "text/plain": [
       "   Flight Captures Duration_(seconds) Duration_(minutes) Distance_(metres)\n",
       "1   1        4      429                7.150000           1718.5112       \n",
       "2   3        3      735               12.250000           8892.4914       \n",
       "3   7        2     1185               19.750000          10700.0000       \n",
       "4   8     5627     1126               18.766667          13100.0000       \n",
       "5  10        2      314                5.233333            130.5973       \n",
       "6  11        2     1042               17.366667          33500.0000       \n",
       "7  12       13     1224               20.400000          33500.0000       \n",
       "8  13        5     1080               18.000000          17112.5876       \n",
       "9  14        2     1200               20.000000          12372.2725       \n",
       "10 15        2      900               15.000000          14315.5064       \n",
       "11 16        2      720               12.000000          10463.8109       \n",
       "12 17        2      900               15.000000          12899.6143       \n",
       "13 18        2     1500               25.000000          10568.1379       \n",
       "   Distance_(km) Average_Speed_(m/s) Average_Speed_(km/h) gREM_Area(km2)\n",
       "1   1.7185112     4.0058535           14.421073           8.098596e+02  \n",
       "2   8.8924914    12.0986277           43.555060           2.307158e+03  \n",
       "3  10.7000000     9.0295359           32.506329           5.584264e+03  \n",
       "4  13.1000000    11.6341030           41.882771           1.327793e+03  \n",
       "5   0.1305973     0.4159151            1.497294           3.390110e+02  \n",
       "6  33.5000000    32.1497121          115.738964           2.993196e+03  \n",
       "7  33.5000000    27.3692810           98.529412           2.631948e+03  \n",
       "8  17.1125876    15.8449885           57.041959           7.732629e+08  \n",
       "9  12.3722725    10.3102271           37.116817           2.525733e+08  \n",
       "10 14.3155064    15.9061182           57.262026           4.216031e+08  \n",
       "11 10.4638109    14.5330707           52.319055           1.272581e+09  \n",
       "12 12.8996143    14.3329048           51.598457           2.875450e+08  \n",
       "13 10.5681379     7.0454253           25.363531           1.437725e+08  \n",
       "   Strip_Area(km2)\n",
       "1     143.20926   \n",
       "2     741.04095   \n",
       "3     891.66667   \n",
       "4    1091.66667   \n",
       "5      10.88311   \n",
       "6    3813.24219   \n",
       "7    3813.24219   \n",
       "8  630701.25835   \n",
       "9  455992.27805   \n",
       "10 527612.07721   \n",
       "11 385654.04887   \n",
       "12 475427.98183   \n",
       "13 389499.12461   "
      ]
     },
     "metadata": {},
     "output_type": "display_data"
    }
   ],
   "source": [
    "# Another idea is to recalculate overlap using speed\n",
    "# Divide camera width by the average spped to see how many images it\n",
    "# would take to travel the width of the image to a 'new' image.\n",
    "\n",
    "#camera <- c((rep('garmin', each=5)), (rep('sony', each=2)), (rep('nadir', each=6)))\n",
    "\n",
    "#table <- as.data.frame(cbind(camera, total_count$`Average_Speed_(m/s)`))\n",
    "\n",
    "\n",
    "#overlap <- c()\n",
    "#for(i in 1:nrow(table)){\n",
    "#    if(table[i,1] == 'garmin'){\n",
    "#        o_val <- ceiling(113/as.numeric(table[i,2]))\n",
    "#        overlap <- c(overlap, o_val)\n",
    "#    }\n",
    "#     if(table[i,1] == 'sony'){\n",
    "#        o_val <- ceiling(114/as.numeric(table[i,2]))\n",
    "#        overlap <- c(overlap, o_val)\n",
    "#    }\n",
    "#     if(table[i,1] == 'nadir'){\n",
    "#        o_val <- ceiling(154/as.numeric(table[i,2]))#\n",
    "#\n",
    "#        overlap <- c(overlap, o_val)\n",
    "#    }\n",
    "#}\n",
    "\n",
    "total_count"
   ]
  },
  {
   "cell_type": "markdown",
   "metadata": {},
   "source": [
    "### Calculate Density \n",
    "\n",
    "* Using Overlap method 1 and Strip area estimates"
   ]
  },
  {
   "cell_type": "markdown",
   "metadata": {},
   "source": [
    "#### Density overall (between flights, i.e locations)"
   ]
  },
  {
   "cell_type": "code",
   "execution_count": 12,
   "metadata": {},
   "outputs": [
    {
     "data": {
      "text/html": [
       "<table>\n",
       "<caption>A data.frame: 13 × 7</caption>\n",
       "<thead>\n",
       "\t<tr><th scope=col>Flight</th><th scope=col>Captures</th><th scope=col>Duration_(minutes)</th><th scope=col>Distance_(km)</th><th scope=col>Average_Speed_(km/h)</th><th scope=col>Strip_Area(km2)</th><th scope=col>Density_Estimate_km2</th></tr>\n",
       "\t<tr><th scope=col>&lt;dbl&gt;</th><th scope=col>&lt;dbl&gt;</th><th scope=col>&lt;dbl&gt;</th><th scope=col>&lt;dbl&gt;</th><th scope=col>&lt;dbl&gt;</th><th scope=col>&lt;dbl&gt;</th><th scope=col>&lt;dbl&gt;</th></tr>\n",
       "</thead>\n",
       "<tbody>\n",
       "\t<tr><td> 1</td><td>   4</td><td> 7.150000</td><td> 1.7185112</td><td> 14.421073</td><td>   143.20926</td><td>2.793115e-02</td></tr>\n",
       "\t<tr><td> 3</td><td>   3</td><td>12.250000</td><td> 8.8924914</td><td> 43.555060</td><td>   741.04095</td><td>4.048359e-03</td></tr>\n",
       "\t<tr><td> 7</td><td>   2</td><td>19.750000</td><td>10.7000000</td><td> 32.506329</td><td>   891.66667</td><td>2.242991e-03</td></tr>\n",
       "\t<tr><td> 8</td><td>5627</td><td>18.766667</td><td>13.1000000</td><td> 41.882771</td><td>  1091.66667</td><td>5.154504e+00</td></tr>\n",
       "\t<tr><td>10</td><td>   2</td><td> 5.233333</td><td> 0.1305973</td><td>  1.497294</td><td>    10.88311</td><td>1.837710e-01</td></tr>\n",
       "\t<tr><td>11</td><td>   2</td><td>17.366667</td><td>33.5000000</td><td>115.738964</td><td>  3813.24219</td><td>5.244881e-04</td></tr>\n",
       "\t<tr><td>12</td><td>  13</td><td>20.400000</td><td>33.5000000</td><td> 98.529412</td><td>  3813.24219</td><td>3.409172e-03</td></tr>\n",
       "\t<tr><td>13</td><td>   5</td><td>18.000000</td><td>17.1125876</td><td> 57.041959</td><td>630701.25835</td><td>7.927684e-06</td></tr>\n",
       "\t<tr><td>14</td><td>   2</td><td>20.000000</td><td>12.3722725</td><td> 37.116817</td><td>455992.27805</td><td>4.386039e-06</td></tr>\n",
       "\t<tr><td>15</td><td>   2</td><td>15.000000</td><td>14.3155064</td><td> 57.262026</td><td>527612.07721</td><td>3.790664e-06</td></tr>\n",
       "\t<tr><td>16</td><td>   2</td><td>12.000000</td><td>10.4638109</td><td> 52.319055</td><td>385654.04887</td><td>5.185995e-06</td></tr>\n",
       "\t<tr><td>17</td><td>   2</td><td>15.000000</td><td>12.8996143</td><td> 51.598457</td><td>475427.98183</td><td>4.206736e-06</td></tr>\n",
       "\t<tr><td>18</td><td>   2</td><td>25.000000</td><td>10.5681379</td><td> 25.363531</td><td>389499.12461</td><td>5.134800e-06</td></tr>\n",
       "</tbody>\n",
       "</table>\n"
      ],
      "text/latex": [
       "A data.frame: 13 × 7\n",
       "\\begin{tabular}{r|lllllll}\n",
       " Flight & Captures & Duration\\_(minutes) & Distance\\_(km) & Average\\_Speed\\_(km/h) & Strip\\_Area(km2) & Density\\_Estimate\\_km2\\\\\n",
       " <dbl> & <dbl> & <dbl> & <dbl> & <dbl> & <dbl> & <dbl>\\\\\n",
       "\\hline\n",
       "\t  1 &    4 &  7.150000 &  1.7185112 &  14.421073 &    143.20926 & 2.793115e-02\\\\\n",
       "\t  3 &    3 & 12.250000 &  8.8924914 &  43.555060 &    741.04095 & 4.048359e-03\\\\\n",
       "\t  7 &    2 & 19.750000 & 10.7000000 &  32.506329 &    891.66667 & 2.242991e-03\\\\\n",
       "\t  8 & 5627 & 18.766667 & 13.1000000 &  41.882771 &   1091.66667 & 5.154504e+00\\\\\n",
       "\t 10 &    2 &  5.233333 &  0.1305973 &   1.497294 &     10.88311 & 1.837710e-01\\\\\n",
       "\t 11 &    2 & 17.366667 & 33.5000000 & 115.738964 &   3813.24219 & 5.244881e-04\\\\\n",
       "\t 12 &   13 & 20.400000 & 33.5000000 &  98.529412 &   3813.24219 & 3.409172e-03\\\\\n",
       "\t 13 &    5 & 18.000000 & 17.1125876 &  57.041959 & 630701.25835 & 7.927684e-06\\\\\n",
       "\t 14 &    2 & 20.000000 & 12.3722725 &  37.116817 & 455992.27805 & 4.386039e-06\\\\\n",
       "\t 15 &    2 & 15.000000 & 14.3155064 &  57.262026 & 527612.07721 & 3.790664e-06\\\\\n",
       "\t 16 &    2 & 12.000000 & 10.4638109 &  52.319055 & 385654.04887 & 5.185995e-06\\\\\n",
       "\t 17 &    2 & 15.000000 & 12.8996143 &  51.598457 & 475427.98183 & 4.206736e-06\\\\\n",
       "\t 18 &    2 & 25.000000 & 10.5681379 &  25.363531 & 389499.12461 & 5.134800e-06\\\\\n",
       "\\end{tabular}\n"
      ],
      "text/markdown": [
       "\n",
       "A data.frame: 13 × 7\n",
       "\n",
       "| Flight &lt;dbl&gt; | Captures &lt;dbl&gt; | Duration_(minutes) &lt;dbl&gt; | Distance_(km) &lt;dbl&gt; | Average_Speed_(km/h) &lt;dbl&gt; | Strip_Area(km2) &lt;dbl&gt; | Density_Estimate_km2 &lt;dbl&gt; |\n",
       "|---|---|---|---|---|---|---|\n",
       "|  1 |    4 |  7.150000 |  1.7185112 |  14.421073 |    143.20926 | 2.793115e-02 |\n",
       "|  3 |    3 | 12.250000 |  8.8924914 |  43.555060 |    741.04095 | 4.048359e-03 |\n",
       "|  7 |    2 | 19.750000 | 10.7000000 |  32.506329 |    891.66667 | 2.242991e-03 |\n",
       "|  8 | 5627 | 18.766667 | 13.1000000 |  41.882771 |   1091.66667 | 5.154504e+00 |\n",
       "| 10 |    2 |  5.233333 |  0.1305973 |   1.497294 |     10.88311 | 1.837710e-01 |\n",
       "| 11 |    2 | 17.366667 | 33.5000000 | 115.738964 |   3813.24219 | 5.244881e-04 |\n",
       "| 12 |   13 | 20.400000 | 33.5000000 |  98.529412 |   3813.24219 | 3.409172e-03 |\n",
       "| 13 |    5 | 18.000000 | 17.1125876 |  57.041959 | 630701.25835 | 7.927684e-06 |\n",
       "| 14 |    2 | 20.000000 | 12.3722725 |  37.116817 | 455992.27805 | 4.386039e-06 |\n",
       "| 15 |    2 | 15.000000 | 14.3155064 |  57.262026 | 527612.07721 | 3.790664e-06 |\n",
       "| 16 |    2 | 12.000000 | 10.4638109 |  52.319055 | 385654.04887 | 5.185995e-06 |\n",
       "| 17 |    2 | 15.000000 | 12.8996143 |  51.598457 | 475427.98183 | 4.206736e-06 |\n",
       "| 18 |    2 | 25.000000 | 10.5681379 |  25.363531 | 389499.12461 | 5.134800e-06 |\n",
       "\n"
      ],
      "text/plain": [
       "   Flight Captures Duration_(minutes) Distance_(km) Average_Speed_(km/h)\n",
       "1   1        4      7.150000           1.7185112     14.421073          \n",
       "2   3        3     12.250000           8.8924914     43.555060          \n",
       "3   7        2     19.750000          10.7000000     32.506329          \n",
       "4   8     5627     18.766667          13.1000000     41.882771          \n",
       "5  10        2      5.233333           0.1305973      1.497294          \n",
       "6  11        2     17.366667          33.5000000    115.738964          \n",
       "7  12       13     20.400000          33.5000000     98.529412          \n",
       "8  13        5     18.000000          17.1125876     57.041959          \n",
       "9  14        2     20.000000          12.3722725     37.116817          \n",
       "10 15        2     15.000000          14.3155064     57.262026          \n",
       "11 16        2     12.000000          10.4638109     52.319055          \n",
       "12 17        2     15.000000          12.8996143     51.598457          \n",
       "13 18        2     25.000000          10.5681379     25.363531          \n",
       "   Strip_Area(km2) Density_Estimate_km2\n",
       "1     143.20926    2.793115e-02        \n",
       "2     741.04095    4.048359e-03        \n",
       "3     891.66667    2.242991e-03        \n",
       "4    1091.66667    5.154504e+00        \n",
       "5      10.88311    1.837710e-01        \n",
       "6    3813.24219    5.244881e-04        \n",
       "7    3813.24219    3.409172e-03        \n",
       "8  630701.25835    7.927684e-06        \n",
       "9  455992.27805    4.386039e-06        \n",
       "10 527612.07721    3.790664e-06        \n",
       "11 385654.04887    5.185995e-06        \n",
       "12 475427.98183    4.206736e-06        \n",
       "13 389499.12461    5.134800e-06        "
      ]
     },
     "metadata": {},
     "output_type": "display_data"
    }
   ],
   "source": [
    "#################################### Calculating Density ###########################################\n",
    "\n",
    "\n",
    "calcDensity <- function(z, A){\n",
    "  # Calculate density using ideal gas model from capture rate and survey area covered\n",
    "  # z : The number of encounters/captures.\n",
    "  # A : Area covered by sensor per unit time.\n",
    "  \n",
    "    # Double check parameters\n",
    "  if(z < 0 | !is.numeric(z)) stop(\"Number of individuals must be a positive number\")\n",
    "  if (A <= 0 | !is.numeric(A)) stop(\"Area, A, must be a positive number.\")\n",
    "  # Calculate density\n",
    "  return(D <- z/A)\n",
    "}\n",
    "\n",
    "\n",
    "# Calculate Area (m2) and Density for each flight\n",
    "\n",
    "Flight_Density <- function(total_df){\n",
    "  # Calculate area and subsequent density for each flight\n",
    "  Density_vec <- c()\n",
    "  for(i in 1:nrow(total_df)){\n",
    "    # Calculate densities for each area and capture rate\n",
    "    Density <- calcDensity(total_df$`Captures`[i], total_df$`Strip_Area(km2)`[i])\n",
    "    Density_vec <- c(Density_vec, Density)\n",
    "  }\n",
    "  return(Density_vec)\n",
    "}\n",
    "\n",
    "\n",
    "\n",
    "# Calculate densities for each dataset\n",
    "Density_Estimate_km2 <- Flight_Density(total_count)\n",
    "\n",
    "total_count <- cbind(total_count, Density_Estimate_km2)\n",
    "#total_count <- within(total_count, rm(Density_Estimate_m2))\n",
    "\n",
    "total_count_export <- total_count[, -which(names(total_count) %in% c(\"Duration_(seconds)\", \"Distance_(metres)\", \"Average_Speed_(m/s)\", \"gREM_Area(km2)\"))]\n",
    "total_count_export"
   ]
  },
  {
   "cell_type": "code",
   "execution_count": 13,
   "metadata": {},
   "outputs": [
    {
     "data": {
      "text/html": [
       "<table>\n",
       "<caption>A data.frame: 13 × 7</caption>\n",
       "<thead>\n",
       "\t<tr><th scope=col>Flight Number</th><th scope=col>Encounters</th><th scope=col>Duration (minutes)</th><th scope=col>Distance (km)</th><th scope=col>Average Speed (km/hr)</th><th scope=col>Area (km2)</th><th scope=col>Density (km2)</th></tr>\n",
       "\t<tr><th scope=col>&lt;dbl&gt;</th><th scope=col>&lt;dbl&gt;</th><th scope=col>&lt;dbl&gt;</th><th scope=col>&lt;dbl&gt;</th><th scope=col>&lt;dbl&gt;</th><th scope=col>&lt;dbl&gt;</th><th scope=col>&lt;dbl&gt;</th></tr>\n",
       "</thead>\n",
       "<tbody>\n",
       "\t<tr><td> 1</td><td>   4</td><td> 7.150000</td><td> 1.7185112</td><td> 14.421073</td><td>   143.20926</td><td>2.793115e-02</td></tr>\n",
       "\t<tr><td> 3</td><td>   3</td><td>12.250000</td><td> 8.8924914</td><td> 43.555060</td><td>   741.04095</td><td>4.048359e-03</td></tr>\n",
       "\t<tr><td> 7</td><td>   2</td><td>19.750000</td><td>10.7000000</td><td> 32.506329</td><td>   891.66667</td><td>2.242991e-03</td></tr>\n",
       "\t<tr><td> 8</td><td>5627</td><td>18.766667</td><td>13.1000000</td><td> 41.882771</td><td>  1091.66667</td><td>5.154504e+00</td></tr>\n",
       "\t<tr><td>10</td><td>   2</td><td> 5.233333</td><td> 0.1305973</td><td>  1.497294</td><td>    10.88311</td><td>1.837710e-01</td></tr>\n",
       "\t<tr><td>11</td><td>   2</td><td>17.366667</td><td>33.5000000</td><td>115.738964</td><td>  3813.24219</td><td>5.244881e-04</td></tr>\n",
       "\t<tr><td>12</td><td>  13</td><td>20.400000</td><td>33.5000000</td><td> 98.529412</td><td>  3813.24219</td><td>3.409172e-03</td></tr>\n",
       "\t<tr><td>13</td><td>   5</td><td>18.000000</td><td>17.1125876</td><td> 57.041959</td><td>630701.25835</td><td>7.927684e-06</td></tr>\n",
       "\t<tr><td>14</td><td>   2</td><td>20.000000</td><td>12.3722725</td><td> 37.116817</td><td>455992.27805</td><td>4.386039e-06</td></tr>\n",
       "\t<tr><td>15</td><td>   2</td><td>15.000000</td><td>14.3155064</td><td> 57.262026</td><td>527612.07721</td><td>3.790664e-06</td></tr>\n",
       "\t<tr><td>16</td><td>   2</td><td>12.000000</td><td>10.4638109</td><td> 52.319055</td><td>385654.04887</td><td>5.185995e-06</td></tr>\n",
       "\t<tr><td>17</td><td>   2</td><td>15.000000</td><td>12.8996143</td><td> 51.598457</td><td>475427.98183</td><td>4.206736e-06</td></tr>\n",
       "\t<tr><td>18</td><td>   2</td><td>25.000000</td><td>10.5681379</td><td> 25.363531</td><td>389499.12461</td><td>5.134800e-06</td></tr>\n",
       "</tbody>\n",
       "</table>\n"
      ],
      "text/latex": [
       "A data.frame: 13 × 7\n",
       "\\begin{tabular}{r|lllllll}\n",
       " Flight Number & Encounters & Duration (minutes) & Distance (km) & Average Speed (km/hr) & Area (km2) & Density (km2)\\\\\n",
       " <dbl> & <dbl> & <dbl> & <dbl> & <dbl> & <dbl> & <dbl>\\\\\n",
       "\\hline\n",
       "\t  1 &    4 &  7.150000 &  1.7185112 &  14.421073 &    143.20926 & 2.793115e-02\\\\\n",
       "\t  3 &    3 & 12.250000 &  8.8924914 &  43.555060 &    741.04095 & 4.048359e-03\\\\\n",
       "\t  7 &    2 & 19.750000 & 10.7000000 &  32.506329 &    891.66667 & 2.242991e-03\\\\\n",
       "\t  8 & 5627 & 18.766667 & 13.1000000 &  41.882771 &   1091.66667 & 5.154504e+00\\\\\n",
       "\t 10 &    2 &  5.233333 &  0.1305973 &   1.497294 &     10.88311 & 1.837710e-01\\\\\n",
       "\t 11 &    2 & 17.366667 & 33.5000000 & 115.738964 &   3813.24219 & 5.244881e-04\\\\\n",
       "\t 12 &   13 & 20.400000 & 33.5000000 &  98.529412 &   3813.24219 & 3.409172e-03\\\\\n",
       "\t 13 &    5 & 18.000000 & 17.1125876 &  57.041959 & 630701.25835 & 7.927684e-06\\\\\n",
       "\t 14 &    2 & 20.000000 & 12.3722725 &  37.116817 & 455992.27805 & 4.386039e-06\\\\\n",
       "\t 15 &    2 & 15.000000 & 14.3155064 &  57.262026 & 527612.07721 & 3.790664e-06\\\\\n",
       "\t 16 &    2 & 12.000000 & 10.4638109 &  52.319055 & 385654.04887 & 5.185995e-06\\\\\n",
       "\t 17 &    2 & 15.000000 & 12.8996143 &  51.598457 & 475427.98183 & 4.206736e-06\\\\\n",
       "\t 18 &    2 & 25.000000 & 10.5681379 &  25.363531 & 389499.12461 & 5.134800e-06\\\\\n",
       "\\end{tabular}\n"
      ],
      "text/markdown": [
       "\n",
       "A data.frame: 13 × 7\n",
       "\n",
       "| Flight Number &lt;dbl&gt; | Encounters &lt;dbl&gt; | Duration (minutes) &lt;dbl&gt; | Distance (km) &lt;dbl&gt; | Average Speed (km/hr) &lt;dbl&gt; | Area (km2) &lt;dbl&gt; | Density (km2) &lt;dbl&gt; |\n",
       "|---|---|---|---|---|---|---|\n",
       "|  1 |    4 |  7.150000 |  1.7185112 |  14.421073 |    143.20926 | 2.793115e-02 |\n",
       "|  3 |    3 | 12.250000 |  8.8924914 |  43.555060 |    741.04095 | 4.048359e-03 |\n",
       "|  7 |    2 | 19.750000 | 10.7000000 |  32.506329 |    891.66667 | 2.242991e-03 |\n",
       "|  8 | 5627 | 18.766667 | 13.1000000 |  41.882771 |   1091.66667 | 5.154504e+00 |\n",
       "| 10 |    2 |  5.233333 |  0.1305973 |   1.497294 |     10.88311 | 1.837710e-01 |\n",
       "| 11 |    2 | 17.366667 | 33.5000000 | 115.738964 |   3813.24219 | 5.244881e-04 |\n",
       "| 12 |   13 | 20.400000 | 33.5000000 |  98.529412 |   3813.24219 | 3.409172e-03 |\n",
       "| 13 |    5 | 18.000000 | 17.1125876 |  57.041959 | 630701.25835 | 7.927684e-06 |\n",
       "| 14 |    2 | 20.000000 | 12.3722725 |  37.116817 | 455992.27805 | 4.386039e-06 |\n",
       "| 15 |    2 | 15.000000 | 14.3155064 |  57.262026 | 527612.07721 | 3.790664e-06 |\n",
       "| 16 |    2 | 12.000000 | 10.4638109 |  52.319055 | 385654.04887 | 5.185995e-06 |\n",
       "| 17 |    2 | 15.000000 | 12.8996143 |  51.598457 | 475427.98183 | 4.206736e-06 |\n",
       "| 18 |    2 | 25.000000 | 10.5681379 |  25.363531 | 389499.12461 | 5.134800e-06 |\n",
       "\n"
      ],
      "text/plain": [
       "   Flight Number Encounters Duration (minutes) Distance (km)\n",
       "1   1               4        7.150000           1.7185112   \n",
       "2   3               3       12.250000           8.8924914   \n",
       "3   7               2       19.750000          10.7000000   \n",
       "4   8            5627       18.766667          13.1000000   \n",
       "5  10               2        5.233333           0.1305973   \n",
       "6  11               2       17.366667          33.5000000   \n",
       "7  12              13       20.400000          33.5000000   \n",
       "8  13               5       18.000000          17.1125876   \n",
       "9  14               2       20.000000          12.3722725   \n",
       "10 15               2       15.000000          14.3155064   \n",
       "11 16               2       12.000000          10.4638109   \n",
       "12 17               2       15.000000          12.8996143   \n",
       "13 18               2       25.000000          10.5681379   \n",
       "   Average Speed (km/hr) Area (km2)   Density (km2)\n",
       "1   14.421073               143.20926 2.793115e-02 \n",
       "2   43.555060               741.04095 4.048359e-03 \n",
       "3   32.506329               891.66667 2.242991e-03 \n",
       "4   41.882771              1091.66667 5.154504e+00 \n",
       "5    1.497294                10.88311 1.837710e-01 \n",
       "6  115.738964              3813.24219 5.244881e-04 \n",
       "7   98.529412              3813.24219 3.409172e-03 \n",
       "8   57.041959            630701.25835 7.927684e-06 \n",
       "9   37.116817            455992.27805 4.386039e-06 \n",
       "10  57.262026            527612.07721 3.790664e-06 \n",
       "11  52.319055            385654.04887 5.185995e-06 \n",
       "12  51.598457            475427.98183 4.206736e-06 \n",
       "13  25.363531            389499.12461 5.134800e-06 "
      ]
     },
     "metadata": {},
     "output_type": "display_data"
    }
   ],
   "source": [
    "names(total_count_export) <- c(\"Flight Number\", \"Encounters\", \"Duration (minutes)\", \"Distance (km)\", \"Average Speed (km/hr)\", \"Area (km2)\", \"Density (km2)\")\n",
    "total_count_export"
   ]
  },
  {
   "cell_type": "code",
   "execution_count": 14,
   "metadata": {},
   "outputs": [
    {
     "data": {
      "text/html": [
       "<strong>null device:</strong> 1"
      ],
      "text/latex": [
       "\\textbf{null device:} 1"
      ],
      "text/markdown": [
       "**null device:** 1"
      ],
      "text/plain": [
       "null device \n",
       "          1 "
      ]
     },
     "metadata": {},
     "output_type": "display_data"
    }
   ],
   "source": [
    "total_count_export <- xtable(total_count_export)\n",
    "print.xtable(total_count_export, type = \"latex\", floating = F, caption.placement = \"top\", file = \"../Results/total_table.tex\",\n",
    "             include.rownames = F)\n",
    "dev.off()"
   ]
  },
  {
   "cell_type": "code",
   "execution_count": 15,
   "metadata": {},
   "outputs": [
    {
     "data": {
      "image/png": "[encoded data removed]",
      "text/plain": [
       "plot without title"
      ]
     },
     "metadata": {},
     "output_type": "display_data"
    },
    {
     "data": {
      "image/png": "[encoded data removed]",
      "text/plain": [
       "plot without title"
      ]
     },
     "metadata": {},
     "output_type": "display_data"
    }
   ],
   "source": [
    "####### Density per flight #######\n",
    "tc_no8 <- total_count[-4,] # Take out flight 8 (unusually high with all the birds)\n",
    "#tc_no8 <- tc_no8[-4,] # Take out flight 10 because lots of hits in a short flight?\n",
    "#tc_no8 <- cbind(a = c(1,2,3,4,5,6,7), tc_no8)\n",
    "tc_no8$Flight <- as.factor(tc_no8$Flight)\n",
    "#tc_no8\n",
    "#pdf(file = paste(\"../Results/Density_per_flight.pdf\", sep = \"\"))\n",
    "ggplot(data = tc_no8, aes(x = tc_no8$Flight, y = tc_no8$Density_Estimate_km2)) +\n",
    "                      geom_bar(stat = 'identity') +\n",
    "                      xlab(\"Flight Number\") +\n",
    "                      ylab(expression(paste(\n",
    "                        \"Density Estimate (per \",\n",
    "                         km^2,\n",
    "                        \")\", sep=\"\"))) +\n",
    "                      #scale_x_continuous(breaks = c(1, 2, 3, 4, 5, 6, 7)) +\n",
    "                      theme_bw()\n",
    "#dev.off()\n",
    "tc_no810 <- tc_no8[-4,]\n",
    "\n",
    "tc_no810$Flight <- as.factor(tc_no810$Flight)\n",
    "#tc_no8\n",
    "#pdf(file = paste(\"../Results/Density_per_flight.pdf\", sep = \"\"))\n",
    "ggplot(data = tc_no810, aes(x = tc_no810$Flight, y = tc_no810$Density_Estimate_km2)) +\n",
    "                      geom_bar(stat = 'identity') +\n",
    "                      xlab(\"Flight Number\") +\n",
    "                      ylab(expression(paste(\n",
    "                        \"Density Estimate (per \",\n",
    "                         km^2,\n",
    "                        \")\", sep=\"\"))) +\n",
    "                      #scale_x_continuous(breaks = c(1, 2, 3, 4, 5, 6, 7)) +\n",
    "                      theme_bw()\n",
    "\n",
    "#hist(tc_no8$Density_Estimate_km2)"
   ]
  },
  {
   "cell_type": "code",
   "execution_count": null,
   "metadata": {},
   "outputs": [],
   "source": []
  },
  {
   "cell_type": "markdown",
   "metadata": {},
   "source": [
    "Overall density isn't interesting because it's all relative to number of hits and area, right?. We do not have enough data to empirically analyze density trends in the data (except for density with area and speed). It's not exactly comparable but further analysis of trends would be interesting. Can't analyze density across animals as multiple animals were observed during multiple flights. Look how the **trends possibly change between location**???? Possible confounding factors and links to simulated data. "
   ]
  },
  {
   "cell_type": "markdown",
   "metadata": {},
   "source": [
    "#### Density vs. Area"
   ]
  },
  {
   "cell_type": "code",
   "execution_count": 16,
   "metadata": {},
   "outputs": [
    {
     "data": {
      "image/png": "[encoded data removed]",
      "text/plain": [
       "plot without title"
      ]
     },
     "metadata": {},
     "output_type": "display_data"
    },
    {
     "data": {
      "image/png": "[encoded data removed]",
      "text/plain": [
       "plot without title"
      ]
     },
     "metadata": {},
     "output_type": "display_data"
    }
   ],
   "source": [
    "no8den <- ggplot(data = tc_no8, aes(x = tc_no8$`Strip_Area(km2)`, y = tc_no8$Density_Estimate_km2)) +\n",
    "  geom_point(colour = 'skyblue3') +\n",
    "  xlab(expression(paste(\n",
    "    \"Area (per \",\n",
    "    km^2,\n",
    "    \")\", sep=\"\"))) +\n",
    "  ylab(expression(paste(\n",
    "    \"Density Estimate ( per \",\n",
    "    km^2,\n",
    "    \")\", sep=\"\"))) +\n",
    "  theme_bw()\n",
    "\n",
    "no10den <- ggplot(data = tc_no810, aes(x = tc_no810$`Strip_Area(km2)`, y = tc_no810$Density_Estimate_km2)) +\n",
    "  geom_point(colour = 'skyblue4') +\n",
    "  xlab(expression(paste(\n",
    "    \"Area (per \",\n",
    "    km^2,\n",
    "    \")\", sep=\"\"))) +\n",
    "  ylab(expression(paste(\n",
    "    \"Density Estimate ( per \",\n",
    "    km^2,\n",
    "    \")\", sep=\"\"))) +\n",
    "  theme_bw()\n",
    "\n",
    "no8den\n",
    "no10den"
   ]
  },
  {
   "cell_type": "code",
   "execution_count": 43,
   "metadata": {},
   "outputs": [
    {
     "data": {
      "text/html": [
       "<strong>png:</strong> 2"
      ],
      "text/latex": [
       "\\textbf{png:} 2"
      ],
      "text/markdown": [
       "**png:** 2"
      ],
      "text/plain": [
       "png \n",
       "  2 "
      ]
     },
     "metadata": {},
     "output_type": "display_data"
    },
    {
     "data": {
      "text/html": [
       "<strong>png:</strong> 2"
      ],
      "text/latex": [
       "\\textbf{png:} 2"
      ],
      "text/markdown": [
       "**png:** 2"
      ],
      "text/plain": [
       "png \n",
       "  2 "
      ]
     },
     "metadata": {},
     "output_type": "display_data"
    }
   ],
   "source": [
    "pdf(file = paste(\"../Results/area_10.pdf\"))\n",
    "print(no8den)\n",
    "dev.off()\n",
    "\n",
    "pdf(file = paste(\"../Results/area_no10.pdf\"))\n",
    "print(no10den)\n",
    "dev.off()"
   ]
  },
  {
   "cell_type": "markdown",
   "metadata": {},
   "source": [
    "#### Density vs Speed?"
   ]
  },
  {
   "cell_type": "code",
   "execution_count": 46,
   "metadata": {},
   "outputs": [],
   "source": [
    "speed_no10 <- ggplot(data = tc_no810, aes(x = tc_no810$`Average_Speed_(km/h)`, y = tc_no810$Density_Estimate_km2)) +\n",
    "  geom_point(colour = \"skyblue3\") +\n",
    "  xlab(\n",
    "    \"Speed(km/hr)\") +\n",
    "  ylab(expression(paste(\n",
    "    \"Density Estimate ( per \",\n",
    "    km^2,\n",
    "    \")\", sep=\"\"))) +\n",
    "  theme_bw()"
   ]
  },
  {
   "cell_type": "code",
   "execution_count": 47,
   "metadata": {},
   "outputs": [
    {
     "data": {
      "text/html": [
       "<strong>png:</strong> 2"
      ],
      "text/latex": [
       "\\textbf{png:} 2"
      ],
      "text/markdown": [
       "**png:** 2"
      ],
      "text/plain": [
       "png \n",
       "  2 "
      ]
     },
     "metadata": {},
     "output_type": "display_data"
    }
   ],
   "source": [
    "pdf(file = paste(\"../Results/speed_no10.pdf\"))\n",
    "print(speed_no10)\n",
    "dev.off()"
   ]
  },
  {
   "cell_type": "markdown",
   "metadata": {},
   "source": [
    "#### Encounters vs. Animal type, Speed, Area"
   ]
  },
  {
   "cell_type": "code",
   "execution_count": 27,
   "metadata": {},
   "outputs": [
    {
     "data": {
      "text/html": [
       "<ol class=list-inline>\n",
       "\t<li>0</li>\n",
       "\t<li>0</li>\n",
       "\t<li>0</li>\n",
       "\t<li>10</li>\n",
       "\t<li>0</li>\n",
       "\t<li>10</li>\n",
       "\t<li>5</li>\n",
       "\t<li>5</li>\n",
       "\t<li>20</li>\n",
       "\t<li>5</li>\n",
       "\t<li>40</li>\n",
       "\t<li>5</li>\n",
       "</ol>\n"
      ],
      "text/latex": [
       "\\begin{enumerate*}\n",
       "\\item 0\n",
       "\\item 0\n",
       "\\item 0\n",
       "\\item 10\n",
       "\\item 0\n",
       "\\item 10\n",
       "\\item 5\n",
       "\\item 5\n",
       "\\item 20\n",
       "\\item 5\n",
       "\\item 40\n",
       "\\item 5\n",
       "\\end{enumerate*}\n"
      ],
      "text/markdown": [
       "1. 0\n",
       "2. 0\n",
       "3. 0\n",
       "4. 10\n",
       "5. 0\n",
       "6. 10\n",
       "7. 5\n",
       "8. 5\n",
       "9. 20\n",
       "10. 5\n",
       "11. 40\n",
       "12. 5\n",
       "\n",
       "\n"
      ],
      "text/plain": [
       " [1]  0  0  0 10  0 10  5  5 20  5 40  5"
      ]
     },
     "metadata": {},
     "output_type": "display_data"
    },
    {
     "data": {
      "text/html": [
       "<table>\n",
       "<caption>A data.frame: 12 × 4</caption>\n",
       "<thead>\n",
       "\t<tr><th scope=col>Animal</th><th scope=col>V4</th><th scope=col>Taxa</th><th scope=col>Prop</th></tr>\n",
       "\t<tr><th scope=col>&lt;fct&gt;</th><th scope=col>&lt;dbl&gt;</th><th scope=col>&lt;chr&gt;</th><th scope=col>&lt;dbl&gt;</th></tr>\n",
       "</thead>\n",
       "<tbody>\n",
       "\t<tr><td>Bird            </td><td>0</td><td>Bird </td><td> 0</td></tr>\n",
       "\t<tr><td>Brown_noddy_any </td><td>0</td><td>Bird </td><td> 0</td></tr>\n",
       "\t<tr><td>Frigate_bird    </td><td>0</td><td>Bird </td><td> 0</td></tr>\n",
       "\t<tr><td>Redfooted_boobie</td><td>2</td><td>Bird </td><td>10</td></tr>\n",
       "\t<tr><td>Sooty_tern      </td><td>0</td><td>Bird </td><td> 0</td></tr>\n",
       "\t<tr><td>Tern_other      </td><td>2</td><td>Bird </td><td>10</td></tr>\n",
       "\t<tr><td>White_tern      </td><td>1</td><td>Bird </td><td> 5</td></tr>\n",
       "\t<tr><td>Nurse_shark     </td><td>1</td><td>Shark</td><td> 5</td></tr>\n",
       "\t<tr><td>Reef_shark      </td><td>4</td><td>Shark</td><td>20</td></tr>\n",
       "\t<tr><td>Whale_shark     </td><td>1</td><td>Shark</td><td> 5</td></tr>\n",
       "\t<tr><td>Eagleray        </td><td>8</td><td>Ray  </td><td>40</td></tr>\n",
       "\t<tr><td>Mantaray        </td><td>1</td><td>Ray  </td><td> 5</td></tr>\n",
       "</tbody>\n",
       "</table>\n"
      ],
      "text/latex": [
       "A data.frame: 12 × 4\n",
       "\\begin{tabular}{r|llll}\n",
       " Animal & V4 & Taxa & Prop\\\\\n",
       " <fct> & <dbl> & <chr> & <dbl>\\\\\n",
       "\\hline\n",
       "\t Bird             & 0 & Bird  &  0\\\\\n",
       "\t Brown\\_noddy\\_any  & 0 & Bird  &  0\\\\\n",
       "\t Frigate\\_bird     & 0 & Bird  &  0\\\\\n",
       "\t Redfooted\\_boobie & 2 & Bird  & 10\\\\\n",
       "\t Sooty\\_tern       & 0 & Bird  &  0\\\\\n",
       "\t Tern\\_other       & 2 & Bird  & 10\\\\\n",
       "\t White\\_tern       & 1 & Bird  &  5\\\\\n",
       "\t Nurse\\_shark      & 1 & Shark &  5\\\\\n",
       "\t Reef\\_shark       & 4 & Shark & 20\\\\\n",
       "\t Whale\\_shark      & 1 & Shark &  5\\\\\n",
       "\t Eagleray         & 8 & Ray   & 40\\\\\n",
       "\t Mantaray         & 1 & Ray   &  5\\\\\n",
       "\\end{tabular}\n"
      ],
      "text/markdown": [
       "\n",
       "A data.frame: 12 × 4\n",
       "\n",
       "| Animal &lt;fct&gt; | V4 &lt;dbl&gt; | Taxa &lt;chr&gt; | Prop &lt;dbl&gt; |\n",
       "|---|---|---|---|\n",
       "| Bird             | 0 | Bird  |  0 |\n",
       "| Brown_noddy_any  | 0 | Bird  |  0 |\n",
       "| Frigate_bird     | 0 | Bird  |  0 |\n",
       "| Redfooted_boobie | 2 | Bird  | 10 |\n",
       "| Sooty_tern       | 0 | Bird  |  0 |\n",
       "| Tern_other       | 2 | Bird  | 10 |\n",
       "| White_tern       | 1 | Bird  |  5 |\n",
       "| Nurse_shark      | 1 | Shark |  5 |\n",
       "| Reef_shark       | 4 | Shark | 20 |\n",
       "| Whale_shark      | 1 | Shark |  5 |\n",
       "| Eagleray         | 8 | Ray   | 40 |\n",
       "| Mantaray         | 1 | Ray   |  5 |\n",
       "\n"
      ],
      "text/plain": [
       "   Animal           V4 Taxa  Prop\n",
       "1  Bird             0  Bird   0  \n",
       "2  Brown_noddy_any  0  Bird   0  \n",
       "3  Frigate_bird     0  Bird   0  \n",
       "4  Redfooted_boobie 2  Bird  10  \n",
       "5  Sooty_tern       0  Bird   0  \n",
       "6  Tern_other       2  Bird  10  \n",
       "7  White_tern       1  Bird   5  \n",
       "8  Nurse_shark      1  Shark  5  \n",
       "9  Reef_shark       4  Shark 20  \n",
       "10 Whale_shark      1  Shark  5  \n",
       "11 Eagleray         8  Ray   40  \n",
       "12 Mantaray         1  Ray    5  "
      ]
     },
     "metadata": {},
     "output_type": "display_data"
    },
    {
     "data": {
      "image/png": "[encoded data removed]",
      "text/plain": [
       "plot without title"
      ]
     },
     "metadata": {},
     "output_type": "display_data"
    }
   ],
   "source": [
    "# Should I take out flight 8 in general??\n",
    "t1 <- Species_count_biot[,-1]\n",
    "t1.5 <- t1[-4,] # Take out flight 8\n",
    "t2 <- Species_count_belize[,-1]\n",
    "names(t2)[1] <- \"Eagleray\"\n",
    "\n",
    "t1 <- as.data.frame(colSums(t1))\n",
    "t1.5 <- as.data.frame(colSums(t1.5))\n",
    "t2 <- as.data.frame(colSums(t2))\n",
    "\n",
    "t1$Animal <- rownames(t1)\n",
    "t1.5$Animal <- rownames(t1.5)\n",
    "t2$Animal <- rownames(t2)\n",
    "\n",
    "\n",
    "t3 <- merge(t1, t2, by.x = \"Animal\", all.x = 'True')\n",
    "t3.5 <- merge(t1.5, t2, by.x = \"Animal\", all.x = 'True')\n",
    "t3[is.na(t3)] <- 0\n",
    "t3.5[is.na(t3.5)] <- 0\n",
    "t3 <- as.data.frame(t3)\n",
    "t3.5 <- as.data.frame(t3.5)\n",
    "t3[,4] <- apply(t3, 1, function(x) (as.numeric(x[2])) + (as.numeric(x[3])))\n",
    "t3.5[,4] <- apply(t3.5, 1, function(x) (as.numeric(x[2])) + (as.numeric(x[3])))\n",
    "t3 <- subset(t3, select = c('Animal', 'V4'))\n",
    "t3.5 <- subset(t3.5, select = c('Animal', 'V4'))\n",
    "                  \n",
    "                  \n",
    "birds <- c('Bird', 'Brown_noddy_any', 'Frigate_bird', 'Redfooted_boobie', 'Sooty_tern', 'Tern_other', 'White_tern')\n",
    "sharks <- c('Nurse_shark', 'Reef_shark', 'Whale_shark')\n",
    "rays <- c('Eagleray', 'Mantaray')\n",
    "\n",
    "col3 <- c()\n",
    "for(i in t3[,1]){\n",
    "    if(i %in% birds){\n",
    "        col3 <- c(col3, 1)\n",
    "    }\n",
    "     if(i %in% sharks){\n",
    "        col3 <- c(col3, 2)\n",
    "    }\n",
    "     if(i %in% rays){\n",
    "        col3 <- c(col3, 3)\n",
    "    }\n",
    "}\n",
    "\n",
    "t3[,3] <- as.character(col3)\n",
    "t3 <- t3 %>% \n",
    "        group_by(V3) %>%\n",
    "        arrange(V3, .by_group = TRUE)\n",
    "\n",
    "    \n",
    "t3$Animal <- factor(t3$Animal, levels = t3$Animal[order(t3$V3)])\n",
    "                  \n",
    "col3.5 <- c()\n",
    "for(i in t3.5[,1]){\n",
    "    if(i %in% birds){\n",
    "        col3.5 <- c(col3.5, 1)\n",
    "    }\n",
    "     if(i %in% sharks){\n",
    "        col3.5 <- c(col3.5, 2)\n",
    "    }\n",
    "     if(i %in% rays){\n",
    "        col3.5 <- c(col3.5, 3)\n",
    "    }\n",
    "}\n",
    "\n",
    "t3.5[,3] <- as.character(col3.5)\n",
    "\n",
    "t3.5 <- t3.5 %>% \n",
    "        group_by(V3) %>%\n",
    "        arrange(V3, .by_group = TRUE)\n",
    "    \n",
    "t3.5$Animal <- factor(t3.5$Animal, levels = t3.5$Animal[order(t3.5$V3)])\n",
    "\n",
    "t3$V3[t3$V3 == 1] <- \"Bird\"\n",
    "t3$V3[t3$V3 == 2] <- \"Shark\"  \n",
    "t3$V3[t3$V3 == 3] <- \"Ray\"  \n",
    "                  \n",
    "t3.5$V3[t3.5$V3 == 1] <- \"Bird\"\n",
    "t3.5$V3[t3.5$V3 == 2] <- \"Shark\"  \n",
    "t3.5$V3[t3.5$V3 == 3] <- \"Ray\"\n",
    "\n",
    "names(t3)[3] <- 'Taxa'\n",
    "names(t3.5)[3] <- 'Taxa'\n",
    "                  \n",
    "tc8_encounter <- ggplot(data = t3, aes(x = t3$Animal, y = t3$V4)) +\n",
    "  geom_bar(aes(fill = Taxa), stat = 'identity') +\n",
    "  xlab(\"Animal\") +\n",
    "  ylab(\"Number of Encounters\") +\n",
    "  theme_bw() +\n",
    "  theme(axis.text.x = element_text(angle = 45), axis.ticks.length = unit(.9, \"cm\"), legend.position = \"none\") +\n",
    "  scale_fill_manual(values = c(\"royalblue\", \"darkorange1\", \"olivedrab3\"))\n",
    "\n",
    "                  \n",
    "tcno8_encounter <- ggplot(data = t3.5, aes(x = t3.5$Animal, y = t3.5$V4)) +\n",
    "  geom_bar(aes(fill = Taxa), stat = 'identity') +\n",
    "  xlab(\"Animal\") +\n",
    "  ylab(\"Number of Encounters\") +\n",
    "  theme_bw() +\n",
    "  theme(axis.text.x = element_text(angle = 45), axis.ticks.length = unit(.9, \"cm\")) +\n",
    "  scale_fill_manual(values = c(\"royalblue\", \"darkorange1\", \"olivedrab3\"))\n",
    "\n",
    "t3.5 <- as.data.frame(t3.5)\n",
    "t3.5$V4 <- as.numeric(t3.5$V4)\n",
    "Prop <- sapply(t3.5$V4, function(x) (x/sum(t3.5$V4))*100)\n",
    "Prop\n",
    "t3.5 <- cbind(t3.5, Prop)\n",
    "t3.5\n",
    "tcno8_encounter"
   ]
  },
  {
   "cell_type": "code",
   "execution_count": 54,
   "metadata": {},
   "outputs": [
    {
     "data": {
      "text/html": [
       "<strong>png:</strong> 2"
      ],
      "text/latex": [
       "\\textbf{png:} 2"
      ],
      "text/markdown": [
       "**png:** 2"
      ],
      "text/plain": [
       "png \n",
       "  2 "
      ]
     },
     "metadata": {},
     "output_type": "display_data"
    },
    {
     "data": {
      "text/html": [
       "<strong>png:</strong> 2"
      ],
      "text/latex": [
       "\\textbf{png:} 2"
      ],
      "text/markdown": [
       "**png:** 2"
      ],
      "text/plain": [
       "png \n",
       "  2 "
      ]
     },
     "metadata": {},
     "output_type": "display_data"
    }
   ],
   "source": [
    "pdf(file = paste(\"../Results/encounter_8.pdf\"))\n",
    "print(tc8_encounter)\n",
    "dev.off()\n",
    "\n",
    "pdf(file = paste(\"../Results/encounter_no8.png\"))\n",
    "print(tcno8_encounter)\n",
    "dev.off()"
   ]
  },
  {
   "cell_type": "code",
   "execution_count": 55,
   "metadata": {},
   "outputs": [],
   "source": [
    "encount_area <- ggplot(data = tc_no8, aes(x = tc_no8$`Strip_Area(km2)`, y = tc_no8$Captures)) +\n",
    "  geom_point(colour = \"skyblue4\") +\n",
    "  xlab(expression(paste(\n",
    "    \"Area(per \",\n",
    "    km^2,\n",
    "    \")\", sep=\"\"))) +\n",
    "  ylab('Number of Encounters') +\n",
    "  theme_bw()"
   ]
  },
  {
   "cell_type": "code",
   "execution_count": 56,
   "metadata": {},
   "outputs": [],
   "source": [
    "encount_speed <- ggplot(data = tc_no8, aes(x = tc_no8$`Average_Speed_(km/h)`, y = tc_no8$Density_Estimate_km2)) +\n",
    "  geom_point(colour = \"dodgerblue3\") +\n",
    "  xlab(\"Speed (km/hr)\") +\n",
    "  ylab(\"Number of Encounters\") +\n",
    "  theme_bw()"
   ]
  },
  {
   "cell_type": "code",
   "execution_count": 57,
   "metadata": {},
   "outputs": [
    {
     "data": {
      "text/html": [
       "<strong>png:</strong> 2"
      ],
      "text/latex": [
       "\\textbf{png:} 2"
      ],
      "text/markdown": [
       "**png:** 2"
      ],
      "text/plain": [
       "png \n",
       "  2 "
      ]
     },
     "metadata": {},
     "output_type": "display_data"
    },
    {
     "data": {
      "text/html": [
       "<strong>png:</strong> 2"
      ],
      "text/latex": [
       "\\textbf{png:} 2"
      ],
      "text/markdown": [
       "**png:** 2"
      ],
      "text/plain": [
       "png \n",
       "  2 "
      ]
     },
     "metadata": {},
     "output_type": "display_data"
    }
   ],
   "source": [
    "pdf(file = paste(\"../Results/encounter_area.pdf\"))\n",
    "print(encount_area)\n",
    "dev.off()\n",
    "\n",
    "pdf(file = paste(\"../Results/encounter_speed.pdf\"))\n",
    "print(encount_speed)\n",
    "dev.off()"
   ]
  },
  {
   "cell_type": "code",
   "execution_count": null,
   "metadata": {},
   "outputs": [],
   "source": []
  }
 ],
 "metadata": {
  "kernelspec": {
   "display_name": "R",
   "language": "R",
   "name": "ir"
  },
  "language_info": {
   "codemirror_mode": "r",
   "file_extension": ".r",
   "mimetype": "text/x-r-source",
   "name": "R",
   "pygments_lexer": "r",
   "version": "3.4.4"
  }
 },
 "nbformat": 4,
 "nbformat_minor": 2
}
