{
 "cells": [
  {
   "cell_type": "markdown",
   "metadata": {},
   "source": [
    "## Revised Simulation Analysis\n",
    "\n",
    "1. True population density analysis (model precision and accuracy) of entire data set. Between total hits and actual hits.\n",
    "\n",
    "2. Density estimation changes between multiple combinations (animals, paths, camera, uav_paths, uav_speed, bias)"
   ]
  },
  {
   "cell_type": "code",
   "execution_count": 11,
   "metadata": {},
   "outputs": [
    {
     "name": "stderr",
     "output_type": "stream",
     "text": [
      "Warning message in split.default(x = seq_len(nrow(x)), f = f, drop = drop, ...):\n",
      "“data length is not a multiple of split variable”"
     ]
    }
   ],
   "source": [
    "#clear environments\n",
    "rm(list=ls())\n",
    "\n",
    "suppressMessages(library(tidyverse))\n",
    "suppressMessages(library(data.table))\n",
    "library(geosphere)\n",
    "suppressMessages(library(reshape2))\n",
    "library(ggthemes)\n",
    "\n",
    "mydir = \"../Data/Simulations/HPC4/\"\n",
    "all_sims = list.files(path=mydir, pattern=\"*.csv\", full.names=TRUE) %>%\n",
    "                map_df(~fread(.))\n",
    "\n",
    "\n",
    "current_sims <- split(all_sims,rep(1:100,each=1344))\n",
    "#current_sims\n",
    "\n",
    "# Timesteps of simulation runs\n",
    "timestep <- 10000"
   ]
  },
  {
   "cell_type": "code",
   "execution_count": 12,
   "metadata": {},
   "outputs": [],
   "source": [
    "Camera <- c(\"garmin\", \"garmin\", \"sony\", \"sony\", \"nadir\", \"nadir\")\n",
    "Speed <-c(1, 2, 1, 2, 1, 2)\n",
    "\n",
    "Animal <- rep(unique(all_sims$Animal), 6)\n",
    "Camera <- rep(Camera,8)\n",
    "Speed <- rep(Speed, 8)\n",
    "\n",
    "cam_table <- data.frame(Animal, Camera, Speed)\n",
    "#cam_table\n",
    "g_h <- 83.33 \n",
    "s_h <- 113.83\n",
    "n_h <- 154.29\n",
    "\n",
    "reef <- 0.64\n",
    "nurse <- 0.37\n",
    "whale <- 0.6\n",
    "ray <- 1.42\n",
    "manatee <- 0.7\n",
    "booby <- 10.5\n",
    "frigate <- 4.5\n",
    "tern <- 8.5\n",
    "\n",
    "Animal <- c(\"reef\", \"nurse\", \"whale_shark\", \"ray\", \"manatee\", \"booby\", \"frigate\", \"tern\")\n",
    "animals_speeds <- c(reef, nurse, whale, ray, manatee, booby, frigate, tern)\n",
    "speeds <- cbind(Animal, animals_speeds)\n",
    "\n",
    "unique_animals = unique(cam_table$Animal)\n",
    "\n",
    "cam_table <- merge(cam_table, speeds) # merge to get animal speeds\n",
    "#cam_table\n",
    "splevel <- data.frame(Speed=c(1,2), level = c(17.22, 18.8))\n",
    "\n",
    "unique_speed = unique(cam_table$Speed)\n",
    "\n",
    "cam_table <- merge(cam_table, splevel) \n",
    "\n",
    "abs_vel <- apply(cam_table, 1, function(x) as.numeric(x[4])+as.numeric(x[5]))\n",
    "\n",
    "cam_table <- cbind(cam_table, abs_vel)\n",
    "\n",
    "hz <- data.frame(Camera = c('garmin', 'sony', 'nadir'), h_level = c(g_h, s_h, n_h))\n",
    "\n",
    "unique_h = unique(cam_table$Camera)\n",
    "                 \n",
    "cam_table <- merge(cam_table, hz)                  \n",
    "\n",
    "Area_km <- apply(cam_table, 1, function(x) (10000*as.numeric(x[6])*as.numeric(x[7]))/1000000)\n",
    " \n",
    "cam_table <- cbind(cam_table, Area_km)                \n",
    "                 \n",
    "cam_table <- cam_table[, -c(4:7)]\n",
    "                 \n",
    "#cam_table\n",
    "\n",
    "#unique_cams = unique(all_sims$Camera)\n",
    "#unique_animals = unique(all_sims$Animal)\n",
    "#unique_speed = c(1, 2)\n",
    "           \n",
    "all_sims = merge(all_sims, cam_table, by = c(\"Camera\", \"Speed\", \"Animal\"))\n",
    "#all_sims"
   ]
  },
  {
   "cell_type": "code",
   "execution_count": 13,
   "metadata": {},
   "outputs": [
    {
     "data": {
      "text/html": [
       "<table>\n",
       "<caption>A data.table: 6 × 9</caption>\n",
       "<thead>\n",
       "\t<tr><th scope=col>Camera</th><th scope=col>Speed</th><th scope=col>Animal</th><th scope=col>Animal_path</th><th scope=col>UAV_path</th><th scope=col>Bias</th><th scope=col>Total_hits</th><th scope=col>Actual_hits</th><th scope=col>Area_km</th></tr>\n",
       "\t<tr><th scope=col>&lt;fct&gt;</th><th scope=col>&lt;dbl&gt;</th><th scope=col>&lt;fct&gt;</th><th scope=col>&lt;chr&gt;</th><th scope=col>&lt;chr&gt;</th><th scope=col>&lt;chr&gt;</th><th scope=col>&lt;int&gt;</th><th scope=col>&lt;int&gt;</th><th scope=col>&lt;dbl&gt;</th></tr>\n",
       "</thead>\n",
       "<tbody>\n",
       "\t<tr><td>garmin</td><td>1</td><td>frigate</td><td>straight</td><td>lawnmower</td><td>yes</td><td>0</td><td>0</td><td>18.09928</td></tr>\n",
       "\t<tr><td>garmin</td><td>1</td><td>frigate</td><td>straight</td><td>lawnmower</td><td>yes</td><td>0</td><td>0</td><td>18.09928</td></tr>\n",
       "\t<tr><td>garmin</td><td>1</td><td>frigate</td><td>straight</td><td>lawnmower</td><td>no </td><td>0</td><td>0</td><td>18.09928</td></tr>\n",
       "\t<tr><td>garmin</td><td>1</td><td>frigate</td><td>straight</td><td>lawnmower</td><td>no </td><td>0</td><td>0</td><td>18.09928</td></tr>\n",
       "\t<tr><td>garmin</td><td>1</td><td>frigate</td><td>straight</td><td>figure8  </td><td>yes</td><td>0</td><td>0</td><td>18.09928</td></tr>\n",
       "\t<tr><td>garmin</td><td>1</td><td>frigate</td><td>straight</td><td>figure8  </td><td>yes</td><td>0</td><td>0</td><td>18.09928</td></tr>\n",
       "</tbody>\n",
       "</table>\n"
      ],
      "text/latex": [
       "A data.table: 6 × 9\n",
       "\\begin{tabular}{r|lllllllll}\n",
       " Camera & Speed & Animal & Animal\\_path & UAV\\_path & Bias & Total\\_hits & Actual\\_hits & Area\\_km\\\\\n",
       " <fct> & <dbl> & <fct> & <chr> & <chr> & <chr> & <int> & <int> & <dbl>\\\\\n",
       "\\hline\n",
       "\t garmin & 1 & frigate & straight & lawnmower & yes & 0 & 0 & 18.09928\\\\\n",
       "\t garmin & 1 & frigate & straight & lawnmower & yes & 0 & 0 & 18.09928\\\\\n",
       "\t garmin & 1 & frigate & straight & lawnmower & no  & 0 & 0 & 18.09928\\\\\n",
       "\t garmin & 1 & frigate & straight & lawnmower & no  & 0 & 0 & 18.09928\\\\\n",
       "\t garmin & 1 & frigate & straight & figure8   & yes & 0 & 0 & 18.09928\\\\\n",
       "\t garmin & 1 & frigate & straight & figure8   & yes & 0 & 0 & 18.09928\\\\\n",
       "\\end{tabular}\n"
      ],
      "text/markdown": [
       "\n",
       "A data.table: 6 × 9\n",
       "\n",
       "| Camera &lt;fct&gt; | Speed &lt;dbl&gt; | Animal &lt;fct&gt; | Animal_path &lt;chr&gt; | UAV_path &lt;chr&gt; | Bias &lt;chr&gt; | Total_hits &lt;int&gt; | Actual_hits &lt;int&gt; | Area_km &lt;dbl&gt; |\n",
       "|---|---|---|---|---|---|---|---|---|\n",
       "| garmin | 1 | frigate | straight | lawnmower | yes | 0 | 0 | 18.09928 |\n",
       "| garmin | 1 | frigate | straight | lawnmower | yes | 0 | 0 | 18.09928 |\n",
       "| garmin | 1 | frigate | straight | lawnmower | no  | 0 | 0 | 18.09928 |\n",
       "| garmin | 1 | frigate | straight | lawnmower | no  | 0 | 0 | 18.09928 |\n",
       "| garmin | 1 | frigate | straight | figure8   | yes | 0 | 0 | 18.09928 |\n",
       "| garmin | 1 | frigate | straight | figure8   | yes | 0 | 0 | 18.09928 |\n",
       "\n"
      ],
      "text/plain": [
       "  Camera Speed Animal  Animal_path UAV_path  Bias Total_hits Actual_hits\n",
       "1 garmin 1     frigate straight    lawnmower yes  0          0          \n",
       "2 garmin 1     frigate straight    lawnmower yes  0          0          \n",
       "3 garmin 1     frigate straight    lawnmower no   0          0          \n",
       "4 garmin 1     frigate straight    lawnmower no   0          0          \n",
       "5 garmin 1     frigate straight    figure8   yes  0          0          \n",
       "6 garmin 1     frigate straight    figure8   yes  0          0          \n",
       "  Area_km \n",
       "1 18.09928\n",
       "2 18.09928\n",
       "3 18.09928\n",
       "4 18.09928\n",
       "5 18.09928\n",
       "6 18.09928"
      ]
     },
     "metadata": {},
     "output_type": "display_data"
    }
   ],
   "source": [
    "head(all_sims)"
   ]
  },
  {
   "cell_type": "code",
   "execution_count": 14,
   "metadata": {},
   "outputs": [
    {
     "data": {
      "text/html": [
       "<table>\n",
       "<caption>A data.table: 6 × 10</caption>\n",
       "<thead>\n",
       "\t<tr><th scope=col>Camera</th><th scope=col>Speed</th><th scope=col>Animal</th><th scope=col>Animal_path</th><th scope=col>UAV_path</th><th scope=col>Bias</th><th scope=col>Total_hits</th><th scope=col>Actual_hits</th><th scope=col>Area_km</th><th scope=col>Area2_km</th></tr>\n",
       "\t<tr><th scope=col>&lt;fct&gt;</th><th scope=col>&lt;dbl&gt;</th><th scope=col>&lt;fct&gt;</th><th scope=col>&lt;chr&gt;</th><th scope=col>&lt;chr&gt;</th><th scope=col>&lt;chr&gt;</th><th scope=col>&lt;int&gt;</th><th scope=col>&lt;int&gt;</th><th scope=col>&lt;dbl&gt;</th><th scope=col>&lt;dbl&gt;</th></tr>\n",
       "</thead>\n",
       "<tbody>\n",
       "\t<tr><td>garmin</td><td>1</td><td>frigate</td><td>straight</td><td>lawnmower</td><td>yes</td><td>0</td><td>0</td><td>18.09928</td><td>17.75318</td></tr>\n",
       "\t<tr><td>garmin</td><td>1</td><td>frigate</td><td>straight</td><td>lawnmower</td><td>yes</td><td>0</td><td>0</td><td>18.09928</td><td>17.75318</td></tr>\n",
       "\t<tr><td>garmin</td><td>1</td><td>frigate</td><td>straight</td><td>lawnmower</td><td>no </td><td>0</td><td>0</td><td>18.09928</td><td>17.75318</td></tr>\n",
       "\t<tr><td>garmin</td><td>1</td><td>frigate</td><td>straight</td><td>lawnmower</td><td>no </td><td>0</td><td>0</td><td>18.09928</td><td>17.75318</td></tr>\n",
       "\t<tr><td>garmin</td><td>1</td><td>frigate</td><td>straight</td><td>figure8  </td><td>yes</td><td>0</td><td>0</td><td>18.09928</td><td>17.75318</td></tr>\n",
       "\t<tr><td>garmin</td><td>1</td><td>frigate</td><td>straight</td><td>figure8  </td><td>yes</td><td>0</td><td>0</td><td>18.09928</td><td>17.75318</td></tr>\n",
       "</tbody>\n",
       "</table>\n"
      ],
      "text/latex": [
       "A data.table: 6 × 10\n",
       "\\begin{tabular}{r|llllllllll}\n",
       " Camera & Speed & Animal & Animal\\_path & UAV\\_path & Bias & Total\\_hits & Actual\\_hits & Area\\_km & Area2\\_km\\\\\n",
       " <fct> & <dbl> & <fct> & <chr> & <chr> & <chr> & <int> & <int> & <dbl> & <dbl>\\\\\n",
       "\\hline\n",
       "\t garmin & 1 & frigate & straight & lawnmower & yes & 0 & 0 & 18.09928 & 17.75318\\\\\n",
       "\t garmin & 1 & frigate & straight & lawnmower & yes & 0 & 0 & 18.09928 & 17.75318\\\\\n",
       "\t garmin & 1 & frigate & straight & lawnmower & no  & 0 & 0 & 18.09928 & 17.75318\\\\\n",
       "\t garmin & 1 & frigate & straight & lawnmower & no  & 0 & 0 & 18.09928 & 17.75318\\\\\n",
       "\t garmin & 1 & frigate & straight & figure8   & yes & 0 & 0 & 18.09928 & 17.75318\\\\\n",
       "\t garmin & 1 & frigate & straight & figure8   & yes & 0 & 0 & 18.09928 & 17.75318\\\\\n",
       "\\end{tabular}\n"
      ],
      "text/markdown": [
       "\n",
       "A data.table: 6 × 10\n",
       "\n",
       "| Camera &lt;fct&gt; | Speed &lt;dbl&gt; | Animal &lt;fct&gt; | Animal_path &lt;chr&gt; | UAV_path &lt;chr&gt; | Bias &lt;chr&gt; | Total_hits &lt;int&gt; | Actual_hits &lt;int&gt; | Area_km &lt;dbl&gt; | Area2_km &lt;dbl&gt; |\n",
       "|---|---|---|---|---|---|---|---|---|---|\n",
       "| garmin | 1 | frigate | straight | lawnmower | yes | 0 | 0 | 18.09928 | 17.75318 |\n",
       "| garmin | 1 | frigate | straight | lawnmower | yes | 0 | 0 | 18.09928 | 17.75318 |\n",
       "| garmin | 1 | frigate | straight | lawnmower | no  | 0 | 0 | 18.09928 | 17.75318 |\n",
       "| garmin | 1 | frigate | straight | lawnmower | no  | 0 | 0 | 18.09928 | 17.75318 |\n",
       "| garmin | 1 | frigate | straight | figure8   | yes | 0 | 0 | 18.09928 | 17.75318 |\n",
       "| garmin | 1 | frigate | straight | figure8   | yes | 0 | 0 | 18.09928 | 17.75318 |\n",
       "\n"
      ],
      "text/plain": [
       "  Camera Speed Animal  Animal_path UAV_path  Bias Total_hits Actual_hits\n",
       "1 garmin 1     frigate straight    lawnmower yes  0          0          \n",
       "2 garmin 1     frigate straight    lawnmower yes  0          0          \n",
       "3 garmin 1     frigate straight    lawnmower no   0          0          \n",
       "4 garmin 1     frigate straight    lawnmower no   0          0          \n",
       "5 garmin 1     frigate straight    figure8   yes  0          0          \n",
       "6 garmin 1     frigate straight    figure8   yes  0          0          \n",
       "  Area_km  Area2_km\n",
       "1 18.09928 17.75318\n",
       "2 18.09928 17.75318\n",
       "3 18.09928 17.75318\n",
       "4 18.09928 17.75318\n",
       "5 18.09928 17.75318\n",
       "6 18.09928 17.75318"
      ]
     },
     "metadata": {},
     "output_type": "display_data"
    }
   ],
   "source": [
    "# Add area\n",
    "\n",
    "# Overlap calculated by calculating the number of average timesteps \n",
    "# necessary to traverse image width - this dependent on camera (FOV), speed(1,2) \n",
    "# Area covered by each camera appended to simulation data\n",
    "\n",
    "Animals <- rep(unique(all_sims$Animal), 6)\n",
    "Camera <- c(\"garmin\", \"garmin\", \"sony\", \"sony\", \"nadir\", \"nadir\")\n",
    "Speed <-c(1, 2, 1, 2, 1, 2)\n",
    "\n",
    "\n",
    "g_h <- 83.33 \n",
    "s_h <- 113.83\n",
    "n_h <- 154.29\n",
    "\n",
    "Area2_km <- c(((10000 * 17.22 * g_h)/1000000), ((10000 * 18.8 * g_h)/1000000), ((10000 * 17.22 * s_h)/1000000), \n",
    "             ((10000 * 18.8 * s_h)/1000000), ((10000 * 17.22 * n_h)/1000000),  ((10000 * 18.8 * n_h)/1000000)) # Converting to kilometres2\n",
    "\n",
    "cam_table2 <- data.frame(Camera, Speed, Area2_km)\n",
    "\n",
    "#cam_table\n",
    "\n",
    "unique_cams = unique(all_sims$Camera)\n",
    "unique_speed = c(1, 2)\n",
    "\n",
    "all_sims = merge(all_sims, cam_table2, by = c('Camera', 'Speed'))\n",
    "all_sims$Area2_km <- sapply(all_sims$Area2_km, function(x) x + mean(animals_speeds))\n",
    "head(all_sims)"
   ]
  },
  {
   "cell_type": "code",
   "execution_count": 15,
   "metadata": {},
   "outputs": [],
   "source": [
    "#df[df$aged <= df$laclen, ] \n",
    "#a <- subset(all_sims, all_sims$Actual_hits == 34)\n",
    "\n",
    "#levels(as.factor(a$UAV_path))\n",
    "#a"
   ]
  },
  {
   "cell_type": "code",
   "execution_count": 15,
   "metadata": {},
   "outputs": [],
   "source": [
    "b <- subset(all_sims, all_sims$Actual_hits > 22)\n",
    "#b"
   ]
  },
  {
   "cell_type": "code",
   "execution_count": 16,
   "metadata": {},
   "outputs": [
    {
     "name": "stderr",
     "output_type": "stream",
     "text": [
      "Warning message in data.table::data.table(...):\n",
      "“Item 1 is of size 115584 but maximum size is 134400 (recycled leaving remainder of 18816 items)”"
     ]
    },
    {
     "data": {
      "text/html": [
       "<table>\n",
       "<caption>A data.table: 6 × 11</caption>\n",
       "<thead>\n",
       "\t<tr><th scope=col>Camera</th><th scope=col>Speed</th><th scope=col>Animal</th><th scope=col>Animal_path</th><th scope=col>UAV_path</th><th scope=col>Bias</th><th scope=col>Total_hits</th><th scope=col>Actual_hits</th><th scope=col>Area_km</th><th scope=col>Area2_km</th><th scope=col>True_Density</th></tr>\n",
       "\t<tr><th scope=col>&lt;fct&gt;</th><th scope=col>&lt;dbl&gt;</th><th scope=col>&lt;fct&gt;</th><th scope=col>&lt;chr&gt;</th><th scope=col>&lt;chr&gt;</th><th scope=col>&lt;chr&gt;</th><th scope=col>&lt;int&gt;</th><th scope=col>&lt;int&gt;</th><th scope=col>&lt;dbl&gt;</th><th scope=col>&lt;dbl&gt;</th><th scope=col>&lt;dbl&gt;</th></tr>\n",
       "</thead>\n",
       "<tbody>\n",
       "\t<tr><td>garmin</td><td>1</td><td>frigate</td><td>straight</td><td>lawnmower</td><td>yes</td><td>0</td><td>0</td><td>18.09928</td><td>17.75318</td><td>0.04</td></tr>\n",
       "\t<tr><td>garmin</td><td>1</td><td>frigate</td><td>straight</td><td>lawnmower</td><td>yes</td><td>0</td><td>0</td><td>18.09928</td><td>17.75318</td><td>0.04</td></tr>\n",
       "\t<tr><td>garmin</td><td>1</td><td>frigate</td><td>straight</td><td>lawnmower</td><td>no </td><td>0</td><td>0</td><td>18.09928</td><td>17.75318</td><td>0.04</td></tr>\n",
       "\t<tr><td>garmin</td><td>1</td><td>frigate</td><td>straight</td><td>lawnmower</td><td>no </td><td>0</td><td>0</td><td>18.09928</td><td>17.75318</td><td>0.04</td></tr>\n",
       "\t<tr><td>garmin</td><td>1</td><td>frigate</td><td>straight</td><td>figure8  </td><td>yes</td><td>0</td><td>0</td><td>18.09928</td><td>17.75318</td><td>0.04</td></tr>\n",
       "\t<tr><td>garmin</td><td>1</td><td>frigate</td><td>straight</td><td>figure8  </td><td>yes</td><td>0</td><td>0</td><td>18.09928</td><td>17.75318</td><td>0.04</td></tr>\n",
       "</tbody>\n",
       "</table>\n"
      ],
      "text/latex": [
       "A data.table: 6 × 11\n",
       "\\begin{tabular}{r|lllllllllll}\n",
       " Camera & Speed & Animal & Animal\\_path & UAV\\_path & Bias & Total\\_hits & Actual\\_hits & Area\\_km & Area2\\_km & True\\_Density\\\\\n",
       " <fct> & <dbl> & <fct> & <chr> & <chr> & <chr> & <int> & <int> & <dbl> & <dbl> & <dbl>\\\\\n",
       "\\hline\n",
       "\t garmin & 1 & frigate & straight & lawnmower & yes & 0 & 0 & 18.09928 & 17.75318 & 0.04\\\\\n",
       "\t garmin & 1 & frigate & straight & lawnmower & yes & 0 & 0 & 18.09928 & 17.75318 & 0.04\\\\\n",
       "\t garmin & 1 & frigate & straight & lawnmower & no  & 0 & 0 & 18.09928 & 17.75318 & 0.04\\\\\n",
       "\t garmin & 1 & frigate & straight & lawnmower & no  & 0 & 0 & 18.09928 & 17.75318 & 0.04\\\\\n",
       "\t garmin & 1 & frigate & straight & figure8   & yes & 0 & 0 & 18.09928 & 17.75318 & 0.04\\\\\n",
       "\t garmin & 1 & frigate & straight & figure8   & yes & 0 & 0 & 18.09928 & 17.75318 & 0.04\\\\\n",
       "\\end{tabular}\n"
      ],
      "text/markdown": [
       "\n",
       "A data.table: 6 × 11\n",
       "\n",
       "| Camera &lt;fct&gt; | Speed &lt;dbl&gt; | Animal &lt;fct&gt; | Animal_path &lt;chr&gt; | UAV_path &lt;chr&gt; | Bias &lt;chr&gt; | Total_hits &lt;int&gt; | Actual_hits &lt;int&gt; | Area_km &lt;dbl&gt; | Area2_km &lt;dbl&gt; | True_Density &lt;dbl&gt; |\n",
       "|---|---|---|---|---|---|---|---|---|---|---|\n",
       "| garmin | 1 | frigate | straight | lawnmower | yes | 0 | 0 | 18.09928 | 17.75318 | 0.04 |\n",
       "| garmin | 1 | frigate | straight | lawnmower | yes | 0 | 0 | 18.09928 | 17.75318 | 0.04 |\n",
       "| garmin | 1 | frigate | straight | lawnmower | no  | 0 | 0 | 18.09928 | 17.75318 | 0.04 |\n",
       "| garmin | 1 | frigate | straight | lawnmower | no  | 0 | 0 | 18.09928 | 17.75318 | 0.04 |\n",
       "| garmin | 1 | frigate | straight | figure8   | yes | 0 | 0 | 18.09928 | 17.75318 | 0.04 |\n",
       "| garmin | 1 | frigate | straight | figure8   | yes | 0 | 0 | 18.09928 | 17.75318 | 0.04 |\n",
       "\n"
      ],
      "text/plain": [
       "  Camera Speed Animal  Animal_path UAV_path  Bias Total_hits Actual_hits\n",
       "1 garmin 1     frigate straight    lawnmower yes  0          0          \n",
       "2 garmin 1     frigate straight    lawnmower yes  0          0          \n",
       "3 garmin 1     frigate straight    lawnmower no   0          0          \n",
       "4 garmin 1     frigate straight    lawnmower no   0          0          \n",
       "5 garmin 1     frigate straight    figure8   yes  0          0          \n",
       "6 garmin 1     frigate straight    figure8   yes  0          0          \n",
       "  Area_km  Area2_km True_Density\n",
       "1 18.09928 17.75318 0.04        \n",
       "2 18.09928 17.75318 0.04        \n",
       "3 18.09928 17.75318 0.04        \n",
       "4 18.09928 17.75318 0.04        \n",
       "5 18.09928 17.75318 0.04        \n",
       "6 18.09928 17.75318 0.04        "
      ]
     },
     "metadata": {},
     "output_type": "display_data"
    }
   ],
   "source": [
    "# Add true density estimate\n",
    "True_Density <- rep((1/25), 134400)\n",
    "all_sims <- cbind(all_sims, True_Density)\n",
    "head(all_sims)"
   ]
  },
  {
   "cell_type": "code",
   "execution_count": 17,
   "metadata": {},
   "outputs": [],
   "source": [
    "# Density Calculations\n",
    "\n",
    "calcDensity <- function(z, A){\n",
    "  # Calculate density using ideal gas model from capture rate and survey area covered\n",
    "  # z : The number of encounters/captures.\n",
    "  # A : Area covered by sensor per unit time.\n",
    "  \n",
    "  # Double check parameters: will be < 0 or double\n",
    "  #if(z < 0 | !is.numeric(z)) stop(\"Number of individuals must be a positive number\")\n",
    "  #if (A <= 0 | !is.numeric(A)) stop(\"Area, A, must be a positive number.\")\n",
    "    \n",
    "  # Calculate density\n",
    "  return(D <- z/A)\n",
    "}\n",
    "\n",
    "\n",
    "\n",
    "# Calculate density per simulation\n",
    "Density_km <- calcDensity(all_sims$Actual_hits, all_sims$Area_km)\n",
    "all_sims <- cbind(all_sims, Density_km)\n",
    "#head(all_sims)\n",
    "\n",
    "Strip_Density <- calcDensity(all_sims$Actual_hits, all_sims$Area2_km)\n",
    "all_sims <- cbind(all_sims, Strip_Density)"
   ]
  },
  {
   "cell_type": "code",
   "execution_count": 18,
   "metadata": {},
   "outputs": [
    {
     "data": {
      "text/html": [
       "<table>\n",
       "<caption>A data.table: 6 × 13</caption>\n",
       "<thead>\n",
       "\t<tr><th scope=col>Camera</th><th scope=col>Speed</th><th scope=col>Animal</th><th scope=col>Animal_path</th><th scope=col>UAV_path</th><th scope=col>Bias</th><th scope=col>Total_hits</th><th scope=col>Actual_hits</th><th scope=col>Area_km</th><th scope=col>Area2_km</th><th scope=col>True_Density</th><th scope=col>Density_km</th><th scope=col>Strip_Density</th></tr>\n",
       "\t<tr><th scope=col>&lt;fct&gt;</th><th scope=col>&lt;dbl&gt;</th><th scope=col>&lt;fct&gt;</th><th scope=col>&lt;chr&gt;</th><th scope=col>&lt;chr&gt;</th><th scope=col>&lt;chr&gt;</th><th scope=col>&lt;int&gt;</th><th scope=col>&lt;int&gt;</th><th scope=col>&lt;dbl&gt;</th><th scope=col>&lt;dbl&gt;</th><th scope=col>&lt;dbl&gt;</th><th scope=col>&lt;dbl&gt;</th><th scope=col>&lt;dbl&gt;</th></tr>\n",
       "</thead>\n",
       "<tbody>\n",
       "\t<tr><td>garmin</td><td>1</td><td>frigate</td><td>straight</td><td>lawnmower</td><td>yes</td><td>0</td><td>0</td><td>18.09928</td><td>17.75318</td><td>0.04</td><td>0</td><td>0</td></tr>\n",
       "\t<tr><td>garmin</td><td>1</td><td>frigate</td><td>straight</td><td>lawnmower</td><td>yes</td><td>0</td><td>0</td><td>18.09928</td><td>17.75318</td><td>0.04</td><td>0</td><td>0</td></tr>\n",
       "\t<tr><td>garmin</td><td>1</td><td>frigate</td><td>straight</td><td>lawnmower</td><td>no </td><td>0</td><td>0</td><td>18.09928</td><td>17.75318</td><td>0.04</td><td>0</td><td>0</td></tr>\n",
       "\t<tr><td>garmin</td><td>1</td><td>frigate</td><td>straight</td><td>lawnmower</td><td>no </td><td>0</td><td>0</td><td>18.09928</td><td>17.75318</td><td>0.04</td><td>0</td><td>0</td></tr>\n",
       "\t<tr><td>garmin</td><td>1</td><td>frigate</td><td>straight</td><td>figure8  </td><td>yes</td><td>0</td><td>0</td><td>18.09928</td><td>17.75318</td><td>0.04</td><td>0</td><td>0</td></tr>\n",
       "\t<tr><td>garmin</td><td>1</td><td>frigate</td><td>straight</td><td>figure8  </td><td>yes</td><td>0</td><td>0</td><td>18.09928</td><td>17.75318</td><td>0.04</td><td>0</td><td>0</td></tr>\n",
       "</tbody>\n",
       "</table>\n"
      ],
      "text/latex": [
       "A data.table: 6 × 13\n",
       "\\begin{tabular}{r|lllllllllllll}\n",
       " Camera & Speed & Animal & Animal\\_path & UAV\\_path & Bias & Total\\_hits & Actual\\_hits & Area\\_km & Area2\\_km & True\\_Density & Density\\_km & Strip\\_Density\\\\\n",
       " <fct> & <dbl> & <fct> & <chr> & <chr> & <chr> & <int> & <int> & <dbl> & <dbl> & <dbl> & <dbl> & <dbl>\\\\\n",
       "\\hline\n",
       "\t garmin & 1 & frigate & straight & lawnmower & yes & 0 & 0 & 18.09928 & 17.75318 & 0.04 & 0 & 0\\\\\n",
       "\t garmin & 1 & frigate & straight & lawnmower & yes & 0 & 0 & 18.09928 & 17.75318 & 0.04 & 0 & 0\\\\\n",
       "\t garmin & 1 & frigate & straight & lawnmower & no  & 0 & 0 & 18.09928 & 17.75318 & 0.04 & 0 & 0\\\\\n",
       "\t garmin & 1 & frigate & straight & lawnmower & no  & 0 & 0 & 18.09928 & 17.75318 & 0.04 & 0 & 0\\\\\n",
       "\t garmin & 1 & frigate & straight & figure8   & yes & 0 & 0 & 18.09928 & 17.75318 & 0.04 & 0 & 0\\\\\n",
       "\t garmin & 1 & frigate & straight & figure8   & yes & 0 & 0 & 18.09928 & 17.75318 & 0.04 & 0 & 0\\\\\n",
       "\\end{tabular}\n"
      ],
      "text/markdown": [
       "\n",
       "A data.table: 6 × 13\n",
       "\n",
       "| Camera &lt;fct&gt; | Speed &lt;dbl&gt; | Animal &lt;fct&gt; | Animal_path &lt;chr&gt; | UAV_path &lt;chr&gt; | Bias &lt;chr&gt; | Total_hits &lt;int&gt; | Actual_hits &lt;int&gt; | Area_km &lt;dbl&gt; | Area2_km &lt;dbl&gt; | True_Density &lt;dbl&gt; | Density_km &lt;dbl&gt; | Strip_Density &lt;dbl&gt; |\n",
       "|---|---|---|---|---|---|---|---|---|---|---|---|---|\n",
       "| garmin | 1 | frigate | straight | lawnmower | yes | 0 | 0 | 18.09928 | 17.75318 | 0.04 | 0 | 0 |\n",
       "| garmin | 1 | frigate | straight | lawnmower | yes | 0 | 0 | 18.09928 | 17.75318 | 0.04 | 0 | 0 |\n",
       "| garmin | 1 | frigate | straight | lawnmower | no  | 0 | 0 | 18.09928 | 17.75318 | 0.04 | 0 | 0 |\n",
       "| garmin | 1 | frigate | straight | lawnmower | no  | 0 | 0 | 18.09928 | 17.75318 | 0.04 | 0 | 0 |\n",
       "| garmin | 1 | frigate | straight | figure8   | yes | 0 | 0 | 18.09928 | 17.75318 | 0.04 | 0 | 0 |\n",
       "| garmin | 1 | frigate | straight | figure8   | yes | 0 | 0 | 18.09928 | 17.75318 | 0.04 | 0 | 0 |\n",
       "\n"
      ],
      "text/plain": [
       "  Camera Speed Animal  Animal_path UAV_path  Bias Total_hits Actual_hits\n",
       "1 garmin 1     frigate straight    lawnmower yes  0          0          \n",
       "2 garmin 1     frigate straight    lawnmower yes  0          0          \n",
       "3 garmin 1     frigate straight    lawnmower no   0          0          \n",
       "4 garmin 1     frigate straight    lawnmower no   0          0          \n",
       "5 garmin 1     frigate straight    figure8   yes  0          0          \n",
       "6 garmin 1     frigate straight    figure8   yes  0          0          \n",
       "  Area_km  Area2_km True_Density Density_km Strip_Density\n",
       "1 18.09928 17.75318 0.04         0          0            \n",
       "2 18.09928 17.75318 0.04         0          0            \n",
       "3 18.09928 17.75318 0.04         0          0            \n",
       "4 18.09928 17.75318 0.04         0          0            \n",
       "5 18.09928 17.75318 0.04         0          0            \n",
       "6 18.09928 17.75318 0.04         0          0            "
      ]
     },
     "metadata": {},
     "output_type": "display_data"
    }
   ],
   "source": [
    "head(all_sims)"
   ]
  },
  {
   "cell_type": "code",
   "execution_count": 21,
   "metadata": {},
   "outputs": [],
   "source": [
    "Prop_err <- apply(all_sims, 1, function(x) ((as.numeric(x[12]) - as.numeric(x[11])) /as.numeric(x[11]))*100)\n",
    "Strip_err <- apply(all_sims, 1, function(x) ((as.numeric(x[13]) - as.numeric(x[11])) /as.numeric(x[11]))*100)"
   ]
  },
  {
   "cell_type": "code",
   "execution_count": 22,
   "metadata": {},
   "outputs": [],
   "source": [
    "all_sims <- cbind(all_sims, Prop_err)\n",
    "all_sims <- cbind(all_sims, Strip_err)"
   ]
  },
  {
   "cell_type": "code",
   "execution_count": 25,
   "metadata": {},
   "outputs": [
    {
     "data": {
      "text/html": [
       "-9.2763"
      ],
      "text/latex": [
       "-9.2763"
      ],
      "text/markdown": [
       "-9.2763"
      ],
      "text/plain": [
       "[1] -9.2763"
      ]
     },
     "metadata": {},
     "output_type": "display_data"
    },
    {
     "data": {
      "text/html": [
       "-16.590175"
      ],
      "text/latex": [
       "-16.590175"
      ],
      "text/markdown": [
       "-16.590175"
      ],
      "text/plain": [
       "[1] -16.59018"
      ]
     },
     "metadata": {},
     "output_type": "display_data"
    },
    {
     "data": {
      "text/html": [
       "0.0980472132628857"
      ],
      "text/latex": [
       "0.0980472132628857"
      ],
      "text/markdown": [
       "0.0980472132628857"
      ],
      "text/plain": [
       "[1] 0.09804721"
      ]
     },
     "metadata": {},
     "output_type": "display_data"
    },
    {
     "data": {
      "text/html": [
       "0.0869365792438222"
      ],
      "text/latex": [
       "0.0869365792438222"
      ],
      "text/markdown": [
       "0.0869365792438222"
      ],
      "text/plain": [
       "[1] 0.08693658"
      ]
     },
     "metadata": {},
     "output_type": "display_data"
    }
   ],
   "source": [
    "median(Prop_err)\n",
    "median(Strip_err)\n",
    "\n",
    "IQR(Density_km)\n",
    "IQR(Strip_Density)"
   ]
  },
  {
   "cell_type": "code",
   "execution_count": 20,
   "metadata": {},
   "outputs": [
    {
     "data": {
      "text/html": [
       "-100"
      ],
      "text/latex": [
       "-100"
      ],
      "text/markdown": [
       "-100"
      ],
      "text/plain": [
       "[1] -100"
      ]
     },
     "metadata": {},
     "output_type": "display_data"
    },
    {
     "data": {
      "text/html": [
       "145.118025"
      ],
      "text/latex": [
       "145.118025"
      ],
      "text/markdown": [
       "145.118025"
      ],
      "text/plain": [
       "[1] 145.118"
      ]
     },
     "metadata": {},
     "output_type": "display_data"
    },
    {
     "data": {
      "image/png": "[encoded data removed]",
      "text/plain": [
       "plot without title"
      ]
     },
     "metadata": {},
     "output_type": "display_data"
    }
   ],
   "source": [
    "# Precision and Accuracy overall\n",
    "\n",
    "#median(Prop_err)\n",
    "#max(Prop_err)\n",
    "#min(Prop_err)\n",
    "order_prop <- sort(Prop_err)\n",
    "lower = order_prop[0.25*length(order_prop)]\n",
    "upper = order_prop[0.75*length(order_prop)]\n",
    "lower\n",
    "upper\n",
    "\n",
    "all_sim_err <- ggplot(data = all_sims, aes(x = Prop_err)) + \n",
    "                geom_density(colour = 'slateblue') +\n",
    "                xlab(\"Percentage Error (%)\") +\n",
    "                ylab('Density') +\n",
    "                theme_bw() +\n",
    "                geom_vline(xintercept = median(Prop_err), color = 'dodgerblue3') +\n",
    "                geom_vline(xintercept = lower, color = 'dodgerblue3', linetype = 'dotted') +\n",
    "                geom_vline(xintercept = upper, color = 'dodgerblue3', linetype = 'dotted')\n",
    "\n",
    "all_sim_err"
   ]
  },
  {
   "cell_type": "code",
   "execution_count": 12,
   "metadata": {},
   "outputs": [
    {
     "data": {
      "text/html": [
       "<strong>png:</strong> 2"
      ],
      "text/latex": [
       "\\textbf{png:} 2"
      ],
      "text/markdown": [
       "**png:** 2"
      ],
      "text/plain": [
       "png \n",
       "  2 "
      ]
     },
     "metadata": {},
     "output_type": "display_data"
    }
   ],
   "source": [
    "pdf(file = paste(\"../Results/Err_density.jpg\"))\n",
    "print(all_sim_err)\n",
    "dev.off()"
   ]
  },
  {
   "cell_type": "code",
   "execution_count": 21,
   "metadata": {},
   "outputs": [
    {
     "data": {
      "text/html": [
       "-100"
      ],
      "text/latex": [
       "-100"
      ],
      "text/markdown": [
       "-100"
      ],
      "text/plain": [
       "[1] -100"
      ]
     },
     "metadata": {},
     "output_type": "display_data"
    },
    {
     "data": {
      "text/html": [
       "-9.2763"
      ],
      "text/latex": [
       "-9.2763"
      ],
      "text/markdown": [
       "-9.2763"
      ],
      "text/plain": [
       "[1] -9.2763"
      ]
     },
     "metadata": {},
     "output_type": "display_data"
    },
    {
     "data": {
      "text/html": [
       "0.0980472132628857"
      ],
      "text/latex": [
       "0.0980472132628857"
      ],
      "text/markdown": [
       "0.0980472132628857"
      ],
      "text/plain": [
       "[1] 0.09804721"
      ]
     },
     "metadata": {},
     "output_type": "display_data"
    }
   ],
   "source": [
    "min(all_sims$Prop_err)\n",
    "median(all_sims$Prop_err)\n",
    "#sd(all_sims$Prop_err)\n",
    "IQR(all_sims$Density_km)"
   ]
  },
  {
   "cell_type": "code",
   "execution_count": 22,
   "metadata": {},
   "outputs": [
    {
     "data": {
      "text/html": [
       "<table>\n",
       "<caption>A data.frame: 20 × 2</caption>\n",
       "<thead>\n",
       "\t<tr><th></th><th scope=col>Abundance</th><th scope=col>Total_Encounters</th></tr>\n",
       "\t<tr><th></th><th scope=col>&lt;dbl&gt;</th><th scope=col>&lt;dbl&gt;</th></tr>\n",
       "</thead>\n",
       "<tbody>\n",
       "\t<tr><th scope=row>2</th><td> 10</td><td> 36</td></tr>\n",
       "\t<tr><th scope=row>3</th><td> 20</td><td> 31</td></tr>\n",
       "\t<tr><th scope=row>4</th><td> 30</td><td> 62</td></tr>\n",
       "\t<tr><th scope=row>5</th><td> 40</td><td>102</td></tr>\n",
       "\t<tr><th scope=row>6</th><td> 50</td><td> 86</td></tr>\n",
       "\t<tr><th scope=row>7</th><td> 60</td><td> 86</td></tr>\n",
       "\t<tr><th scope=row>8</th><td> 70</td><td>129</td></tr>\n",
       "\t<tr><th scope=row>9</th><td> 80</td><td>119</td></tr>\n",
       "\t<tr><th scope=row>10</th><td> 90</td><td>139</td></tr>\n",
       "\t<tr><th scope=row>11</th><td>100</td><td>226</td></tr>\n",
       "\t<tr><th scope=row>12</th><td>110</td><td>181</td></tr>\n",
       "\t<tr><th scope=row>13</th><td>120</td><td>217</td></tr>\n",
       "\t<tr><th scope=row>14</th><td>130</td><td>198</td></tr>\n",
       "\t<tr><th scope=row>15</th><td>140</td><td>201</td></tr>\n",
       "\t<tr><th scope=row>16</th><td>150</td><td>312</td></tr>\n",
       "\t<tr><th scope=row>17</th><td>160</td><td>253</td></tr>\n",
       "\t<tr><th scope=row>18</th><td>170</td><td>316</td></tr>\n",
       "\t<tr><th scope=row>19</th><td>180</td><td>330</td></tr>\n",
       "\t<tr><th scope=row>20</th><td>190</td><td>313</td></tr>\n",
       "\t<tr><th scope=row>21</th><td>200</td><td>360</td></tr>\n",
       "</tbody>\n",
       "</table>\n"
      ],
      "text/latex": [
       "A data.frame: 20 × 2\n",
       "\\begin{tabular}{r|ll}\n",
       "  & Abundance & Total\\_Encounters\\\\\n",
       "  & <dbl> & <dbl>\\\\\n",
       "\\hline\n",
       "\t2 &  10 &  36\\\\\n",
       "\t3 &  20 &  31\\\\\n",
       "\t4 &  30 &  62\\\\\n",
       "\t5 &  40 & 102\\\\\n",
       "\t6 &  50 &  86\\\\\n",
       "\t7 &  60 &  86\\\\\n",
       "\t8 &  70 & 129\\\\\n",
       "\t9 &  80 & 119\\\\\n",
       "\t10 &  90 & 139\\\\\n",
       "\t11 & 100 & 226\\\\\n",
       "\t12 & 110 & 181\\\\\n",
       "\t13 & 120 & 217\\\\\n",
       "\t14 & 130 & 198\\\\\n",
       "\t15 & 140 & 201\\\\\n",
       "\t16 & 150 & 312\\\\\n",
       "\t17 & 160 & 253\\\\\n",
       "\t18 & 170 & 316\\\\\n",
       "\t19 & 180 & 330\\\\\n",
       "\t20 & 190 & 313\\\\\n",
       "\t21 & 200 & 360\\\\\n",
       "\\end{tabular}\n"
      ],
      "text/markdown": [
       "\n",
       "A data.frame: 20 × 2\n",
       "\n",
       "| <!--/--> | Abundance &lt;dbl&gt; | Total_Encounters &lt;dbl&gt; |\n",
       "|---|---|---|\n",
       "| 2 |  10 |  36 |\n",
       "| 3 |  20 |  31 |\n",
       "| 4 |  30 |  62 |\n",
       "| 5 |  40 | 102 |\n",
       "| 6 |  50 |  86 |\n",
       "| 7 |  60 |  86 |\n",
       "| 8 |  70 | 129 |\n",
       "| 9 |  80 | 119 |\n",
       "| 10 |  90 | 139 |\n",
       "| 11 | 100 | 226 |\n",
       "| 12 | 110 | 181 |\n",
       "| 13 | 120 | 217 |\n",
       "| 14 | 130 | 198 |\n",
       "| 15 | 140 | 201 |\n",
       "| 16 | 150 | 312 |\n",
       "| 17 | 160 | 253 |\n",
       "| 18 | 170 | 316 |\n",
       "| 19 | 180 | 330 |\n",
       "| 20 | 190 | 313 |\n",
       "| 21 | 200 | 360 |\n",
       "\n"
      ],
      "text/plain": [
       "   Abundance Total_Encounters\n",
       "2   10        36             \n",
       "3   20        31             \n",
       "4   30        62             \n",
       "5   40       102             \n",
       "6   50        86             \n",
       "7   60        86             \n",
       "8   70       129             \n",
       "9   80       119             \n",
       "10  90       139             \n",
       "11 100       226             \n",
       "12 110       181             \n",
       "13 120       217             \n",
       "14 130       198             \n",
       "15 140       201             \n",
       "16 150       312             \n",
       "17 160       253             \n",
       "18 170       316             \n",
       "19 180       330             \n",
       "20 190       313             \n",
       "21 200       360             "
      ]
     },
     "metadata": {},
     "output_type": "display_data"
    },
    {
     "data": {
      "image/png": "[encoded data removed]",
      "text/plain": [
       "plot without title"
      ]
     },
     "metadata": {},
     "output_type": "display_data"
    }
   ],
   "source": [
    "# Number of Animals/ Encounters until precision / accuracy levels off\n",
    "\n",
    "# Abundance\n",
    "abundance_gen <- function(n, df = all_sims){\n",
    "    # Randomly select rows to represent abundance\n",
    "    n <- sample_n(df, n)\n",
    "    return(n)\n",
    "}\n",
    "\n",
    "\n",
    "abundance_density <- function(df){\n",
    "    z <- sum(df$Actual_hits)\n",
    "    A <- 25\n",
    "    density <- calcDensity(z, A)\n",
    "    return(density)\n",
    "}\n",
    "\n",
    "#random10 <- abundance_gen(10)\n",
    "#random10\n",
    "#random30 <- abundance_gen(30)\n",
    "#random50 <- abundance_gen(50)\n",
    "#random70 <- abundance_gen(70)\n",
    "#random100 <- abundance_gen(100)\n",
    "#random120 <- abundance_gen(120)\n",
    "\n",
    "abund_table <- function(str_list){\n",
    "    # Calculate the overall density and standard distribution for subset\n",
    "    table <- data.frame('Abundance'= 0, 'Encounters'=0)\n",
    "    for(i in str_list){\n",
    "        true_den <- i/25 # True density\n",
    "        set <- abundance_gen(i) \n",
    "        #density <- abundance_density(set) #Calculated density for that area\n",
    "        #iqr <- IQR(density) # Precision\n",
    "        ent <- sum(set$Actual_hits)\n",
    "        row <- c(i, ent)\n",
    "        table <- rbind(table, row)\n",
    "    }\n",
    "    table <- table[-1,]\n",
    "    colnames(table) <- c(\"Abundance\", \"Total_Encounters\")\n",
    "    return(table)\n",
    "}\n",
    "    \n",
    "\n",
    "\n",
    "\n",
    "\n",
    "abundances <- c(10, 20, 30, 40, 50, 60, 70, 80, 90, 100, 110, 120, 130, 140, 150, 160, 170, 180, 190, 200)\n",
    "#abundances <- c(100, 200, 500, 700, 1000)\n",
    "                                \n",
    "                                \n",
    "ab <- abund_table(abundances)\n",
    "#colnames(ab) <- c(\"Abundance\", \"Density\", \"SD\")\n",
    "ab\n",
    "\n",
    "    \n",
    "ab_tab <- function(str_list){\n",
    "    den_table <- c()\n",
    "    for(i in str_list){\n",
    "        #den <- c()\n",
    "        for(j in 1:100){\n",
    "            set <- abundance_gen(i)\n",
    "            density <- abundance_density(set)\n",
    "            den_table <- c(den_table, density)\n",
    "        }\n",
    "    }\n",
    "    return(den_table)\n",
    "}\n",
    "\n",
    "    \n",
    "    \n",
    "    \n",
    "    \n",
    "    \n",
    "abund_graph <- ggplot(ab, aes(x = Abundance, y = Total_Encounters)) +\n",
    "                    geom_bar(stat = 'identity', fill = 'skyblue3') +\n",
    "                    #geom_errorbar(aes(ymin=Density-(SD/2), ymax = Density+(SD/2)), width=.15,\n",
    "                    #position=position_dodge(0.05), colour='darkblue') + \n",
    "                    ylab(\"Total Number of Encounters\") +\n",
    "                    theme_classic()\n",
    "abund_graph"
   ]
  },
  {
   "cell_type": "code",
   "execution_count": 125,
   "metadata": {},
   "outputs": [
    {
     "data": {
      "text/html": [
       "<strong>png:</strong> 2"
      ],
      "text/latex": [
       "\\textbf{png:} 2"
      ],
      "text/markdown": [
       "**png:** 2"
      ],
      "text/plain": [
       "png \n",
       "  2 "
      ]
     },
     "metadata": {},
     "output_type": "display_data"
    }
   ],
   "source": [
    "pdf(file = paste(\"../Results/encount_abund.pdf\"))\n",
    "print(abund_graph)\n",
    "dev.off()"
   ]
  },
  {
   "cell_type": "code",
   "execution_count": 126,
   "metadata": {},
   "outputs": [],
   "source": [
    "#test <- abunda[20,]\n",
    "#test\n",
    "#est_test <- abunda[20,2:101]\n",
    "#est_test\n",
    "#sapply(est_test, function(x) ((x-200)/200)*100)"
   ]
  },
  {
   "cell_type": "code",
   "execution_count": 23,
   "metadata": {},
   "outputs": [
    {
     "data": {
      "text/html": [
       "2000"
      ],
      "text/latex": [
       "2000"
      ],
      "text/markdown": [
       "2000"
      ],
      "text/plain": [
       "[1] 2000"
      ]
     },
     "metadata": {},
     "output_type": "display_data"
    }
   ],
   "source": [
    "# Abundace accuracy and precision\n",
    "\n",
    "t <- ab_tab(abundances)\n",
    "length(t)\n",
    "d <- as.data.frame(matrix(t, ncol = 100,  byrow = TRUE), stringsAsFactors = FALSE)\n",
    "abunda <- cbind(abundances, d)\n",
    "prec <- apply(d, 1, function(x) IQR(x))\n",
    "\n",
    "cv <- apply(d, 1, function(x) (sd(x)/mean(x))*100)\n",
    "\n",
    "\n",
    "\n",
    "acc <- c()\n",
    "for(i in 1:nrow(abunda)){\n",
    "    true <- abunda[i,1]\n",
    "    est <- as.numeric(abunda[i, 2:101])\n",
    "    perc <- sapply(est, function(x) ((x - true)/true)*100)\n",
    "    #print(perc)\n",
    "    acc <- c(acc, perc)\n",
    "}\n",
    "\n",
    "#acc\n",
    "accuracy <- as.data.frame(matrix(acc, ncol = 100,  byrow = TRUE), stringsAsFactors = FALSE)\n",
    "med_acc <- apply(accuracy, 1, function(x) median(x))\n",
    "#med_acc"
   ]
  },
  {
   "cell_type": "code",
   "execution_count": 24,
   "metadata": {},
   "outputs": [
    {
     "data": {
      "image/png": "[encoded data removed]",
      "text/plain": [
       "plot without title"
      ]
     },
     "metadata": {},
     "output_type": "display_data"
    }
   ],
   "source": [
    "abunda_tab <- cbind(abundances, med_acc, prec, cv)\n",
    "colnames(abunda_tab) <- c(\"Abundance\", \"Accuracy(Median Percentage Error (%))\",\"DensityIQR\", \"CV\")\n",
    "abunda_tab <- as.data.frame(abunda_tab)\n",
    "                 \n",
    "                 \n",
    "abunda_plot <- ggplot(abunda_tab, aes(x=Abundance, DensityIQR)) +\n",
    "                  geom_point(colour=\"darkblue\")+\n",
    "                  geom_line(colour='slateblue') +\n",
    "                  xlab(\"Abundance\")+\n",
    "                  ylab(expression(paste(\"Estimated Density Interquartile range (per \", km^2,\")\", sep=\" \"))) +\n",
    "                  theme_classic() \n",
    "\n",
    "abunda_plot"
   ]
  },
  {
   "cell_type": "code",
   "execution_count": 176,
   "metadata": {},
   "outputs": [
    {
     "data": {
      "text/html": [
       "<table>\n",
       "<caption>A data.frame: 20 × 4</caption>\n",
       "<thead>\n",
       "\t<tr><th scope=col>Abundance</th><th scope=col>Accuracy(Median Percentage Error (%))</th><th scope=col>DensityIQR</th><th scope=col>CV</th></tr>\n",
       "\t<tr><th scope=col>&lt;dbl&gt;</th><th scope=col>&lt;dbl&gt;</th><th scope=col>&lt;dbl&gt;</th><th scope=col>&lt;dbl&gt;</th></tr>\n",
       "</thead>\n",
       "<tbody>\n",
       "\t<tr><td> 10</td><td>-92.80000</td><td>0.61</td><td>56.52740</td></tr>\n",
       "\t<tr><td> 20</td><td>-93.10000</td><td>0.72</td><td>37.29676</td></tr>\n",
       "\t<tr><td> 30</td><td>-92.86667</td><td>0.82</td><td>26.41376</td></tr>\n",
       "\t<tr><td> 40</td><td>-92.70000</td><td>0.92</td><td>24.20833</td></tr>\n",
       "\t<tr><td> 50</td><td>-92.72000</td><td>1.21</td><td>22.44675</td></tr>\n",
       "\t<tr><td> 60</td><td>-92.36667</td><td>1.15</td><td>21.57577</td></tr>\n",
       "\t<tr><td> 70</td><td>-92.85714</td><td>1.27</td><td>19.08332</td></tr>\n",
       "\t<tr><td> 80</td><td>-92.77500</td><td>1.30</td><td>16.85105</td></tr>\n",
       "\t<tr><td> 90</td><td>-92.64444</td><td>1.38</td><td>15.46506</td></tr>\n",
       "\t<tr><td>100</td><td>-93.08000</td><td>1.53</td><td>16.36188</td></tr>\n",
       "\t<tr><td>110</td><td>-92.89091</td><td>1.62</td><td>14.47015</td></tr>\n",
       "\t<tr><td>120</td><td>-92.81667</td><td>1.42</td><td>13.53286</td></tr>\n",
       "\t<tr><td>130</td><td>-92.70769</td><td>1.89</td><td>15.12587</td></tr>\n",
       "\t<tr><td>140</td><td>-92.81429</td><td>1.88</td><td>14.41669</td></tr>\n",
       "\t<tr><td>150</td><td>-92.85333</td><td>1.95</td><td>14.00556</td></tr>\n",
       "\t<tr><td>160</td><td>-92.83750</td><td>1.74</td><td>12.19732</td></tr>\n",
       "\t<tr><td>170</td><td>-92.83529</td><td>2.16</td><td>13.66461</td></tr>\n",
       "\t<tr><td>180</td><td>-92.86667</td><td>2.50</td><td>13.25237</td></tr>\n",
       "\t<tr><td>190</td><td>-92.65263</td><td>2.25</td><td>11.84042</td></tr>\n",
       "\t<tr><td>200</td><td>-92.66000</td><td>2.29</td><td>12.14027</td></tr>\n",
       "</tbody>\n",
       "</table>\n"
      ],
      "text/latex": [
       "A data.frame: 20 × 4\n",
       "\\begin{tabular}{r|llll}\n",
       " Abundance & Accuracy(Median Percentage Error (\\%)) & DensityIQR & CV\\\\\n",
       " <dbl> & <dbl> & <dbl> & <dbl>\\\\\n",
       "\\hline\n",
       "\t  10 & -92.80000 & 0.61 & 56.52740\\\\\n",
       "\t  20 & -93.10000 & 0.72 & 37.29676\\\\\n",
       "\t  30 & -92.86667 & 0.82 & 26.41376\\\\\n",
       "\t  40 & -92.70000 & 0.92 & 24.20833\\\\\n",
       "\t  50 & -92.72000 & 1.21 & 22.44675\\\\\n",
       "\t  60 & -92.36667 & 1.15 & 21.57577\\\\\n",
       "\t  70 & -92.85714 & 1.27 & 19.08332\\\\\n",
       "\t  80 & -92.77500 & 1.30 & 16.85105\\\\\n",
       "\t  90 & -92.64444 & 1.38 & 15.46506\\\\\n",
       "\t 100 & -93.08000 & 1.53 & 16.36188\\\\\n",
       "\t 110 & -92.89091 & 1.62 & 14.47015\\\\\n",
       "\t 120 & -92.81667 & 1.42 & 13.53286\\\\\n",
       "\t 130 & -92.70769 & 1.89 & 15.12587\\\\\n",
       "\t 140 & -92.81429 & 1.88 & 14.41669\\\\\n",
       "\t 150 & -92.85333 & 1.95 & 14.00556\\\\\n",
       "\t 160 & -92.83750 & 1.74 & 12.19732\\\\\n",
       "\t 170 & -92.83529 & 2.16 & 13.66461\\\\\n",
       "\t 180 & -92.86667 & 2.50 & 13.25237\\\\\n",
       "\t 190 & -92.65263 & 2.25 & 11.84042\\\\\n",
       "\t 200 & -92.66000 & 2.29 & 12.14027\\\\\n",
       "\\end{tabular}\n"
      ],
      "text/markdown": [
       "\n",
       "A data.frame: 20 × 4\n",
       "\n",
       "| Abundance &lt;dbl&gt; | Accuracy(Median Percentage Error (%)) &lt;dbl&gt; | DensityIQR &lt;dbl&gt; | CV &lt;dbl&gt; |\n",
       "|---|---|---|---|\n",
       "|  10 | -92.80000 | 0.61 | 56.52740 |\n",
       "|  20 | -93.10000 | 0.72 | 37.29676 |\n",
       "|  30 | -92.86667 | 0.82 | 26.41376 |\n",
       "|  40 | -92.70000 | 0.92 | 24.20833 |\n",
       "|  50 | -92.72000 | 1.21 | 22.44675 |\n",
       "|  60 | -92.36667 | 1.15 | 21.57577 |\n",
       "|  70 | -92.85714 | 1.27 | 19.08332 |\n",
       "|  80 | -92.77500 | 1.30 | 16.85105 |\n",
       "|  90 | -92.64444 | 1.38 | 15.46506 |\n",
       "| 100 | -93.08000 | 1.53 | 16.36188 |\n",
       "| 110 | -92.89091 | 1.62 | 14.47015 |\n",
       "| 120 | -92.81667 | 1.42 | 13.53286 |\n",
       "| 130 | -92.70769 | 1.89 | 15.12587 |\n",
       "| 140 | -92.81429 | 1.88 | 14.41669 |\n",
       "| 150 | -92.85333 | 1.95 | 14.00556 |\n",
       "| 160 | -92.83750 | 1.74 | 12.19732 |\n",
       "| 170 | -92.83529 | 2.16 | 13.66461 |\n",
       "| 180 | -92.86667 | 2.50 | 13.25237 |\n",
       "| 190 | -92.65263 | 2.25 | 11.84042 |\n",
       "| 200 | -92.66000 | 2.29 | 12.14027 |\n",
       "\n"
      ],
      "text/plain": [
       "   Abundance Accuracy(Median Percentage Error (%)) DensityIQR CV      \n",
       "1   10       -92.80000                             0.61       56.52740\n",
       "2   20       -93.10000                             0.72       37.29676\n",
       "3   30       -92.86667                             0.82       26.41376\n",
       "4   40       -92.70000                             0.92       24.20833\n",
       "5   50       -92.72000                             1.21       22.44675\n",
       "6   60       -92.36667                             1.15       21.57577\n",
       "7   70       -92.85714                             1.27       19.08332\n",
       "8   80       -92.77500                             1.30       16.85105\n",
       "9   90       -92.64444                             1.38       15.46506\n",
       "10 100       -93.08000                             1.53       16.36188\n",
       "11 110       -92.89091                             1.62       14.47015\n",
       "12 120       -92.81667                             1.42       13.53286\n",
       "13 130       -92.70769                             1.89       15.12587\n",
       "14 140       -92.81429                             1.88       14.41669\n",
       "15 150       -92.85333                             1.95       14.00556\n",
       "16 160       -92.83750                             1.74       12.19732\n",
       "17 170       -92.83529                             2.16       13.66461\n",
       "18 180       -92.86667                             2.50       13.25237\n",
       "19 190       -92.65263                             2.25       11.84042\n",
       "20 200       -92.66000                             2.29       12.14027"
      ]
     },
     "metadata": {},
     "output_type": "display_data"
    }
   ],
   "source": [
    "abunda_tab"
   ]
  },
  {
   "cell_type": "code",
   "execution_count": 177,
   "metadata": {},
   "outputs": [
    {
     "data": {
      "text/html": [
       "<strong>png:</strong> 2"
      ],
      "text/latex": [
       "\\textbf{png:} 2"
      ],
      "text/markdown": [
       "**png:** 2"
      ],
      "text/plain": [
       "png \n",
       "  2 "
      ]
     },
     "metadata": {},
     "output_type": "display_data"
    }
   ],
   "source": [
    "pdf(file = paste(\"../Results/Prec_abund.pdf\"))\n",
    "print(abunda_plot)\n",
    "dev.off()"
   ]
  },
  {
   "cell_type": "code",
   "execution_count": 56,
   "metadata": {},
   "outputs": [],
   "source": [
    "library(xtable)\n",
    "abund_table <- xtable(abunda_tab)\n",
    "print.xtable(abund_table, type = \"latex\", floating = T, caption.placement = \"top\", file = \"../Results/abund_table.tex\",\n",
    "             include.rownames = F)"
   ]
  },
  {
   "cell_type": "code",
   "execution_count": 25,
   "metadata": {},
   "outputs": [
    {
     "data": {
      "text/html": [
       "<table>\n",
       "<caption>A tibble: 26 × 5</caption>\n",
       "<thead>\n",
       "\t<tr><th scope=col>Actual_hits</th><th scope=col>Encounters</th><th scope=col>Accuracy</th><th scope=col>Precision</th><th scope=col>CV</th></tr>\n",
       "\t<tr><th scope=col>&lt;int&gt;</th><th scope=col>&lt;int&gt;</th><th scope=col>&lt;dbl&gt;</th><th scope=col>&lt;dbl&gt;</th><th scope=col>&lt;dbl&gt;</th></tr>\n",
       "</thead>\n",
       "<tbody>\n",
       "\t<tr><td> 0</td><td>58152</td><td>-100.00000</td><td>0.00000000</td><td>      NaN</td></tr>\n",
       "\t<tr><td> 1</td><td>35458</td><td>  22.97075</td><td>0.03067748</td><td>29.696839</td></tr>\n",
       "\t<tr><td> 2</td><td>13680</td><td> 145.11802</td><td>0.05286467</td><td>27.244445</td></tr>\n",
       "\t<tr><td> 3</td><td> 6218</td><td> 243.70228</td><td>0.03939220</td><td>25.482700</td></tr>\n",
       "\t<tr><td> 4</td><td>  904</td><td> 309.57270</td><td>0.09278766</td><td>32.020365</td></tr>\n",
       "\t<tr><td> 5</td><td> 1220</td><td> 472.83712</td><td>0.04768745</td><td>23.699018</td></tr>\n",
       "\t<tr><td> 6</td><td> 3316</td><td> 587.40455</td><td>0.15786499</td><td>25.571713</td></tr>\n",
       "\t<tr><td> 7</td><td> 7122</td><td> 760.79525</td><td>0.21474238</td><td>27.570488</td></tr>\n",
       "\t<tr><td> 8</td><td> 5918</td><td> 880.47213</td><td>0.24541986</td><td>27.361621</td></tr>\n",
       "\t<tr><td> 9</td><td>  688</td><td> 877.56273</td><td>0.22985954</td><td>29.996681</td></tr>\n",
       "\t<tr><td>10</td><td>  212</td><td> 955.05628</td><td>0.25410583</td><td>32.455224</td></tr>\n",
       "\t<tr><td>11</td><td>   86</td><td>1094.79887</td><td>0.32460240</td><td>34.069843</td></tr>\n",
       "\t<tr><td>12</td><td>   42</td><td> 991.12820</td><td>0.13671981</td><td>25.256852</td></tr>\n",
       "\t<tr><td>13</td><td>   30</td><td>1082.05555</td><td>0.00000000</td><td> 6.324951</td></tr>\n",
       "\t<tr><td>14</td><td>   18</td><td>1172.98290</td><td>0.00000000</td><td>18.878836</td></tr>\n",
       "\t<tr><td>15</td><td>   20</td><td>1263.91022</td><td>0.00000000</td><td>27.108025</td></tr>\n",
       "\t<tr><td>16</td><td>   20</td><td>1354.83758</td><td>0.00000000</td><td>18.290375</td></tr>\n",
       "\t<tr><td>17</td><td>   68</td><td>1445.76492</td><td>0.00000000</td><td> 0.000000</td></tr>\n",
       "\t<tr><td>18</td><td>  208</td><td>1536.69227</td><td>0.00000000</td><td> 0.000000</td></tr>\n",
       "\t<tr><td>19</td><td>  400</td><td>1627.61962</td><td>0.00000000</td><td> 0.000000</td></tr>\n",
       "\t<tr><td>20</td><td>  336</td><td>1718.54697</td><td>0.00000000</td><td> 0.000000</td></tr>\n",
       "\t<tr><td>21</td><td>  190</td><td>1809.47432</td><td>0.00000000</td><td> 0.000000</td></tr>\n",
       "\t<tr><td>22</td><td>   70</td><td>1900.40167</td><td>0.00000000</td><td> 0.000000</td></tr>\n",
       "\t<tr><td>23</td><td>   16</td><td>1991.32903</td><td>0.00000000</td><td> 0.000000</td></tr>\n",
       "\t<tr><td>24</td><td>    6</td><td>2082.25637</td><td>0.00000000</td><td> 0.000000</td></tr>\n",
       "\t<tr><td>25</td><td>    2</td><td>2173.18372</td><td>0.00000000</td><td> 0.000000</td></tr>\n",
       "</tbody>\n",
       "</table>\n"
      ],
      "text/latex": [
       "A tibble: 26 × 5\n",
       "\\begin{tabular}{r|lllll}\n",
       " Actual\\_hits & Encounters & Accuracy & Precision & CV\\\\\n",
       " <int> & <int> & <dbl> & <dbl> & <dbl>\\\\\n",
       "\\hline\n",
       "\t  0 & 58152 & -100.00000 & 0.00000000 &       NaN\\\\\n",
       "\t  1 & 35458 &   22.97075 & 0.03067748 & 29.696839\\\\\n",
       "\t  2 & 13680 &  145.11802 & 0.05286467 & 27.244445\\\\\n",
       "\t  3 &  6218 &  243.70228 & 0.03939220 & 25.482700\\\\\n",
       "\t  4 &   904 &  309.57270 & 0.09278766 & 32.020365\\\\\n",
       "\t  5 &  1220 &  472.83712 & 0.04768745 & 23.699018\\\\\n",
       "\t  6 &  3316 &  587.40455 & 0.15786499 & 25.571713\\\\\n",
       "\t  7 &  7122 &  760.79525 & 0.21474238 & 27.570488\\\\\n",
       "\t  8 &  5918 &  880.47213 & 0.24541986 & 27.361621\\\\\n",
       "\t  9 &   688 &  877.56273 & 0.22985954 & 29.996681\\\\\n",
       "\t 10 &   212 &  955.05628 & 0.25410583 & 32.455224\\\\\n",
       "\t 11 &    86 & 1094.79887 & 0.32460240 & 34.069843\\\\\n",
       "\t 12 &    42 &  991.12820 & 0.13671981 & 25.256852\\\\\n",
       "\t 13 &    30 & 1082.05555 & 0.00000000 &  6.324951\\\\\n",
       "\t 14 &    18 & 1172.98290 & 0.00000000 & 18.878836\\\\\n",
       "\t 15 &    20 & 1263.91022 & 0.00000000 & 27.108025\\\\\n",
       "\t 16 &    20 & 1354.83758 & 0.00000000 & 18.290375\\\\\n",
       "\t 17 &    68 & 1445.76492 & 0.00000000 &  0.000000\\\\\n",
       "\t 18 &   208 & 1536.69227 & 0.00000000 &  0.000000\\\\\n",
       "\t 19 &   400 & 1627.61962 & 0.00000000 &  0.000000\\\\\n",
       "\t 20 &   336 & 1718.54697 & 0.00000000 &  0.000000\\\\\n",
       "\t 21 &   190 & 1809.47432 & 0.00000000 &  0.000000\\\\\n",
       "\t 22 &    70 & 1900.40167 & 0.00000000 &  0.000000\\\\\n",
       "\t 23 &    16 & 1991.32903 & 0.00000000 &  0.000000\\\\\n",
       "\t 24 &     6 & 2082.25637 & 0.00000000 &  0.000000\\\\\n",
       "\t 25 &     2 & 2173.18372 & 0.00000000 &  0.000000\\\\\n",
       "\\end{tabular}\n"
      ],
      "text/markdown": [
       "\n",
       "A tibble: 26 × 5\n",
       "\n",
       "| Actual_hits &lt;int&gt; | Encounters &lt;int&gt; | Accuracy &lt;dbl&gt; | Precision &lt;dbl&gt; | CV &lt;dbl&gt; |\n",
       "|---|---|---|---|---|\n",
       "|  0 | 58152 | -100.00000 | 0.00000000 |       NaN |\n",
       "|  1 | 35458 |   22.97075 | 0.03067748 | 29.696839 |\n",
       "|  2 | 13680 |  145.11802 | 0.05286467 | 27.244445 |\n",
       "|  3 |  6218 |  243.70228 | 0.03939220 | 25.482700 |\n",
       "|  4 |   904 |  309.57270 | 0.09278766 | 32.020365 |\n",
       "|  5 |  1220 |  472.83712 | 0.04768745 | 23.699018 |\n",
       "|  6 |  3316 |  587.40455 | 0.15786499 | 25.571713 |\n",
       "|  7 |  7122 |  760.79525 | 0.21474238 | 27.570488 |\n",
       "|  8 |  5918 |  880.47213 | 0.24541986 | 27.361621 |\n",
       "|  9 |   688 |  877.56273 | 0.22985954 | 29.996681 |\n",
       "| 10 |   212 |  955.05628 | 0.25410583 | 32.455224 |\n",
       "| 11 |    86 | 1094.79887 | 0.32460240 | 34.069843 |\n",
       "| 12 |    42 |  991.12820 | 0.13671981 | 25.256852 |\n",
       "| 13 |    30 | 1082.05555 | 0.00000000 |  6.324951 |\n",
       "| 14 |    18 | 1172.98290 | 0.00000000 | 18.878836 |\n",
       "| 15 |    20 | 1263.91022 | 0.00000000 | 27.108025 |\n",
       "| 16 |    20 | 1354.83758 | 0.00000000 | 18.290375 |\n",
       "| 17 |    68 | 1445.76492 | 0.00000000 |  0.000000 |\n",
       "| 18 |   208 | 1536.69227 | 0.00000000 |  0.000000 |\n",
       "| 19 |   400 | 1627.61962 | 0.00000000 |  0.000000 |\n",
       "| 20 |   336 | 1718.54697 | 0.00000000 |  0.000000 |\n",
       "| 21 |   190 | 1809.47432 | 0.00000000 |  0.000000 |\n",
       "| 22 |    70 | 1900.40167 | 0.00000000 |  0.000000 |\n",
       "| 23 |    16 | 1991.32903 | 0.00000000 |  0.000000 |\n",
       "| 24 |     6 | 2082.25637 | 0.00000000 |  0.000000 |\n",
       "| 25 |     2 | 2173.18372 | 0.00000000 |  0.000000 |\n",
       "\n"
      ],
      "text/plain": [
       "   Actual_hits Encounters Accuracy   Precision  CV       \n",
       "1   0          58152      -100.00000 0.00000000       NaN\n",
       "2   1          35458        22.97075 0.03067748 29.696839\n",
       "3   2          13680       145.11802 0.05286467 27.244445\n",
       "4   3           6218       243.70228 0.03939220 25.482700\n",
       "5   4            904       309.57270 0.09278766 32.020365\n",
       "6   5           1220       472.83712 0.04768745 23.699018\n",
       "7   6           3316       587.40455 0.15786499 25.571713\n",
       "8   7           7122       760.79525 0.21474238 27.570488\n",
       "9   8           5918       880.47213 0.24541986 27.361621\n",
       "10  9            688       877.56273 0.22985954 29.996681\n",
       "11 10            212       955.05628 0.25410583 32.455224\n",
       "12 11             86      1094.79887 0.32460240 34.069843\n",
       "13 12             42       991.12820 0.13671981 25.256852\n",
       "14 13             30      1082.05555 0.00000000  6.324951\n",
       "15 14             18      1172.98290 0.00000000 18.878836\n",
       "16 15             20      1263.91022 0.00000000 27.108025\n",
       "17 16             20      1354.83758 0.00000000 18.290375\n",
       "18 17             68      1445.76492 0.00000000  0.000000\n",
       "19 18            208      1536.69227 0.00000000  0.000000\n",
       "20 19            400      1627.61962 0.00000000  0.000000\n",
       "21 20            336      1718.54697 0.00000000  0.000000\n",
       "22 21            190      1809.47432 0.00000000  0.000000\n",
       "23 22             70      1900.40167 0.00000000  0.000000\n",
       "24 23             16      1991.32903 0.00000000  0.000000\n",
       "25 24              6      2082.25637 0.00000000  0.000000\n",
       "26 25              2      2173.18372 0.00000000  0.000000"
      ]
     },
     "metadata": {},
     "output_type": "display_data"
    },
    {
     "data": {
      "image/png": "[encoded data removed]",
      "text/plain": [
       "plot without title"
      ]
     },
     "metadata": {},
     "output_type": "display_data"
    }
   ],
   "source": [
    "# For each group of encounters, what was the density calculation and error\n",
    "# Subset all_sims by number of encounters, counting the amount in that category and the total area\n",
    "capt_err <- all_sims %>% \n",
    "            group_by(Actual_hits) %>%\n",
    "                summarise(Encounters = length(Actual_hits),\n",
    "                          Accuracy = median(Prop_err),\n",
    "                          Precision = IQR(Density_km),\n",
    "                          CV = (sd(Density_km)/mean(Density_km))*100)\n",
    "\n",
    "capt_err\n",
    "hit_plot <- ggplot(capt_err, aes(x=Actual_hits, y = Precision)) +\n",
    "                  geom_point(colour=\"darkblue\")+\n",
    "                  geom_line(colour='slateblue') +\n",
    "                  xlab(\"Encounter rate\")+\n",
    "                  ylab(expression(paste(\"Estimated Density Interquartile range (per \", km^2,\")\", sep=\" \"))) +\n",
    "                  theme_classic() +\n",
    "                  theme(axis.title.y=element_blank())\n",
    "\n",
    "#pdf(file = paste(\"../Results/encounters_density.pdf\"))\n",
    "print(hit_plot)\n",
    "#dev.off()\n",
    "#hit_tab <- hit_tab[,-6]\n",
    "#cols <- c('Number of Encounters', 'Frequency', 'Area (km)', 'Density (per km2)', 'Standard Deviation')\n",
    "#colnames(hit_tab) <- cols\n"
   ]
  },
  {
   "cell_type": "code",
   "execution_count": 22,
   "metadata": {},
   "outputs": [],
   "source": [
    "write.table(capt_err, file = \"../Results/encount_table.txt\")"
   ]
  },
  {
   "cell_type": "code",
   "execution_count": 45,
   "metadata": {},
   "outputs": [],
   "source": [
    "encount_table <- xtable(capt_err)\n",
    "print.xtable(encount_table, type = \"latex\", floating = T, caption.placement = \"top\", file = \"../Results/encount_table.tex\",\n",
    "             include.rownames = F)"
   ]
  },
  {
   "cell_type": "code",
   "execution_count": 62,
   "metadata": {},
   "outputs": [
    {
     "data": {
      "text/html": [
       "<strong>png:</strong> 2"
      ],
      "text/latex": [
       "\\textbf{png:} 2"
      ],
      "text/markdown": [
       "**png:** 2"
      ],
      "text/plain": [
       "png \n",
       "  2 "
      ]
     },
     "metadata": {},
     "output_type": "display_data"
    }
   ],
   "source": [
    "pdf(file = paste(\"../Results/Err_encount.pdf\"))\n",
    "print(hit_plot)\n",
    "dev.off()"
   ]
  },
  {
   "cell_type": "markdown",
   "metadata": {},
   "source": [
    "### Model precision and accuracy between groups"
   ]
  },
  {
   "cell_type": "code",
   "execution_count": 29,
   "metadata": {
    "scrolled": true
   },
   "outputs": [
    {
     "data": {
      "text/html": [
       "<table>\n",
       "<caption>A data.frame: 8 × 5</caption>\n",
       "<thead>\n",
       "\t<tr><th scope=col>Animal</th><th scope=col>Accuracy</th><th scope=col>Precision</th><th scope=col>Encounter</th><th scope=col>Mean_Cruise</th></tr>\n",
       "\t<tr><th scope=col>&lt;fct&gt;</th><th scope=col>&lt;dbl&gt;</th><th scope=col>&lt;dbl&gt;</th><th scope=col>&lt;int&gt;</th><th scope=col>&lt;dbl&gt;</th></tr>\n",
       "</thead>\n",
       "<tbody>\n",
       "\t<tr><td>nurse      </td><td> 129.13485</td><td>0.24115222</td><td>45904</td><td> 0.37</td></tr>\n",
       "\t<tr><td>whale_shark</td><td>  68.35690</td><td>0.11152519</td><td>64014</td><td> 0.60</td></tr>\n",
       "\t<tr><td>reef       </td><td>  67.97985</td><td>0.09809439</td><td>44210</td><td> 0.64</td></tr>\n",
       "\t<tr><td>manatee    </td><td>  67.41740</td><td>0.09776595</td><td>44396</td><td> 0.70</td></tr>\n",
       "\t<tr><td>ray        </td><td> -19.86523</td><td>0.05934955</td><td>20860</td><td> 1.42</td></tr>\n",
       "\t<tr><td>frigate    </td><td>-100.00000</td><td>0.02984025</td><td>11984</td><td> 4.50</td></tr>\n",
       "\t<tr><td>tern       </td><td>-100.00000</td><td>0.00000000</td><td> 6920</td><td> 8.50</td></tr>\n",
       "\t<tr><td>booby      </td><td>-100.00000</td><td>0.00000000</td><td> 6330</td><td>10.50</td></tr>\n",
       "</tbody>\n",
       "</table>\n"
      ],
      "text/latex": [
       "A data.frame: 8 × 5\n",
       "\\begin{tabular}{r|lllll}\n",
       " Animal & Accuracy & Precision & Encounter & Mean\\_Cruise\\\\\n",
       " <fct> & <dbl> & <dbl> & <int> & <dbl>\\\\\n",
       "\\hline\n",
       "\t nurse       &  129.13485 & 0.24115222 & 45904 &  0.37\\\\\n",
       "\t whale\\_shark &   68.35690 & 0.11152519 & 64014 &  0.60\\\\\n",
       "\t reef        &   67.97985 & 0.09809439 & 44210 &  0.64\\\\\n",
       "\t manatee     &   67.41740 & 0.09776595 & 44396 &  0.70\\\\\n",
       "\t ray         &  -19.86523 & 0.05934955 & 20860 &  1.42\\\\\n",
       "\t frigate     & -100.00000 & 0.02984025 & 11984 &  4.50\\\\\n",
       "\t tern        & -100.00000 & 0.00000000 &  6920 &  8.50\\\\\n",
       "\t booby       & -100.00000 & 0.00000000 &  6330 & 10.50\\\\\n",
       "\\end{tabular}\n"
      ],
      "text/markdown": [
       "\n",
       "A data.frame: 8 × 5\n",
       "\n",
       "| Animal &lt;fct&gt; | Accuracy &lt;dbl&gt; | Precision &lt;dbl&gt; | Encounter &lt;int&gt; | Mean_Cruise &lt;dbl&gt; |\n",
       "|---|---|---|---|---|\n",
       "| nurse       |  129.13485 | 0.24115222 | 45904 |  0.37 |\n",
       "| whale_shark |   68.35690 | 0.11152519 | 64014 |  0.60 |\n",
       "| reef        |   67.97985 | 0.09809439 | 44210 |  0.64 |\n",
       "| manatee     |   67.41740 | 0.09776595 | 44396 |  0.70 |\n",
       "| ray         |  -19.86523 | 0.05934955 | 20860 |  1.42 |\n",
       "| frigate     | -100.00000 | 0.02984025 | 11984 |  4.50 |\n",
       "| tern        | -100.00000 | 0.00000000 |  6920 |  8.50 |\n",
       "| booby       | -100.00000 | 0.00000000 |  6330 | 10.50 |\n",
       "\n"
      ],
      "text/plain": [
       "  Animal      Accuracy   Precision  Encounter Mean_Cruise\n",
       "1 nurse        129.13485 0.24115222 45904      0.37      \n",
       "2 whale_shark   68.35690 0.11152519 64014      0.60      \n",
       "3 reef          67.97985 0.09809439 44210      0.64      \n",
       "4 manatee       67.41740 0.09776595 44396      0.70      \n",
       "5 ray          -19.86523 0.05934955 20860      1.42      \n",
       "6 frigate     -100.00000 0.02984025 11984      4.50      \n",
       "7 tern        -100.00000 0.00000000  6920      8.50      \n",
       "8 booby       -100.00000 0.00000000  6330     10.50      "
      ]
     },
     "metadata": {},
     "output_type": "display_data"
    },
    {
     "data": {
      "image/png": "[encoded data removed]",
      "text/plain": [
       "plot without title"
      ]
     },
     "metadata": {},
     "output_type": "display_data"
    }
   ],
   "source": [
    "# Animal movement - path and speed\n",
    "\n",
    "animal_err <-  all_sims %>% \n",
    "            group_by(Animal) %>%\n",
    "                summarise(Accuracy = median(Prop_err),\n",
    "                          Precision = IQR(Density_km), \n",
    "                        Encounter = sum(Actual_hits))\n",
    "\n",
    "animal_err <- as.data.frame(animal_err)\n",
    "Mean_Cruise <- c(10.5, 4.5, 0.7, 0.37, 1.42, 0.64, 8.5, 0.6)\n",
    "animal_err <- cbind(animal_err, Mean_Cruise)\n",
    "\n",
    "level.order = c('nurse','whale_shark', 'reef', 'manatee', 'ray','frigate', 'tern', 'booby')\n",
    "animal_err <- animal_err[order(factor(animal_err$Animal, levels = level.order)),]\n",
    "rownames(animal_err) <- NULL\n",
    "animal_err\n",
    "\n",
    "animal_labels <- c(\"N\", \"W\", \"R\", \"M\", \"Y\", \"F\", \"T\", \"B\")\n",
    "ani_box <- all_sims %>% \n",
    "             group_by(Animal) %>%\n",
    "                ggplot(aes(x = Animal, y = Prop_err)) +\n",
    "                geom_violin(colour = 'royalblue4') +\n",
    "                stat_summary(fun.y=median, geom=\"point\", size=2, color=\"mediumvioletred\") +\n",
    "                ylab(\"Percentage Error (%)\") +\n",
    "                xlab('Animal') +\n",
    "                theme_bw() +\n",
    "                theme(axis.title.y=element_blank()) +\n",
    "                geom_hline(yintercept = 0, linetype = 'dotted', colour = 'black') +\n",
    "                scale_x_discrete(limits = level.order, labels= animal_labels)\n",
    "#ani_box\n",
    "\n",
    "ani_box"
   ]
  },
  {
   "cell_type": "code",
   "execution_count": 30,
   "metadata": {},
   "outputs": [
    {
     "data": {
      "text/html": [
       "<strong>png:</strong> 2"
      ],
      "text/latex": [
       "\\textbf{png:} 2"
      ],
      "text/markdown": [
       "**png:** 2"
      ],
      "text/plain": [
       "png \n",
       "  2 "
      ]
     },
     "metadata": {},
     "output_type": "display_data"
    }
   ],
   "source": [
    "pdf(file = paste(\"../Results/animal_box.pdf\"))\n",
    "print(ani_box)\n",
    "dev.off()"
   ]
  },
  {
   "cell_type": "code",
   "execution_count": 144,
   "metadata": {},
   "outputs": [],
   "source": [
    "#write.table(ani_err, file = \"../Results/animal_table.txt\")\n",
    "ani_table <- xtable(animal_err)\n",
    "print.xtable(ani_table, type = \"latex\", floating = T, caption.placement = \"top\", file = \"../Results/ani_table.tex\",\n",
    "             include.rownames = F)"
   ]
  },
  {
   "cell_type": "code",
   "execution_count": 31,
   "metadata": {},
   "outputs": [
    {
     "data": {
      "text/html": [
       "<table>\n",
       "<caption>A data.frame: 7 × 3</caption>\n",
       "<thead>\n",
       "\t<tr><th scope=col>Animal_path</th><th scope=col>Accuracy</th><th scope=col>Precision</th></tr>\n",
       "\t<tr><th scope=col>&lt;chr&gt;</th><th scope=col>&lt;dbl&gt;</th><th scope=col>&lt;dbl&gt;</th></tr>\n",
       "</thead>\n",
       "<tbody>\n",
       "\t<tr><td>straight </td><td>  22.97075</td><td>0.09804721</td></tr>\n",
       "\t<tr><td>stop25   </td><td>  23.24678</td><td>0.09804721</td></tr>\n",
       "\t<tr><td>stop50   </td><td>  22.97075</td><td>0.09804721</td></tr>\n",
       "\t<tr><td>stop75   </td><td>  22.97075</td><td>0.09804721</td></tr>\n",
       "\t<tr><td>random60 </td><td>-100.00000</td><td>0.03616798</td></tr>\n",
       "\t<tr><td>random120</td><td>-100.00000</td><td>0.04929871</td></tr>\n",
       "\t<tr><td>random180</td><td>  68.35690</td><td>0.29096752</td></tr>\n",
       "</tbody>\n",
       "</table>\n"
      ],
      "text/latex": [
       "A data.frame: 7 × 3\n",
       "\\begin{tabular}{r|lll}\n",
       " Animal\\_path & Accuracy & Precision\\\\\n",
       " <chr> & <dbl> & <dbl>\\\\\n",
       "\\hline\n",
       "\t straight  &   22.97075 & 0.09804721\\\\\n",
       "\t stop25    &   23.24678 & 0.09804721\\\\\n",
       "\t stop50    &   22.97075 & 0.09804721\\\\\n",
       "\t stop75    &   22.97075 & 0.09804721\\\\\n",
       "\t random60  & -100.00000 & 0.03616798\\\\\n",
       "\t random120 & -100.00000 & 0.04929871\\\\\n",
       "\t random180 &   68.35690 & 0.29096752\\\\\n",
       "\\end{tabular}\n"
      ],
      "text/markdown": [
       "\n",
       "A data.frame: 7 × 3\n",
       "\n",
       "| Animal_path &lt;chr&gt; | Accuracy &lt;dbl&gt; | Precision &lt;dbl&gt; |\n",
       "|---|---|---|\n",
       "| straight  |   22.97075 | 0.09804721 |\n",
       "| stop25    |   23.24678 | 0.09804721 |\n",
       "| stop50    |   22.97075 | 0.09804721 |\n",
       "| stop75    |   22.97075 | 0.09804721 |\n",
       "| random60  | -100.00000 | 0.03616798 |\n",
       "| random120 | -100.00000 | 0.04929871 |\n",
       "| random180 |   68.35690 | 0.29096752 |\n",
       "\n"
      ],
      "text/plain": [
       "  Animal_path Accuracy   Precision \n",
       "1 straight      22.97075 0.09804721\n",
       "2 stop25        23.24678 0.09804721\n",
       "3 stop50        22.97075 0.09804721\n",
       "4 stop75        22.97075 0.09804721\n",
       "5 random60    -100.00000 0.03616798\n",
       "6 random120   -100.00000 0.04929871\n",
       "7 random180     68.35690 0.29096752"
      ]
     },
     "metadata": {},
     "output_type": "display_data"
    },
    {
     "data": {
      "image/png": "[encoded data removed]",
      "text/plain": [
       "plot without title"
      ]
     },
     "metadata": {},
     "output_type": "display_data"
    }
   ],
   "source": [
    "# Path\n",
    "\n",
    "movement_err <- all_sims %>% \n",
    "            group_by(Animal_path) %>%\n",
    "                 summarise(Accuracy = median(Prop_err),\n",
    "                          Precision = IQR(Density_km))  \n",
    "\n",
    "movement_err <- as.data.frame(movement_err)\n",
    "level.order = c('straight','stop25', 'stop50', 'stop75', 'random60',\n",
    "                                            'random120', 'random180')\n",
    "\n",
    "movement_err <- movement_err[order(factor(movement_err$Animal_path, levels = level.order)),]\n",
    "rownames(movement_err) <- NULL\n",
    "\n",
    "\n",
    "path_labels <- c(\"S\", \"25\", \"50\", \"75\",\"R6\", \"R12\", \"R18\")\n",
    "anip_box <- all_sims %>% \n",
    "             group_by(Animal_path) %>%\n",
    "                ggplot(aes(x = Animal_path, y = Prop_err)) +\n",
    "                geom_violin(colour = 'navy') +\n",
    "                stat_summary(fun.y=median, geom=\"point\", size=2, color=\"mediumvioletred\") +\n",
    "                ylab(\"Percentage Error (%)\") +\n",
    "                xlab('Animal Movement Model') +\n",
    "                theme_bw() +\n",
    "                geom_hline(yintercept = 0, linetype = 'dotted', colour = 'black') +\n",
    "                scale_x_discrete(limits = level.order, labels= path_labels)\n",
    "\n",
    "\n",
    "                \n",
    "\n",
    "movement_err\n",
    "anip_box"
   ]
  },
  {
   "cell_type": "code",
   "execution_count": 32,
   "metadata": {},
   "outputs": [
    {
     "data": {
      "text/html": [
       "<strong>png:</strong> 2"
      ],
      "text/latex": [
       "\\textbf{png:} 2"
      ],
      "text/markdown": [
       "**png:** 2"
      ],
      "text/plain": [
       "png \n",
       "  2 "
      ]
     },
     "metadata": {},
     "output_type": "display_data"
    }
   ],
   "source": [
    "pdf(file = paste(\"../Results/anip_box.pdf\"))\n",
    "print(anip_box)\n",
    "dev.off()"
   ]
  },
  {
   "cell_type": "code",
   "execution_count": 68,
   "metadata": {},
   "outputs": [],
   "source": [
    "#write.table(movement_err, file = \"../Results/anip_table.txt\")\n",
    "library(xtable)\n",
    "amov_table <- xtable(movement_err)\n",
    "print.xtable(amov_table, type = \"latex\", floating = T, caption.placement = \"top\", file = \"../Results/amov_table.tex\",\n",
    "             include.rownames = F)"
   ]
  },
  {
   "cell_type": "code",
   "execution_count": 147,
   "metadata": {
    "scrolled": true
   },
   "outputs": [
    {
     "data": {
      "text/html": [
       "<table>\n",
       "<caption>A tibble: 2 × 3</caption>\n",
       "<thead>\n",
       "\t<tr><th scope=col>Bias</th><th scope=col>Accuracy</th><th scope=col>Precision</th></tr>\n",
       "\t<tr><th scope=col>&lt;chr&gt;</th><th scope=col>&lt;dbl&gt;</th><th scope=col>&lt;dbl&gt;</th></tr>\n",
       "</thead>\n",
       "<tbody>\n",
       "\t<tr><td>no </td><td>67.97985</td><td>0.1478961</td></tr>\n",
       "\t<tr><td>yes</td><td>67.41740</td><td>0.1374809</td></tr>\n",
       "</tbody>\n",
       "</table>\n"
      ],
      "text/latex": [
       "A tibble: 2 × 3\n",
       "\\begin{tabular}{r|lll}\n",
       " Bias & Accuracy & Precision\\\\\n",
       " <chr> & <dbl> & <dbl>\\\\\n",
       "\\hline\n",
       "\t no  & 67.97985 & 0.1478961\\\\\n",
       "\t yes & 67.41740 & 0.1374809\\\\\n",
       "\\end{tabular}\n"
      ],
      "text/markdown": [
       "\n",
       "A tibble: 2 × 3\n",
       "\n",
       "| Bias &lt;chr&gt; | Accuracy &lt;dbl&gt; | Precision &lt;dbl&gt; |\n",
       "|---|---|---|\n",
       "| no  | 67.97985 | 0.1478961 |\n",
       "| yes | 67.41740 | 0.1374809 |\n",
       "\n"
      ],
      "text/plain": [
       "  Bias Accuracy Precision\n",
       "1 no   67.97985 0.1478961\n",
       "2 yes  67.41740 0.1374809"
      ]
     },
     "metadata": {},
     "output_type": "display_data"
    },
    {
     "ename": "ERROR",
     "evalue": "Error in eval(expr, envir, enclos): object 'bias' not found\n",
     "output_type": "error",
     "traceback": [
      "Error in eval(expr, envir, enclos): object 'bias' not found\nTraceback:\n"
     ]
    }
   ],
   "source": [
    "# Availability bias\n",
    "# Remove birds - no bias estimates\n",
    "\n",
    "bias_animals <- c('reef', 'nurse', 'whale_shark', 'ray', 'manatee')\n",
    "bias_all_sims <- subset(all_sims, all_sims$Animal == bias_animals)\n",
    "\n",
    "bias_err <-  bias_all_sims %>% \n",
    "            group_by(Bias) %>%\n",
    "                summarise(Accuracy = median(Prop_err),\n",
    "                          Precision = IQR(Density_km))\n",
    "\n",
    "\n",
    "\n",
    "bias_box <- bias_all_sims %>% \n",
    "             group_by(Bias) %>%\n",
    "                ggplot(aes(x = Bias, y = Density_km)) +\n",
    "                geom_boxplot(colour = 'dodgerblue4') +\n",
    "                xlab('Bias') +\n",
    "                theme_bw()\n",
    "bias_err\n",
    "bias\n",
    "#bias_box\n",
    "wilcox.test(Density_km ~ Bias, data = all_sims)"
   ]
  },
  {
   "cell_type": "code",
   "execution_count": 148,
   "metadata": {},
   "outputs": [],
   "source": [
    "write.table(bias_err, file = \"../Results/bias_table.txt\")"
   ]
  },
  {
   "cell_type": "code",
   "execution_count": 149,
   "metadata": {},
   "outputs": [
    {
     "data": {
      "text/html": [
       "8624"
      ],
      "text/latex": [
       "8624"
      ],
      "text/markdown": [
       "8624"
      ],
      "text/plain": [
       "[1] 8624"
      ]
     },
     "metadata": {},
     "output_type": "display_data"
    }
   ],
   "source": [
    "nrow(bias_all_sims)/2"
   ]
  },
  {
   "cell_type": "code",
   "execution_count": 150,
   "metadata": {},
   "outputs": [],
   "source": [
    "# Animal movement - path and speed\n",
    "\n",
    "cam_err <-  all_sims %>% \n",
    "            group_by(Camera) %>%\n",
    "                summarise(Accuracy = median(Prop_err),\n",
    "                          Precision = IQR(Density_km))\n",
    "\n",
    "cam_den <- all_sims %>% \n",
    "            group_by(Camera) %>%\n",
    "                summarise(Density = mean(Density_km),\n",
    "                          SD = sd(Density_km))\n",
    "\n",
    "cam_box <- all_sims %>% \n",
    "             group_by(Camera) %>%\n",
    "                ggplot(aes(x = Camera, y = Prop_err)) +\n",
    "                geom_boxplot(colour = 'maroon4') +\n",
    "                ylab(\"Percentage Error (%)\") +\n",
    "                xlab('Camera') +\n",
    "                theme_bw()\n",
    "\n",
    "#cam_den\n",
    "#cam_err\n",
    "#cam_box"
   ]
  },
  {
   "cell_type": "code",
   "execution_count": 151,
   "metadata": {},
   "outputs": [],
   "source": [
    "write.table(cam_err, file = \"../Results/cam_table.txt\")"
   ]
  },
  {
   "cell_type": "code",
   "execution_count": 152,
   "metadata": {},
   "outputs": [
    {
     "data": {
      "text/html": [
       "<strong>png:</strong> 2"
      ],
      "text/latex": [
       "\\textbf{png:} 2"
      ],
      "text/markdown": [
       "**png:** 2"
      ],
      "text/plain": [
       "png \n",
       "  2 "
      ]
     },
     "metadata": {},
     "output_type": "display_data"
    }
   ],
   "source": [
    "pdf(file = paste(\"../Results/cam_box.jpg\"))\n",
    "print(cam_box)\n",
    "dev.off()"
   ]
  },
  {
   "cell_type": "code",
   "execution_count": 153,
   "metadata": {},
   "outputs": [
    {
     "data": {
      "text/html": [
       "<table>\n",
       "<caption>A tibble: 2 × 3</caption>\n",
       "<thead>\n",
       "\t<tr><th scope=col>Speed</th><th scope=col>Density</th><th scope=col>SD</th></tr>\n",
       "\t<tr><th scope=col>&lt;dbl&gt;</th><th scope=col>&lt;dbl&gt;</th><th scope=col>&lt;dbl&gt;</th></tr>\n",
       "</thead>\n",
       "<tbody>\n",
       "\t<tr><td>1</td><td>0.10477609</td><td>0.1517246</td></tr>\n",
       "\t<tr><td>2</td><td>0.06152178</td><td>0.1139941</td></tr>\n",
       "</tbody>\n",
       "</table>\n"
      ],
      "text/latex": [
       "A tibble: 2 × 3\n",
       "\\begin{tabular}{r|lll}\n",
       " Speed & Density & SD\\\\\n",
       " <dbl> & <dbl> & <dbl>\\\\\n",
       "\\hline\n",
       "\t 1 & 0.10477609 & 0.1517246\\\\\n",
       "\t 2 & 0.06152178 & 0.1139941\\\\\n",
       "\\end{tabular}\n"
      ],
      "text/markdown": [
       "\n",
       "A tibble: 2 × 3\n",
       "\n",
       "| Speed &lt;dbl&gt; | Density &lt;dbl&gt; | SD &lt;dbl&gt; |\n",
       "|---|---|---|\n",
       "| 1 | 0.10477609 | 0.1517246 |\n",
       "| 2 | 0.06152178 | 0.1139941 |\n",
       "\n"
      ],
      "text/plain": [
       "  Speed Density    SD       \n",
       "1 1     0.10477609 0.1517246\n",
       "2 2     0.06152178 0.1139941"
      ]
     },
     "metadata": {},
     "output_type": "display_data"
    },
    {
     "data": {
      "text/html": [
       "<table>\n",
       "<caption>A tibble: 2 × 3</caption>\n",
       "<thead>\n",
       "\t<tr><th scope=col>Speed</th><th scope=col>Accuracy</th><th scope=col>Precision</th></tr>\n",
       "\t<tr><th scope=col>&lt;dbl&gt;</th><th scope=col>&lt;dbl&gt;</th><th scope=col>&lt;dbl&gt;</th></tr>\n",
       "</thead>\n",
       "<tbody>\n",
       "\t<tr><td>1</td><td>  67.4174</td><td>0.11271649</td></tr>\n",
       "\t<tr><td>2</td><td>-100.0000</td><td>0.06260031</td></tr>\n",
       "</tbody>\n",
       "</table>\n"
      ],
      "text/latex": [
       "A tibble: 2 × 3\n",
       "\\begin{tabular}{r|lll}\n",
       " Speed & Accuracy & Precision\\\\\n",
       " <dbl> & <dbl> & <dbl>\\\\\n",
       "\\hline\n",
       "\t 1 &   67.4174 & 0.11271649\\\\\n",
       "\t 2 & -100.0000 & 0.06260031\\\\\n",
       "\\end{tabular}\n"
      ],
      "text/markdown": [
       "\n",
       "A tibble: 2 × 3\n",
       "\n",
       "| Speed &lt;dbl&gt; | Accuracy &lt;dbl&gt; | Precision &lt;dbl&gt; |\n",
       "|---|---|---|\n",
       "| 1 |   67.4174 | 0.11271649 |\n",
       "| 2 | -100.0000 | 0.06260031 |\n",
       "\n"
      ],
      "text/plain": [
       "  Speed Accuracy  Precision \n",
       "1 1       67.4174 0.11271649\n",
       "2 2     -100.0000 0.06260031"
      ]
     },
     "metadata": {},
     "output_type": "display_data"
    }
   ],
   "source": [
    "spee_err <- all_sims %>% \n",
    "            group_by(Speed) %>%\n",
    "                summarise(Accuracy = median(Prop_err),\n",
    "                          Precision = IQR(Density_km))\n",
    "\n",
    "spee_den <- all_sims %>% \n",
    "            group_by(Speed) %>%\n",
    "                summarise(Density = mean(Density_km),\n",
    "                          SD = sd(Density_km))\n",
    "\n",
    "spee_box <- all_sims %>% \n",
    "             group_by(Speed) %>%\n",
    "                ggplot(aes(x = as.factor(Speed), y = Prop_err)) +\n",
    "                geom_boxplot(colour = 'violetred3') +\n",
    "                ylab(\"Percentage Error (%)\") +\n",
    "                xlab('Speed') +\n",
    "                theme_bw()\n",
    "\n",
    "spee_den\n",
    "spee_err\n",
    "#spee_box"
   ]
  },
  {
   "cell_type": "code",
   "execution_count": 154,
   "metadata": {},
   "outputs": [
    {
     "data": {
      "text/plain": [
       "\n",
       "\tWelch Two Sample t-test\n",
       "\n",
       "data:  Density_km by Speed\n",
       "t = 59.677, df = 134400, p-value < 2.2e-16\n",
       "alternative hypothesis: true difference in means is not equal to 0\n",
       "95 percent confidence interval:\n",
       " 0.04183370 0.04467492\n",
       "sample estimates:\n",
       "mean in group 1 mean in group 2 \n",
       "     0.10477609      0.06152178 \n"
      ]
     },
     "metadata": {},
     "output_type": "display_data"
    }
   ],
   "source": [
    "t.test(Density_km ~ Speed, data = all_sims)"
   ]
  },
  {
   "cell_type": "code",
   "execution_count": 155,
   "metadata": {},
   "outputs": [],
   "source": [
    "write.table(spee_err, file = \"../Results/spee_table.txt\")"
   ]
  },
  {
   "cell_type": "code",
   "execution_count": 156,
   "metadata": {},
   "outputs": [
    {
     "data": {
      "text/html": [
       "<table>\n",
       "<caption>A tibble: 2 × 3</caption>\n",
       "<thead>\n",
       "\t<tr><th scope=col>UAV_path</th><th scope=col>Accuracy</th><th scope=col>Precision</th></tr>\n",
       "\t<tr><th scope=col>&lt;chr&gt;</th><th scope=col>&lt;dbl&gt;</th><th scope=col>&lt;dbl&gt;</th></tr>\n",
       "</thead>\n",
       "<tbody>\n",
       "\t<tr><td>figure8  </td><td>  38.12707</td><td>0.13445929</td></tr>\n",
       "\t<tr><td>lawnmower</td><td>-100.00000</td><td>0.06719194</td></tr>\n",
       "</tbody>\n",
       "</table>\n"
      ],
      "text/latex": [
       "A tibble: 2 × 3\n",
       "\\begin{tabular}{r|lll}\n",
       " UAV\\_path & Accuracy & Precision\\\\\n",
       " <chr> & <dbl> & <dbl>\\\\\n",
       "\\hline\n",
       "\t figure8   &   38.12707 & 0.13445929\\\\\n",
       "\t lawnmower & -100.00000 & 0.06719194\\\\\n",
       "\\end{tabular}\n"
      ],
      "text/markdown": [
       "\n",
       "A tibble: 2 × 3\n",
       "\n",
       "| UAV_path &lt;chr&gt; | Accuracy &lt;dbl&gt; | Precision &lt;dbl&gt; |\n",
       "|---|---|---|\n",
       "| figure8   |   38.12707 | 0.13445929 |\n",
       "| lawnmower | -100.00000 | 0.06719194 |\n",
       "\n"
      ],
      "text/plain": [
       "  UAV_path  Accuracy   Precision \n",
       "1 figure8     38.12707 0.13445929\n",
       "2 lawnmower -100.00000 0.06719194"
      ]
     },
     "metadata": {},
     "output_type": "display_data"
    },
    {
     "data": {
      "image/png": "[encoded data removed]",
      "text/plain": [
       "plot without title"
      ]
     },
     "metadata": {},
     "output_type": "display_data"
    }
   ],
   "source": [
    "uavp_err <- all_sims %>% \n",
    "            group_by(UAV_path) %>%\n",
    "                summarise(Accuracy = median(Prop_err),\n",
    "                          Precision = IQR(Density_km))\n",
    "\n",
    "\n",
    "\n",
    "uavp_box <- all_sims %>% \n",
    "             group_by(UAV_path) %>%\n",
    "                ggplot(aes(x = UAV_path, y = Prop_err)) +\n",
    "                geom_violin(colour = 'slateblue')+\n",
    "                stat_summary(fun.y=median, geom=\"point\", size=2, color=\"violetred\") +\n",
    "                ylab(\"Percentage Error (%)\") +\n",
    "                xlab('UAV Transect Path') +\n",
    "                geom_hline(yintercept = 0, linetype = 'dotted', colour = 'black') +\n",
    "                theme_bw() +\n",
    "                theme(axis.title.y=element_blank())\n",
    "\n",
    "\n",
    "uavp_err\n",
    "uavp_box"
   ]
  },
  {
   "cell_type": "code",
   "execution_count": 157,
   "metadata": {},
   "outputs": [
    {
     "data": {
      "text/html": [
       "<strong>png:</strong> 2"
      ],
      "text/latex": [
       "\\textbf{png:} 2"
      ],
      "text/markdown": [
       "**png:** 2"
      ],
      "text/plain": [
       "png \n",
       "  2 "
      ]
     },
     "metadata": {},
     "output_type": "display_data"
    }
   ],
   "source": [
    "pdf(file = paste(\"../Results/uavp_violin.pdf\"))\n",
    "print(uavp_box)\n",
    "dev.off()"
   ]
  },
  {
   "cell_type": "code",
   "execution_count": 158,
   "metadata": {},
   "outputs": [],
   "source": [
    "#write.table(uavp_err, file = \"../Results/uavp_table.txt\")\n",
    "uavp_table <- xtable(uavp_err)\n",
    "print.xtable(uavp_table, type = \"latex\", floating = T, caption.placement = \"top\", file = \"../Results/uavp_table.tex\",\n",
    "             include.rownames = F)"
   ]
  },
  {
   "cell_type": "code",
   "execution_count": 159,
   "metadata": {},
   "outputs": [],
   "source": [
    "all_sims$Area_km <- as.factor(all_sims$Area_km)"
   ]
  },
  {
   "cell_type": "code",
   "execution_count": 174,
   "metadata": {},
   "outputs": [
    {
     "data": {
      "text/html": [
       "<table>\n",
       "<caption>A data.table: 6 × 13</caption>\n",
       "<thead>\n",
       "\t<tr><th scope=col>Camera</th><th scope=col>Speed</th><th scope=col>Animal</th><th scope=col>Animal_path</th><th scope=col>UAV_path</th><th scope=col>Bias</th><th scope=col>Total_hits</th><th scope=col>Actual_hits</th><th scope=col>Area_km</th><th scope=col>Area2_km</th><th scope=col>True_Density</th><th scope=col>Density_km</th><th scope=col>Prop_err</th></tr>\n",
       "\t<tr><th scope=col>&lt;fct&gt;</th><th scope=col>&lt;dbl&gt;</th><th scope=col>&lt;fct&gt;</th><th scope=col>&lt;chr&gt;</th><th scope=col>&lt;chr&gt;</th><th scope=col>&lt;chr&gt;</th><th scope=col>&lt;int&gt;</th><th scope=col>&lt;int&gt;</th><th scope=col>&lt;fct&gt;</th><th scope=col>&lt;dbl&gt;</th><th scope=col>&lt;dbl&gt;</th><th scope=col>&lt;dbl&gt;</th><th scope=col>&lt;dbl&gt;</th></tr>\n",
       "</thead>\n",
       "<tbody>\n",
       "\t<tr><td>garmin</td><td>1</td><td>frigate</td><td>straight</td><td>lawnmower</td><td>yes</td><td>0</td><td>0</td><td>18.099276</td><td>17.75318</td><td>0.04</td><td>0</td><td>-100</td></tr>\n",
       "\t<tr><td>garmin</td><td>1</td><td>frigate</td><td>straight</td><td>lawnmower</td><td>yes</td><td>0</td><td>0</td><td>18.099276</td><td>17.75318</td><td>0.04</td><td>0</td><td>-100</td></tr>\n",
       "\t<tr><td>garmin</td><td>1</td><td>frigate</td><td>straight</td><td>lawnmower</td><td>no </td><td>0</td><td>0</td><td>18.099276</td><td>17.75318</td><td>0.04</td><td>0</td><td>-100</td></tr>\n",
       "\t<tr><td>garmin</td><td>1</td><td>frigate</td><td>straight</td><td>lawnmower</td><td>no </td><td>0</td><td>0</td><td>18.099276</td><td>17.75318</td><td>0.04</td><td>0</td><td>-100</td></tr>\n",
       "\t<tr><td>garmin</td><td>1</td><td>frigate</td><td>straight</td><td>figure8  </td><td>yes</td><td>0</td><td>0</td><td>18.099276</td><td>17.75318</td><td>0.04</td><td>0</td><td>-100</td></tr>\n",
       "\t<tr><td>garmin</td><td>1</td><td>frigate</td><td>straight</td><td>figure8  </td><td>yes</td><td>0</td><td>0</td><td>18.099276</td><td>17.75318</td><td>0.04</td><td>0</td><td>-100</td></tr>\n",
       "</tbody>\n",
       "</table>\n"
      ],
      "text/latex": [
       "A data.table: 6 × 13\n",
       "\\begin{tabular}{r|lllllllllllll}\n",
       " Camera & Speed & Animal & Animal\\_path & UAV\\_path & Bias & Total\\_hits & Actual\\_hits & Area\\_km & Area2\\_km & True\\_Density & Density\\_km & Prop\\_err\\\\\n",
       " <fct> & <dbl> & <fct> & <chr> & <chr> & <chr> & <int> & <int> & <fct> & <dbl> & <dbl> & <dbl> & <dbl>\\\\\n",
       "\\hline\n",
       "\t garmin & 1 & frigate & straight & lawnmower & yes & 0 & 0 & 18.099276 & 17.75318 & 0.04 & 0 & -100\\\\\n",
       "\t garmin & 1 & frigate & straight & lawnmower & yes & 0 & 0 & 18.099276 & 17.75318 & 0.04 & 0 & -100\\\\\n",
       "\t garmin & 1 & frigate & straight & lawnmower & no  & 0 & 0 & 18.099276 & 17.75318 & 0.04 & 0 & -100\\\\\n",
       "\t garmin & 1 & frigate & straight & lawnmower & no  & 0 & 0 & 18.099276 & 17.75318 & 0.04 & 0 & -100\\\\\n",
       "\t garmin & 1 & frigate & straight & figure8   & yes & 0 & 0 & 18.099276 & 17.75318 & 0.04 & 0 & -100\\\\\n",
       "\t garmin & 1 & frigate & straight & figure8   & yes & 0 & 0 & 18.099276 & 17.75318 & 0.04 & 0 & -100\\\\\n",
       "\\end{tabular}\n"
      ],
      "text/markdown": [
       "\n",
       "A data.table: 6 × 13\n",
       "\n",
       "| Camera &lt;fct&gt; | Speed &lt;dbl&gt; | Animal &lt;fct&gt; | Animal_path &lt;chr&gt; | UAV_path &lt;chr&gt; | Bias &lt;chr&gt; | Total_hits &lt;int&gt; | Actual_hits &lt;int&gt; | Area_km &lt;fct&gt; | Area2_km &lt;dbl&gt; | True_Density &lt;dbl&gt; | Density_km &lt;dbl&gt; | Prop_err &lt;dbl&gt; |\n",
       "|---|---|---|---|---|---|---|---|---|---|---|---|---|\n",
       "| garmin | 1 | frigate | straight | lawnmower | yes | 0 | 0 | 18.099276 | 17.75318 | 0.04 | 0 | -100 |\n",
       "| garmin | 1 | frigate | straight | lawnmower | yes | 0 | 0 | 18.099276 | 17.75318 | 0.04 | 0 | -100 |\n",
       "| garmin | 1 | frigate | straight | lawnmower | no  | 0 | 0 | 18.099276 | 17.75318 | 0.04 | 0 | -100 |\n",
       "| garmin | 1 | frigate | straight | lawnmower | no  | 0 | 0 | 18.099276 | 17.75318 | 0.04 | 0 | -100 |\n",
       "| garmin | 1 | frigate | straight | figure8   | yes | 0 | 0 | 18.099276 | 17.75318 | 0.04 | 0 | -100 |\n",
       "| garmin | 1 | frigate | straight | figure8   | yes | 0 | 0 | 18.099276 | 17.75318 | 0.04 | 0 | -100 |\n",
       "\n"
      ],
      "text/plain": [
       "  Camera Speed Animal  Animal_path UAV_path  Bias Total_hits Actual_hits\n",
       "1 garmin 1     frigate straight    lawnmower yes  0          0          \n",
       "2 garmin 1     frigate straight    lawnmower yes  0          0          \n",
       "3 garmin 1     frigate straight    lawnmower no   0          0          \n",
       "4 garmin 1     frigate straight    lawnmower no   0          0          \n",
       "5 garmin 1     frigate straight    figure8   yes  0          0          \n",
       "6 garmin 1     frigate straight    figure8   yes  0          0          \n",
       "  Area_km   Area2_km True_Density Density_km Prop_err\n",
       "1 18.099276 17.75318 0.04         0          -100    \n",
       "2 18.099276 17.75318 0.04         0          -100    \n",
       "3 18.099276 17.75318 0.04         0          -100    \n",
       "4 18.099276 17.75318 0.04         0          -100    \n",
       "5 18.099276 17.75318 0.04         0          -100    \n",
       "6 18.099276 17.75318 0.04         0          -100    "
      ]
     },
     "metadata": {},
     "output_type": "display_data"
    }
   ],
   "source": [
    "head(all_sims)"
   ]
  },
  {
   "cell_type": "code",
   "execution_count": 39,
   "metadata": {},
   "outputs": [
    {
     "data": {
      "text/html": [
       "<table>\n",
       "<caption>A tibble: 6 × 3</caption>\n",
       "<thead>\n",
       "\t<tr><th scope=col>Survey_Effort</th><th scope=col>Accuracy</th><th scope=col>Precision</th></tr>\n",
       "\t<tr><th scope=col>&lt;fct&gt;</th><th scope=col>&lt;dbl&gt;</th><th scope=col>&lt;dbl&gt;</th></tr>\n",
       "</thead>\n",
       "<tbody>\n",
       "\t<tr><td>17.753176</td><td>  67.41740</td><td>0.06734276</td></tr>\n",
       "\t<tr><td>19.06979 </td><td>-100.00000</td><td>0.06260031</td></tr>\n",
       "\t<tr><td>23.005276</td><td>  22.97075</td><td>0.09859742</td></tr>\n",
       "\t<tr><td>24.80379 </td><td>-100.00000</td><td>0.04582697</td></tr>\n",
       "\t<tr><td>29.972488</td><td>  49.20123</td><td>0.25317584</td></tr>\n",
       "\t<tr><td>32.41027 </td><td> -44.69880</td><td>0.06410783</td></tr>\n",
       "</tbody>\n",
       "</table>\n"
      ],
      "text/latex": [
       "A tibble: 6 × 3\n",
       "\\begin{tabular}{r|lll}\n",
       " Survey\\_Effort & Accuracy & Precision\\\\\n",
       " <fct> & <dbl> & <dbl>\\\\\n",
       "\\hline\n",
       "\t 17.753176 &   67.41740 & 0.06734276\\\\\n",
       "\t 19.06979  & -100.00000 & 0.06260031\\\\\n",
       "\t 23.005276 &   22.97075 & 0.09859742\\\\\n",
       "\t 24.80379  & -100.00000 & 0.04582697\\\\\n",
       "\t 29.972488 &   49.20123 & 0.25317584\\\\\n",
       "\t 32.41027  &  -44.69880 & 0.06410783\\\\\n",
       "\\end{tabular}\n"
      ],
      "text/markdown": [
       "\n",
       "A tibble: 6 × 3\n",
       "\n",
       "| Survey_Effort &lt;fct&gt; | Accuracy &lt;dbl&gt; | Precision &lt;dbl&gt; |\n",
       "|---|---|---|\n",
       "| 17.753176 |   67.41740 | 0.06734276 |\n",
       "| 19.06979  | -100.00000 | 0.06260031 |\n",
       "| 23.005276 |   22.97075 | 0.09859742 |\n",
       "| 24.80379  | -100.00000 | 0.04582697 |\n",
       "| 29.972488 |   49.20123 | 0.25317584 |\n",
       "| 32.41027  |  -44.69880 | 0.06410783 |\n",
       "\n"
      ],
      "text/plain": [
       "  Survey_Effort Accuracy   Precision \n",
       "1 17.753176       67.41740 0.06734276\n",
       "2 19.06979      -100.00000 0.06260031\n",
       "3 23.005276       22.97075 0.09859742\n",
       "4 24.80379      -100.00000 0.04582697\n",
       "5 29.972488       49.20123 0.25317584\n",
       "6 32.41027       -44.69880 0.06410783"
      ]
     },
     "metadata": {},
     "output_type": "display_data"
    }
   ],
   "source": [
    "fig1"
   ]
  },
  {
   "cell_type": "code",
   "execution_count": 51,
   "metadata": {},
   "outputs": [
    {
     "data": {
      "text/html": [
       "<table>\n",
       "<caption>A data.table: 6 × 14</caption>\n",
       "<thead>\n",
       "\t<tr><th scope=col>Area2_km</th><th scope=col>Camera</th><th scope=col>Speed</th><th scope=col>Animal</th><th scope=col>Animal_path</th><th scope=col>UAV_path</th><th scope=col>Bias</th><th scope=col>Total_hits</th><th scope=col>Actual_hits</th><th scope=col>Area_km</th><th scope=col>True_Density</th><th scope=col>Density_km</th><th scope=col>Prop_err</th><th scope=col>Survey_Effort</th></tr>\n",
       "\t<tr><th scope=col>&lt;fct&gt;</th><th scope=col>&lt;fct&gt;</th><th scope=col>&lt;dbl&gt;</th><th scope=col>&lt;fct&gt;</th><th scope=col>&lt;chr&gt;</th><th scope=col>&lt;chr&gt;</th><th scope=col>&lt;chr&gt;</th><th scope=col>&lt;int&gt;</th><th scope=col>&lt;int&gt;</th><th scope=col>&lt;dbl&gt;</th><th scope=col>&lt;dbl&gt;</th><th scope=col>&lt;dbl&gt;</th><th scope=col>&lt;dbl&gt;</th><th scope=col>&lt;fct&gt;</th></tr>\n",
       "</thead>\n",
       "<tbody>\n",
       "\t<tr><td>17.753176</td><td>garmin</td><td>1</td><td>frigate</td><td>straight</td><td>lawnmower</td><td>yes</td><td>0</td><td>0</td><td>18.09928</td><td>0.04</td><td>0</td><td>-100</td><td>G1</td></tr>\n",
       "\t<tr><td>17.753176</td><td>garmin</td><td>1</td><td>frigate</td><td>straight</td><td>lawnmower</td><td>yes</td><td>0</td><td>0</td><td>18.09928</td><td>0.04</td><td>0</td><td>-100</td><td>G1</td></tr>\n",
       "\t<tr><td>17.753176</td><td>garmin</td><td>1</td><td>frigate</td><td>straight</td><td>lawnmower</td><td>no </td><td>0</td><td>0</td><td>18.09928</td><td>0.04</td><td>0</td><td>-100</td><td>G1</td></tr>\n",
       "\t<tr><td>17.753176</td><td>garmin</td><td>1</td><td>frigate</td><td>straight</td><td>lawnmower</td><td>no </td><td>0</td><td>0</td><td>18.09928</td><td>0.04</td><td>0</td><td>-100</td><td>G1</td></tr>\n",
       "\t<tr><td>17.753176</td><td>garmin</td><td>1</td><td>frigate</td><td>straight</td><td>figure8  </td><td>yes</td><td>0</td><td>0</td><td>18.09928</td><td>0.04</td><td>0</td><td>-100</td><td>G1</td></tr>\n",
       "\t<tr><td>17.753176</td><td>garmin</td><td>1</td><td>frigate</td><td>straight</td><td>figure8  </td><td>yes</td><td>0</td><td>0</td><td>18.09928</td><td>0.04</td><td>0</td><td>-100</td><td>G1</td></tr>\n",
       "</tbody>\n",
       "</table>\n"
      ],
      "text/latex": [
       "A data.table: 6 × 14\n",
       "\\begin{tabular}{r|llllllllllllll}\n",
       " Area2\\_km & Camera & Speed & Animal & Animal\\_path & UAV\\_path & Bias & Total\\_hits & Actual\\_hits & Area\\_km & True\\_Density & Density\\_km & Prop\\_err & Survey\\_Effort\\\\\n",
       " <fct> & <fct> & <dbl> & <fct> & <chr> & <chr> & <chr> & <int> & <int> & <dbl> & <dbl> & <dbl> & <dbl> & <fct>\\\\\n",
       "\\hline\n",
       "\t 17.753176 & garmin & 1 & frigate & straight & lawnmower & yes & 0 & 0 & 18.09928 & 0.04 & 0 & -100 & G1\\\\\n",
       "\t 17.753176 & garmin & 1 & frigate & straight & lawnmower & yes & 0 & 0 & 18.09928 & 0.04 & 0 & -100 & G1\\\\\n",
       "\t 17.753176 & garmin & 1 & frigate & straight & lawnmower & no  & 0 & 0 & 18.09928 & 0.04 & 0 & -100 & G1\\\\\n",
       "\t 17.753176 & garmin & 1 & frigate & straight & lawnmower & no  & 0 & 0 & 18.09928 & 0.04 & 0 & -100 & G1\\\\\n",
       "\t 17.753176 & garmin & 1 & frigate & straight & figure8   & yes & 0 & 0 & 18.09928 & 0.04 & 0 & -100 & G1\\\\\n",
       "\t 17.753176 & garmin & 1 & frigate & straight & figure8   & yes & 0 & 0 & 18.09928 & 0.04 & 0 & -100 & G1\\\\\n",
       "\\end{tabular}\n"
      ],
      "text/markdown": [
       "\n",
       "A data.table: 6 × 14\n",
       "\n",
       "| Area2_km &lt;fct&gt; | Camera &lt;fct&gt; | Speed &lt;dbl&gt; | Animal &lt;fct&gt; | Animal_path &lt;chr&gt; | UAV_path &lt;chr&gt; | Bias &lt;chr&gt; | Total_hits &lt;int&gt; | Actual_hits &lt;int&gt; | Area_km &lt;dbl&gt; | True_Density &lt;dbl&gt; | Density_km &lt;dbl&gt; | Prop_err &lt;dbl&gt; | Survey_Effort &lt;fct&gt; |\n",
       "|---|---|---|---|---|---|---|---|---|---|---|---|---|---|\n",
       "| 17.753176 | garmin | 1 | frigate | straight | lawnmower | yes | 0 | 0 | 18.09928 | 0.04 | 0 | -100 | G1 |\n",
       "| 17.753176 | garmin | 1 | frigate | straight | lawnmower | yes | 0 | 0 | 18.09928 | 0.04 | 0 | -100 | G1 |\n",
       "| 17.753176 | garmin | 1 | frigate | straight | lawnmower | no  | 0 | 0 | 18.09928 | 0.04 | 0 | -100 | G1 |\n",
       "| 17.753176 | garmin | 1 | frigate | straight | lawnmower | no  | 0 | 0 | 18.09928 | 0.04 | 0 | -100 | G1 |\n",
       "| 17.753176 | garmin | 1 | frigate | straight | figure8   | yes | 0 | 0 | 18.09928 | 0.04 | 0 | -100 | G1 |\n",
       "| 17.753176 | garmin | 1 | frigate | straight | figure8   | yes | 0 | 0 | 18.09928 | 0.04 | 0 | -100 | G1 |\n",
       "\n"
      ],
      "text/plain": [
       "  Area2_km  Camera Speed Animal  Animal_path UAV_path  Bias Total_hits\n",
       "1 17.753176 garmin 1     frigate straight    lawnmower yes  0         \n",
       "2 17.753176 garmin 1     frigate straight    lawnmower yes  0         \n",
       "3 17.753176 garmin 1     frigate straight    lawnmower no   0         \n",
       "4 17.753176 garmin 1     frigate straight    lawnmower no   0         \n",
       "5 17.753176 garmin 1     frigate straight    figure8   yes  0         \n",
       "6 17.753176 garmin 1     frigate straight    figure8   yes  0         \n",
       "  Actual_hits Area_km  True_Density Density_km Prop_err Survey_Effort\n",
       "1 0           18.09928 0.04         0          -100     G1           \n",
       "2 0           18.09928 0.04         0          -100     G1           \n",
       "3 0           18.09928 0.04         0          -100     G1           \n",
       "4 0           18.09928 0.04         0          -100     G1           \n",
       "5 0           18.09928 0.04         0          -100     G1           \n",
       "6 0           18.09928 0.04         0          -100     G1           "
      ]
     },
     "metadata": {},
     "output_type": "display_data"
    }
   ],
   "source": [
    "# Group by survey area\n",
    "fig1 <- all_sims %>%\n",
    "            group_by(as.factor(Area2_km)) %>%\n",
    "                   summarise(Accuracy = median(Prop_err),\n",
    "                             Precision = IQR(Density_km))\n",
    "\n",
    "colnames(fig1) <- c('Area2_km', 'Accuracy', 'Precision')\n",
    "#G1 <- 17.753176\n",
    "#G2 <- 19.06979\n",
    "#S1 <- 23.005276\n",
    "#S2 <- 24.80379\n",
    "#N1 <- 29.972488\n",
    "#N2 <- 32.41027\n",
    "\n",
    "Survey_Effort <- c('G1', 'G2', 'S1', 'S2', 'N1', 'N2')\n",
    "fig1 <- cbind(Survey_Effort, fig1)\n",
    "\n",
    "Combo <- fig1[,1:2]\n",
    "\n",
    "unique_ars = unique(all_sims$Area2_km)\n",
    "all_sims$Area2_km <- as.factor(all_sims$Area2_km)\n",
    "\n",
    "\n",
    "all_sims = merge(all_sims, Combo)\n",
    "head(all_sims)"
   ]
  },
  {
   "cell_type": "code",
   "execution_count": 54,
   "metadata": {},
   "outputs": [
    {
     "data": {
      "text/html": [
       "<table>\n",
       "<caption>A data.frame: 6 × 4</caption>\n",
       "<thead>\n",
       "\t<tr><th scope=col>Survey_Effort</th><th scope=col>Area2_km</th><th scope=col>Accuracy</th><th scope=col>Precision</th></tr>\n",
       "\t<tr><th scope=col>&lt;fct&gt;</th><th scope=col>&lt;fct&gt;</th><th scope=col>&lt;dbl&gt;</th><th scope=col>&lt;dbl&gt;</th></tr>\n",
       "</thead>\n",
       "<tbody>\n",
       "\t<tr><td>G1</td><td>17.753176</td><td>  67.41740</td><td>0.06734276</td></tr>\n",
       "\t<tr><td>G2</td><td>19.06979 </td><td>-100.00000</td><td>0.06260031</td></tr>\n",
       "\t<tr><td>S1</td><td>23.005276</td><td>  22.97075</td><td>0.09859742</td></tr>\n",
       "\t<tr><td>S2</td><td>24.80379 </td><td>-100.00000</td><td>0.04582697</td></tr>\n",
       "\t<tr><td>N1</td><td>29.972488</td><td>  49.20123</td><td>0.25317584</td></tr>\n",
       "\t<tr><td>N2</td><td>32.41027 </td><td> -44.69880</td><td>0.06410783</td></tr>\n",
       "</tbody>\n",
       "</table>\n"
      ],
      "text/latex": [
       "A data.frame: 6 × 4\n",
       "\\begin{tabular}{r|llll}\n",
       " Survey\\_Effort & Area2\\_km & Accuracy & Precision\\\\\n",
       " <fct> & <fct> & <dbl> & <dbl>\\\\\n",
       "\\hline\n",
       "\t G1 & 17.753176 &   67.41740 & 0.06734276\\\\\n",
       "\t G2 & 19.06979  & -100.00000 & 0.06260031\\\\\n",
       "\t S1 & 23.005276 &   22.97075 & 0.09859742\\\\\n",
       "\t S2 & 24.80379  & -100.00000 & 0.04582697\\\\\n",
       "\t N1 & 29.972488 &   49.20123 & 0.25317584\\\\\n",
       "\t N2 & 32.41027  &  -44.69880 & 0.06410783\\\\\n",
       "\\end{tabular}\n"
      ],
      "text/markdown": [
       "\n",
       "A data.frame: 6 × 4\n",
       "\n",
       "| Survey_Effort &lt;fct&gt; | Area2_km &lt;fct&gt; | Accuracy &lt;dbl&gt; | Precision &lt;dbl&gt; |\n",
       "|---|---|---|---|\n",
       "| G1 | 17.753176 |   67.41740 | 0.06734276 |\n",
       "| G2 | 19.06979  | -100.00000 | 0.06260031 |\n",
       "| S1 | 23.005276 |   22.97075 | 0.09859742 |\n",
       "| S2 | 24.80379  | -100.00000 | 0.04582697 |\n",
       "| N1 | 29.972488 |   49.20123 | 0.25317584 |\n",
       "| N2 | 32.41027  |  -44.69880 | 0.06410783 |\n",
       "\n"
      ],
      "text/plain": [
       "  Survey_Effort Area2_km  Accuracy   Precision \n",
       "1 G1            17.753176   67.41740 0.06734276\n",
       "2 G2            19.06979  -100.00000 0.06260031\n",
       "3 S1            23.005276   22.97075 0.09859742\n",
       "4 S2            24.80379  -100.00000 0.04582697\n",
       "5 N1            29.972488   49.20123 0.25317584\n",
       "6 N2            32.41027   -44.69880 0.06410783"
      ]
     },
     "metadata": {},
     "output_type": "display_data"
    },
    {
     "data": {
      "text/html": [
       "<table>\n",
       "<caption>A tibble: 6 × 3</caption>\n",
       "<thead>\n",
       "\t<tr><th scope=col>Survey_Effort</th><th scope=col>Accuracy</th><th scope=col>Precision</th></tr>\n",
       "\t<tr><th scope=col>&lt;fct&gt;</th><th scope=col>&lt;dbl&gt;</th><th scope=col>&lt;dbl&gt;</th></tr>\n",
       "</thead>\n",
       "<tbody>\n",
       "\t<tr><td>G1</td><td>  67.41740</td><td>0.06734276</td></tr>\n",
       "\t<tr><td>G2</td><td>-100.00000</td><td>0.06260031</td></tr>\n",
       "\t<tr><td>N1</td><td>  49.20123</td><td>0.25317584</td></tr>\n",
       "\t<tr><td>N2</td><td> -44.69880</td><td>0.06410783</td></tr>\n",
       "\t<tr><td>S1</td><td>  22.97075</td><td>0.09859742</td></tr>\n",
       "\t<tr><td>S2</td><td>-100.00000</td><td>0.04582697</td></tr>\n",
       "</tbody>\n",
       "</table>\n"
      ],
      "text/latex": [
       "A tibble: 6 × 3\n",
       "\\begin{tabular}{r|lll}\n",
       " Survey\\_Effort & Accuracy & Precision\\\\\n",
       " <fct> & <dbl> & <dbl>\\\\\n",
       "\\hline\n",
       "\t G1 &   67.41740 & 0.06734276\\\\\n",
       "\t G2 & -100.00000 & 0.06260031\\\\\n",
       "\t N1 &   49.20123 & 0.25317584\\\\\n",
       "\t N2 &  -44.69880 & 0.06410783\\\\\n",
       "\t S1 &   22.97075 & 0.09859742\\\\\n",
       "\t S2 & -100.00000 & 0.04582697\\\\\n",
       "\\end{tabular}\n"
      ],
      "text/markdown": [
       "\n",
       "A tibble: 6 × 3\n",
       "\n",
       "| Survey_Effort &lt;fct&gt; | Accuracy &lt;dbl&gt; | Precision &lt;dbl&gt; |\n",
       "|---|---|---|\n",
       "| G1 |   67.41740 | 0.06734276 |\n",
       "| G2 | -100.00000 | 0.06260031 |\n",
       "| N1 |   49.20123 | 0.25317584 |\n",
       "| N2 |  -44.69880 | 0.06410783 |\n",
       "| S1 |   22.97075 | 0.09859742 |\n",
       "| S2 | -100.00000 | 0.04582697 |\n",
       "\n"
      ],
      "text/plain": [
       "  Survey_Effort Accuracy   Precision \n",
       "1 G1              67.41740 0.06734276\n",
       "2 G2            -100.00000 0.06260031\n",
       "3 N1              49.20123 0.25317584\n",
       "4 N2             -44.69880 0.06410783\n",
       "5 S1              22.97075 0.09859742\n",
       "6 S2            -100.00000 0.04582697"
      ]
     },
     "metadata": {},
     "output_type": "display_data"
    },
    {
     "data": {
      "image/png": "[encoded data removed]",
      "text/plain": [
       "plot without title"
      ]
     },
     "metadata": {},
     "output_type": "display_data"
    }
   ],
   "source": [
    "area_err <- all_sims %>% \n",
    "            group_by(Survey_Effort) %>%\n",
    "                summarise(Accuracy = median(Prop_err),\n",
    "                          Precision = IQR(Density_km))\n",
    "\n",
    "#level.order = c('G1','G2', 'S1', 'S2', 'N1','N2')\n",
    "\n",
    "#area_err <- area_err[order(factor(area_err$Combo, levels = level.order)),]\n",
    "#rownames(area_err) <- NULL\n",
    "\n",
    "\n",
    "fig1p <- all_sims %>% \n",
    "             group_by(Survey_Effort) %>%\n",
    "                ggplot(aes(x = Survey_Effort, y = Prop_err)) +\n",
    "                geom_violin(colour = 'slateblue')+\n",
    "                stat_summary(fun.y=median, geom=\"point\", size=2, color=\"violetred\") +\n",
    "                #geom_boxplot(width=0.1, colour = 'dodgerblue3') +\n",
    "                ylab(\"Percentage Error (%)\") +\n",
    "                xlab('Survey Area') +\n",
    "                geom_hline(yintercept = 0, linetype = 'dotted', colour = 'black') +\n",
    "                theme_bw() +\n",
    "                scale_x_discrete(limits = level.order)\n",
    "\n",
    "#fig1\n",
    "area_err\n",
    "fig1p"
   ]
  },
  {
   "cell_type": "code",
   "execution_count": 55,
   "metadata": {},
   "outputs": [
    {
     "data": {
      "text/html": [
       "<strong>png:</strong> 2"
      ],
      "text/latex": [
       "\\textbf{png:} 2"
      ],
      "text/markdown": [
       "**png:** 2"
      ],
      "text/plain": [
       "png \n",
       "  2 "
      ]
     },
     "metadata": {},
     "output_type": "display_data"
    }
   ],
   "source": [
    "pdf(file = paste(\"../Results/area_violin.pdf\"))\n",
    "print(fig1p)\n",
    "dev.off()"
   ]
  },
  {
   "cell_type": "code",
   "execution_count": 48,
   "metadata": {},
   "outputs": [],
   "source": [
    "library(xtable)\n",
    "sarea_table <- xtable(fig1)\n",
    "print.xtable(sarea_table, type = \"latex\", floating = T, caption.placement = \"top\", file = \"../Results/sarea_table.tex\",\n",
    "             include.rownames = F)"
   ]
  },
  {
   "cell_type": "code",
   "execution_count": null,
   "metadata": {},
   "outputs": [],
   "source": []
  }
 ],
 "metadata": {
  "kernelspec": {
   "display_name": "R",
   "language": "R",
   "name": "ir"
  },
  "language_info": {
   "codemirror_mode": "r",
   "file_extension": ".r",
   "mimetype": "text/x-r-source",
   "name": "R",
   "pygments_lexer": "r",
   "version": "3.4.4"
  }
 },
 "nbformat": 4,
 "nbformat_minor": 2
}
