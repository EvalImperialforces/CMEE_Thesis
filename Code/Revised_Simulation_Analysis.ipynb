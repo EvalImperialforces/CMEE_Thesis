{
 "cells": [
  {
   "cell_type": "markdown",
   "metadata": {},
   "source": [
    "## Revised Simulation Analysis\n",
    "\n",
    "1. True population density analysis (model precision and accuracy) of entire data set. Between total hits and actual hits.\n",
    "\n",
    "2. Density estimation changes between multiple combinations (animals, paths, camera, uav_paths, uav_speed, bias)"
   ]
  },
  {
   "cell_type": "code",
   "execution_count": 25,
   "metadata": {},
   "outputs": [
    {
     "name": "stderr",
     "output_type": "stream",
     "text": [
      "Warning message in split.default(x = seq_len(nrow(x)), f = f, drop = drop, ...):\n",
      "“data length is not a multiple of split variable”"
     ]
    }
   ],
   "source": [
    "#clear environments\n",
    "rm(list=ls())\n",
    "\n",
    "suppressMessages(library(tidyverse))\n",
    "suppressMessages(library(data.table))\n",
    "library(geosphere)\n",
    "suppressMessages(library(reshape2))\n",
    "library(ggthemes)\n",
    "\n",
    "mydir = \"../Data/Simulations/HPC4/\"\n",
    "all_sims = list.files(path=mydir, pattern=\"*.csv\", full.names=TRUE) %>%\n",
    "                map_df(~fread(.))\n",
    "\n",
    "\n",
    "current_sims <- split(all_sims,rep(1:100,each=1344))\n",
    "#current_sims\n",
    "\n",
    "# Timesteps of simulation runs\n",
    "timestep <- 10000"
   ]
  },
  {
   "cell_type": "code",
   "execution_count": 28,
   "metadata": {},
   "outputs": [],
   "source": [
    "Animal <- rep(unique(all_sims$Animal), 6)\n",
    "Camera <- c(rep('garmin', 16), rep('sony', 16), rep('nadir', 16))\n",
    "Speed <- c(rep(1, 8), rep(2, 8), rep(1, 8), rep(2, 8), rep(1, 8), rep(2, 8))\n",
    "\n",
    "cam_table <-data.frame(Animal,Camera, Speed)\n",
    "#cam_table <- merge(cam_table, Speed)\n",
    "#cam_table\n",
    "g_h <- 83.33 \n",
    "s_h <- 113.83\n",
    "n_h <- 154.29\n",
    "\n",
    "reef <- 0.64\n",
    "nurse <- 0.37\n",
    "whale <- 0.6\n",
    "ray <- 1.42\n",
    "manatee <- 0.7\n",
    "booby <- 10.5\n",
    "frigate <- 4.5\n",
    "tern <- 8.5\n",
    "\n",
    "Animal <- c(\"reef\", \"nurse\", \"whale_shark\", \"ray\", \"manatee\", \"booby\", \"frigate\", \"tern\")\n",
    "animals_speeds <- c(reef, nurse, whale, ray, manatee, booby, frigate, tern)\n",
    "speeds <- cbind(Animal, animals_speeds)\n",
    "\n",
    "unique_animals = unique(cam_table$Animal)\n",
    "\n",
    "cam_table <- merge(cam_table, speeds) # merge to get animal speeds\n",
    "#cam_table\n",
    "splevel <- data.frame(Speed=c(1,2), level = c(17.22, 18.8))\n",
    "\n",
    "unique_speed = unique(cam_table$Speed)\n",
    "\n",
    "cam_table <- merge(cam_table, splevel) \n",
    "\n",
    "abs_vel <- apply(cam_table, 1, function(x) as.numeric(x[4])+as.numeric(x[5]))\n",
    "\n",
    "cam_table <- cbind(cam_table, abs_vel)\n",
    "\n",
    "hz <- data.frame(Camera = c('garmin', 'sony', 'nadir'), h_level = c(g_h, s_h, n_h))\n",
    "\n",
    "unique_h = unique(cam_table$Camera)\n",
    "                 \n",
    "cam_table <- merge(cam_table, hz)                  \n",
    "\n",
    "Area_km <- apply(cam_table, 1, function(x) (10000*as.numeric(x[6])*as.numeric(x[7]))/1000000)\n",
    " \n",
    "cam_table <- cbind(cam_table, Area_km)                \n",
    "                 \n",
    "cam_table <- cam_table[, -c(4:7)]\n",
    "                 \n",
    "#length(unique(cam_table$Area_km))\n",
    "#cam_table\n",
    "                 \n",
    "#unique_cams = unique(all_sims$Camera)\n",
    "#unique_animals = unique(all_sims$Animal)\n",
    "#unique_speed = c(1, 2)\n",
    "           \n",
    "all_sims = merge(all_sims, cam_table, by = c(\"Camera\", \"Speed\", \"Animal\"))\n",
    "#all_sims"
   ]
  },
  {
   "cell_type": "code",
   "execution_count": 72,
   "metadata": {},
   "outputs": [
    {
     "data": {
      "text/html": [
       "<table>\n",
       "<caption>A data.frame: 6 × 3</caption>\n",
       "<thead>\n",
       "\t<tr><th scope=col>Camera</th><th scope=col>Speed</th><th scope=col>Area2_km</th></tr>\n",
       "\t<tr><th scope=col>&lt;fct&gt;</th><th scope=col>&lt;dbl&gt;</th><th scope=col>&lt;dbl&gt;</th></tr>\n",
       "</thead>\n",
       "<tbody>\n",
       "\t<tr><td>garmin</td><td>1</td><td>14.34943</td></tr>\n",
       "\t<tr><td>garmin</td><td>2</td><td>15.66604</td></tr>\n",
       "\t<tr><td>sony  </td><td>1</td><td>19.60153</td></tr>\n",
       "\t<tr><td>sony  </td><td>2</td><td>21.40004</td></tr>\n",
       "\t<tr><td>nadir </td><td>1</td><td>26.56874</td></tr>\n",
       "\t<tr><td>nadir </td><td>2</td><td>29.00652</td></tr>\n",
       "</tbody>\n",
       "</table>\n"
      ],
      "text/latex": [
       "A data.frame: 6 × 3\n",
       "\\begin{tabular}{r|lll}\n",
       " Camera & Speed & Area2\\_km\\\\\n",
       " <fct> & <dbl> & <dbl>\\\\\n",
       "\\hline\n",
       "\t garmin & 1 & 14.34943\\\\\n",
       "\t garmin & 2 & 15.66604\\\\\n",
       "\t sony   & 1 & 19.60153\\\\\n",
       "\t sony   & 2 & 21.40004\\\\\n",
       "\t nadir  & 1 & 26.56874\\\\\n",
       "\t nadir  & 2 & 29.00652\\\\\n",
       "\\end{tabular}\n"
      ],
      "text/markdown": [
       "\n",
       "A data.frame: 6 × 3\n",
       "\n",
       "| Camera &lt;fct&gt; | Speed &lt;dbl&gt; | Area2_km &lt;dbl&gt; |\n",
       "|---|---|---|\n",
       "| garmin | 1 | 14.34943 |\n",
       "| garmin | 2 | 15.66604 |\n",
       "| sony   | 1 | 19.60153 |\n",
       "| sony   | 2 | 21.40004 |\n",
       "| nadir  | 1 | 26.56874 |\n",
       "| nadir  | 2 | 29.00652 |\n",
       "\n"
      ],
      "text/plain": [
       "  Camera Speed Area2_km\n",
       "1 garmin 1     14.34943\n",
       "2 garmin 2     15.66604\n",
       "3 sony   1     19.60153\n",
       "4 sony   2     21.40004\n",
       "5 nadir  1     26.56874\n",
       "6 nadir  2     29.00652"
      ]
     },
     "metadata": {},
     "output_type": "display_data"
    }
   ],
   "source": [
    "cam_table2"
   ]
  },
  {
   "cell_type": "code",
   "execution_count": 32,
   "metadata": {},
   "outputs": [
    {
     "data": {
      "text/html": [
       "<table>\n",
       "<caption>A data.table: 6 × 10</caption>\n",
       "<thead>\n",
       "\t<tr><th scope=col>Camera</th><th scope=col>Speed</th><th scope=col>Animal</th><th scope=col>Animal_path</th><th scope=col>UAV_path</th><th scope=col>Bias</th><th scope=col>Total_hits</th><th scope=col>Actual_hits</th><th scope=col>Area_km</th><th scope=col>Area2_km</th></tr>\n",
       "\t<tr><th scope=col>&lt;fct&gt;</th><th scope=col>&lt;dbl&gt;</th><th scope=col>&lt;fct&gt;</th><th scope=col>&lt;chr&gt;</th><th scope=col>&lt;chr&gt;</th><th scope=col>&lt;chr&gt;</th><th scope=col>&lt;int&gt;</th><th scope=col>&lt;int&gt;</th><th scope=col>&lt;dbl&gt;</th><th scope=col>&lt;dbl&gt;</th></tr>\n",
       "</thead>\n",
       "<tbody>\n",
       "\t<tr><td>garmin</td><td>1</td><td>booby</td><td>straight</td><td>lawnmower</td><td>yes</td><td>0</td><td>0</td><td>23.09908</td><td>17.75318</td></tr>\n",
       "\t<tr><td>garmin</td><td>1</td><td>booby</td><td>straight</td><td>lawnmower</td><td>no </td><td>0</td><td>0</td><td>23.09908</td><td>17.75318</td></tr>\n",
       "\t<tr><td>garmin</td><td>1</td><td>booby</td><td>straight</td><td>figure8  </td><td>yes</td><td>0</td><td>0</td><td>23.09908</td><td>17.75318</td></tr>\n",
       "\t<tr><td>garmin</td><td>1</td><td>booby</td><td>straight</td><td>figure8  </td><td>no </td><td>0</td><td>0</td><td>23.09908</td><td>17.75318</td></tr>\n",
       "\t<tr><td>garmin</td><td>1</td><td>booby</td><td>stop25  </td><td>lawnmower</td><td>yes</td><td>0</td><td>0</td><td>23.09908</td><td>17.75318</td></tr>\n",
       "\t<tr><td>garmin</td><td>1</td><td>booby</td><td>stop25  </td><td>lawnmower</td><td>no </td><td>0</td><td>0</td><td>23.09908</td><td>17.75318</td></tr>\n",
       "</tbody>\n",
       "</table>\n"
      ],
      "text/latex": [
       "A data.table: 6 × 10\n",
       "\\begin{tabular}{r|llllllllll}\n",
       " Camera & Speed & Animal & Animal\\_path & UAV\\_path & Bias & Total\\_hits & Actual\\_hits & Area\\_km & Area2\\_km\\\\\n",
       " <fct> & <dbl> & <fct> & <chr> & <chr> & <chr> & <int> & <int> & <dbl> & <dbl>\\\\\n",
       "\\hline\n",
       "\t garmin & 1 & booby & straight & lawnmower & yes & 0 & 0 & 23.09908 & 17.75318\\\\\n",
       "\t garmin & 1 & booby & straight & lawnmower & no  & 0 & 0 & 23.09908 & 17.75318\\\\\n",
       "\t garmin & 1 & booby & straight & figure8   & yes & 0 & 0 & 23.09908 & 17.75318\\\\\n",
       "\t garmin & 1 & booby & straight & figure8   & no  & 0 & 0 & 23.09908 & 17.75318\\\\\n",
       "\t garmin & 1 & booby & stop25   & lawnmower & yes & 0 & 0 & 23.09908 & 17.75318\\\\\n",
       "\t garmin & 1 & booby & stop25   & lawnmower & no  & 0 & 0 & 23.09908 & 17.75318\\\\\n",
       "\\end{tabular}\n"
      ],
      "text/markdown": [
       "\n",
       "A data.table: 6 × 10\n",
       "\n",
       "| Camera &lt;fct&gt; | Speed &lt;dbl&gt; | Animal &lt;fct&gt; | Animal_path &lt;chr&gt; | UAV_path &lt;chr&gt; | Bias &lt;chr&gt; | Total_hits &lt;int&gt; | Actual_hits &lt;int&gt; | Area_km &lt;dbl&gt; | Area2_km &lt;dbl&gt; |\n",
       "|---|---|---|---|---|---|---|---|---|---|\n",
       "| garmin | 1 | booby | straight | lawnmower | yes | 0 | 0 | 23.09908 | 17.75318 |\n",
       "| garmin | 1 | booby | straight | lawnmower | no  | 0 | 0 | 23.09908 | 17.75318 |\n",
       "| garmin | 1 | booby | straight | figure8   | yes | 0 | 0 | 23.09908 | 17.75318 |\n",
       "| garmin | 1 | booby | straight | figure8   | no  | 0 | 0 | 23.09908 | 17.75318 |\n",
       "| garmin | 1 | booby | stop25   | lawnmower | yes | 0 | 0 | 23.09908 | 17.75318 |\n",
       "| garmin | 1 | booby | stop25   | lawnmower | no  | 0 | 0 | 23.09908 | 17.75318 |\n",
       "\n"
      ],
      "text/plain": [
       "  Camera Speed Animal Animal_path UAV_path  Bias Total_hits Actual_hits\n",
       "1 garmin 1     booby  straight    lawnmower yes  0          0          \n",
       "2 garmin 1     booby  straight    lawnmower no   0          0          \n",
       "3 garmin 1     booby  straight    figure8   yes  0          0          \n",
       "4 garmin 1     booby  straight    figure8   no   0          0          \n",
       "5 garmin 1     booby  stop25      lawnmower yes  0          0          \n",
       "6 garmin 1     booby  stop25      lawnmower no   0          0          \n",
       "  Area_km  Area2_km\n",
       "1 23.09908 17.75318\n",
       "2 23.09908 17.75318\n",
       "3 23.09908 17.75318\n",
       "4 23.09908 17.75318\n",
       "5 23.09908 17.75318\n",
       "6 23.09908 17.75318"
      ]
     },
     "metadata": {},
     "output_type": "display_data"
    }
   ],
   "source": [
    "# Add area\n",
    "\n",
    "# Overlap calculated by calculating the number of average timesteps \n",
    "# necessary to traverse image width - this dependent on camera (FOV), speed(1,2) \n",
    "# Area covered by each camera appended to simulation data\n",
    "\n",
    "Animals <- rep(unique(all_sims$Animal), 6)\n",
    "Camera <- c(\"garmin\", \"garmin\", \"sony\", \"sony\", \"nadir\", \"nadir\")\n",
    "Speed <-c(1, 2, 1, 2, 1, 2)\n",
    "\n",
    "\n",
    "g_h <- 83.33 \n",
    "s_h <- 113.83\n",
    "n_h <- 154.29\n",
    "\n",
    "Area2_km <- c(((10000 * 17.22 * g_h)/1000000), ((10000 * 18.8 * g_h)/1000000), ((10000 * 17.22 * s_h)/1000000), \n",
    "             ((10000 * 18.8 * s_h)/1000000), ((10000 * 17.22 * n_h)/1000000),  ((10000 * 18.8 * n_h)/1000000)) # Converting to kilometres2\n",
    "\n",
    "cam_table2 <- data.frame(Camera, Speed, Area2_km)\n",
    "\n",
    "#cam_table\n",
    "\n",
    "unique_cams = unique(all_sims$Camera)\n",
    "unique_speed = c(1, 2)\n",
    "\n",
    "all_sims = merge(all_sims, cam_table2, by = c('Camera', 'Speed'))\n",
    "all_sims$Area2_km <- sapply(all_sims$Area2_km, function(x) x + mean(animals_speeds))\n",
    "head(all_sims)"
   ]
  },
  {
   "cell_type": "code",
   "execution_count": 5,
   "metadata": {},
   "outputs": [],
   "source": [
    "#df[df$aged <= df$laclen, ] \n",
    "#a <- subset(all_sims, all_sims$Actual_hits == 34)\n",
    "\n",
    "#levels(as.factor(a$UAV_path))\n",
    "#a"
   ]
  },
  {
   "cell_type": "code",
   "execution_count": 33,
   "metadata": {},
   "outputs": [],
   "source": [
    "#b <- subset(all_sims, all_sims$Actual_hits > 22)\n",
    "#b\n",
    "#print(length(unique(Area2_km)))"
   ]
  },
  {
   "cell_type": "code",
   "execution_count": 34,
   "metadata": {},
   "outputs": [
    {
     "name": "stderr",
     "output_type": "stream",
     "text": [
      "Warning message in data.table::data.table(...):\n",
      "“Item 1 is of size 115584 but maximum size is 134400 (recycled leaving remainder of 18816 items)”"
     ]
    },
    {
     "data": {
      "text/html": [
       "<table>\n",
       "<caption>A data.table: 6 × 11</caption>\n",
       "<thead>\n",
       "\t<tr><th scope=col>Camera</th><th scope=col>Speed</th><th scope=col>Animal</th><th scope=col>Animal_path</th><th scope=col>UAV_path</th><th scope=col>Bias</th><th scope=col>Total_hits</th><th scope=col>Actual_hits</th><th scope=col>Area_km</th><th scope=col>Area2_km</th><th scope=col>True_Density</th></tr>\n",
       "\t<tr><th scope=col>&lt;fct&gt;</th><th scope=col>&lt;dbl&gt;</th><th scope=col>&lt;fct&gt;</th><th scope=col>&lt;chr&gt;</th><th scope=col>&lt;chr&gt;</th><th scope=col>&lt;chr&gt;</th><th scope=col>&lt;int&gt;</th><th scope=col>&lt;int&gt;</th><th scope=col>&lt;dbl&gt;</th><th scope=col>&lt;dbl&gt;</th><th scope=col>&lt;dbl&gt;</th></tr>\n",
       "</thead>\n",
       "<tbody>\n",
       "\t<tr><td>garmin</td><td>1</td><td>booby</td><td>straight</td><td>lawnmower</td><td>yes</td><td>0</td><td>0</td><td>23.09908</td><td>17.75318</td><td>0.04</td></tr>\n",
       "\t<tr><td>garmin</td><td>1</td><td>booby</td><td>straight</td><td>lawnmower</td><td>no </td><td>0</td><td>0</td><td>23.09908</td><td>17.75318</td><td>0.04</td></tr>\n",
       "\t<tr><td>garmin</td><td>1</td><td>booby</td><td>straight</td><td>figure8  </td><td>yes</td><td>0</td><td>0</td><td>23.09908</td><td>17.75318</td><td>0.04</td></tr>\n",
       "\t<tr><td>garmin</td><td>1</td><td>booby</td><td>straight</td><td>figure8  </td><td>no </td><td>0</td><td>0</td><td>23.09908</td><td>17.75318</td><td>0.04</td></tr>\n",
       "\t<tr><td>garmin</td><td>1</td><td>booby</td><td>stop25  </td><td>lawnmower</td><td>yes</td><td>0</td><td>0</td><td>23.09908</td><td>17.75318</td><td>0.04</td></tr>\n",
       "\t<tr><td>garmin</td><td>1</td><td>booby</td><td>stop25  </td><td>lawnmower</td><td>no </td><td>0</td><td>0</td><td>23.09908</td><td>17.75318</td><td>0.04</td></tr>\n",
       "</tbody>\n",
       "</table>\n"
      ],
      "text/latex": [
       "A data.table: 6 × 11\n",
       "\\begin{tabular}{r|lllllllllll}\n",
       " Camera & Speed & Animal & Animal\\_path & UAV\\_path & Bias & Total\\_hits & Actual\\_hits & Area\\_km & Area2\\_km & True\\_Density\\\\\n",
       " <fct> & <dbl> & <fct> & <chr> & <chr> & <chr> & <int> & <int> & <dbl> & <dbl> & <dbl>\\\\\n",
       "\\hline\n",
       "\t garmin & 1 & booby & straight & lawnmower & yes & 0 & 0 & 23.09908 & 17.75318 & 0.04\\\\\n",
       "\t garmin & 1 & booby & straight & lawnmower & no  & 0 & 0 & 23.09908 & 17.75318 & 0.04\\\\\n",
       "\t garmin & 1 & booby & straight & figure8   & yes & 0 & 0 & 23.09908 & 17.75318 & 0.04\\\\\n",
       "\t garmin & 1 & booby & straight & figure8   & no  & 0 & 0 & 23.09908 & 17.75318 & 0.04\\\\\n",
       "\t garmin & 1 & booby & stop25   & lawnmower & yes & 0 & 0 & 23.09908 & 17.75318 & 0.04\\\\\n",
       "\t garmin & 1 & booby & stop25   & lawnmower & no  & 0 & 0 & 23.09908 & 17.75318 & 0.04\\\\\n",
       "\\end{tabular}\n"
      ],
      "text/markdown": [
       "\n",
       "A data.table: 6 × 11\n",
       "\n",
       "| Camera &lt;fct&gt; | Speed &lt;dbl&gt; | Animal &lt;fct&gt; | Animal_path &lt;chr&gt; | UAV_path &lt;chr&gt; | Bias &lt;chr&gt; | Total_hits &lt;int&gt; | Actual_hits &lt;int&gt; | Area_km &lt;dbl&gt; | Area2_km &lt;dbl&gt; | True_Density &lt;dbl&gt; |\n",
       "|---|---|---|---|---|---|---|---|---|---|---|\n",
       "| garmin | 1 | booby | straight | lawnmower | yes | 0 | 0 | 23.09908 | 17.75318 | 0.04 |\n",
       "| garmin | 1 | booby | straight | lawnmower | no  | 0 | 0 | 23.09908 | 17.75318 | 0.04 |\n",
       "| garmin | 1 | booby | straight | figure8   | yes | 0 | 0 | 23.09908 | 17.75318 | 0.04 |\n",
       "| garmin | 1 | booby | straight | figure8   | no  | 0 | 0 | 23.09908 | 17.75318 | 0.04 |\n",
       "| garmin | 1 | booby | stop25   | lawnmower | yes | 0 | 0 | 23.09908 | 17.75318 | 0.04 |\n",
       "| garmin | 1 | booby | stop25   | lawnmower | no  | 0 | 0 | 23.09908 | 17.75318 | 0.04 |\n",
       "\n"
      ],
      "text/plain": [
       "  Camera Speed Animal Animal_path UAV_path  Bias Total_hits Actual_hits\n",
       "1 garmin 1     booby  straight    lawnmower yes  0          0          \n",
       "2 garmin 1     booby  straight    lawnmower no   0          0          \n",
       "3 garmin 1     booby  straight    figure8   yes  0          0          \n",
       "4 garmin 1     booby  straight    figure8   no   0          0          \n",
       "5 garmin 1     booby  stop25      lawnmower yes  0          0          \n",
       "6 garmin 1     booby  stop25      lawnmower no   0          0          \n",
       "  Area_km  Area2_km True_Density\n",
       "1 23.09908 17.75318 0.04        \n",
       "2 23.09908 17.75318 0.04        \n",
       "3 23.09908 17.75318 0.04        \n",
       "4 23.09908 17.75318 0.04        \n",
       "5 23.09908 17.75318 0.04        \n",
       "6 23.09908 17.75318 0.04        "
      ]
     },
     "metadata": {},
     "output_type": "display_data"
    }
   ],
   "source": [
    "# Add true density estimate\n",
    "True_Density <- rep((1/25), 134400)\n",
    "all_sims <- cbind(all_sims, True_Density)\n",
    "head(all_sims)"
   ]
  },
  {
   "cell_type": "code",
   "execution_count": 35,
   "metadata": {},
   "outputs": [],
   "source": [
    "# Density Calculations\n",
    "\n",
    "calcDensity <- function(z, A){\n",
    "  # Calculate density using ideal gas model from capture rate and survey area covered\n",
    "  # z : The number of encounters/captures.\n",
    "  # A : Area covered by sensor per unit time.\n",
    "  \n",
    "  # Double check parameters: will be < 0 or double\n",
    "  #if(z < 0 | !is.numeric(z)) stop(\"Number of individuals must be a positive number\")\n",
    "  #if (A <= 0 | !is.numeric(A)) stop(\"Area, A, must be a positive number.\")\n",
    "    \n",
    "  # Calculate density\n",
    "  return(D <- z/A)\n",
    "}\n",
    "\n",
    "\n",
    "\n",
    "# Calculate density per simulation\n",
    "Density_km <- calcDensity(all_sims$Actual_hits, all_sims$Area_km)\n",
    "all_sims <- cbind(all_sims, Density_km)\n",
    "#head(all_sims)\n",
    "\n",
    "Strip_Density <- calcDensity(all_sims$Actual_hits, all_sims$Area2_km)\n",
    "all_sims <- cbind(all_sims, Strip_Density)"
   ]
  },
  {
   "cell_type": "code",
   "execution_count": 36,
   "metadata": {},
   "outputs": [
    {
     "data": {
      "text/html": [
       "<table>\n",
       "<caption>A data.table: 6 × 13</caption>\n",
       "<thead>\n",
       "\t<tr><th scope=col>Camera</th><th scope=col>Speed</th><th scope=col>Animal</th><th scope=col>Animal_path</th><th scope=col>UAV_path</th><th scope=col>Bias</th><th scope=col>Total_hits</th><th scope=col>Actual_hits</th><th scope=col>Area_km</th><th scope=col>Area2_km</th><th scope=col>True_Density</th><th scope=col>Density_km</th><th scope=col>Strip_Density</th></tr>\n",
       "\t<tr><th scope=col>&lt;fct&gt;</th><th scope=col>&lt;dbl&gt;</th><th scope=col>&lt;fct&gt;</th><th scope=col>&lt;chr&gt;</th><th scope=col>&lt;chr&gt;</th><th scope=col>&lt;chr&gt;</th><th scope=col>&lt;int&gt;</th><th scope=col>&lt;int&gt;</th><th scope=col>&lt;dbl&gt;</th><th scope=col>&lt;dbl&gt;</th><th scope=col>&lt;dbl&gt;</th><th scope=col>&lt;dbl&gt;</th><th scope=col>&lt;dbl&gt;</th></tr>\n",
       "</thead>\n",
       "<tbody>\n",
       "\t<tr><td>garmin</td><td>1</td><td>booby</td><td>straight</td><td>lawnmower</td><td>yes</td><td>0</td><td>0</td><td>23.09908</td><td>17.75318</td><td>0.04</td><td>0</td><td>0</td></tr>\n",
       "\t<tr><td>garmin</td><td>1</td><td>booby</td><td>straight</td><td>lawnmower</td><td>no </td><td>0</td><td>0</td><td>23.09908</td><td>17.75318</td><td>0.04</td><td>0</td><td>0</td></tr>\n",
       "\t<tr><td>garmin</td><td>1</td><td>booby</td><td>straight</td><td>figure8  </td><td>yes</td><td>0</td><td>0</td><td>23.09908</td><td>17.75318</td><td>0.04</td><td>0</td><td>0</td></tr>\n",
       "\t<tr><td>garmin</td><td>1</td><td>booby</td><td>straight</td><td>figure8  </td><td>no </td><td>0</td><td>0</td><td>23.09908</td><td>17.75318</td><td>0.04</td><td>0</td><td>0</td></tr>\n",
       "\t<tr><td>garmin</td><td>1</td><td>booby</td><td>stop25  </td><td>lawnmower</td><td>yes</td><td>0</td><td>0</td><td>23.09908</td><td>17.75318</td><td>0.04</td><td>0</td><td>0</td></tr>\n",
       "\t<tr><td>garmin</td><td>1</td><td>booby</td><td>stop25  </td><td>lawnmower</td><td>no </td><td>0</td><td>0</td><td>23.09908</td><td>17.75318</td><td>0.04</td><td>0</td><td>0</td></tr>\n",
       "</tbody>\n",
       "</table>\n"
      ],
      "text/latex": [
       "A data.table: 6 × 13\n",
       "\\begin{tabular}{r|lllllllllllll}\n",
       " Camera & Speed & Animal & Animal\\_path & UAV\\_path & Bias & Total\\_hits & Actual\\_hits & Area\\_km & Area2\\_km & True\\_Density & Density\\_km & Strip\\_Density\\\\\n",
       " <fct> & <dbl> & <fct> & <chr> & <chr> & <chr> & <int> & <int> & <dbl> & <dbl> & <dbl> & <dbl> & <dbl>\\\\\n",
       "\\hline\n",
       "\t garmin & 1 & booby & straight & lawnmower & yes & 0 & 0 & 23.09908 & 17.75318 & 0.04 & 0 & 0\\\\\n",
       "\t garmin & 1 & booby & straight & lawnmower & no  & 0 & 0 & 23.09908 & 17.75318 & 0.04 & 0 & 0\\\\\n",
       "\t garmin & 1 & booby & straight & figure8   & yes & 0 & 0 & 23.09908 & 17.75318 & 0.04 & 0 & 0\\\\\n",
       "\t garmin & 1 & booby & straight & figure8   & no  & 0 & 0 & 23.09908 & 17.75318 & 0.04 & 0 & 0\\\\\n",
       "\t garmin & 1 & booby & stop25   & lawnmower & yes & 0 & 0 & 23.09908 & 17.75318 & 0.04 & 0 & 0\\\\\n",
       "\t garmin & 1 & booby & stop25   & lawnmower & no  & 0 & 0 & 23.09908 & 17.75318 & 0.04 & 0 & 0\\\\\n",
       "\\end{tabular}\n"
      ],
      "text/markdown": [
       "\n",
       "A data.table: 6 × 13\n",
       "\n",
       "| Camera &lt;fct&gt; | Speed &lt;dbl&gt; | Animal &lt;fct&gt; | Animal_path &lt;chr&gt; | UAV_path &lt;chr&gt; | Bias &lt;chr&gt; | Total_hits &lt;int&gt; | Actual_hits &lt;int&gt; | Area_km &lt;dbl&gt; | Area2_km &lt;dbl&gt; | True_Density &lt;dbl&gt; | Density_km &lt;dbl&gt; | Strip_Density &lt;dbl&gt; |\n",
       "|---|---|---|---|---|---|---|---|---|---|---|---|---|\n",
       "| garmin | 1 | booby | straight | lawnmower | yes | 0 | 0 | 23.09908 | 17.75318 | 0.04 | 0 | 0 |\n",
       "| garmin | 1 | booby | straight | lawnmower | no  | 0 | 0 | 23.09908 | 17.75318 | 0.04 | 0 | 0 |\n",
       "| garmin | 1 | booby | straight | figure8   | yes | 0 | 0 | 23.09908 | 17.75318 | 0.04 | 0 | 0 |\n",
       "| garmin | 1 | booby | straight | figure8   | no  | 0 | 0 | 23.09908 | 17.75318 | 0.04 | 0 | 0 |\n",
       "| garmin | 1 | booby | stop25   | lawnmower | yes | 0 | 0 | 23.09908 | 17.75318 | 0.04 | 0 | 0 |\n",
       "| garmin | 1 | booby | stop25   | lawnmower | no  | 0 | 0 | 23.09908 | 17.75318 | 0.04 | 0 | 0 |\n",
       "\n"
      ],
      "text/plain": [
       "  Camera Speed Animal Animal_path UAV_path  Bias Total_hits Actual_hits\n",
       "1 garmin 1     booby  straight    lawnmower yes  0          0          \n",
       "2 garmin 1     booby  straight    lawnmower no   0          0          \n",
       "3 garmin 1     booby  straight    figure8   yes  0          0          \n",
       "4 garmin 1     booby  straight    figure8   no   0          0          \n",
       "5 garmin 1     booby  stop25      lawnmower yes  0          0          \n",
       "6 garmin 1     booby  stop25      lawnmower no   0          0          \n",
       "  Area_km  Area2_km True_Density Density_km Strip_Density\n",
       "1 23.09908 17.75318 0.04         0          0            \n",
       "2 23.09908 17.75318 0.04         0          0            \n",
       "3 23.09908 17.75318 0.04         0          0            \n",
       "4 23.09908 17.75318 0.04         0          0            \n",
       "5 23.09908 17.75318 0.04         0          0            \n",
       "6 23.09908 17.75318 0.04         0          0            "
      ]
     },
     "metadata": {},
     "output_type": "display_data"
    }
   ],
   "source": [
    "head(all_sims)"
   ]
  },
  {
   "cell_type": "code",
   "execution_count": 37,
   "metadata": {},
   "outputs": [],
   "source": [
    "Prop_err <- apply(all_sims, 1, function(x) ((as.numeric(x[12]) - as.numeric(x[11])) /as.numeric(x[11]))*100)\n",
    "Strip_err <- apply(all_sims, 1, function(x) ((as.numeric(x[13]) - as.numeric(x[11])) /as.numeric(x[11]))*100)"
   ]
  },
  {
   "cell_type": "code",
   "execution_count": 38,
   "metadata": {},
   "outputs": [],
   "source": [
    "all_sims <- cbind(all_sims, Prop_err)\n",
    "all_sims <- cbind(all_sims, Strip_err)"
   ]
  },
  {
   "cell_type": "code",
   "execution_count": 39,
   "metadata": {},
   "outputs": [
    {
     "data": {
      "text/html": [
       "-13.072675"
      ],
      "text/latex": [
       "-13.072675"
      ],
      "text/markdown": [
       "-13.072675"
      ],
      "text/plain": [
       "[1] -13.07268"
      ]
     },
     "metadata": {},
     "output_type": "display_data"
    },
    {
     "data": {
      "text/html": [
       "-16.590175"
      ],
      "text/latex": [
       "-16.590175"
      ],
      "text/markdown": [
       "-16.590175"
      ],
      "text/plain": [
       "[1] -16.59018"
      ]
     },
     "metadata": {},
     "output_type": "display_data"
    },
    {
     "data": {
      "text/html": [
       "0.100020084032874"
      ],
      "text/latex": [
       "0.100020084032874"
      ],
      "text/markdown": [
       "0.100020084032874"
      ],
      "text/plain": [
       "[1] 0.1000201"
      ]
     },
     "metadata": {},
     "output_type": "display_data"
    },
    {
     "data": {
      "text/html": [
       "0.0925632523271173"
      ],
      "text/latex": [
       "0.0925632523271173"
      ],
      "text/markdown": [
       "0.0925632523271173"
      ],
      "text/plain": [
       "[1] 0.09256325"
      ]
     },
     "metadata": {},
     "output_type": "display_data"
    }
   ],
   "source": [
    "median(Prop_err)\n",
    "median(Strip_err)\n",
    "\n",
    "IQR(Density_km)\n",
    "IQR(Strip_Density)"
   ]
  },
  {
   "cell_type": "code",
   "execution_count": 40,
   "metadata": {},
   "outputs": [
    {
     "data": {
      "text/html": [
       "-100"
      ],
      "text/latex": [
       "-100"
      ],
      "text/markdown": [
       "-100"
      ],
      "text/plain": [
       "[1] -100"
      ]
     },
     "metadata": {},
     "output_type": "display_data"
    },
    {
     "data": {
      "text/html": [
       "150.0502"
      ],
      "text/latex": [
       "150.0502"
      ],
      "text/markdown": [
       "150.0502"
      ],
      "text/plain": [
       "[1] 150.0502"
      ]
     },
     "metadata": {},
     "output_type": "display_data"
    },
    {
     "data": {
      "image/png": "[encoded data removed]",
      "text/plain": [
       "plot without title"
      ]
     },
     "metadata": {},
     "output_type": "display_data"
    }
   ],
   "source": [
    "# Precision and Accuracy overall\n",
    "\n",
    "#median(Prop_err)\n",
    "#max(Prop_err)\n",
    "#min(Prop_err)\n",
    "order_prop <- sort(Prop_err)\n",
    "lower = order_prop[0.25*length(order_prop)]\n",
    "upper = order_prop[0.75*length(order_prop)]\n",
    "lower\n",
    "upper\n",
    "\n",
    "all_sim_err <- ggplot(data = all_sims, aes(x = Prop_err)) + \n",
    "                geom_density(colour = 'slateblue') +\n",
    "                xlab(\"Percentage Error (%)\") +\n",
    "                ylab('Density') +\n",
    "                theme_bw() +\n",
    "                geom_vline(xintercept = median(Prop_err), color = 'dodgerblue3') +\n",
    "                geom_vline(xintercept = lower, color = 'dodgerblue3', linetype = 'dotted') +\n",
    "                geom_vline(xintercept = upper, color = 'dodgerblue3', linetype = 'dotted')\n",
    "\n",
    "all_sim_err"
   ]
  },
  {
   "cell_type": "code",
   "execution_count": 12,
   "metadata": {},
   "outputs": [
    {
     "data": {
      "text/html": [
       "<strong>png:</strong> 2"
      ],
      "text/latex": [
       "\\textbf{png:} 2"
      ],
      "text/markdown": [
       "**png:** 2"
      ],
      "text/plain": [
       "png \n",
       "  2 "
      ]
     },
     "metadata": {},
     "output_type": "display_data"
    }
   ],
   "source": [
    "pdf(file = paste(\"../Results/Err_density.jpg\"))\n",
    "print(all_sim_err)\n",
    "dev.off()"
   ]
  },
  {
   "cell_type": "code",
   "execution_count": 21,
   "metadata": {},
   "outputs": [
    {
     "data": {
      "text/html": [
       "-100"
      ],
      "text/latex": [
       "-100"
      ],
      "text/markdown": [
       "-100"
      ],
      "text/plain": [
       "[1] -100"
      ]
     },
     "metadata": {},
     "output_type": "display_data"
    },
    {
     "data": {
      "text/html": [
       "-9.2763"
      ],
      "text/latex": [
       "-9.2763"
      ],
      "text/markdown": [
       "-9.2763"
      ],
      "text/plain": [
       "[1] -9.2763"
      ]
     },
     "metadata": {},
     "output_type": "display_data"
    },
    {
     "data": {
      "text/html": [
       "0.0980472132628857"
      ],
      "text/latex": [
       "0.0980472132628857"
      ],
      "text/markdown": [
       "0.0980472132628857"
      ],
      "text/plain": [
       "[1] 0.09804721"
      ]
     },
     "metadata": {},
     "output_type": "display_data"
    }
   ],
   "source": [
    "min(all_sims$Prop_err)\n",
    "median(all_sims$Prop_err)\n",
    "#sd(all_sims$Prop_err)\n",
    "IQR(all_sims$Density_km)"
   ]
  },
  {
   "cell_type": "code",
   "execution_count": 41,
   "metadata": {},
   "outputs": [
    {
     "data": {
      "text/html": [
       "<table>\n",
       "<caption>A data.frame: 20 × 2</caption>\n",
       "<thead>\n",
       "\t<tr><th></th><th scope=col>Abundance</th><th scope=col>Total_Encounters</th></tr>\n",
       "\t<tr><th></th><th scope=col>&lt;dbl&gt;</th><th scope=col>&lt;dbl&gt;</th></tr>\n",
       "</thead>\n",
       "<tbody>\n",
       "\t<tr><th scope=row>2</th><td> 10</td><td> 11</td></tr>\n",
       "\t<tr><th scope=row>3</th><td> 20</td><td> 56</td></tr>\n",
       "\t<tr><th scope=row>4</th><td> 30</td><td> 39</td></tr>\n",
       "\t<tr><th scope=row>5</th><td> 40</td><td>146</td></tr>\n",
       "\t<tr><th scope=row>6</th><td> 50</td><td> 97</td></tr>\n",
       "\t<tr><th scope=row>7</th><td> 60</td><td>188</td></tr>\n",
       "\t<tr><th scope=row>8</th><td> 70</td><td>123</td></tr>\n",
       "\t<tr><th scope=row>9</th><td> 80</td><td>195</td></tr>\n",
       "\t<tr><th scope=row>10</th><td> 90</td><td>184</td></tr>\n",
       "\t<tr><th scope=row>11</th><td>100</td><td>213</td></tr>\n",
       "\t<tr><th scope=row>12</th><td>110</td><td>239</td></tr>\n",
       "\t<tr><th scope=row>13</th><td>120</td><td>225</td></tr>\n",
       "\t<tr><th scope=row>14</th><td>130</td><td>258</td></tr>\n",
       "\t<tr><th scope=row>15</th><td>140</td><td>346</td></tr>\n",
       "\t<tr><th scope=row>16</th><td>150</td><td>270</td></tr>\n",
       "\t<tr><th scope=row>17</th><td>160</td><td>235</td></tr>\n",
       "\t<tr><th scope=row>18</th><td>170</td><td>368</td></tr>\n",
       "\t<tr><th scope=row>19</th><td>180</td><td>320</td></tr>\n",
       "\t<tr><th scope=row>20</th><td>190</td><td>425</td></tr>\n",
       "\t<tr><th scope=row>21</th><td>200</td><td>348</td></tr>\n",
       "</tbody>\n",
       "</table>\n"
      ],
      "text/latex": [
       "A data.frame: 20 × 2\n",
       "\\begin{tabular}{r|ll}\n",
       "  & Abundance & Total\\_Encounters\\\\\n",
       "  & <dbl> & <dbl>\\\\\n",
       "\\hline\n",
       "\t2 &  10 &  11\\\\\n",
       "\t3 &  20 &  56\\\\\n",
       "\t4 &  30 &  39\\\\\n",
       "\t5 &  40 & 146\\\\\n",
       "\t6 &  50 &  97\\\\\n",
       "\t7 &  60 & 188\\\\\n",
       "\t8 &  70 & 123\\\\\n",
       "\t9 &  80 & 195\\\\\n",
       "\t10 &  90 & 184\\\\\n",
       "\t11 & 100 & 213\\\\\n",
       "\t12 & 110 & 239\\\\\n",
       "\t13 & 120 & 225\\\\\n",
       "\t14 & 130 & 258\\\\\n",
       "\t15 & 140 & 346\\\\\n",
       "\t16 & 150 & 270\\\\\n",
       "\t17 & 160 & 235\\\\\n",
       "\t18 & 170 & 368\\\\\n",
       "\t19 & 180 & 320\\\\\n",
       "\t20 & 190 & 425\\\\\n",
       "\t21 & 200 & 348\\\\\n",
       "\\end{tabular}\n"
      ],
      "text/markdown": [
       "\n",
       "A data.frame: 20 × 2\n",
       "\n",
       "| <!--/--> | Abundance &lt;dbl&gt; | Total_Encounters &lt;dbl&gt; |\n",
       "|---|---|---|\n",
       "| 2 |  10 |  11 |\n",
       "| 3 |  20 |  56 |\n",
       "| 4 |  30 |  39 |\n",
       "| 5 |  40 | 146 |\n",
       "| 6 |  50 |  97 |\n",
       "| 7 |  60 | 188 |\n",
       "| 8 |  70 | 123 |\n",
       "| 9 |  80 | 195 |\n",
       "| 10 |  90 | 184 |\n",
       "| 11 | 100 | 213 |\n",
       "| 12 | 110 | 239 |\n",
       "| 13 | 120 | 225 |\n",
       "| 14 | 130 | 258 |\n",
       "| 15 | 140 | 346 |\n",
       "| 16 | 150 | 270 |\n",
       "| 17 | 160 | 235 |\n",
       "| 18 | 170 | 368 |\n",
       "| 19 | 180 | 320 |\n",
       "| 20 | 190 | 425 |\n",
       "| 21 | 200 | 348 |\n",
       "\n"
      ],
      "text/plain": [
       "   Abundance Total_Encounters\n",
       "2   10        11             \n",
       "3   20        56             \n",
       "4   30        39             \n",
       "5   40       146             \n",
       "6   50        97             \n",
       "7   60       188             \n",
       "8   70       123             \n",
       "9   80       195             \n",
       "10  90       184             \n",
       "11 100       213             \n",
       "12 110       239             \n",
       "13 120       225             \n",
       "14 130       258             \n",
       "15 140       346             \n",
       "16 150       270             \n",
       "17 160       235             \n",
       "18 170       368             \n",
       "19 180       320             \n",
       "20 190       425             \n",
       "21 200       348             "
      ]
     },
     "metadata": {},
     "output_type": "display_data"
    },
    {
     "data": {
      "image/png": "[encoded data removed]",
      "text/plain": [
       "plot without title"
      ]
     },
     "metadata": {},
     "output_type": "display_data"
    }
   ],
   "source": [
    "# Number of Animals/ Encounters until precision / accuracy levels off\n",
    "\n",
    "# Abundance\n",
    "abundance_gen <- function(n, df = all_sims){\n",
    "    # Randomly select rows to represent abundance\n",
    "    n <- sample_n(df, n)\n",
    "    return(n)\n",
    "}\n",
    "\n",
    "\n",
    "abundance_density <- function(df){\n",
    "    z <- sum(df$Actual_hits)\n",
    "    A <- 25\n",
    "    density <- calcDensity(z, A)\n",
    "    return(density)\n",
    "}\n",
    "\n",
    "#random10 <- abundance_gen(10)\n",
    "#random10\n",
    "#random30 <- abundance_gen(30)\n",
    "#random50 <- abundance_gen(50)\n",
    "#random70 <- abundance_gen(70)\n",
    "#random100 <- abundance_gen(100)\n",
    "#random120 <- abundance_gen(120)\n",
    "\n",
    "abund_table <- function(str_list){\n",
    "    # Calculate the overall density and standard distribution for subset\n",
    "    table <- data.frame('Abundance'= 0, 'Encounters'=0)\n",
    "    for(i in str_list){\n",
    "        true_den <- i/25 # True density\n",
    "        set <- abundance_gen(i) \n",
    "        #density <- abundance_density(set) #Calculated density for that area\n",
    "        #iqr <- IQR(density) # Precision\n",
    "        ent <- sum(set$Actual_hits)\n",
    "        row <- c(i, ent)\n",
    "        table <- rbind(table, row)\n",
    "    }\n",
    "    table <- table[-1,]\n",
    "    colnames(table) <- c(\"Abundance\", \"Total_Encounters\")\n",
    "    return(table)\n",
    "}\n",
    "    \n",
    "\n",
    "\n",
    "\n",
    "\n",
    "abundances <- c(10, 20, 30, 40, 50, 60, 70, 80, 90, 100, 110, 120, 130, 140, 150, 160, 170, 180, 190, 200)\n",
    "#abundances <- c(100, 200, 500, 700, 1000)\n",
    "                                \n",
    "                                \n",
    "ab <- abund_table(abundances)\n",
    "#colnames(ab) <- c(\"Abundance\", \"Density\", \"SD\")\n",
    "ab\n",
    "\n",
    "    \n",
    "ab_tab <- function(str_list){\n",
    "    den_table <- c()\n",
    "    for(i in str_list){\n",
    "        #den <- c()\n",
    "        for(j in 1:100){\n",
    "            set <- abundance_gen(i)\n",
    "            density <- abundance_density(set)\n",
    "            den_table <- c(den_table, density)\n",
    "        }\n",
    "    }\n",
    "    return(den_table)\n",
    "}\n",
    "\n",
    "    \n",
    "    \n",
    "    \n",
    "    \n",
    "    \n",
    "abund_graph <- ggplot(ab, aes(x = Abundance, y = Total_Encounters)) +\n",
    "                    geom_bar(stat = 'identity', fill = 'skyblue3') +\n",
    "                    #geom_errorbar(aes(ymin=Density-(SD/2), ymax = Density+(SD/2)), width=.15,\n",
    "                    #position=position_dodge(0.05), colour='darkblue') + \n",
    "                    ylab(\"Total Number of Encounters\") +\n",
    "                    theme_classic()\n",
    "abund_graph"
   ]
  },
  {
   "cell_type": "code",
   "execution_count": 42,
   "metadata": {},
   "outputs": [
    {
     "data": {
      "text/html": [
       "<strong>png:</strong> 2"
      ],
      "text/latex": [
       "\\textbf{png:} 2"
      ],
      "text/markdown": [
       "**png:** 2"
      ],
      "text/plain": [
       "png \n",
       "  2 "
      ]
     },
     "metadata": {},
     "output_type": "display_data"
    }
   ],
   "source": [
    "pdf(file = paste(\"../Results/encount_abund.pdf\"))\n",
    "print(abund_graph)\n",
    "dev.off()"
   ]
  },
  {
   "cell_type": "code",
   "execution_count": 126,
   "metadata": {},
   "outputs": [],
   "source": [
    "#test <- abunda[20,]\n",
    "#test\n",
    "#est_test <- abunda[20,2:101]\n",
    "#est_test\n",
    "#sapply(est_test, function(x) ((x-200)/200)*100)"
   ]
  },
  {
   "cell_type": "code",
   "execution_count": 71,
   "metadata": {},
   "outputs": [
    {
     "data": {
      "text/html": [
       "2000"
      ],
      "text/latex": [
       "2000"
      ],
      "text/markdown": [
       "2000"
      ],
      "text/plain": [
       "[1] 2000"
      ]
     },
     "metadata": {},
     "output_type": "display_data"
    },
    {
     "data": {
      "text/html": [
       "<ol class=list-inline>\n",
       "\t<li>0.6</li>\n",
       "\t<li>0.74</li>\n",
       "\t<li>1.11</li>\n",
       "\t<li>1.22</li>\n",
       "\t<li>1.11</li>\n",
       "\t<li>1.7</li>\n",
       "\t<li>2.04</li>\n",
       "\t<li>1.56</li>\n",
       "\t<li>1.82</li>\n",
       "\t<li>1.92</li>\n",
       "\t<li>2.06</li>\n",
       "\t<li>2.04</li>\n",
       "\t<li>2.02</li>\n",
       "\t<li>2.61</li>\n",
       "\t<li>2.81</li>\n",
       "\t<li>2.65</li>\n",
       "\t<li>2.5</li>\n",
       "\t<li>2.52</li>\n",
       "\t<li>2.96</li>\n",
       "\t<li>2.77</li>\n",
       "</ol>\n"
      ],
      "text/latex": [
       "\\begin{enumerate*}\n",
       "\\item 0.6\n",
       "\\item 0.74\n",
       "\\item 1.11\n",
       "\\item 1.22\n",
       "\\item 1.11\n",
       "\\item 1.7\n",
       "\\item 2.04\n",
       "\\item 1.56\n",
       "\\item 1.82\n",
       "\\item 1.92\n",
       "\\item 2.06\n",
       "\\item 2.04\n",
       "\\item 2.02\n",
       "\\item 2.61\n",
       "\\item 2.81\n",
       "\\item 2.65\n",
       "\\item 2.5\n",
       "\\item 2.52\n",
       "\\item 2.96\n",
       "\\item 2.77\n",
       "\\end{enumerate*}\n"
      ],
      "text/markdown": [
       "1. 0.6\n",
       "2. 0.74\n",
       "3. 1.11\n",
       "4. 1.22\n",
       "5. 1.11\n",
       "6. 1.7\n",
       "7. 2.04\n",
       "8. 1.56\n",
       "9. 1.82\n",
       "10. 1.92\n",
       "11. 2.06\n",
       "12. 2.04\n",
       "13. 2.02\n",
       "14. 2.61\n",
       "15. 2.81\n",
       "16. 2.65\n",
       "17. 2.5\n",
       "18. 2.52\n",
       "19. 2.96\n",
       "20. 2.77\n",
       "\n",
       "\n"
      ],
      "text/plain": [
       " [1] 0.60 0.74 1.11 1.22 1.11 1.70 2.04 1.56 1.82 1.92 2.06 2.04 2.02 2.61 2.81\n",
       "[16] 2.65 2.50 2.52 2.96 2.77"
      ]
     },
     "metadata": {},
     "output_type": "display_data"
    }
   ],
   "source": [
    "# Abundace accuracy and precision\n",
    "\n",
    "t <- ab_tab(abundances)\n",
    "length(t)\n",
    "d <- as.data.frame(matrix(t, ncol = 100,  byrow = TRUE), stringsAsFactors = FALSE)\n",
    "abunda <- cbind(abundances, d)\n",
    "prec <- apply(d, 1, function(x) IQR(x))\n",
    "prec\n",
    "              \n",
    "cv <- apply(d, 1, function(x) (sd(x)/mean(x))*100)\n",
    "\n",
    "\n",
    "\n",
    "acc <- c()\n",
    "for(i in 1:nrow(abunda)){\n",
    "    true <- abunda[i,1]\n",
    "    est <- as.numeric(abunda[i, 2:101])\n",
    "    perc <- sapply(est, function(x) ((x - true)/true)*100)\n",
    "    #print(perc)\n",
    "    acc <- c(acc, perc)\n",
    "}\n",
    "\n",
    "#acc\n",
    "accuracy <- as.data.frame(matrix(acc, ncol = 100,  byrow = TRUE), stringsAsFactors = FALSE)\n",
    "med_acc <- apply(accuracy, 1, function(x) median(x))\n",
    "#med_acc"
   ]
  },
  {
   "cell_type": "code",
   "execution_count": 69,
   "metadata": {},
   "outputs": [
    {
     "data": {
      "text/html": [
       "<table>\n",
       "<caption>A data.frame: 20 × 4</caption>\n",
       "<thead>\n",
       "\t<tr><th scope=col>Abundance</th><th scope=col>Accuracy(Median Percentage Error (%))</th><th scope=col>DensityIQR</th><th scope=col>CV</th></tr>\n",
       "\t<tr><th scope=col>&lt;dbl&gt;</th><th scope=col>&lt;dbl&gt;</th><th scope=col>&lt;dbl&gt;</th><th scope=col>&lt;dbl&gt;</th></tr>\n",
       "</thead>\n",
       "<tbody>\n",
       "\t<tr><td> 10</td><td>-94.20000</td><td>0.60</td><td>67.37793</td></tr>\n",
       "\t<tr><td> 20</td><td>-91.80000</td><td>0.97</td><td>40.87065</td></tr>\n",
       "\t<tr><td> 30</td><td>-92.06667</td><td>0.93</td><td>34.47295</td></tr>\n",
       "\t<tr><td> 40</td><td>-92.30000</td><td>1.26</td><td>31.48216</td></tr>\n",
       "\t<tr><td> 50</td><td>-91.64000</td><td>1.85</td><td>30.63974</td></tr>\n",
       "\t<tr><td> 60</td><td>-92.06667</td><td>1.28</td><td>22.49208</td></tr>\n",
       "\t<tr><td> 70</td><td>-92.02857</td><td>1.78</td><td>22.07762</td></tr>\n",
       "\t<tr><td> 80</td><td>-91.95000</td><td>2.19</td><td>21.60610</td></tr>\n",
       "\t<tr><td> 90</td><td>-92.13333</td><td>1.73</td><td>20.88352</td></tr>\n",
       "\t<tr><td>100</td><td>-91.96000</td><td>1.84</td><td>17.26589</td></tr>\n",
       "\t<tr><td>110</td><td>-91.96364</td><td>2.26</td><td>19.77079</td></tr>\n",
       "\t<tr><td>120</td><td>-91.78333</td><td>2.58</td><td>16.95656</td></tr>\n",
       "\t<tr><td>130</td><td>-92.09231</td><td>2.26</td><td>16.53147</td></tr>\n",
       "\t<tr><td>140</td><td>-91.87143</td><td>2.53</td><td>16.26597</td></tr>\n",
       "\t<tr><td>150</td><td>-91.92000</td><td>2.80</td><td>15.50230</td></tr>\n",
       "\t<tr><td>160</td><td>-91.73750</td><td>1.73</td><td>11.98474</td></tr>\n",
       "\t<tr><td>170</td><td>-92.02353</td><td>2.25</td><td>13.01853</td></tr>\n",
       "\t<tr><td>180</td><td>-91.97778</td><td>2.79</td><td>14.08208</td></tr>\n",
       "\t<tr><td>190</td><td>-92.02105</td><td>2.64</td><td>12.49663</td></tr>\n",
       "\t<tr><td>200</td><td>-91.86000</td><td>3.65</td><td>14.32628</td></tr>\n",
       "</tbody>\n",
       "</table>\n"
      ],
      "text/latex": [
       "A data.frame: 20 × 4\n",
       "\\begin{tabular}{r|llll}\n",
       " Abundance & Accuracy(Median Percentage Error (\\%)) & DensityIQR & CV\\\\\n",
       " <dbl> & <dbl> & <dbl> & <dbl>\\\\\n",
       "\\hline\n",
       "\t  10 & -94.20000 & 0.60 & 67.37793\\\\\n",
       "\t  20 & -91.80000 & 0.97 & 40.87065\\\\\n",
       "\t  30 & -92.06667 & 0.93 & 34.47295\\\\\n",
       "\t  40 & -92.30000 & 1.26 & 31.48216\\\\\n",
       "\t  50 & -91.64000 & 1.85 & 30.63974\\\\\n",
       "\t  60 & -92.06667 & 1.28 & 22.49208\\\\\n",
       "\t  70 & -92.02857 & 1.78 & 22.07762\\\\\n",
       "\t  80 & -91.95000 & 2.19 & 21.60610\\\\\n",
       "\t  90 & -92.13333 & 1.73 & 20.88352\\\\\n",
       "\t 100 & -91.96000 & 1.84 & 17.26589\\\\\n",
       "\t 110 & -91.96364 & 2.26 & 19.77079\\\\\n",
       "\t 120 & -91.78333 & 2.58 & 16.95656\\\\\n",
       "\t 130 & -92.09231 & 2.26 & 16.53147\\\\\n",
       "\t 140 & -91.87143 & 2.53 & 16.26597\\\\\n",
       "\t 150 & -91.92000 & 2.80 & 15.50230\\\\\n",
       "\t 160 & -91.73750 & 1.73 & 11.98474\\\\\n",
       "\t 170 & -92.02353 & 2.25 & 13.01853\\\\\n",
       "\t 180 & -91.97778 & 2.79 & 14.08208\\\\\n",
       "\t 190 & -92.02105 & 2.64 & 12.49663\\\\\n",
       "\t 200 & -91.86000 & 3.65 & 14.32628\\\\\n",
       "\\end{tabular}\n"
      ],
      "text/markdown": [
       "\n",
       "A data.frame: 20 × 4\n",
       "\n",
       "| Abundance &lt;dbl&gt; | Accuracy(Median Percentage Error (%)) &lt;dbl&gt; | DensityIQR &lt;dbl&gt; | CV &lt;dbl&gt; |\n",
       "|---|---|---|---|\n",
       "|  10 | -94.20000 | 0.60 | 67.37793 |\n",
       "|  20 | -91.80000 | 0.97 | 40.87065 |\n",
       "|  30 | -92.06667 | 0.93 | 34.47295 |\n",
       "|  40 | -92.30000 | 1.26 | 31.48216 |\n",
       "|  50 | -91.64000 | 1.85 | 30.63974 |\n",
       "|  60 | -92.06667 | 1.28 | 22.49208 |\n",
       "|  70 | -92.02857 | 1.78 | 22.07762 |\n",
       "|  80 | -91.95000 | 2.19 | 21.60610 |\n",
       "|  90 | -92.13333 | 1.73 | 20.88352 |\n",
       "| 100 | -91.96000 | 1.84 | 17.26589 |\n",
       "| 110 | -91.96364 | 2.26 | 19.77079 |\n",
       "| 120 | -91.78333 | 2.58 | 16.95656 |\n",
       "| 130 | -92.09231 | 2.26 | 16.53147 |\n",
       "| 140 | -91.87143 | 2.53 | 16.26597 |\n",
       "| 150 | -91.92000 | 2.80 | 15.50230 |\n",
       "| 160 | -91.73750 | 1.73 | 11.98474 |\n",
       "| 170 | -92.02353 | 2.25 | 13.01853 |\n",
       "| 180 | -91.97778 | 2.79 | 14.08208 |\n",
       "| 190 | -92.02105 | 2.64 | 12.49663 |\n",
       "| 200 | -91.86000 | 3.65 | 14.32628 |\n",
       "\n"
      ],
      "text/plain": [
       "   Abundance Accuracy(Median Percentage Error (%)) DensityIQR CV      \n",
       "1   10       -94.20000                             0.60       67.37793\n",
       "2   20       -91.80000                             0.97       40.87065\n",
       "3   30       -92.06667                             0.93       34.47295\n",
       "4   40       -92.30000                             1.26       31.48216\n",
       "5   50       -91.64000                             1.85       30.63974\n",
       "6   60       -92.06667                             1.28       22.49208\n",
       "7   70       -92.02857                             1.78       22.07762\n",
       "8   80       -91.95000                             2.19       21.60610\n",
       "9   90       -92.13333                             1.73       20.88352\n",
       "10 100       -91.96000                             1.84       17.26589\n",
       "11 110       -91.96364                             2.26       19.77079\n",
       "12 120       -91.78333                             2.58       16.95656\n",
       "13 130       -92.09231                             2.26       16.53147\n",
       "14 140       -91.87143                             2.53       16.26597\n",
       "15 150       -91.92000                             2.80       15.50230\n",
       "16 160       -91.73750                             1.73       11.98474\n",
       "17 170       -92.02353                             2.25       13.01853\n",
       "18 180       -91.97778                             2.79       14.08208\n",
       "19 190       -92.02105                             2.64       12.49663\n",
       "20 200       -91.86000                             3.65       14.32628"
      ]
     },
     "metadata": {},
     "output_type": "display_data"
    }
   ],
   "source": [
    "abunda_tab"
   ]
  },
  {
   "cell_type": "code",
   "execution_count": 44,
   "metadata": {},
   "outputs": [
    {
     "data": {
      "image/png": "[encoded data removed]",
      "text/plain": [
       "plot without title"
      ]
     },
     "metadata": {},
     "output_type": "display_data"
    }
   ],
   "source": [
    "abunda_tab <- cbind(abundances, med_acc, prec, cv)\n",
    "colnames(abunda_tab) <- c(\"Abundance\", \"Accuracy(Median Percentage Error (%))\",\"DensityIQR\", \"CV\")\n",
    "abunda_tab <- as.data.frame(abunda_tab)\n",
    "                 \n",
    "                 \n",
    "abunda_plot <- ggplot(abunda_tab, aes(x=Abundance, DensityIQR)) +\n",
    "                  geom_point(colour=\"darkblue\")+\n",
    "                  geom_line(colour='slateblue') +\n",
    "                  xlab(\"Abundance\")+\n",
    "                  ylab(expression(paste(\"Estimated Density Interquartile range (per \", km^2,\")\", sep=\" \"))) +\n",
    "                  theme_classic() \n",
    "\n",
    "abunda_plot"
   ]
  },
  {
   "cell_type": "code",
   "execution_count": 45,
   "metadata": {},
   "outputs": [
    {
     "data": {
      "text/html": [
       "<table>\n",
       "<caption>A data.frame: 20 × 4</caption>\n",
       "<thead>\n",
       "\t<tr><th scope=col>Abundance</th><th scope=col>Accuracy(Median Percentage Error (%))</th><th scope=col>DensityIQR</th><th scope=col>CV</th></tr>\n",
       "\t<tr><th scope=col>&lt;dbl&gt;</th><th scope=col>&lt;dbl&gt;</th><th scope=col>&lt;dbl&gt;</th><th scope=col>&lt;dbl&gt;</th></tr>\n",
       "</thead>\n",
       "<tbody>\n",
       "\t<tr><td> 10</td><td>-94.20000</td><td>0.60</td><td>67.37793</td></tr>\n",
       "\t<tr><td> 20</td><td>-91.80000</td><td>0.97</td><td>40.87065</td></tr>\n",
       "\t<tr><td> 30</td><td>-92.06667</td><td>0.93</td><td>34.47295</td></tr>\n",
       "\t<tr><td> 40</td><td>-92.30000</td><td>1.26</td><td>31.48216</td></tr>\n",
       "\t<tr><td> 50</td><td>-91.64000</td><td>1.85</td><td>30.63974</td></tr>\n",
       "\t<tr><td> 60</td><td>-92.06667</td><td>1.28</td><td>22.49208</td></tr>\n",
       "\t<tr><td> 70</td><td>-92.02857</td><td>1.78</td><td>22.07762</td></tr>\n",
       "\t<tr><td> 80</td><td>-91.95000</td><td>2.19</td><td>21.60610</td></tr>\n",
       "\t<tr><td> 90</td><td>-92.13333</td><td>1.73</td><td>20.88352</td></tr>\n",
       "\t<tr><td>100</td><td>-91.96000</td><td>1.84</td><td>17.26589</td></tr>\n",
       "\t<tr><td>110</td><td>-91.96364</td><td>2.26</td><td>19.77079</td></tr>\n",
       "\t<tr><td>120</td><td>-91.78333</td><td>2.58</td><td>16.95656</td></tr>\n",
       "\t<tr><td>130</td><td>-92.09231</td><td>2.26</td><td>16.53147</td></tr>\n",
       "\t<tr><td>140</td><td>-91.87143</td><td>2.53</td><td>16.26597</td></tr>\n",
       "\t<tr><td>150</td><td>-91.92000</td><td>2.80</td><td>15.50230</td></tr>\n",
       "\t<tr><td>160</td><td>-91.73750</td><td>1.73</td><td>11.98474</td></tr>\n",
       "\t<tr><td>170</td><td>-92.02353</td><td>2.25</td><td>13.01853</td></tr>\n",
       "\t<tr><td>180</td><td>-91.97778</td><td>2.79</td><td>14.08208</td></tr>\n",
       "\t<tr><td>190</td><td>-92.02105</td><td>2.64</td><td>12.49663</td></tr>\n",
       "\t<tr><td>200</td><td>-91.86000</td><td>3.65</td><td>14.32628</td></tr>\n",
       "</tbody>\n",
       "</table>\n"
      ],
      "text/latex": [
       "A data.frame: 20 × 4\n",
       "\\begin{tabular}{r|llll}\n",
       " Abundance & Accuracy(Median Percentage Error (\\%)) & DensityIQR & CV\\\\\n",
       " <dbl> & <dbl> & <dbl> & <dbl>\\\\\n",
       "\\hline\n",
       "\t  10 & -94.20000 & 0.60 & 67.37793\\\\\n",
       "\t  20 & -91.80000 & 0.97 & 40.87065\\\\\n",
       "\t  30 & -92.06667 & 0.93 & 34.47295\\\\\n",
       "\t  40 & -92.30000 & 1.26 & 31.48216\\\\\n",
       "\t  50 & -91.64000 & 1.85 & 30.63974\\\\\n",
       "\t  60 & -92.06667 & 1.28 & 22.49208\\\\\n",
       "\t  70 & -92.02857 & 1.78 & 22.07762\\\\\n",
       "\t  80 & -91.95000 & 2.19 & 21.60610\\\\\n",
       "\t  90 & -92.13333 & 1.73 & 20.88352\\\\\n",
       "\t 100 & -91.96000 & 1.84 & 17.26589\\\\\n",
       "\t 110 & -91.96364 & 2.26 & 19.77079\\\\\n",
       "\t 120 & -91.78333 & 2.58 & 16.95656\\\\\n",
       "\t 130 & -92.09231 & 2.26 & 16.53147\\\\\n",
       "\t 140 & -91.87143 & 2.53 & 16.26597\\\\\n",
       "\t 150 & -91.92000 & 2.80 & 15.50230\\\\\n",
       "\t 160 & -91.73750 & 1.73 & 11.98474\\\\\n",
       "\t 170 & -92.02353 & 2.25 & 13.01853\\\\\n",
       "\t 180 & -91.97778 & 2.79 & 14.08208\\\\\n",
       "\t 190 & -92.02105 & 2.64 & 12.49663\\\\\n",
       "\t 200 & -91.86000 & 3.65 & 14.32628\\\\\n",
       "\\end{tabular}\n"
      ],
      "text/markdown": [
       "\n",
       "A data.frame: 20 × 4\n",
       "\n",
       "| Abundance &lt;dbl&gt; | Accuracy(Median Percentage Error (%)) &lt;dbl&gt; | DensityIQR &lt;dbl&gt; | CV &lt;dbl&gt; |\n",
       "|---|---|---|---|\n",
       "|  10 | -94.20000 | 0.60 | 67.37793 |\n",
       "|  20 | -91.80000 | 0.97 | 40.87065 |\n",
       "|  30 | -92.06667 | 0.93 | 34.47295 |\n",
       "|  40 | -92.30000 | 1.26 | 31.48216 |\n",
       "|  50 | -91.64000 | 1.85 | 30.63974 |\n",
       "|  60 | -92.06667 | 1.28 | 22.49208 |\n",
       "|  70 | -92.02857 | 1.78 | 22.07762 |\n",
       "|  80 | -91.95000 | 2.19 | 21.60610 |\n",
       "|  90 | -92.13333 | 1.73 | 20.88352 |\n",
       "| 100 | -91.96000 | 1.84 | 17.26589 |\n",
       "| 110 | -91.96364 | 2.26 | 19.77079 |\n",
       "| 120 | -91.78333 | 2.58 | 16.95656 |\n",
       "| 130 | -92.09231 | 2.26 | 16.53147 |\n",
       "| 140 | -91.87143 | 2.53 | 16.26597 |\n",
       "| 150 | -91.92000 | 2.80 | 15.50230 |\n",
       "| 160 | -91.73750 | 1.73 | 11.98474 |\n",
       "| 170 | -92.02353 | 2.25 | 13.01853 |\n",
       "| 180 | -91.97778 | 2.79 | 14.08208 |\n",
       "| 190 | -92.02105 | 2.64 | 12.49663 |\n",
       "| 200 | -91.86000 | 3.65 | 14.32628 |\n",
       "\n"
      ],
      "text/plain": [
       "   Abundance Accuracy(Median Percentage Error (%)) DensityIQR CV      \n",
       "1   10       -94.20000                             0.60       67.37793\n",
       "2   20       -91.80000                             0.97       40.87065\n",
       "3   30       -92.06667                             0.93       34.47295\n",
       "4   40       -92.30000                             1.26       31.48216\n",
       "5   50       -91.64000                             1.85       30.63974\n",
       "6   60       -92.06667                             1.28       22.49208\n",
       "7   70       -92.02857                             1.78       22.07762\n",
       "8   80       -91.95000                             2.19       21.60610\n",
       "9   90       -92.13333                             1.73       20.88352\n",
       "10 100       -91.96000                             1.84       17.26589\n",
       "11 110       -91.96364                             2.26       19.77079\n",
       "12 120       -91.78333                             2.58       16.95656\n",
       "13 130       -92.09231                             2.26       16.53147\n",
       "14 140       -91.87143                             2.53       16.26597\n",
       "15 150       -91.92000                             2.80       15.50230\n",
       "16 160       -91.73750                             1.73       11.98474\n",
       "17 170       -92.02353                             2.25       13.01853\n",
       "18 180       -91.97778                             2.79       14.08208\n",
       "19 190       -92.02105                             2.64       12.49663\n",
       "20 200       -91.86000                             3.65       14.32628"
      ]
     },
     "metadata": {},
     "output_type": "display_data"
    }
   ],
   "source": [
    "abunda_tab"
   ]
  },
  {
   "cell_type": "code",
   "execution_count": 46,
   "metadata": {},
   "outputs": [
    {
     "data": {
      "text/html": [
       "<strong>png:</strong> 2"
      ],
      "text/latex": [
       "\\textbf{png:} 2"
      ],
      "text/markdown": [
       "**png:** 2"
      ],
      "text/plain": [
       "png \n",
       "  2 "
      ]
     },
     "metadata": {},
     "output_type": "display_data"
    }
   ],
   "source": [
    "pdf(file = paste(\"../Results/Prec_abund.pdf\"))\n",
    "print(abunda_plot)\n",
    "dev.off()"
   ]
  },
  {
   "cell_type": "code",
   "execution_count": 47,
   "metadata": {},
   "outputs": [],
   "source": [
    "library(xtable)\n",
    "abund_table <- xtable(abunda_tab)\n",
    "print.xtable(abund_table, type = \"latex\", floating = T, caption.placement = \"top\", file = \"../Results/abund_table.tex\",\n",
    "             include.rownames = F)"
   ]
  },
  {
   "cell_type": "code",
   "execution_count": 48,
   "metadata": {},
   "outputs": [
    {
     "data": {
      "text/html": [
       "<table>\n",
       "<caption>A tibble: 35 × 5</caption>\n",
       "<thead>\n",
       "\t<tr><th scope=col>Actual_hits</th><th scope=col>Encounters</th><th scope=col>Accuracy</th><th scope=col>Precision</th><th scope=col>CV</th></tr>\n",
       "\t<tr><th scope=col>&lt;int&gt;</th><th scope=col>&lt;int&gt;</th><th scope=col>&lt;dbl&gt;</th><th scope=col>&lt;dbl&gt;</th><th scope=col>&lt;dbl&gt;</th></tr>\n",
       "</thead>\n",
       "<tbody>\n",
       "\t<tr><td> 0</td><td>59903</td><td>-100.00000</td><td>0.000000000</td><td>      NaN</td></tr>\n",
       "\t<tr><td> 1</td><td>30237</td><td>  17.82497</td><td>0.029609327</td><td>29.930787</td></tr>\n",
       "\t<tr><td> 2</td><td>14739</td><td> 145.11802</td><td>0.050023265</td><td>26.140544</td></tr>\n",
       "\t<tr><td> 3</td><td> 7697</td><td> 238.92865</td><td>0.043583342</td><td>24.468301</td></tr>\n",
       "\t<tr><td> 4</td><td> 2346</td><td> 352.83662</td><td>0.139258154</td><td>31.262526</td></tr>\n",
       "\t<tr><td> 5</td><td> 1538</td><td> 590.63535</td><td>0.114698237</td><td>28.153666</td></tr>\n",
       "\t<tr><td> 6</td><td> 2045</td><td> 587.40455</td><td>0.157864988</td><td>26.411117</td></tr>\n",
       "\t<tr><td> 7</td><td> 5055</td><td> 760.79525</td><td>0.214742378</td><td>27.360996</td></tr>\n",
       "\t<tr><td> 8</td><td> 6204</td><td> 805.67323</td><td>0.205521341</td><td>27.395706</td></tr>\n",
       "\t<tr><td> 9</td><td>  874</td><td> 918.88238</td><td>0.251291326</td><td>27.855748</td></tr>\n",
       "\t<tr><td>10</td><td>  223</td><td> 842.59983</td><td>0.194032593</td><td>32.597855</td></tr>\n",
       "\t<tr><td>11</td><td>  225</td><td> 816.85077</td><td>0.112307675</td><td>30.261593</td></tr>\n",
       "\t<tr><td>12</td><td>  607</td><td> 900.20085</td><td>0.001231016</td><td>14.412201</td></tr>\n",
       "\t<tr><td>13</td><td>  551</td><td> 980.21690</td><td>0.001333601</td><td> 8.874550</td></tr>\n",
       "\t<tr><td>14</td><td>  105</td><td>1063.31052</td><td>0.001436186</td><td>16.236200</td></tr>\n",
       "\t<tr><td>15</td><td>   48</td><td>1152.82890</td><td>0.001031135</td><td>17.737375</td></tr>\n",
       "\t<tr><td>16</td><td>   56</td><td>1236.35082</td><td>0.047394709</td><td>15.941024</td></tr>\n",
       "\t<tr><td>17</td><td>   78</td><td>1445.76492</td><td>0.050356878</td><td>13.788842</td></tr>\n",
       "\t<tr><td>18</td><td>  151</td><td>1536.69227</td><td>0.053319048</td><td> 8.078345</td></tr>\n",
       "\t<tr><td>19</td><td>  259</td><td>1627.61962</td><td>0.000000000</td><td> 6.789770</td></tr>\n",
       "\t<tr><td>20</td><td>  221</td><td>1718.54697</td><td>0.000000000</td><td> 9.038055</td></tr>\n",
       "\t<tr><td>21</td><td>  160</td><td>1809.47432</td><td>0.062205556</td><td>10.551922</td></tr>\n",
       "\t<tr><td>22</td><td>   89</td><td>1900.40167</td><td>0.065167725</td><td>15.954723</td></tr>\n",
       "\t<tr><td>23</td><td>   65</td><td>1821.00430</td><td>0.068129894</td><td>18.586075</td></tr>\n",
       "\t<tr><td>24</td><td>   55</td><td>1904.52623</td><td>0.035546032</td><td>17.972068</td></tr>\n",
       "\t<tr><td>25</td><td>   38</td><td>1988.04815</td><td>0.413363787</td><td>19.763426</td></tr>\n",
       "\t<tr><td>26</td><td>   49</td><td>2071.57008</td><td>0.429898339</td><td>20.013936</td></tr>\n",
       "\t<tr><td>27</td><td>   41</td><td>2155.09200</td><td>0.000000000</td><td>19.199817</td></tr>\n",
       "\t<tr><td>28</td><td>   47</td><td>2238.61392</td><td>0.231483721</td><td>19.366488</td></tr>\n",
       "\t<tr><td>29</td><td>  153</td><td>2322.13585</td><td>0.000000000</td><td>12.385694</td></tr>\n",
       "\t<tr><td>30</td><td>   17</td><td>3645.74913</td><td>0.000000000</td><td> 8.189014</td></tr>\n",
       "\t<tr><td>31</td><td>   18</td><td>3770.60745</td><td>0.000000000</td><td> 0.000000</td></tr>\n",
       "\t<tr><td>32</td><td>   18</td><td>3895.46575</td><td>0.000000000</td><td> 0.000000</td></tr>\n",
       "\t<tr><td>33</td><td>  106</td><td>4020.32405</td><td>0.000000000</td><td> 0.000000</td></tr>\n",
       "\t<tr><td>34</td><td>  382</td><td>4145.18235</td><td>0.000000000</td><td> 0.000000</td></tr>\n",
       "</tbody>\n",
       "</table>\n"
      ],
      "text/latex": [
       "A tibble: 35 × 5\n",
       "\\begin{tabular}{r|lllll}\n",
       " Actual\\_hits & Encounters & Accuracy & Precision & CV\\\\\n",
       " <int> & <int> & <dbl> & <dbl> & <dbl>\\\\\n",
       "\\hline\n",
       "\t  0 & 59903 & -100.00000 & 0.000000000 &       NaN\\\\\n",
       "\t  1 & 30237 &   17.82497 & 0.029609327 & 29.930787\\\\\n",
       "\t  2 & 14739 &  145.11802 & 0.050023265 & 26.140544\\\\\n",
       "\t  3 &  7697 &  238.92865 & 0.043583342 & 24.468301\\\\\n",
       "\t  4 &  2346 &  352.83662 & 0.139258154 & 31.262526\\\\\n",
       "\t  5 &  1538 &  590.63535 & 0.114698237 & 28.153666\\\\\n",
       "\t  6 &  2045 &  587.40455 & 0.157864988 & 26.411117\\\\\n",
       "\t  7 &  5055 &  760.79525 & 0.214742378 & 27.360996\\\\\n",
       "\t  8 &  6204 &  805.67323 & 0.205521341 & 27.395706\\\\\n",
       "\t  9 &   874 &  918.88238 & 0.251291326 & 27.855748\\\\\n",
       "\t 10 &   223 &  842.59983 & 0.194032593 & 32.597855\\\\\n",
       "\t 11 &   225 &  816.85077 & 0.112307675 & 30.261593\\\\\n",
       "\t 12 &   607 &  900.20085 & 0.001231016 & 14.412201\\\\\n",
       "\t 13 &   551 &  980.21690 & 0.001333601 &  8.874550\\\\\n",
       "\t 14 &   105 & 1063.31052 & 0.001436186 & 16.236200\\\\\n",
       "\t 15 &    48 & 1152.82890 & 0.001031135 & 17.737375\\\\\n",
       "\t 16 &    56 & 1236.35082 & 0.047394709 & 15.941024\\\\\n",
       "\t 17 &    78 & 1445.76492 & 0.050356878 & 13.788842\\\\\n",
       "\t 18 &   151 & 1536.69227 & 0.053319048 &  8.078345\\\\\n",
       "\t 19 &   259 & 1627.61962 & 0.000000000 &  6.789770\\\\\n",
       "\t 20 &   221 & 1718.54697 & 0.000000000 &  9.038055\\\\\n",
       "\t 21 &   160 & 1809.47432 & 0.062205556 & 10.551922\\\\\n",
       "\t 22 &    89 & 1900.40167 & 0.065167725 & 15.954723\\\\\n",
       "\t 23 &    65 & 1821.00430 & 0.068129894 & 18.586075\\\\\n",
       "\t 24 &    55 & 1904.52623 & 0.035546032 & 17.972068\\\\\n",
       "\t 25 &    38 & 1988.04815 & 0.413363787 & 19.763426\\\\\n",
       "\t 26 &    49 & 2071.57008 & 0.429898339 & 20.013936\\\\\n",
       "\t 27 &    41 & 2155.09200 & 0.000000000 & 19.199817\\\\\n",
       "\t 28 &    47 & 2238.61392 & 0.231483721 & 19.366488\\\\\n",
       "\t 29 &   153 & 2322.13585 & 0.000000000 & 12.385694\\\\\n",
       "\t 30 &    17 & 3645.74913 & 0.000000000 &  8.189014\\\\\n",
       "\t 31 &    18 & 3770.60745 & 0.000000000 &  0.000000\\\\\n",
       "\t 32 &    18 & 3895.46575 & 0.000000000 &  0.000000\\\\\n",
       "\t 33 &   106 & 4020.32405 & 0.000000000 &  0.000000\\\\\n",
       "\t 34 &   382 & 4145.18235 & 0.000000000 &  0.000000\\\\\n",
       "\\end{tabular}\n"
      ],
      "text/markdown": [
       "\n",
       "A tibble: 35 × 5\n",
       "\n",
       "| Actual_hits &lt;int&gt; | Encounters &lt;int&gt; | Accuracy &lt;dbl&gt; | Precision &lt;dbl&gt; | CV &lt;dbl&gt; |\n",
       "|---|---|---|---|---|\n",
       "|  0 | 59903 | -100.00000 | 0.000000000 |       NaN |\n",
       "|  1 | 30237 |   17.82497 | 0.029609327 | 29.930787 |\n",
       "|  2 | 14739 |  145.11802 | 0.050023265 | 26.140544 |\n",
       "|  3 |  7697 |  238.92865 | 0.043583342 | 24.468301 |\n",
       "|  4 |  2346 |  352.83662 | 0.139258154 | 31.262526 |\n",
       "|  5 |  1538 |  590.63535 | 0.114698237 | 28.153666 |\n",
       "|  6 |  2045 |  587.40455 | 0.157864988 | 26.411117 |\n",
       "|  7 |  5055 |  760.79525 | 0.214742378 | 27.360996 |\n",
       "|  8 |  6204 |  805.67323 | 0.205521341 | 27.395706 |\n",
       "|  9 |   874 |  918.88238 | 0.251291326 | 27.855748 |\n",
       "| 10 |   223 |  842.59983 | 0.194032593 | 32.597855 |\n",
       "| 11 |   225 |  816.85077 | 0.112307675 | 30.261593 |\n",
       "| 12 |   607 |  900.20085 | 0.001231016 | 14.412201 |\n",
       "| 13 |   551 |  980.21690 | 0.001333601 |  8.874550 |\n",
       "| 14 |   105 | 1063.31052 | 0.001436186 | 16.236200 |\n",
       "| 15 |    48 | 1152.82890 | 0.001031135 | 17.737375 |\n",
       "| 16 |    56 | 1236.35082 | 0.047394709 | 15.941024 |\n",
       "| 17 |    78 | 1445.76492 | 0.050356878 | 13.788842 |\n",
       "| 18 |   151 | 1536.69227 | 0.053319048 |  8.078345 |\n",
       "| 19 |   259 | 1627.61962 | 0.000000000 |  6.789770 |\n",
       "| 20 |   221 | 1718.54697 | 0.000000000 |  9.038055 |\n",
       "| 21 |   160 | 1809.47432 | 0.062205556 | 10.551922 |\n",
       "| 22 |    89 | 1900.40167 | 0.065167725 | 15.954723 |\n",
       "| 23 |    65 | 1821.00430 | 0.068129894 | 18.586075 |\n",
       "| 24 |    55 | 1904.52623 | 0.035546032 | 17.972068 |\n",
       "| 25 |    38 | 1988.04815 | 0.413363787 | 19.763426 |\n",
       "| 26 |    49 | 2071.57008 | 0.429898339 | 20.013936 |\n",
       "| 27 |    41 | 2155.09200 | 0.000000000 | 19.199817 |\n",
       "| 28 |    47 | 2238.61392 | 0.231483721 | 19.366488 |\n",
       "| 29 |   153 | 2322.13585 | 0.000000000 | 12.385694 |\n",
       "| 30 |    17 | 3645.74913 | 0.000000000 |  8.189014 |\n",
       "| 31 |    18 | 3770.60745 | 0.000000000 |  0.000000 |\n",
       "| 32 |    18 | 3895.46575 | 0.000000000 |  0.000000 |\n",
       "| 33 |   106 | 4020.32405 | 0.000000000 |  0.000000 |\n",
       "| 34 |   382 | 4145.18235 | 0.000000000 |  0.000000 |\n",
       "\n"
      ],
      "text/plain": [
       "   Actual_hits Encounters Accuracy   Precision   CV       \n",
       "1   0          59903      -100.00000 0.000000000       NaN\n",
       "2   1          30237        17.82497 0.029609327 29.930787\n",
       "3   2          14739       145.11802 0.050023265 26.140544\n",
       "4   3           7697       238.92865 0.043583342 24.468301\n",
       "5   4           2346       352.83662 0.139258154 31.262526\n",
       "6   5           1538       590.63535 0.114698237 28.153666\n",
       "7   6           2045       587.40455 0.157864988 26.411117\n",
       "8   7           5055       760.79525 0.214742378 27.360996\n",
       "9   8           6204       805.67323 0.205521341 27.395706\n",
       "10  9            874       918.88238 0.251291326 27.855748\n",
       "11 10            223       842.59983 0.194032593 32.597855\n",
       "12 11            225       816.85077 0.112307675 30.261593\n",
       "13 12            607       900.20085 0.001231016 14.412201\n",
       "14 13            551       980.21690 0.001333601  8.874550\n",
       "15 14            105      1063.31052 0.001436186 16.236200\n",
       "16 15             48      1152.82890 0.001031135 17.737375\n",
       "17 16             56      1236.35082 0.047394709 15.941024\n",
       "18 17             78      1445.76492 0.050356878 13.788842\n",
       "19 18            151      1536.69227 0.053319048  8.078345\n",
       "20 19            259      1627.61962 0.000000000  6.789770\n",
       "21 20            221      1718.54697 0.000000000  9.038055\n",
       "22 21            160      1809.47432 0.062205556 10.551922\n",
       "23 22             89      1900.40167 0.065167725 15.954723\n",
       "24 23             65      1821.00430 0.068129894 18.586075\n",
       "25 24             55      1904.52623 0.035546032 17.972068\n",
       "26 25             38      1988.04815 0.413363787 19.763426\n",
       "27 26             49      2071.57008 0.429898339 20.013936\n",
       "28 27             41      2155.09200 0.000000000 19.199817\n",
       "29 28             47      2238.61392 0.231483721 19.366488\n",
       "30 29            153      2322.13585 0.000000000 12.385694\n",
       "31 30             17      3645.74913 0.000000000  8.189014\n",
       "32 31             18      3770.60745 0.000000000  0.000000\n",
       "33 32             18      3895.46575 0.000000000  0.000000\n",
       "34 33            106      4020.32405 0.000000000  0.000000\n",
       "35 34            382      4145.18235 0.000000000  0.000000"
      ]
     },
     "metadata": {},
     "output_type": "display_data"
    },
    {
     "data": {
      "image/png": "[encoded data removed]",
      "text/plain": [
       "plot without title"
      ]
     },
     "metadata": {},
     "output_type": "display_data"
    }
   ],
   "source": [
    "# For each group of encounters, what was the density calculation and error\n",
    "# Subset all_sims by number of encounters, counting the amount in that category and the total area\n",
    "capt_err <- all_sims %>% \n",
    "            group_by(Actual_hits) %>%\n",
    "                summarise(Encounters = length(Actual_hits),\n",
    "                          Accuracy = median(Prop_err),\n",
    "                          Precision = IQR(Density_km),\n",
    "                          CV = (sd(Density_km)/mean(Density_km))*100)\n",
    "\n",
    "capt_err\n",
    "hit_plot <- ggplot(capt_err, aes(x=Actual_hits, y = Precision)) +\n",
    "                  geom_point(colour=\"darkblue\")+\n",
    "                  geom_line(colour='slateblue') +\n",
    "                  xlab(\"Encounter rate\")+\n",
    "                  ylab(expression(paste(\"Estimated Density Interquartile range (per \", km^2,\")\", sep=\" \"))) +\n",
    "                  theme_classic() +\n",
    "                  theme(axis.title.y=element_blank())\n",
    "\n",
    "#pdf(file = paste(\"../Results/encounters_density.pdf\"))\n",
    "print(hit_plot)\n",
    "#dev.off()\n",
    "#hit_tab <- hit_tab[,-6]\n",
    "#cols <- c('Number of Encounters', 'Frequency', 'Area (km)', 'Density (per km2)', 'Standard Deviation')\n",
    "#colnames(hit_tab) <- cols\n"
   ]
  },
  {
   "cell_type": "code",
   "execution_count": 49,
   "metadata": {},
   "outputs": [],
   "source": [
    "write.table(capt_err, file = \"../Results/encount_table.txt\")"
   ]
  },
  {
   "cell_type": "code",
   "execution_count": 50,
   "metadata": {},
   "outputs": [],
   "source": [
    "encount_table <- xtable(capt_err)\n",
    "print.xtable(encount_table, type = \"latex\", floating = T, caption.placement = \"top\", file = \"../Results/encount_table.tex\",\n",
    "             include.rownames = F)"
   ]
  },
  {
   "cell_type": "code",
   "execution_count": 51,
   "metadata": {},
   "outputs": [
    {
     "data": {
      "text/html": [
       "<strong>png:</strong> 2"
      ],
      "text/latex": [
       "\\textbf{png:} 2"
      ],
      "text/markdown": [
       "**png:** 2"
      ],
      "text/plain": [
       "png \n",
       "  2 "
      ]
     },
     "metadata": {},
     "output_type": "display_data"
    }
   ],
   "source": [
    "pdf(file = paste(\"../Results/Err_encount.pdf\"))\n",
    "print(hit_plot)\n",
    "dev.off()"
   ]
  },
  {
   "cell_type": "markdown",
   "metadata": {},
   "source": [
    "### Model precision and accuracy between groups"
   ]
  },
  {
   "cell_type": "code",
   "execution_count": 52,
   "metadata": {
    "scrolled": true
   },
   "outputs": [
    {
     "data": {
      "text/html": [
       "<table>\n",
       "<caption>A data.frame: 8 × 5</caption>\n",
       "<thead>\n",
       "\t<tr><th scope=col>Animal</th><th scope=col>Accuracy</th><th scope=col>Precision</th><th scope=col>Encounter</th><th scope=col>Mean_Cruise</th></tr>\n",
       "\t<tr><th scope=col>&lt;fct&gt;</th><th scope=col>&lt;dbl&gt;</th><th scope=col>&lt;dbl&gt;</th><th scope=col>&lt;int&gt;</th><th scope=col>&lt;dbl&gt;</th></tr>\n",
       "</thead>\n",
       "<tbody>\n",
       "\t<tr><td>nurse      </td><td> 129.13485</td><td>0.23811531</td><td>68152</td><td> 0.37</td></tr>\n",
       "\t<tr><td>whale_shark</td><td> 150.56578</td><td>0.14920349</td><td>65658</td><td> 0.60</td></tr>\n",
       "\t<tr><td>reef       </td><td>  67.97985</td><td>0.09928197</td><td>46162</td><td> 0.64</td></tr>\n",
       "\t<tr><td>manatee    </td><td>  67.41740</td><td>0.09898634</td><td>46469</td><td> 0.70</td></tr>\n",
       "\t<tr><td>ray        </td><td> -13.07268</td><td>0.06438026</td><td>23947</td><td> 1.42</td></tr>\n",
       "\t<tr><td>frigate    </td><td>-100.00000</td><td>0.02984025</td><td>11038</td><td> 4.50</td></tr>\n",
       "\t<tr><td>tern       </td><td>-100.00000</td><td>0.00000000</td><td> 7540</td><td> 8.50</td></tr>\n",
       "\t<tr><td>booby      </td><td>-100.00000</td><td>0.00000000</td><td> 7037</td><td>10.50</td></tr>\n",
       "</tbody>\n",
       "</table>\n"
      ],
      "text/latex": [
       "A data.frame: 8 × 5\n",
       "\\begin{tabular}{r|lllll}\n",
       " Animal & Accuracy & Precision & Encounter & Mean\\_Cruise\\\\\n",
       " <fct> & <dbl> & <dbl> & <int> & <dbl>\\\\\n",
       "\\hline\n",
       "\t nurse       &  129.13485 & 0.23811531 & 68152 &  0.37\\\\\n",
       "\t whale\\_shark &  150.56578 & 0.14920349 & 65658 &  0.60\\\\\n",
       "\t reef        &   67.97985 & 0.09928197 & 46162 &  0.64\\\\\n",
       "\t manatee     &   67.41740 & 0.09898634 & 46469 &  0.70\\\\\n",
       "\t ray         &  -13.07268 & 0.06438026 & 23947 &  1.42\\\\\n",
       "\t frigate     & -100.00000 & 0.02984025 & 11038 &  4.50\\\\\n",
       "\t tern        & -100.00000 & 0.00000000 &  7540 &  8.50\\\\\n",
       "\t booby       & -100.00000 & 0.00000000 &  7037 & 10.50\\\\\n",
       "\\end{tabular}\n"
      ],
      "text/markdown": [
       "\n",
       "A data.frame: 8 × 5\n",
       "\n",
       "| Animal &lt;fct&gt; | Accuracy &lt;dbl&gt; | Precision &lt;dbl&gt; | Encounter &lt;int&gt; | Mean_Cruise &lt;dbl&gt; |\n",
       "|---|---|---|---|---|\n",
       "| nurse       |  129.13485 | 0.23811531 | 68152 |  0.37 |\n",
       "| whale_shark |  150.56578 | 0.14920349 | 65658 |  0.60 |\n",
       "| reef        |   67.97985 | 0.09928197 | 46162 |  0.64 |\n",
       "| manatee     |   67.41740 | 0.09898634 | 46469 |  0.70 |\n",
       "| ray         |  -13.07268 | 0.06438026 | 23947 |  1.42 |\n",
       "| frigate     | -100.00000 | 0.02984025 | 11038 |  4.50 |\n",
       "| tern        | -100.00000 | 0.00000000 |  7540 |  8.50 |\n",
       "| booby       | -100.00000 | 0.00000000 |  7037 | 10.50 |\n",
       "\n"
      ],
      "text/plain": [
       "  Animal      Accuracy   Precision  Encounter Mean_Cruise\n",
       "1 nurse        129.13485 0.23811531 68152      0.37      \n",
       "2 whale_shark  150.56578 0.14920349 65658      0.60      \n",
       "3 reef          67.97985 0.09928197 46162      0.64      \n",
       "4 manatee       67.41740 0.09898634 46469      0.70      \n",
       "5 ray          -13.07268 0.06438026 23947      1.42      \n",
       "6 frigate     -100.00000 0.02984025 11038      4.50      \n",
       "7 tern        -100.00000 0.00000000  7540      8.50      \n",
       "8 booby       -100.00000 0.00000000  7037     10.50      "
      ]
     },
     "metadata": {},
     "output_type": "display_data"
    },
    {
     "data": {
      "image/png": "[encoded data removed]",
      "text/plain": [
       "plot without title"
      ]
     },
     "metadata": {},
     "output_type": "display_data"
    }
   ],
   "source": [
    "# Animal movement - path and speed\n",
    "\n",
    "animal_err <-  all_sims %>% \n",
    "            group_by(Animal) %>%\n",
    "                summarise(Accuracy = median(Prop_err),\n",
    "                          Precision = IQR(Density_km), \n",
    "                        Encounter = sum(Actual_hits))\n",
    "\n",
    "animal_err <- as.data.frame(animal_err)\n",
    "Mean_Cruise <- c(10.5, 4.5, 0.7, 0.37, 1.42, 0.64, 8.5, 0.6)\n",
    "animal_err <- cbind(animal_err, Mean_Cruise)\n",
    "\n",
    "level.order = c('nurse','whale_shark', 'reef', 'manatee', 'ray','frigate', 'tern', 'booby')\n",
    "animal_err <- animal_err[order(factor(animal_err$Animal, levels = level.order)),]\n",
    "rownames(animal_err) <- NULL\n",
    "animal_err\n",
    "\n",
    "animal_labels <- c(\"N\", \"W\", \"R\", \"M\", \"Y\", \"F\", \"T\", \"B\")\n",
    "ani_box <- all_sims %>% \n",
    "             group_by(Animal) %>%\n",
    "                ggplot(aes(x = Animal, y = Prop_err)) +\n",
    "                geom_violin(colour = 'royalblue4') +\n",
    "                stat_summary(fun.y=median, geom=\"point\", size=2, color=\"mediumvioletred\") +\n",
    "                ylab(\"Percentage Error (%)\") +\n",
    "                xlab('Animal') +\n",
    "                theme_bw() +\n",
    "                theme(axis.title.y=element_blank()) +\n",
    "                geom_hline(yintercept = 0, linetype = 'dotted', colour = 'black') +\n",
    "                scale_x_discrete(limits = level.order, labels= animal_labels)\n",
    "#ani_box\n",
    "\n",
    "ani_box"
   ]
  },
  {
   "cell_type": "code",
   "execution_count": 53,
   "metadata": {},
   "outputs": [
    {
     "data": {
      "text/html": [
       "<strong>png:</strong> 2"
      ],
      "text/latex": [
       "\\textbf{png:} 2"
      ],
      "text/markdown": [
       "**png:** 2"
      ],
      "text/plain": [
       "png \n",
       "  2 "
      ]
     },
     "metadata": {},
     "output_type": "display_data"
    }
   ],
   "source": [
    "pdf(file = paste(\"../Results/animal_box.pdf\"))\n",
    "print(ani_box)\n",
    "dev.off()"
   ]
  },
  {
   "cell_type": "code",
   "execution_count": 54,
   "metadata": {},
   "outputs": [],
   "source": [
    "#write.table(ani_err, file = \"../Results/animal_table.txt\")\n",
    "ani_table <- xtable(animal_err)\n",
    "print.xtable(ani_table, type = \"latex\", floating = T, caption.placement = \"top\", file = \"../Results/ani_table.tex\",\n",
    "             include.rownames = F)"
   ]
  },
  {
   "cell_type": "code",
   "execution_count": 67,
   "metadata": {},
   "outputs": [
    {
     "data": {
      "text/html": [
       "<table>\n",
       "<caption>A data.frame: 7 × 4</caption>\n",
       "<thead>\n",
       "\t<tr><th scope=col>Animal_path</th><th scope=col>Accuracy</th><th scope=col>Precision</th><th scope=col>Encounters</th></tr>\n",
       "\t<tr><th scope=col>&lt;chr&gt;</th><th scope=col>&lt;dbl&gt;</th><th scope=col>&lt;dbl&gt;</th><th scope=col>&lt;int&gt;</th></tr>\n",
       "</thead>\n",
       "<tbody>\n",
       "\t<tr><td>straight </td><td>  23.24678</td><td>0.10002008</td><td>39994</td></tr>\n",
       "\t<tr><td>stop25   </td><td>  23.24678</td><td>0.10002008</td><td>39819</td></tr>\n",
       "\t<tr><td>stop50   </td><td>  23.24678</td><td>0.10002008</td><td>39884</td></tr>\n",
       "\t<tr><td>stop75   </td><td>  23.24678</td><td>0.10002008</td><td>39861</td></tr>\n",
       "\t<tr><td>random60 </td><td>-100.00000</td><td>0.03380961</td><td>22642</td></tr>\n",
       "\t<tr><td>random120</td><td>-100.00000</td><td>0.04748206</td><td>27796</td></tr>\n",
       "\t<tr><td>random180</td><td>  67.97985</td><td>0.29031585</td><td>66007</td></tr>\n",
       "</tbody>\n",
       "</table>\n"
      ],
      "text/latex": [
       "A data.frame: 7 × 4\n",
       "\\begin{tabular}{r|llll}\n",
       " Animal\\_path & Accuracy & Precision & Encounters\\\\\n",
       " <chr> & <dbl> & <dbl> & <int>\\\\\n",
       "\\hline\n",
       "\t straight  &   23.24678 & 0.10002008 & 39994\\\\\n",
       "\t stop25    &   23.24678 & 0.10002008 & 39819\\\\\n",
       "\t stop50    &   23.24678 & 0.10002008 & 39884\\\\\n",
       "\t stop75    &   23.24678 & 0.10002008 & 39861\\\\\n",
       "\t random60  & -100.00000 & 0.03380961 & 22642\\\\\n",
       "\t random120 & -100.00000 & 0.04748206 & 27796\\\\\n",
       "\t random180 &   67.97985 & 0.29031585 & 66007\\\\\n",
       "\\end{tabular}\n"
      ],
      "text/markdown": [
       "\n",
       "A data.frame: 7 × 4\n",
       "\n",
       "| Animal_path &lt;chr&gt; | Accuracy &lt;dbl&gt; | Precision &lt;dbl&gt; | Encounters &lt;int&gt; |\n",
       "|---|---|---|---|\n",
       "| straight  |   23.24678 | 0.10002008 | 39994 |\n",
       "| stop25    |   23.24678 | 0.10002008 | 39819 |\n",
       "| stop50    |   23.24678 | 0.10002008 | 39884 |\n",
       "| stop75    |   23.24678 | 0.10002008 | 39861 |\n",
       "| random60  | -100.00000 | 0.03380961 | 22642 |\n",
       "| random120 | -100.00000 | 0.04748206 | 27796 |\n",
       "| random180 |   67.97985 | 0.29031585 | 66007 |\n",
       "\n"
      ],
      "text/plain": [
       "  Animal_path Accuracy   Precision  Encounters\n",
       "1 straight      23.24678 0.10002008 39994     \n",
       "2 stop25        23.24678 0.10002008 39819     \n",
       "3 stop50        23.24678 0.10002008 39884     \n",
       "4 stop75        23.24678 0.10002008 39861     \n",
       "5 random60    -100.00000 0.03380961 22642     \n",
       "6 random120   -100.00000 0.04748206 27796     \n",
       "7 random180     67.97985 0.29031585 66007     "
      ]
     },
     "metadata": {},
     "output_type": "display_data"
    },
    {
     "data": {
      "image/png": "[encoded data removed]",
      "text/plain": [
       "plot without title"
      ]
     },
     "metadata": {},
     "output_type": "display_data"
    }
   ],
   "source": [
    "# Path\n",
    "\n",
    "movement_err <- all_sims %>% \n",
    "            group_by(Animal_path) %>%\n",
    "                 summarise(Accuracy = median(Prop_err),\n",
    "                          Precision = IQR(Density_km),\n",
    "                          Encounters = sum(Actual_hits))  \n",
    "\n",
    "movement_err <- as.data.frame(movement_err)\n",
    "level.order = c('straight','stop25', 'stop50', 'stop75', 'random60',\n",
    "                                            'random120', 'random180')\n",
    "\n",
    "movement_err <- movement_err[order(factor(movement_err$Animal_path, levels = level.order)),]\n",
    "rownames(movement_err) <- NULL\n",
    "\n",
    "\n",
    "path_labels <- c(\"S\", \"25\", \"50\", \"75\",\"R6\", \"R12\", \"R18\")\n",
    "anip_box <- all_sims %>% \n",
    "             group_by(Animal_path) %>%\n",
    "                ggplot(aes(x = Animal_path, y = Prop_err)) +\n",
    "                geom_violin(colour = 'navy') +\n",
    "                stat_summary(fun.y=median, geom=\"point\", size=2, color=\"mediumvioletred\") +\n",
    "                ylab(\"Percentage Error (%)\") +\n",
    "                xlab('Animal Movement Model') +\n",
    "                theme_bw() +\n",
    "                geom_hline(yintercept = 0, linetype = 'dotted', colour = 'black') +\n",
    "                scale_x_discrete(limits = level.order, labels= path_labels)\n",
    "\n",
    "\n",
    "                \n",
    "\n",
    "movement_err\n",
    "anip_box"
   ]
  },
  {
   "cell_type": "code",
   "execution_count": 56,
   "metadata": {},
   "outputs": [
    {
     "data": {
      "text/html": [
       "<strong>png:</strong> 2"
      ],
      "text/latex": [
       "\\textbf{png:} 2"
      ],
      "text/markdown": [
       "**png:** 2"
      ],
      "text/plain": [
       "png \n",
       "  2 "
      ]
     },
     "metadata": {},
     "output_type": "display_data"
    }
   ],
   "source": [
    "pdf(file = paste(\"../Results/anip_box.pdf\"))\n",
    "print(anip_box)\n",
    "dev.off()"
   ]
  },
  {
   "cell_type": "code",
   "execution_count": 68,
   "metadata": {},
   "outputs": [],
   "source": [
    "#write.table(movement_err, file = \"../Results/anip_table.txt\")\n",
    "library(xtable)\n",
    "amov_table <- xtable(movement_err)\n",
    "print.xtable(amov_table, type = \"latex\", floating = T, caption.placement = \"top\", file = \"../Results/amov_table.tex\",\n",
    "             include.rownames = F)"
   ]
  },
  {
   "cell_type": "code",
   "execution_count": 68,
   "metadata": {
    "scrolled": true
   },
   "outputs": [
    {
     "data": {
      "text/html": [
       "<table>\n",
       "<caption>A tibble: 2 × 3</caption>\n",
       "<thead>\n",
       "\t<tr><th scope=col>Bias</th><th scope=col>Accuracy</th><th scope=col>Precision</th></tr>\n",
       "\t<tr><th scope=col>&lt;chr&gt;</th><th scope=col>&lt;dbl&gt;</th><th scope=col>&lt;dbl&gt;</th></tr>\n",
       "</thead>\n",
       "<tbody>\n",
       "\t<tr><td>no </td><td>67.97985</td><td>0.1478961</td></tr>\n",
       "\t<tr><td>yes</td><td>67.97985</td><td>0.1478961</td></tr>\n",
       "</tbody>\n",
       "</table>\n"
      ],
      "text/latex": [
       "A tibble: 2 × 3\n",
       "\\begin{tabular}{r|lll}\n",
       " Bias & Accuracy & Precision\\\\\n",
       " <chr> & <dbl> & <dbl>\\\\\n",
       "\\hline\n",
       "\t no  & 67.97985 & 0.1478961\\\\\n",
       "\t yes & 67.97985 & 0.1478961\\\\\n",
       "\\end{tabular}\n"
      ],
      "text/markdown": [
       "\n",
       "A tibble: 2 × 3\n",
       "\n",
       "| Bias &lt;chr&gt; | Accuracy &lt;dbl&gt; | Precision &lt;dbl&gt; |\n",
       "|---|---|---|\n",
       "| no  | 67.97985 | 0.1478961 |\n",
       "| yes | 67.97985 | 0.1478961 |\n",
       "\n"
      ],
      "text/plain": [
       "  Bias Accuracy Precision\n",
       "1 no   67.97985 0.1478961\n",
       "2 yes  67.97985 0.1478961"
      ]
     },
     "metadata": {},
     "output_type": "display_data"
    },
    {
     "data": {
      "text/plain": [
       "\n",
       "\tWilcoxon rank sum test with continuity correction\n",
       "\n",
       "data:  Density_km by Bias\n",
       "W = 2255900000, p-value = 0.768\n",
       "alternative hypothesis: true location shift is not equal to 0\n"
      ]
     },
     "metadata": {},
     "output_type": "display_data"
    }
   ],
   "source": [
    "# Availability bias\n",
    "# Remove birds - no bias estimates\n",
    "\n",
    "bias_animals <- c('reef', 'nurse', 'whale_shark', 'ray', 'manatee')\n",
    "bias_all_sims <- subset(all_sims, all_sims$Animal == bias_animals)\n",
    "\n",
    "bias_err <-  bias_all_sims %>% \n",
    "            group_by(Bias) %>%\n",
    "                summarise(Accuracy = median(Prop_err),\n",
    "                          Precision = IQR(Density_km))\n",
    "\n",
    "\n",
    "\n",
    "bias_box <- bias_all_sims %>% \n",
    "             group_by(Bias) %>%\n",
    "                ggplot(aes(x = Bias, y = Density_km)) +\n",
    "                geom_boxplot(colour = 'dodgerblue4') +\n",
    "                xlab('Bias') +\n",
    "                theme_bw()\n",
    "bias_err\n",
    "#bias_box\n",
    "wilcox.test(Density_km ~ Bias, data = all_sims)"
   ]
  },
  {
   "cell_type": "code",
   "execution_count": 148,
   "metadata": {},
   "outputs": [],
   "source": [
    "write.table(bias_err, file = \"../Results/bias_table.txt\")"
   ]
  },
  {
   "cell_type": "code",
   "execution_count": 149,
   "metadata": {},
   "outputs": [
    {
     "data": {
      "text/html": [
       "8624"
      ],
      "text/latex": [
       "8624"
      ],
      "text/markdown": [
       "8624"
      ],
      "text/plain": [
       "[1] 8624"
      ]
     },
     "metadata": {},
     "output_type": "display_data"
    }
   ],
   "source": [
    "nrow(bias_all_sims)/2"
   ]
  },
  {
   "cell_type": "code",
   "execution_count": 150,
   "metadata": {},
   "outputs": [],
   "source": [
    "# Animal movement - path and speed\n",
    "\n",
    "cam_err <-  all_sims %>% \n",
    "            group_by(Camera) %>%\n",
    "                summarise(Accuracy = median(Prop_err),\n",
    "                          Precision = IQR(Density_km))\n",
    "\n",
    "cam_den <- all_sims %>% \n",
    "            group_by(Camera) %>%\n",
    "                summarise(Density = mean(Density_km),\n",
    "                          SD = sd(Density_km))\n",
    "\n",
    "cam_box <- all_sims %>% \n",
    "             group_by(Camera) %>%\n",
    "                ggplot(aes(x = Camera, y = Prop_err)) +\n",
    "                geom_boxplot(colour = 'maroon4') +\n",
    "                ylab(\"Percentage Error (%)\") +\n",
    "                xlab('Camera') +\n",
    "                theme_bw()\n",
    "\n",
    "#cam_den\n",
    "#cam_err\n",
    "#cam_box"
   ]
  },
  {
   "cell_type": "code",
   "execution_count": 151,
   "metadata": {},
   "outputs": [],
   "source": [
    "write.table(cam_err, file = \"../Results/cam_table.txt\")"
   ]
  },
  {
   "cell_type": "code",
   "execution_count": 152,
   "metadata": {},
   "outputs": [
    {
     "data": {
      "text/html": [
       "<strong>png:</strong> 2"
      ],
      "text/latex": [
       "\\textbf{png:} 2"
      ],
      "text/markdown": [
       "**png:** 2"
      ],
      "text/plain": [
       "png \n",
       "  2 "
      ]
     },
     "metadata": {},
     "output_type": "display_data"
    }
   ],
   "source": [
    "pdf(file = paste(\"../Results/cam_box.jpg\"))\n",
    "print(cam_box)\n",
    "dev.off()"
   ]
  },
  {
   "cell_type": "code",
   "execution_count": 153,
   "metadata": {},
   "outputs": [
    {
     "data": {
      "text/html": [
       "<table>\n",
       "<caption>A tibble: 2 × 3</caption>\n",
       "<thead>\n",
       "\t<tr><th scope=col>Speed</th><th scope=col>Density</th><th scope=col>SD</th></tr>\n",
       "\t<tr><th scope=col>&lt;dbl&gt;</th><th scope=col>&lt;dbl&gt;</th><th scope=col>&lt;dbl&gt;</th></tr>\n",
       "</thead>\n",
       "<tbody>\n",
       "\t<tr><td>1</td><td>0.10477609</td><td>0.1517246</td></tr>\n",
       "\t<tr><td>2</td><td>0.06152178</td><td>0.1139941</td></tr>\n",
       "</tbody>\n",
       "</table>\n"
      ],
      "text/latex": [
       "A tibble: 2 × 3\n",
       "\\begin{tabular}{r|lll}\n",
       " Speed & Density & SD\\\\\n",
       " <dbl> & <dbl> & <dbl>\\\\\n",
       "\\hline\n",
       "\t 1 & 0.10477609 & 0.1517246\\\\\n",
       "\t 2 & 0.06152178 & 0.1139941\\\\\n",
       "\\end{tabular}\n"
      ],
      "text/markdown": [
       "\n",
       "A tibble: 2 × 3\n",
       "\n",
       "| Speed &lt;dbl&gt; | Density &lt;dbl&gt; | SD &lt;dbl&gt; |\n",
       "|---|---|---|\n",
       "| 1 | 0.10477609 | 0.1517246 |\n",
       "| 2 | 0.06152178 | 0.1139941 |\n",
       "\n"
      ],
      "text/plain": [
       "  Speed Density    SD       \n",
       "1 1     0.10477609 0.1517246\n",
       "2 2     0.06152178 0.1139941"
      ]
     },
     "metadata": {},
     "output_type": "display_data"
    },
    {
     "data": {
      "text/html": [
       "<table>\n",
       "<caption>A tibble: 2 × 3</caption>\n",
       "<thead>\n",
       "\t<tr><th scope=col>Speed</th><th scope=col>Accuracy</th><th scope=col>Precision</th></tr>\n",
       "\t<tr><th scope=col>&lt;dbl&gt;</th><th scope=col>&lt;dbl&gt;</th><th scope=col>&lt;dbl&gt;</th></tr>\n",
       "</thead>\n",
       "<tbody>\n",
       "\t<tr><td>1</td><td>  67.4174</td><td>0.11271649</td></tr>\n",
       "\t<tr><td>2</td><td>-100.0000</td><td>0.06260031</td></tr>\n",
       "</tbody>\n",
       "</table>\n"
      ],
      "text/latex": [
       "A tibble: 2 × 3\n",
       "\\begin{tabular}{r|lll}\n",
       " Speed & Accuracy & Precision\\\\\n",
       " <dbl> & <dbl> & <dbl>\\\\\n",
       "\\hline\n",
       "\t 1 &   67.4174 & 0.11271649\\\\\n",
       "\t 2 & -100.0000 & 0.06260031\\\\\n",
       "\\end{tabular}\n"
      ],
      "text/markdown": [
       "\n",
       "A tibble: 2 × 3\n",
       "\n",
       "| Speed &lt;dbl&gt; | Accuracy &lt;dbl&gt; | Precision &lt;dbl&gt; |\n",
       "|---|---|---|\n",
       "| 1 |   67.4174 | 0.11271649 |\n",
       "| 2 | -100.0000 | 0.06260031 |\n",
       "\n"
      ],
      "text/plain": [
       "  Speed Accuracy  Precision \n",
       "1 1       67.4174 0.11271649\n",
       "2 2     -100.0000 0.06260031"
      ]
     },
     "metadata": {},
     "output_type": "display_data"
    }
   ],
   "source": [
    "spee_err <- all_sims %>% \n",
    "            group_by(Speed) %>%\n",
    "                summarise(Accuracy = median(Prop_err),\n",
    "                          Precision = IQR(Density_km))\n",
    "\n",
    "spee_den <- all_sims %>% \n",
    "            group_by(Speed) %>%\n",
    "                summarise(Density = mean(Density_km),\n",
    "                          SD = sd(Density_km))\n",
    "\n",
    "spee_box <- all_sims %>% \n",
    "             group_by(Speed) %>%\n",
    "                ggplot(aes(x = as.factor(Speed), y = Prop_err)) +\n",
    "                geom_boxplot(colour = 'violetred3') +\n",
    "                ylab(\"Percentage Error (%)\") +\n",
    "                xlab('Speed') +\n",
    "                theme_bw()\n",
    "\n",
    "spee_den\n",
    "spee_err\n",
    "#spee_box"
   ]
  },
  {
   "cell_type": "code",
   "execution_count": 154,
   "metadata": {},
   "outputs": [
    {
     "data": {
      "text/plain": [
       "\n",
       "\tWelch Two Sample t-test\n",
       "\n",
       "data:  Density_km by Speed\n",
       "t = 59.677, df = 134400, p-value < 2.2e-16\n",
       "alternative hypothesis: true difference in means is not equal to 0\n",
       "95 percent confidence interval:\n",
       " 0.04183370 0.04467492\n",
       "sample estimates:\n",
       "mean in group 1 mean in group 2 \n",
       "     0.10477609      0.06152178 \n"
      ]
     },
     "metadata": {},
     "output_type": "display_data"
    }
   ],
   "source": [
    "t.test(Density_km ~ Speed, data = all_sims)"
   ]
  },
  {
   "cell_type": "code",
   "execution_count": 155,
   "metadata": {},
   "outputs": [],
   "source": [
    "write.table(spee_err, file = \"../Results/spee_table.txt\")"
   ]
  },
  {
   "cell_type": "code",
   "execution_count": 66,
   "metadata": {},
   "outputs": [
    {
     "data": {
      "text/html": [
       "<table>\n",
       "<caption>A tibble: 2 × 4</caption>\n",
       "<thead>\n",
       "\t<tr><th scope=col>UAV_path</th><th scope=col>Accuracy</th><th scope=col>Precision</th><th scope=col>Encounters</th></tr>\n",
       "\t<tr><th scope=col>&lt;chr&gt;</th><th scope=col>&lt;dbl&gt;</th><th scope=col>&lt;dbl&gt;</th><th scope=col>&lt;int&gt;</th></tr>\n",
       "</thead>\n",
       "<tbody>\n",
       "\t<tr><td>figure8  </td><td>  48.37387</td><td>0.13468552</td><td>151105</td></tr>\n",
       "\t<tr><td>lawnmower</td><td>-100.00000</td><td>0.06719194</td><td>124898</td></tr>\n",
       "</tbody>\n",
       "</table>\n"
      ],
      "text/latex": [
       "A tibble: 2 × 4\n",
       "\\begin{tabular}{r|llll}\n",
       " UAV\\_path & Accuracy & Precision & Encounters\\\\\n",
       " <chr> & <dbl> & <dbl> & <int>\\\\\n",
       "\\hline\n",
       "\t figure8   &   48.37387 & 0.13468552 & 151105\\\\\n",
       "\t lawnmower & -100.00000 & 0.06719194 & 124898\\\\\n",
       "\\end{tabular}\n"
      ],
      "text/markdown": [
       "\n",
       "A tibble: 2 × 4\n",
       "\n",
       "| UAV_path &lt;chr&gt; | Accuracy &lt;dbl&gt; | Precision &lt;dbl&gt; | Encounters &lt;int&gt; |\n",
       "|---|---|---|---|\n",
       "| figure8   |   48.37387 | 0.13468552 | 151105 |\n",
       "| lawnmower | -100.00000 | 0.06719194 | 124898 |\n",
       "\n"
      ],
      "text/plain": [
       "  UAV_path  Accuracy   Precision  Encounters\n",
       "1 figure8     48.37387 0.13468552 151105    \n",
       "2 lawnmower -100.00000 0.06719194 124898    "
      ]
     },
     "metadata": {},
     "output_type": "display_data"
    },
    {
     "data": {
      "image/png": "[encoded data removed]",
      "text/plain": [
       "plot without title"
      ]
     },
     "metadata": {},
     "output_type": "display_data"
    }
   ],
   "source": [
    "uavp_err <- all_sims %>% \n",
    "            group_by(UAV_path) %>%\n",
    "                summarise(Accuracy = median(Prop_err),\n",
    "                          Precision = IQR(Density_km),\n",
    "                          Encounters = sum(Actual_hits))\n",
    "\n",
    "\n",
    "\n",
    "uavp_box <- all_sims %>% \n",
    "             group_by(UAV_path) %>%\n",
    "                ggplot(aes(x = UAV_path, y = Prop_err)) +\n",
    "                geom_violin(colour = 'slateblue')+\n",
    "                stat_summary(fun.y=median, geom=\"point\", size=2, color=\"violetred\") +\n",
    "                ylab(\"Percentage Error (%)\") +\n",
    "                xlab('UAV Transect Path') +\n",
    "                geom_hline(yintercept = 0, linetype = 'dotted', colour = 'black') +\n",
    "                theme_bw() +\n",
    "                theme(axis.title.y=element_blank())\n",
    "\n",
    "\n",
    "uavp_err\n",
    "uavp_box"
   ]
  },
  {
   "cell_type": "code",
   "execution_count": 59,
   "metadata": {},
   "outputs": [
    {
     "data": {
      "text/html": [
       "<strong>png:</strong> 2"
      ],
      "text/latex": [
       "\\textbf{png:} 2"
      ],
      "text/markdown": [
       "**png:** 2"
      ],
      "text/plain": [
       "png \n",
       "  2 "
      ]
     },
     "metadata": {},
     "output_type": "display_data"
    }
   ],
   "source": [
    "pdf(file = paste(\"../Results/uavp_violin.pdf\"))\n",
    "print(uavp_box)\n",
    "dev.off()"
   ]
  },
  {
   "cell_type": "code",
   "execution_count": 158,
   "metadata": {},
   "outputs": [],
   "source": [
    "#write.table(uavp_err, file = \"../Results/uavp_table.txt\")\n",
    "uavp_table <- xtable(uavp_err)\n",
    "print.xtable(uavp_table, type = \"latex\", floating = T, caption.placement = \"top\", file = \"../Results/uavp_table.tex\",\n",
    "             include.rownames = F)"
   ]
  },
  {
   "cell_type": "code",
   "execution_count": 159,
   "metadata": {},
   "outputs": [],
   "source": [
    "all_sims$Area_km <- as.factor(all_sims$Area_km)"
   ]
  },
  {
   "cell_type": "code",
   "execution_count": 174,
   "metadata": {},
   "outputs": [
    {
     "data": {
      "text/html": [
       "<table>\n",
       "<caption>A data.table: 6 × 13</caption>\n",
       "<thead>\n",
       "\t<tr><th scope=col>Camera</th><th scope=col>Speed</th><th scope=col>Animal</th><th scope=col>Animal_path</th><th scope=col>UAV_path</th><th scope=col>Bias</th><th scope=col>Total_hits</th><th scope=col>Actual_hits</th><th scope=col>Area_km</th><th scope=col>Area2_km</th><th scope=col>True_Density</th><th scope=col>Density_km</th><th scope=col>Prop_err</th></tr>\n",
       "\t<tr><th scope=col>&lt;fct&gt;</th><th scope=col>&lt;dbl&gt;</th><th scope=col>&lt;fct&gt;</th><th scope=col>&lt;chr&gt;</th><th scope=col>&lt;chr&gt;</th><th scope=col>&lt;chr&gt;</th><th scope=col>&lt;int&gt;</th><th scope=col>&lt;int&gt;</th><th scope=col>&lt;fct&gt;</th><th scope=col>&lt;dbl&gt;</th><th scope=col>&lt;dbl&gt;</th><th scope=col>&lt;dbl&gt;</th><th scope=col>&lt;dbl&gt;</th></tr>\n",
       "</thead>\n",
       "<tbody>\n",
       "\t<tr><td>garmin</td><td>1</td><td>frigate</td><td>straight</td><td>lawnmower</td><td>yes</td><td>0</td><td>0</td><td>18.099276</td><td>17.75318</td><td>0.04</td><td>0</td><td>-100</td></tr>\n",
       "\t<tr><td>garmin</td><td>1</td><td>frigate</td><td>straight</td><td>lawnmower</td><td>yes</td><td>0</td><td>0</td><td>18.099276</td><td>17.75318</td><td>0.04</td><td>0</td><td>-100</td></tr>\n",
       "\t<tr><td>garmin</td><td>1</td><td>frigate</td><td>straight</td><td>lawnmower</td><td>no </td><td>0</td><td>0</td><td>18.099276</td><td>17.75318</td><td>0.04</td><td>0</td><td>-100</td></tr>\n",
       "\t<tr><td>garmin</td><td>1</td><td>frigate</td><td>straight</td><td>lawnmower</td><td>no </td><td>0</td><td>0</td><td>18.099276</td><td>17.75318</td><td>0.04</td><td>0</td><td>-100</td></tr>\n",
       "\t<tr><td>garmin</td><td>1</td><td>frigate</td><td>straight</td><td>figure8  </td><td>yes</td><td>0</td><td>0</td><td>18.099276</td><td>17.75318</td><td>0.04</td><td>0</td><td>-100</td></tr>\n",
       "\t<tr><td>garmin</td><td>1</td><td>frigate</td><td>straight</td><td>figure8  </td><td>yes</td><td>0</td><td>0</td><td>18.099276</td><td>17.75318</td><td>0.04</td><td>0</td><td>-100</td></tr>\n",
       "</tbody>\n",
       "</table>\n"
      ],
      "text/latex": [
       "A data.table: 6 × 13\n",
       "\\begin{tabular}{r|lllllllllllll}\n",
       " Camera & Speed & Animal & Animal\\_path & UAV\\_path & Bias & Total\\_hits & Actual\\_hits & Area\\_km & Area2\\_km & True\\_Density & Density\\_km & Prop\\_err\\\\\n",
       " <fct> & <dbl> & <fct> & <chr> & <chr> & <chr> & <int> & <int> & <fct> & <dbl> & <dbl> & <dbl> & <dbl>\\\\\n",
       "\\hline\n",
       "\t garmin & 1 & frigate & straight & lawnmower & yes & 0 & 0 & 18.099276 & 17.75318 & 0.04 & 0 & -100\\\\\n",
       "\t garmin & 1 & frigate & straight & lawnmower & yes & 0 & 0 & 18.099276 & 17.75318 & 0.04 & 0 & -100\\\\\n",
       "\t garmin & 1 & frigate & straight & lawnmower & no  & 0 & 0 & 18.099276 & 17.75318 & 0.04 & 0 & -100\\\\\n",
       "\t garmin & 1 & frigate & straight & lawnmower & no  & 0 & 0 & 18.099276 & 17.75318 & 0.04 & 0 & -100\\\\\n",
       "\t garmin & 1 & frigate & straight & figure8   & yes & 0 & 0 & 18.099276 & 17.75318 & 0.04 & 0 & -100\\\\\n",
       "\t garmin & 1 & frigate & straight & figure8   & yes & 0 & 0 & 18.099276 & 17.75318 & 0.04 & 0 & -100\\\\\n",
       "\\end{tabular}\n"
      ],
      "text/markdown": [
       "\n",
       "A data.table: 6 × 13\n",
       "\n",
       "| Camera &lt;fct&gt; | Speed &lt;dbl&gt; | Animal &lt;fct&gt; | Animal_path &lt;chr&gt; | UAV_path &lt;chr&gt; | Bias &lt;chr&gt; | Total_hits &lt;int&gt; | Actual_hits &lt;int&gt; | Area_km &lt;fct&gt; | Area2_km &lt;dbl&gt; | True_Density &lt;dbl&gt; | Density_km &lt;dbl&gt; | Prop_err &lt;dbl&gt; |\n",
       "|---|---|---|---|---|---|---|---|---|---|---|---|---|\n",
       "| garmin | 1 | frigate | straight | lawnmower | yes | 0 | 0 | 18.099276 | 17.75318 | 0.04 | 0 | -100 |\n",
       "| garmin | 1 | frigate | straight | lawnmower | yes | 0 | 0 | 18.099276 | 17.75318 | 0.04 | 0 | -100 |\n",
       "| garmin | 1 | frigate | straight | lawnmower | no  | 0 | 0 | 18.099276 | 17.75318 | 0.04 | 0 | -100 |\n",
       "| garmin | 1 | frigate | straight | lawnmower | no  | 0 | 0 | 18.099276 | 17.75318 | 0.04 | 0 | -100 |\n",
       "| garmin | 1 | frigate | straight | figure8   | yes | 0 | 0 | 18.099276 | 17.75318 | 0.04 | 0 | -100 |\n",
       "| garmin | 1 | frigate | straight | figure8   | yes | 0 | 0 | 18.099276 | 17.75318 | 0.04 | 0 | -100 |\n",
       "\n"
      ],
      "text/plain": [
       "  Camera Speed Animal  Animal_path UAV_path  Bias Total_hits Actual_hits\n",
       "1 garmin 1     frigate straight    lawnmower yes  0          0          \n",
       "2 garmin 1     frigate straight    lawnmower yes  0          0          \n",
       "3 garmin 1     frigate straight    lawnmower no   0          0          \n",
       "4 garmin 1     frigate straight    lawnmower no   0          0          \n",
       "5 garmin 1     frigate straight    figure8   yes  0          0          \n",
       "6 garmin 1     frigate straight    figure8   yes  0          0          \n",
       "  Area_km   Area2_km True_Density Density_km Prop_err\n",
       "1 18.099276 17.75318 0.04         0          -100    \n",
       "2 18.099276 17.75318 0.04         0          -100    \n",
       "3 18.099276 17.75318 0.04         0          -100    \n",
       "4 18.099276 17.75318 0.04         0          -100    \n",
       "5 18.099276 17.75318 0.04         0          -100    \n",
       "6 18.099276 17.75318 0.04         0          -100    "
      ]
     },
     "metadata": {},
     "output_type": "display_data"
    }
   ],
   "source": [
    "head(all_sims)"
   ]
  },
  {
   "cell_type": "code",
   "execution_count": 60,
   "metadata": {},
   "outputs": [
    {
     "ename": "ERROR",
     "evalue": "Error in eval(expr, envir, enclos): object 'fig1' not found\n",
     "output_type": "error",
     "traceback": [
      "Error in eval(expr, envir, enclos): object 'fig1' not found\nTraceback:\n"
     ]
    }
   ],
   "source": [
    "fig1"
   ]
  },
  {
   "cell_type": "code",
   "execution_count": 61,
   "metadata": {},
   "outputs": [
    {
     "data": {
      "text/html": [
       "<table>\n",
       "<caption>A data.table: 6 × 16</caption>\n",
       "<thead>\n",
       "\t<tr><th scope=col>Area2_km</th><th scope=col>Camera</th><th scope=col>Speed</th><th scope=col>Animal</th><th scope=col>Animal_path</th><th scope=col>UAV_path</th><th scope=col>Bias</th><th scope=col>Total_hits</th><th scope=col>Actual_hits</th><th scope=col>Area_km</th><th scope=col>True_Density</th><th scope=col>Density_km</th><th scope=col>Strip_Density</th><th scope=col>Prop_err</th><th scope=col>Strip_err</th><th scope=col>Survey_Effort</th></tr>\n",
       "\t<tr><th scope=col>&lt;fct&gt;</th><th scope=col>&lt;fct&gt;</th><th scope=col>&lt;dbl&gt;</th><th scope=col>&lt;fct&gt;</th><th scope=col>&lt;chr&gt;</th><th scope=col>&lt;chr&gt;</th><th scope=col>&lt;chr&gt;</th><th scope=col>&lt;int&gt;</th><th scope=col>&lt;int&gt;</th><th scope=col>&lt;dbl&gt;</th><th scope=col>&lt;dbl&gt;</th><th scope=col>&lt;dbl&gt;</th><th scope=col>&lt;dbl&gt;</th><th scope=col>&lt;dbl&gt;</th><th scope=col>&lt;dbl&gt;</th><th scope=col>&lt;fct&gt;</th></tr>\n",
       "</thead>\n",
       "<tbody>\n",
       "\t<tr><td>17.753176</td><td>garmin</td><td>1</td><td>booby</td><td>straight</td><td>lawnmower</td><td>yes</td><td>0</td><td>0</td><td>23.09908</td><td>0.04</td><td>0</td><td>0</td><td>-100</td><td>-100</td><td>G1</td></tr>\n",
       "\t<tr><td>17.753176</td><td>garmin</td><td>1</td><td>booby</td><td>straight</td><td>lawnmower</td><td>no </td><td>0</td><td>0</td><td>23.09908</td><td>0.04</td><td>0</td><td>0</td><td>-100</td><td>-100</td><td>G1</td></tr>\n",
       "\t<tr><td>17.753176</td><td>garmin</td><td>1</td><td>booby</td><td>straight</td><td>figure8  </td><td>yes</td><td>0</td><td>0</td><td>23.09908</td><td>0.04</td><td>0</td><td>0</td><td>-100</td><td>-100</td><td>G1</td></tr>\n",
       "\t<tr><td>17.753176</td><td>garmin</td><td>1</td><td>booby</td><td>straight</td><td>figure8  </td><td>no </td><td>0</td><td>0</td><td>23.09908</td><td>0.04</td><td>0</td><td>0</td><td>-100</td><td>-100</td><td>G1</td></tr>\n",
       "\t<tr><td>17.753176</td><td>garmin</td><td>1</td><td>booby</td><td>stop25  </td><td>lawnmower</td><td>yes</td><td>0</td><td>0</td><td>23.09908</td><td>0.04</td><td>0</td><td>0</td><td>-100</td><td>-100</td><td>G1</td></tr>\n",
       "\t<tr><td>17.753176</td><td>garmin</td><td>1</td><td>booby</td><td>stop25  </td><td>lawnmower</td><td>no </td><td>0</td><td>0</td><td>23.09908</td><td>0.04</td><td>0</td><td>0</td><td>-100</td><td>-100</td><td>G1</td></tr>\n",
       "</tbody>\n",
       "</table>\n"
      ],
      "text/latex": [
       "A data.table: 6 × 16\n",
       "\\begin{tabular}{r|llllllllllllllll}\n",
       " Area2\\_km & Camera & Speed & Animal & Animal\\_path & UAV\\_path & Bias & Total\\_hits & Actual\\_hits & Area\\_km & True\\_Density & Density\\_km & Strip\\_Density & Prop\\_err & Strip\\_err & Survey\\_Effort\\\\\n",
       " <fct> & <fct> & <dbl> & <fct> & <chr> & <chr> & <chr> & <int> & <int> & <dbl> & <dbl> & <dbl> & <dbl> & <dbl> & <dbl> & <fct>\\\\\n",
       "\\hline\n",
       "\t 17.753176 & garmin & 1 & booby & straight & lawnmower & yes & 0 & 0 & 23.09908 & 0.04 & 0 & 0 & -100 & -100 & G1\\\\\n",
       "\t 17.753176 & garmin & 1 & booby & straight & lawnmower & no  & 0 & 0 & 23.09908 & 0.04 & 0 & 0 & -100 & -100 & G1\\\\\n",
       "\t 17.753176 & garmin & 1 & booby & straight & figure8   & yes & 0 & 0 & 23.09908 & 0.04 & 0 & 0 & -100 & -100 & G1\\\\\n",
       "\t 17.753176 & garmin & 1 & booby & straight & figure8   & no  & 0 & 0 & 23.09908 & 0.04 & 0 & 0 & -100 & -100 & G1\\\\\n",
       "\t 17.753176 & garmin & 1 & booby & stop25   & lawnmower & yes & 0 & 0 & 23.09908 & 0.04 & 0 & 0 & -100 & -100 & G1\\\\\n",
       "\t 17.753176 & garmin & 1 & booby & stop25   & lawnmower & no  & 0 & 0 & 23.09908 & 0.04 & 0 & 0 & -100 & -100 & G1\\\\\n",
       "\\end{tabular}\n"
      ],
      "text/markdown": [
       "\n",
       "A data.table: 6 × 16\n",
       "\n",
       "| Area2_km &lt;fct&gt; | Camera &lt;fct&gt; | Speed &lt;dbl&gt; | Animal &lt;fct&gt; | Animal_path &lt;chr&gt; | UAV_path &lt;chr&gt; | Bias &lt;chr&gt; | Total_hits &lt;int&gt; | Actual_hits &lt;int&gt; | Area_km &lt;dbl&gt; | True_Density &lt;dbl&gt; | Density_km &lt;dbl&gt; | Strip_Density &lt;dbl&gt; | Prop_err &lt;dbl&gt; | Strip_err &lt;dbl&gt; | Survey_Effort &lt;fct&gt; |\n",
       "|---|---|---|---|---|---|---|---|---|---|---|---|---|---|---|---|\n",
       "| 17.753176 | garmin | 1 | booby | straight | lawnmower | yes | 0 | 0 | 23.09908 | 0.04 | 0 | 0 | -100 | -100 | G1 |\n",
       "| 17.753176 | garmin | 1 | booby | straight | lawnmower | no  | 0 | 0 | 23.09908 | 0.04 | 0 | 0 | -100 | -100 | G1 |\n",
       "| 17.753176 | garmin | 1 | booby | straight | figure8   | yes | 0 | 0 | 23.09908 | 0.04 | 0 | 0 | -100 | -100 | G1 |\n",
       "| 17.753176 | garmin | 1 | booby | straight | figure8   | no  | 0 | 0 | 23.09908 | 0.04 | 0 | 0 | -100 | -100 | G1 |\n",
       "| 17.753176 | garmin | 1 | booby | stop25   | lawnmower | yes | 0 | 0 | 23.09908 | 0.04 | 0 | 0 | -100 | -100 | G1 |\n",
       "| 17.753176 | garmin | 1 | booby | stop25   | lawnmower | no  | 0 | 0 | 23.09908 | 0.04 | 0 | 0 | -100 | -100 | G1 |\n",
       "\n"
      ],
      "text/plain": [
       "  Area2_km  Camera Speed Animal Animal_path UAV_path  Bias Total_hits\n",
       "1 17.753176 garmin 1     booby  straight    lawnmower yes  0         \n",
       "2 17.753176 garmin 1     booby  straight    lawnmower no   0         \n",
       "3 17.753176 garmin 1     booby  straight    figure8   yes  0         \n",
       "4 17.753176 garmin 1     booby  straight    figure8   no   0         \n",
       "5 17.753176 garmin 1     booby  stop25      lawnmower yes  0         \n",
       "6 17.753176 garmin 1     booby  stop25      lawnmower no   0         \n",
       "  Actual_hits Area_km  True_Density Density_km Strip_Density Prop_err Strip_err\n",
       "1 0           23.09908 0.04         0          0             -100     -100     \n",
       "2 0           23.09908 0.04         0          0             -100     -100     \n",
       "3 0           23.09908 0.04         0          0             -100     -100     \n",
       "4 0           23.09908 0.04         0          0             -100     -100     \n",
       "5 0           23.09908 0.04         0          0             -100     -100     \n",
       "6 0           23.09908 0.04         0          0             -100     -100     \n",
       "  Survey_Effort\n",
       "1 G1           \n",
       "2 G1           \n",
       "3 G1           \n",
       "4 G1           \n",
       "5 G1           \n",
       "6 G1           "
      ]
     },
     "metadata": {},
     "output_type": "display_data"
    }
   ],
   "source": [
    "# Group by survey area\n",
    "fig1 <- all_sims %>%\n",
    "            group_by(as.factor(Area2_km)) %>%\n",
    "                   summarise(Accuracy = median(Prop_err),\n",
    "                             Precision = IQR(Density_km))\n",
    "\n",
    "colnames(fig1) <- c('Area2_km', 'Accuracy', 'Precision')\n",
    "#G1 <- 17.753176\n",
    "#G2 <- 19.06979\n",
    "#S1 <- 23.005276\n",
    "#S2 <- 24.80379\n",
    "#N1 <- 29.972488\n",
    "#N2 <- 32.41027\n",
    "\n",
    "Survey_Effort <- c('G1', 'G2', 'S1', 'S2', 'N1', 'N2')\n",
    "fig1 <- cbind(Survey_Effort, fig1)\n",
    "\n",
    "Combo <- fig1[,1:2]\n",
    "\n",
    "unique_ars = unique(all_sims$Area2_km)\n",
    "all_sims$Area2_km <- as.factor(all_sims$Area2_km)\n",
    "\n",
    "\n",
    "all_sims = merge(all_sims, Combo)\n",
    "head(all_sims)"
   ]
  },
  {
   "cell_type": "code",
   "execution_count": 65,
   "metadata": {},
   "outputs": [
    {
     "data": {
      "text/html": [
       "<table>\n",
       "<caption>A tibble: 6 × 4</caption>\n",
       "<thead>\n",
       "\t<tr><th scope=col>Survey_Effort</th><th scope=col>Accuracy</th><th scope=col>Precision</th><th scope=col>Encounters</th></tr>\n",
       "\t<tr><th scope=col>&lt;fct&gt;</th><th scope=col>&lt;dbl&gt;</th><th scope=col>&lt;dbl&gt;</th><th scope=col>&lt;int&gt;</th></tr>\n",
       "</thead>\n",
       "<tbody>\n",
       "\t<tr><td>G1</td><td>  8.229425</td><td>0.06822331</td><td>50577</td></tr>\n",
       "\t<tr><td>G2</td><td>  2.393175</td><td>0.12308185</td><td>29557</td></tr>\n",
       "\t<tr><td>N1</td><td> -9.580050</td><td>0.10850393</td><td>49719</td></tr>\n",
       "\t<tr><td>N2</td><td>-16.906400</td><td>0.10142882</td><td>63384</td></tr>\n",
       "\t<tr><td>S1</td><td>  1.116825</td><td>0.09837660</td><td>48269</td></tr>\n",
       "\t<tr><td>S2</td><td> -5.740025</td><td>0.13515431</td><td>34497</td></tr>\n",
       "</tbody>\n",
       "</table>\n"
      ],
      "text/latex": [
       "A tibble: 6 × 4\n",
       "\\begin{tabular}{r|llll}\n",
       " Survey\\_Effort & Accuracy & Precision & Encounters\\\\\n",
       " <fct> & <dbl> & <dbl> & <int>\\\\\n",
       "\\hline\n",
       "\t G1 &   8.229425 & 0.06822331 & 50577\\\\\n",
       "\t G2 &   2.393175 & 0.12308185 & 29557\\\\\n",
       "\t N1 &  -9.580050 & 0.10850393 & 49719\\\\\n",
       "\t N2 & -16.906400 & 0.10142882 & 63384\\\\\n",
       "\t S1 &   1.116825 & 0.09837660 & 48269\\\\\n",
       "\t S2 &  -5.740025 & 0.13515431 & 34497\\\\\n",
       "\\end{tabular}\n"
      ],
      "text/markdown": [
       "\n",
       "A tibble: 6 × 4\n",
       "\n",
       "| Survey_Effort &lt;fct&gt; | Accuracy &lt;dbl&gt; | Precision &lt;dbl&gt; | Encounters &lt;int&gt; |\n",
       "|---|---|---|---|\n",
       "| G1 |   8.229425 | 0.06822331 | 50577 |\n",
       "| G2 |   2.393175 | 0.12308185 | 29557 |\n",
       "| N1 |  -9.580050 | 0.10850393 | 49719 |\n",
       "| N2 | -16.906400 | 0.10142882 | 63384 |\n",
       "| S1 |   1.116825 | 0.09837660 | 48269 |\n",
       "| S2 |  -5.740025 | 0.13515431 | 34497 |\n",
       "\n"
      ],
      "text/plain": [
       "  Survey_Effort Accuracy   Precision  Encounters\n",
       "1 G1              8.229425 0.06822331 50577     \n",
       "2 G2              2.393175 0.12308185 29557     \n",
       "3 N1             -9.580050 0.10850393 49719     \n",
       "4 N2            -16.906400 0.10142882 63384     \n",
       "5 S1              1.116825 0.09837660 48269     \n",
       "6 S2             -5.740025 0.13515431 34497     "
      ]
     },
     "metadata": {},
     "output_type": "display_data"
    },
    {
     "data": {
      "image/png": "[encoded data removed]",
      "text/plain": [
       "plot without title"
      ]
     },
     "metadata": {},
     "output_type": "display_data"
    }
   ],
   "source": [
    "area_err <- all_sims %>% \n",
    "            group_by(Survey_Effort) %>%\n",
    "                summarise(Accuracy = median(Prop_err),\n",
    "                          Precision = IQR(Density_km), \n",
    "                          Encounters = sum(Actual_hits))\n",
    "\n",
    "level.order = c('G1','G2', 'S1', 'S2', 'N1','N2')\n",
    "\n",
    "#area_err <- area_err[order(factor(area_err$Combo, levels = level.order)),]\n",
    "#rownames(area_err) <- NULL\n",
    "\n",
    "\n",
    "fig1p <- all_sims %>% \n",
    "             group_by(Survey_Effort) %>%\n",
    "                ggplot(aes(x = Survey_Effort, y = Prop_err)) +\n",
    "                geom_violin(colour = 'slateblue')+\n",
    "                stat_summary(fun.y=median, geom=\"point\", size=2, color=\"violetred\") +\n",
    "                #geom_boxplot(width=0.1, colour = 'dodgerblue3') +\n",
    "                ylab(\"Percentage Error (%)\") +\n",
    "                xlab('Survey Area') +\n",
    "                geom_hline(yintercept = 0, linetype = 'dotted', colour = 'black') +\n",
    "                theme_bw() +\n",
    "                scale_x_discrete(limits = level.order)\n",
    "\n",
    "#fig1\n",
    "area_err\n",
    "fig1p"
   ]
  },
  {
   "cell_type": "code",
   "execution_count": 64,
   "metadata": {},
   "outputs": [
    {
     "data": {
      "text/html": [
       "<strong>png:</strong> 2"
      ],
      "text/latex": [
       "\\textbf{png:} 2"
      ],
      "text/markdown": [
       "**png:** 2"
      ],
      "text/plain": [
       "png \n",
       "  2 "
      ]
     },
     "metadata": {},
     "output_type": "display_data"
    }
   ],
   "source": [
    "pdf(file = paste(\"../Results/area_violin.pdf\"))\n",
    "print(fig1p)\n",
    "dev.off()"
   ]
  },
  {
   "cell_type": "code",
   "execution_count": 48,
   "metadata": {},
   "outputs": [],
   "source": [
    "library(xtable)\n",
    "sarea_table <- xtable(fig1)\n",
    "print.xtable(sarea_table, type = \"latex\", floating = T, caption.placement = \"top\", file = \"../Results/sarea_table.tex\",\n",
    "             include.rownames = F)"
   ]
  },
  {
   "cell_type": "code",
   "execution_count": null,
   "metadata": {},
   "outputs": [],
   "source": []
  }
 ],
 "metadata": {
  "kernelspec": {
   "display_name": "R",
   "language": "R",
   "name": "ir"
  },
  "language_info": {
   "codemirror_mode": "r",
   "file_extension": ".r",
   "mimetype": "text/x-r-source",
   "name": "R",
   "pygments_lexer": "r",
   "version": "3.4.4"
  }
 },
 "nbformat": 4,
 "nbformat_minor": 2
}
